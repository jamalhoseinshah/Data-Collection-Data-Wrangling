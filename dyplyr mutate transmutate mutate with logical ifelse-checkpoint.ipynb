{
 "cells": [
  {
   "cell_type": "code",
   "execution_count": 1,
   "id": "7476557e",
   "metadata": {},
   "outputs": [],
   "source": [
    "# this is created by jamal hussain shah topic mutate & transmute R Functions of dplyr Package"
   ]
  },
  {
   "cell_type": "code",
   "execution_count": 2,
   "id": "8a2c4ea9",
   "metadata": {},
   "outputs": [],
   "source": [
    "data <- data.frame(x1 = 1:5,      # Create example data\n",
    "                   x2 = 5:9)"
   ]
  },
  {
   "cell_type": "code",
   "execution_count": 3,
   "id": "cbeca98d",
   "metadata": {},
   "outputs": [
    {
     "data": {
      "text/html": [
       "<table>\n",
       "<thead><tr><th scope=col>x1</th><th scope=col>x2</th></tr></thead>\n",
       "<tbody>\n",
       "\t<tr><td>1</td><td>5</td></tr>\n",
       "\t<tr><td>2</td><td>6</td></tr>\n",
       "\t<tr><td>3</td><td>7</td></tr>\n",
       "\t<tr><td>4</td><td>8</td></tr>\n",
       "\t<tr><td>5</td><td>9</td></tr>\n",
       "</tbody>\n",
       "</table>\n"
      ],
      "text/latex": [
       "\\begin{tabular}{r|ll}\n",
       " x1 & x2\\\\\n",
       "\\hline\n",
       "\t 1 & 5\\\\\n",
       "\t 2 & 6\\\\\n",
       "\t 3 & 7\\\\\n",
       "\t 4 & 8\\\\\n",
       "\t 5 & 9\\\\\n",
       "\\end{tabular}\n"
      ],
      "text/markdown": [
       "\n",
       "| x1 | x2 |\n",
       "|---|---|\n",
       "| 1 | 5 |\n",
       "| 2 | 6 |\n",
       "| 3 | 7 |\n",
       "| 4 | 8 |\n",
       "| 5 | 9 |\n",
       "\n"
      ],
      "text/plain": [
       "  x1 x2\n",
       "1 1  5 \n",
       "2 2  6 \n",
       "3 3  7 \n",
       "4 4  8 \n",
       "5 5  9 "
      ]
     },
     "metadata": {},
     "output_type": "display_data"
    }
   ],
   "source": [
    "data                              # Print example data"
   ]
  },
  {
   "cell_type": "code",
   "execution_count": 4,
   "id": "f8154bb9",
   "metadata": {},
   "outputs": [
    {
     "name": "stderr",
     "output_type": "stream",
     "text": [
      "Warning message:\n",
      "\"package 'dplyr' was built under R version 3.6.3\"\n",
      "Attaching package: 'dplyr'\n",
      "\n",
      "The following objects are masked from 'package:stats':\n",
      "\n",
      "    filter, lag\n",
      "\n",
      "The following objects are masked from 'package:base':\n",
      "\n",
      "    intersect, setdiff, setequal, union\n",
      "\n"
     ]
    }
   ],
   "source": [
    "library(\"dplyr\")                  # Load dplyr add-on package"
   ]
  },
  {
   "cell_type": "code",
   "execution_count": 5,
   "id": "02c1530b",
   "metadata": {},
   "outputs": [
    {
     "data": {
      "text/html": [
       "<table>\n",
       "<thead><tr><th scope=col>x1</th><th scope=col>x2</th><th scope=col>x3</th></tr></thead>\n",
       "<tbody>\n",
       "\t<tr><td>1 </td><td>5 </td><td> 6</td></tr>\n",
       "\t<tr><td>2 </td><td>6 </td><td> 8</td></tr>\n",
       "\t<tr><td>3 </td><td>7 </td><td>10</td></tr>\n",
       "\t<tr><td>4 </td><td>8 </td><td>12</td></tr>\n",
       "\t<tr><td>5 </td><td>9 </td><td>14</td></tr>\n",
       "</tbody>\n",
       "</table>\n"
      ],
      "text/latex": [
       "\\begin{tabular}{r|lll}\n",
       " x1 & x2 & x3\\\\\n",
       "\\hline\n",
       "\t 1  & 5  &  6\\\\\n",
       "\t 2  & 6  &  8\\\\\n",
       "\t 3  & 7  & 10\\\\\n",
       "\t 4  & 8  & 12\\\\\n",
       "\t 5  & 9  & 14\\\\\n",
       "\\end{tabular}\n"
      ],
      "text/markdown": [
       "\n",
       "| x1 | x2 | x3 |\n",
       "|---|---|---|\n",
       "| 1  | 5  |  6 |\n",
       "| 2  | 6  |  8 |\n",
       "| 3  | 7  | 10 |\n",
       "| 4  | 8  | 12 |\n",
       "| 5  | 9  | 14 |\n",
       "\n"
      ],
      "text/plain": [
       "  x1 x2 x3\n",
       "1 1  5   6\n",
       "2 2  6   8\n",
       "3 3  7  10\n",
       "4 4  8  12\n",
       "5 5  9  14"
      ]
     },
     "metadata": {},
     "output_type": "display_data"
    }
   ],
   "source": [
    "mutate(data, x3 = x1 + x2)        # Apply mutate function"
   ]
  },
  {
   "cell_type": "code",
   "execution_count": 6,
   "id": "4268dc9f",
   "metadata": {},
   "outputs": [
    {
     "data": {
      "text/html": [
       "<table>\n",
       "<thead><tr><th scope=col>x3</th></tr></thead>\n",
       "<tbody>\n",
       "\t<tr><td> 6</td></tr>\n",
       "\t<tr><td> 8</td></tr>\n",
       "\t<tr><td>10</td></tr>\n",
       "\t<tr><td>12</td></tr>\n",
       "\t<tr><td>14</td></tr>\n",
       "</tbody>\n",
       "</table>\n"
      ],
      "text/latex": [
       "\\begin{tabular}{r|l}\n",
       " x3\\\\\n",
       "\\hline\n",
       "\t  6\\\\\n",
       "\t  8\\\\\n",
       "\t 10\\\\\n",
       "\t 12\\\\\n",
       "\t 14\\\\\n",
       "\\end{tabular}\n"
      ],
      "text/markdown": [
       "\n",
       "| x3 |\n",
       "|---|\n",
       "|  6 |\n",
       "|  8 |\n",
       "| 10 |\n",
       "| 12 |\n",
       "| 14 |\n",
       "\n"
      ],
      "text/plain": [
       "  x3\n",
       "1  6\n",
       "2  8\n",
       "3 10\n",
       "4 12\n",
       "5 14"
      ]
     },
     "metadata": {},
     "output_type": "display_data"
    }
   ],
   "source": [
    "transmute(data, x3 = x1 + x2)     # Apply transmute function"
   ]
  },
  {
   "cell_type": "code",
   "execution_count": 7,
   "id": "ca25dc09",
   "metadata": {},
   "outputs": [],
   "source": [
    "# dplyr mutate Function with Logical ifelse Condition in R"
   ]
  },
  {
   "cell_type": "code",
   "execution_count": 8,
   "id": "92703d47",
   "metadata": {},
   "outputs": [],
   "source": [
    "data <- data.frame(x1 = 1:5,    # Example data\n",
    "                   x2 = letters[1:5],\n",
    "                   x3 = 3)"
   ]
  },
  {
   "cell_type": "code",
   "execution_count": 9,
   "id": "440dd885",
   "metadata": {},
   "outputs": [
    {
     "data": {
      "text/html": [
       "<table>\n",
       "<thead><tr><th scope=col>x1</th><th scope=col>x2</th><th scope=col>x3</th></tr></thead>\n",
       "<tbody>\n",
       "\t<tr><td>1</td><td>a</td><td>3</td></tr>\n",
       "\t<tr><td>2</td><td>b</td><td>3</td></tr>\n",
       "\t<tr><td>3</td><td>c</td><td>3</td></tr>\n",
       "\t<tr><td>4</td><td>d</td><td>3</td></tr>\n",
       "\t<tr><td>5</td><td>e</td><td>3</td></tr>\n",
       "</tbody>\n",
       "</table>\n"
      ],
      "text/latex": [
       "\\begin{tabular}{r|lll}\n",
       " x1 & x2 & x3\\\\\n",
       "\\hline\n",
       "\t 1 & a & 3\\\\\n",
       "\t 2 & b & 3\\\\\n",
       "\t 3 & c & 3\\\\\n",
       "\t 4 & d & 3\\\\\n",
       "\t 5 & e & 3\\\\\n",
       "\\end{tabular}\n"
      ],
      "text/markdown": [
       "\n",
       "| x1 | x2 | x3 |\n",
       "|---|---|---|\n",
       "| 1 | a | 3 |\n",
       "| 2 | b | 3 |\n",
       "| 3 | c | 3 |\n",
       "| 4 | d | 3 |\n",
       "| 5 | e | 3 |\n",
       "\n"
      ],
      "text/plain": [
       "  x1 x2 x3\n",
       "1 1  a  3 \n",
       "2 2  b  3 \n",
       "3 3  c  3 \n",
       "4 4  d  3 \n",
       "5 5  e  3 "
      ]
     },
     "metadata": {},
     "output_type": "display_data"
    }
   ],
   "source": [
    "\n",
    "data                            # Print example data"
   ]
  },
  {
   "cell_type": "code",
   "execution_count": 10,
   "id": "08771bc3",
   "metadata": {},
   "outputs": [],
   "source": [
    "library(\"dplyr\")"
   ]
  },
  {
   "cell_type": "code",
   "execution_count": 11,
   "id": "8f3c6975",
   "metadata": {},
   "outputs": [],
   "source": [
    "# Conditional mutate Function Returns Logical Value"
   ]
  },
  {
   "cell_type": "code",
   "execution_count": 12,
   "id": "ad57cd74",
   "metadata": {},
   "outputs": [
    {
     "data": {
      "text/html": [
       "<table>\n",
       "<thead><tr><th scope=col>x1</th><th scope=col>x2</th><th scope=col>x3</th><th scope=col>x4</th></tr></thead>\n",
       "<tbody>\n",
       "\t<tr><td>1    </td><td>a    </td><td>3    </td><td> TRUE</td></tr>\n",
       "\t<tr><td>2    </td><td>b    </td><td>3    </td><td> TRUE</td></tr>\n",
       "\t<tr><td>3    </td><td>c    </td><td>3    </td><td>FALSE</td></tr>\n",
       "\t<tr><td>4    </td><td>d    </td><td>3    </td><td>FALSE</td></tr>\n",
       "\t<tr><td>5    </td><td>e    </td><td>3    </td><td>FALSE</td></tr>\n",
       "</tbody>\n",
       "</table>\n"
      ],
      "text/latex": [
       "\\begin{tabular}{r|llll}\n",
       " x1 & x2 & x3 & x4\\\\\n",
       "\\hline\n",
       "\t 1     & a     & 3     &  TRUE\\\\\n",
       "\t 2     & b     & 3     &  TRUE\\\\\n",
       "\t 3     & c     & 3     & FALSE\\\\\n",
       "\t 4     & d     & 3     & FALSE\\\\\n",
       "\t 5     & e     & 3     & FALSE\\\\\n",
       "\\end{tabular}\n"
      ],
      "text/markdown": [
       "\n",
       "| x1 | x2 | x3 | x4 |\n",
       "|---|---|---|---|\n",
       "| 1     | a     | 3     |  TRUE |\n",
       "| 2     | b     | 3     |  TRUE |\n",
       "| 3     | c     | 3     | FALSE |\n",
       "| 4     | d     | 3     | FALSE |\n",
       "| 5     | e     | 3     | FALSE |\n",
       "\n"
      ],
      "text/plain": [
       "  x1 x2 x3 x4   \n",
       "1 1  a  3   TRUE\n",
       "2 2  b  3   TRUE\n",
       "3 3  c  3  FALSE\n",
       "4 4  d  3  FALSE\n",
       "5 5  e  3  FALSE"
      ]
     },
     "metadata": {},
     "output_type": "display_data"
    }
   ],
   "source": [
    "data %>%                        # Apply mutate\n",
    "  mutate(x4 = (x1 == 1 | x2 == \"b\"))"
   ]
  },
  {
   "cell_type": "code",
   "execution_count": 13,
   "id": "4dfc7ddf",
   "metadata": {},
   "outputs": [],
   "source": [
    "# Conditional mutate Function Returns Numeric Value"
   ]
  },
  {
   "cell_type": "code",
   "execution_count": 14,
   "id": "f8e3de21",
   "metadata": {},
   "outputs": [
    {
     "data": {
      "text/html": [
       "<table>\n",
       "<thead><tr><th scope=col>x1</th><th scope=col>x2</th><th scope=col>x3</th><th scope=col>x4</th></tr></thead>\n",
       "<tbody>\n",
       "\t<tr><td>1</td><td>a</td><td>3</td><td>1</td></tr>\n",
       "\t<tr><td>2</td><td>b</td><td>3</td><td>1</td></tr>\n",
       "\t<tr><td>3</td><td>c</td><td>3</td><td>0</td></tr>\n",
       "\t<tr><td>4</td><td>d</td><td>3</td><td>0</td></tr>\n",
       "\t<tr><td>5</td><td>e</td><td>3</td><td>0</td></tr>\n",
       "</tbody>\n",
       "</table>\n"
      ],
      "text/latex": [
       "\\begin{tabular}{r|llll}\n",
       " x1 & x2 & x3 & x4\\\\\n",
       "\\hline\n",
       "\t 1 & a & 3 & 1\\\\\n",
       "\t 2 & b & 3 & 1\\\\\n",
       "\t 3 & c & 3 & 0\\\\\n",
       "\t 4 & d & 3 & 0\\\\\n",
       "\t 5 & e & 3 & 0\\\\\n",
       "\\end{tabular}\n"
      ],
      "text/markdown": [
       "\n",
       "| x1 | x2 | x3 | x4 |\n",
       "|---|---|---|---|\n",
       "| 1 | a | 3 | 1 |\n",
       "| 2 | b | 3 | 1 |\n",
       "| 3 | c | 3 | 0 |\n",
       "| 4 | d | 3 | 0 |\n",
       "| 5 | e | 3 | 0 |\n",
       "\n"
      ],
      "text/plain": [
       "  x1 x2 x3 x4\n",
       "1 1  a  3  1 \n",
       "2 2  b  3  1 \n",
       "3 3  c  3  0 \n",
       "4 4  d  3  0 \n",
       "5 5  e  3  0 "
      ]
     },
     "metadata": {},
     "output_type": "display_data"
    }
   ],
   "source": [
    "data %>%                        # Apply mutate\n",
    "  mutate(x4 = (x1 == 1 | x2 == \"b\") * 1)"
   ]
  },
  {
   "cell_type": "code",
   "execution_count": null,
   "id": "666f14f2",
   "metadata": {},
   "outputs": [],
   "source": []
  }
 ],
 "metadata": {
  "kernelspec": {
   "display_name": "R",
   "language": "R",
   "name": "ir"
  },
  "language_info": {
   "codemirror_mode": "r",
   "file_extension": ".r",
   "mimetype": "text/x-r-source",
   "name": "R",
   "pygments_lexer": "r",
   "version": "3.6.1"
  }
 },
 "nbformat": 4,
 "nbformat_minor": 5
}
