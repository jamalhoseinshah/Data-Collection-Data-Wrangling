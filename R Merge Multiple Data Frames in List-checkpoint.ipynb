{
 "cells": [
  {
   "cell_type": "code",
   "execution_count": 1,
   "id": "250d9ff3",
   "metadata": {},
   "outputs": [],
   "source": [
    "# This is created by jamal hussain shah topic R Merge Multiple Data Frames in List (2 Examples) | Base R vs. tidyverse"
   ]
  },
  {
   "cell_type": "code",
   "execution_count": 2,
   "id": "b9bef8c3",
   "metadata": {},
   "outputs": [],
   "source": [
    "data1 <- data.frame(id = 1:6,                                  # Create first example data frame\n",
    "                    x1 = c(5, 1, 4, 9, 1, 2),\n",
    "                    x2 = c(\"A\", \"Y\", \"G\", \"F\", \"G\", \"Y\"))"
   ]
  },
  {
   "cell_type": "code",
   "execution_count": 3,
   "id": "1df6707e",
   "metadata": {},
   "outputs": [],
   "source": [
    "data2 <- data.frame(id = 4:9,                                  # Create second example data frame\n",
    "                    y1 = c(3, 3, 4, 1, 2, 9),\n",
    "                    y2 = c(\"a\", \"x\", \"a\", \"x\", \"a\", \"x\"))"
   ]
  },
  {
   "cell_type": "code",
   "execution_count": 4,
   "id": "7d621b9b",
   "metadata": {},
   "outputs": [],
   "source": [
    "data3 <- data.frame(id = 5:6,                                  # Create third example data frame\n",
    "                    z1 = c(3, 2),\n",
    "                    z2 = c(\"K\", \"b\"))"
   ]
  },
  {
   "cell_type": "code",
   "execution_count": 5,
   "id": "86bd5a08",
   "metadata": {},
   "outputs": [],
   "source": [
    "data_list <- list(data1, data2, data3)                         # Combine data frames to list"
   ]
  },
  {
   "cell_type": "code",
   "execution_count": 6,
   "id": "f254ad12",
   "metadata": {},
   "outputs": [],
   "source": [
    "#  Merge List of Multiple Data Frames with Base R"
   ]
  },
  {
   "cell_type": "code",
   "execution_count": 7,
   "id": "7364bcd5",
   "metadata": {},
   "outputs": [],
   "source": [
    "my_merge <- function(df1, df2){                                # Create own merging function\n",
    "  merge(df1, df2, by = \"id\")\n",
    "}"
   ]
  },
  {
   "cell_type": "code",
   "execution_count": 8,
   "id": "2b6de0b0",
   "metadata": {},
   "outputs": [
    {
     "data": {
      "text/html": [
       "<table>\n",
       "<thead><tr><th scope=col>id</th><th scope=col>x1</th><th scope=col>x2</th><th scope=col>y1</th><th scope=col>y2</th><th scope=col>z1</th><th scope=col>z2</th></tr></thead>\n",
       "<tbody>\n",
       "\t<tr><td>5</td><td>1</td><td>G</td><td>3</td><td>x</td><td>3</td><td>K</td></tr>\n",
       "\t<tr><td>6</td><td>2</td><td>Y</td><td>4</td><td>a</td><td>2</td><td>b</td></tr>\n",
       "</tbody>\n",
       "</table>\n"
      ],
      "text/latex": [
       "\\begin{tabular}{r|lllllll}\n",
       " id & x1 & x2 & y1 & y2 & z1 & z2\\\\\n",
       "\\hline\n",
       "\t 5 & 1 & G & 3 & x & 3 & K\\\\\n",
       "\t 6 & 2 & Y & 4 & a & 2 & b\\\\\n",
       "\\end{tabular}\n"
      ],
      "text/markdown": [
       "\n",
       "| id | x1 | x2 | y1 | y2 | z1 | z2 |\n",
       "|---|---|---|---|---|---|---|\n",
       "| 5 | 1 | G | 3 | x | 3 | K |\n",
       "| 6 | 2 | Y | 4 | a | 2 | b |\n",
       "\n"
      ],
      "text/plain": [
       "  id x1 x2 y1 y2 z1 z2\n",
       "1 5  1  G  3  x  3  K \n",
       "2 6  2  Y  4  a  2  b "
      ]
     },
     "metadata": {},
     "output_type": "display_data"
    }
   ],
   "source": [
    "Reduce(my_merge, data_list)                                    # Apply Reduce to own function"
   ]
  },
  {
   "cell_type": "code",
   "execution_count": 9,
   "id": "06f9249b",
   "metadata": {},
   "outputs": [],
   "source": [
    "# Merge List of Multiple Data Frames with tidyverse"
   ]
  },
  {
   "cell_type": "code",
   "execution_count": 10,
   "id": "e1a29147",
   "metadata": {},
   "outputs": [
    {
     "name": "stderr",
     "output_type": "stream",
     "text": [
      "also installing the dependencies 'glue', 'fs', 'rappdirs', 'progress', 'evaluate', 'xfun', 'cli', 'gargle', 'ids', 'vroom', 'tzdb', 'knitr', 'crayon', 'dbplyr', 'dtplyr', 'forcats', 'googledrive', 'googlesheets4', 'haven', 'hms', 'jsonlite', 'lubridate', 'magrittr', 'modelr', 'purrr', 'readr', 'reprex', 'rstudioapi'\n",
      "\n"
     ]
    },
    {
     "name": "stdout",
     "output_type": "stream",
     "text": [
      "\n",
      "  There are binary versions available but the source versions are later:\n",
      "              binary source needs_compilation\n",
      "glue           1.4.2  1.6.2              TRUE\n",
      "fs             1.5.0  1.5.2              TRUE\n",
      "evaluate        0.14   0.15             FALSE\n",
      "xfun            0.22   0.31              TRUE\n",
      "cli            2.5.0  3.3.0              TRUE\n",
      "gargle         1.1.0  1.2.0             FALSE\n",
      "vroom          1.4.0  1.5.7              TRUE\n",
      "tzdb           0.1.1  0.3.0              TRUE\n",
      "knitr           1.33   1.39             FALSE\n",
      "crayon         1.4.1  1.5.1             FALSE\n",
      "dtplyr         1.1.0  1.2.1             FALSE\n",
      "googledrive    1.0.1  2.0.0             FALSE\n",
      "googlesheets4  0.3.0  1.0.0             FALSE\n",
      "haven          2.4.1  2.5.0              TRUE\n",
      "hms            1.0.0  1.1.1             FALSE\n",
      "jsonlite       1.7.2  1.8.0              TRUE\n",
      "lubridate     1.7.10  1.8.0              TRUE\n",
      "magrittr       2.0.1  2.0.3              TRUE\n",
      "readr          1.4.0  2.1.2              TRUE\n",
      "reprex         2.0.0  2.0.1             FALSE\n",
      "\n",
      "  Binaries will be installed\n",
      "package 'glue' successfully unpacked and MD5 sums checked\n"
     ]
    },
    {
     "name": "stderr",
     "output_type": "stream",
     "text": [
      "Warning message:\n",
      "\"cannot remove prior installation of package 'glue'\"Warning message in file.copy(savedcopy, lib, recursive = TRUE):\n",
      "\"problem copying C:\\Users\\jamal\\anaconda3\\envs\\alnafi-R\\Lib\\R\\library\\00LOCK\\glue\\libs\\x64\\glue.dll to C:\\Users\\jamal\\anaconda3\\envs\\alnafi-R\\Lib\\R\\library\\glue\\libs\\x64\\glue.dll: Permission denied\"Warning message:\n",
      "\"restored 'glue'\""
     ]
    },
    {
     "name": "stdout",
     "output_type": "stream",
     "text": [
      "package 'fs' successfully unpacked and MD5 sums checked\n",
      "package 'rappdirs' successfully unpacked and MD5 sums checked\n",
      "package 'progress' successfully unpacked and MD5 sums checked\n",
      "package 'xfun' successfully unpacked and MD5 sums checked\n",
      "package 'cli' successfully unpacked and MD5 sums checked\n",
      "package 'ids' successfully unpacked and MD5 sums checked\n",
      "package 'vroom' successfully unpacked and MD5 sums checked\n",
      "package 'tzdb' successfully unpacked and MD5 sums checked\n",
      "package 'dbplyr' successfully unpacked and MD5 sums checked\n",
      "package 'forcats' successfully unpacked and MD5 sums checked\n",
      "package 'haven' successfully unpacked and MD5 sums checked\n",
      "package 'jsonlite' successfully unpacked and MD5 sums checked\n"
     ]
    },
    {
     "name": "stderr",
     "output_type": "stream",
     "text": [
      "Warning message:\n",
      "\"cannot remove prior installation of package 'jsonlite'\"Warning message in file.copy(savedcopy, lib, recursive = TRUE):\n",
      "\"problem copying C:\\Users\\jamal\\anaconda3\\envs\\alnafi-R\\Lib\\R\\library\\00LOCK\\jsonlite\\libs\\x64\\jsonlite.dll to C:\\Users\\jamal\\anaconda3\\envs\\alnafi-R\\Lib\\R\\library\\jsonlite\\libs\\x64\\jsonlite.dll: Permission denied\"Warning message:\n",
      "\"restored 'jsonlite'\""
     ]
    },
    {
     "name": "stdout",
     "output_type": "stream",
     "text": [
      "package 'lubridate' successfully unpacked and MD5 sums checked\n",
      "package 'magrittr' successfully unpacked and MD5 sums checked\n",
      "package 'modelr' successfully unpacked and MD5 sums checked\n",
      "package 'purrr' successfully unpacked and MD5 sums checked\n"
     ]
    },
    {
     "name": "stderr",
     "output_type": "stream",
     "text": [
      "Warning message:\n",
      "\"cannot remove prior installation of package 'purrr'\"Warning message in file.copy(savedcopy, lib, recursive = TRUE):\n",
      "\"problem copying C:\\Users\\jamal\\anaconda3\\envs\\alnafi-R\\Lib\\R\\library\\00LOCK\\purrr\\libs\\x64\\purrr.dll to C:\\Users\\jamal\\anaconda3\\envs\\alnafi-R\\Lib\\R\\library\\purrr\\libs\\x64\\purrr.dll: Permission denied\"Warning message:\n",
      "\"restored 'purrr'\""
     ]
    },
    {
     "name": "stdout",
     "output_type": "stream",
     "text": [
      "package 'readr' successfully unpacked and MD5 sums checked\n",
      "package 'rstudioapi' successfully unpacked and MD5 sums checked\n",
      "package 'tidyverse' successfully unpacked and MD5 sums checked\n",
      "\n",
      "The downloaded binary packages are in\n",
      "\tC:\\Users\\jamal\\AppData\\Local\\Temp\\RtmpiU4o5X\\downloaded_packages\n"
     ]
    },
    {
     "name": "stderr",
     "output_type": "stream",
     "text": [
      "installing the source packages 'evaluate', 'gargle', 'knitr', 'crayon', 'dtplyr', 'googledrive', 'googlesheets4', 'hms', 'reprex'\n",
      "\n",
      "Warning message in install.packages(\"tidyverse\"):\n",
      "\"installation of package 'knitr' had non-zero exit status\""
     ]
    }
   ],
   "source": [
    "install.packages(\"tidyverse\")                                  # Install tidyverse package"
   ]
  },
  {
   "cell_type": "code",
   "execution_count": null,
   "id": "71fc11d3",
   "metadata": {},
   "outputs": [],
   "source": [
    "library(\"tidyverse\")                                           # Load tidyverse package"
   ]
  },
  {
   "cell_type": "code",
   "execution_count": null,
   "id": "c3af266e",
   "metadata": {},
   "outputs": [],
   "source": [
    "data_list %>% reduce(inner_join, by = \"id\")                    # Apply reduce function of tidyverse"
   ]
  },
  {
   "cell_type": "code",
   "execution_count": null,
   "id": "1cd643ae",
   "metadata": {},
   "outputs": [],
   "source": []
  },
  {
   "cell_type": "code",
   "execution_count": null,
   "id": "b24de911",
   "metadata": {},
   "outputs": [],
   "source": []
  }
 ],
 "metadata": {
  "kernelspec": {
   "display_name": "R",
   "language": "R",
   "name": "ir"
  },
  "language_info": {
   "codemirror_mode": "r",
   "file_extension": ".r",
   "mimetype": "text/x-r-source",
   "name": "R",
   "pygments_lexer": "r",
   "version": "3.6.1"
  }
 },
 "nbformat": 4,
 "nbformat_minor": 5
}
