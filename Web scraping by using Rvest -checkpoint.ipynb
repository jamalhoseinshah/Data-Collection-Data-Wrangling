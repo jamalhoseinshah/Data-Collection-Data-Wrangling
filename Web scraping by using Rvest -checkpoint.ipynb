{
 "cells": [
  {
   "cell_type": "code",
   "execution_count": null,
   "id": "e8fb5ab8",
   "metadata": {},
   "outputs": [],
   "source": [
    "# This is created by Jamal Hussain Shah topic Web scraping by using Rvest"
   ]
  },
  {
   "cell_type": "code",
   "execution_count": 1,
   "id": "e235259e",
   "metadata": {},
   "outputs": [],
   "source": [
    "library(rvest)\n",
    "\n",
    "# Start by reading a HTML page with read_html():\n",
    "starwars <- read_html(\"https://rvest.tidyverse.org/articles/starwars.html\")"
   ]
  },
  {
   "cell_type": "code",
   "execution_count": 2,
   "id": "327d86d6",
   "metadata": {},
   "outputs": [
    {
     "data": {
      "text/plain": [
       "{xml_nodeset (7)}\n",
       "[1] <section><h2 data-id=\"1\">\\nThe Phantom Menace\\n</h2>\\n<p>\\nReleased: 1999 ...\n",
       "[2] <section><h2 data-id=\"2\">\\nAttack of the Clones\\n</h2>\\n<p>\\nReleased: 20 ...\n",
       "[3] <section><h2 data-id=\"3\">\\nRevenge of the Sith\\n</h2>\\n<p>\\nReleased: 200 ...\n",
       "[4] <section><h2 data-id=\"4\">\\nA New Hope\\n</h2>\\n<p>\\nReleased: 1977-05-25\\n ...\n",
       "[5] <section><h2 data-id=\"5\">\\nThe Empire Strikes Back\\n</h2>\\n<p>\\nReleased: ...\n",
       "[6] <section><h2 data-id=\"6\">\\nReturn of the Jedi\\n</h2>\\n<p>\\nReleased: 1983 ...\n",
       "[7] <section><h2 data-id=\"7\">\\nThe Force Awakens\\n</h2>\\n<p>\\nReleased: 2015- ..."
      ]
     },
     "metadata": {},
     "output_type": "display_data"
    }
   ],
   "source": [
    "# Then find elements that match a css selector or XPath expression\n",
    "# using html_elements(). In this example, each <section> corresponds\n",
    "# to a different film\n",
    "films <- starwars %>% html_elements(\"section\")\n",
    "films"
   ]
  },
  {
   "cell_type": "code",
   "execution_count": 3,
   "id": "749834d2",
   "metadata": {},
   "outputs": [
    {
     "data": {
      "text/html": [
       "<ol class=list-inline>\n",
       "\t<li>'The Phantom Menace'</li>\n",
       "\t<li>'Attack of the Clones'</li>\n",
       "\t<li>'Revenge of the Sith'</li>\n",
       "\t<li>'A New Hope'</li>\n",
       "\t<li>'The Empire Strikes Back'</li>\n",
       "\t<li>'Return of the Jedi'</li>\n",
       "\t<li>'The Force Awakens'</li>\n",
       "</ol>\n"
      ],
      "text/latex": [
       "\\begin{enumerate*}\n",
       "\\item 'The Phantom Menace'\n",
       "\\item 'Attack of the Clones'\n",
       "\\item 'Revenge of the Sith'\n",
       "\\item 'A New Hope'\n",
       "\\item 'The Empire Strikes Back'\n",
       "\\item 'Return of the Jedi'\n",
       "\\item 'The Force Awakens'\n",
       "\\end{enumerate*}\n"
      ],
      "text/markdown": [
       "1. 'The Phantom Menace'\n",
       "2. 'Attack of the Clones'\n",
       "3. 'Revenge of the Sith'\n",
       "4. 'A New Hope'\n",
       "5. 'The Empire Strikes Back'\n",
       "6. 'Return of the Jedi'\n",
       "7. 'The Force Awakens'\n",
       "\n",
       "\n"
      ],
      "text/plain": [
       "[1] \"The Phantom Menace\"      \"Attack of the Clones\"   \n",
       "[3] \"Revenge of the Sith\"     \"A New Hope\"             \n",
       "[5] \"The Empire Strikes Back\" \"Return of the Jedi\"     \n",
       "[7] \"The Force Awakens\"      "
      ]
     },
     "metadata": {},
     "output_type": "display_data"
    }
   ],
   "source": [
    "# Then use html_element() to extract one element per film. Here\n",
    "# we the title is given by the text inside <h2>\n",
    "title <- films %>% \n",
    "  html_element(\"h2\") %>% \n",
    "  html_text2()\n",
    "title"
   ]
  },
  {
   "cell_type": "code",
   "execution_count": 4,
   "id": "bd973857",
   "metadata": {},
   "outputs": [
    {
     "data": {
      "text/html": [
       "<ol class=list-inline>\n",
       "\t<li>1</li>\n",
       "\t<li>2</li>\n",
       "\t<li>3</li>\n",
       "\t<li>4</li>\n",
       "\t<li>5</li>\n",
       "\t<li>6</li>\n",
       "\t<li>7</li>\n",
       "</ol>\n"
      ],
      "text/latex": [
       "\\begin{enumerate*}\n",
       "\\item 1\n",
       "\\item 2\n",
       "\\item 3\n",
       "\\item 4\n",
       "\\item 5\n",
       "\\item 6\n",
       "\\item 7\n",
       "\\end{enumerate*}\n"
      ],
      "text/markdown": [
       "1. 1\n",
       "2. 2\n",
       "3. 3\n",
       "4. 4\n",
       "5. 5\n",
       "6. 6\n",
       "7. 7\n",
       "\n",
       "\n"
      ],
      "text/plain": [
       "[1] 1 2 3 4 5 6 7"
      ]
     },
     "metadata": {},
     "output_type": "display_data"
    }
   ],
   "source": [
    "# Or use html_attr() to get data out of attributes. html_attr() always\n",
    "# returns a string so we convert it to an integer using a readr function\n",
    "episode <- films %>% \n",
    "  html_element(\"h2\") %>% \n",
    "  html_attr(\"data-id\") %>% \n",
    "  readr::parse_integer()\n",
    "episode"
   ]
  },
  {
   "cell_type": "code",
   "execution_count": null,
   "id": "e250f2c9",
   "metadata": {},
   "outputs": [],
   "source": []
  },
  {
   "cell_type": "code",
   "execution_count": null,
   "id": "e3e843e0",
   "metadata": {},
   "outputs": [],
   "source": [
    "# If the page contains tabular data you can convert it directly to a data frame with html_table():"
   ]
  },
  {
   "cell_type": "code",
   "execution_count": 5,
   "id": "39766dbf",
   "metadata": {},
   "outputs": [
    {
     "data": {
      "text/html": [
       "<table>\n",
       "<thead><tr><th scope=col>No.</th><th scope=col>Title</th><th scope=col>Performer(s)</th><th scope=col>Length</th></tr></thead>\n",
       "<tbody>\n",
       "\t<tr><td>1.                                                </td><td>\"Everything Is Awesome\"                           </td><td>Tegan and Sara featuring The Lonely Island        </td><td>2:43                                              </td></tr>\n",
       "\t<tr><td>2.                                                </td><td>\"Prologue\"                                        </td><td>                                                  </td><td>2:28                                              </td></tr>\n",
       "\t<tr><td>3.                                                </td><td>\"Emmett's Morning\"                                </td><td>                                                  </td><td>2:00                                              </td></tr>\n",
       "\t<tr><td>4.                                                </td><td>\"Emmett Falls in Love\"                            </td><td>                                                  </td><td>1:11                                              </td></tr>\n",
       "\t<tr><td>5.                                                </td><td>\"Escape\"                                          </td><td>                                                  </td><td>3:26                                              </td></tr>\n",
       "\t<tr><td>6.                                                </td><td>\"Into the Old West\"                               </td><td>                                                  </td><td>1:00                                              </td></tr>\n",
       "\t<tr><td>7.                                                </td><td>\"Wyldstyle Explains\"                              </td><td>                                                  </td><td>1:21                                              </td></tr>\n",
       "\t<tr><td>8.                                                </td><td>\"Emmett's Mind\"                                   </td><td>                                                  </td><td>2:17                                              </td></tr>\n",
       "\t<tr><td>9.                                                </td><td>\"The Transformation\"                              </td><td>                                                  </td><td>1:46                                              </td></tr>\n",
       "\t<tr><td>10.                                               </td><td>\"Saloons and Wagons\"                              </td><td>                                                  </td><td>3:38                                              </td></tr>\n",
       "\t<tr><td>11.                                               </td><td>\"Batman\"                                          </td><td>                                                  </td><td>1:23                                              </td></tr>\n",
       "\t<tr><td>12.                                               </td><td>\"Middle Zealand\"                                  </td><td>                                                  </td><td>0:28                                              </td></tr>\n",
       "\t<tr><td>13.                                               </td><td>\"Cloud Cuckooland and Ben the Spaceman\"           </td><td>                                                  </td><td>1:25                                              </td></tr>\n",
       "\t<tr><td>14.                                               </td><td>\"Emmett's Speech\"                                 </td><td>                                                  </td><td>2:02                                              </td></tr>\n",
       "\t<tr><td>15.                                               </td><td>\"Submarines and Metal Beard\"                      </td><td>                                                  </td><td>1:49                                              </td></tr>\n",
       "\t<tr><td>16.                                               </td><td>\"Requiem for Cuckooland\"                          </td><td>                                                  </td><td>1:24                                              </td></tr>\n",
       "\t<tr><td>17.                                               </td><td>\"Reaching the Kragle\"                             </td><td>                                                  </td><td>2:35                                              </td></tr>\n",
       "\t<tr><td>18.                                               </td><td>\"Emmett's Plan\"                                   </td><td>                                                  </td><td>1:54                                              </td></tr>\n",
       "\t<tr><td>19.                                               </td><td>\"The Truth\"                                       </td><td>                                                  </td><td>3:16                                              </td></tr>\n",
       "\t<tr><td>20.                                               </td><td>\"Wyldstyle Leads\"                                 </td><td>                                                  </td><td>2:46                                              </td></tr>\n",
       "\t<tr><td>21.                                               </td><td>\"Let's Put It All Back\"                           </td><td>                                                  </td><td>2:02                                              </td></tr>\n",
       "\t<tr><td>22.                                               </td><td>\"I Am a Master Builder\"                           </td><td>                                                  </td><td>2:48                                              </td></tr>\n",
       "\t<tr><td>23.                                               </td><td>\"My Secret Weapon\"                                </td><td>                                                  </td><td>4:19                                              </td></tr>\n",
       "\t<tr><td>24.                                               </td><td>\"We Did It!\"                                      </td><td>                                                  </td><td>1:31                                              </td></tr>\n",
       "\t<tr><td>25.                                               </td><td>\"Everything Is Awesome\"                           </td><td>Jo Li (Joshua Bartholomew and Lisa Harriton)      </td><td>1:26                                              </td></tr>\n",
       "\t<tr><td>26.                                               </td><td>\"Everything Is Awesome (unplugged)\"               </td><td>Shawn Patterson and Sammy Allen                   </td><td>1:24                                              </td></tr>\n",
       "\t<tr><td>27.                                               </td><td>\"Untitled Self Portrait\"                          </td><td>Will Arnett                                       </td><td>1:08                                              </td></tr>\n",
       "\t<tr><td>28.                                               </td><td>\"Everything Is Awesome (instrumental sing-a-long)\"</td><td>                                                  </td><td>2:41                                              </td></tr>\n",
       "\t<tr><td>Total length:                                     </td><td>Total length:                                     </td><td>Total length:                                     </td><td>58:10                                             </td></tr>\n",
       "</tbody>\n",
       "</table>\n"
      ],
      "text/latex": [
       "\\begin{tabular}{r|llll}\n",
       " No. & Title & Performer(s) & Length\\\\\n",
       "\\hline\n",
       "\t 1.                                                 & \"Everything Is Awesome\"                            & Tegan and Sara featuring The Lonely Island         & 2:43                                              \\\\\n",
       "\t 2.                                                 & \"Prologue\"                                         &                                                    & 2:28                                              \\\\\n",
       "\t 3.                                                 & \"Emmett's Morning\"                                 &                                                    & 2:00                                              \\\\\n",
       "\t 4.                                                 & \"Emmett Falls in Love\"                             &                                                    & 1:11                                              \\\\\n",
       "\t 5.                                                 & \"Escape\"                                           &                                                    & 3:26                                              \\\\\n",
       "\t 6.                                                 & \"Into the Old West\"                                &                                                    & 1:00                                              \\\\\n",
       "\t 7.                                                 & \"Wyldstyle Explains\"                               &                                                    & 1:21                                              \\\\\n",
       "\t 8.                                                 & \"Emmett's Mind\"                                    &                                                    & 2:17                                              \\\\\n",
       "\t 9.                                                 & \"The Transformation\"                               &                                                    & 1:46                                              \\\\\n",
       "\t 10.                                                & \"Saloons and Wagons\"                               &                                                    & 3:38                                              \\\\\n",
       "\t 11.                                                & \"Batman\"                                           &                                                    & 1:23                                              \\\\\n",
       "\t 12.                                                & \"Middle Zealand\"                                   &                                                    & 0:28                                              \\\\\n",
       "\t 13.                                                & \"Cloud Cuckooland and Ben the Spaceman\"            &                                                    & 1:25                                              \\\\\n",
       "\t 14.                                                & \"Emmett's Speech\"                                  &                                                    & 2:02                                              \\\\\n",
       "\t 15.                                                & \"Submarines and Metal Beard\"                       &                                                    & 1:49                                              \\\\\n",
       "\t 16.                                                & \"Requiem for Cuckooland\"                           &                                                    & 1:24                                              \\\\\n",
       "\t 17.                                                & \"Reaching the Kragle\"                              &                                                    & 2:35                                              \\\\\n",
       "\t 18.                                                & \"Emmett's Plan\"                                    &                                                    & 1:54                                              \\\\\n",
       "\t 19.                                                & \"The Truth\"                                        &                                                    & 3:16                                              \\\\\n",
       "\t 20.                                                & \"Wyldstyle Leads\"                                  &                                                    & 2:46                                              \\\\\n",
       "\t 21.                                                & \"Let's Put It All Back\"                            &                                                    & 2:02                                              \\\\\n",
       "\t 22.                                                & \"I Am a Master Builder\"                            &                                                    & 2:48                                              \\\\\n",
       "\t 23.                                                & \"My Secret Weapon\"                                 &                                                    & 4:19                                              \\\\\n",
       "\t 24.                                                & \"We Did It!\"                                       &                                                    & 1:31                                              \\\\\n",
       "\t 25.                                                & \"Everything Is Awesome\"                            & Jo Li (Joshua Bartholomew and Lisa Harriton)       & 1:26                                              \\\\\n",
       "\t 26.                                                & \"Everything Is Awesome (unplugged)\"                & Shawn Patterson and Sammy Allen                    & 1:24                                              \\\\\n",
       "\t 27.                                                & \"Untitled Self Portrait\"                           & Will Arnett                                        & 1:08                                              \\\\\n",
       "\t 28.                                                & \"Everything Is Awesome (instrumental sing-a-long)\" &                                                    & 2:41                                              \\\\\n",
       "\t Total length:                                      & Total length:                                      & Total length:                                      & 58:10                                             \\\\\n",
       "\\end{tabular}\n"
      ],
      "text/markdown": [
       "\n",
       "| No. | Title | Performer(s) | Length |\n",
       "|---|---|---|---|\n",
       "| 1.                                                 | \"Everything Is Awesome\"                            | Tegan and Sara featuring The Lonely Island         | 2:43                                               |\n",
       "| 2.                                                 | \"Prologue\"                                         |                                                    | 2:28                                               |\n",
       "| 3.                                                 | \"Emmett's Morning\"                                 |                                                    | 2:00                                               |\n",
       "| 4.                                                 | \"Emmett Falls in Love\"                             |                                                    | 1:11                                               |\n",
       "| 5.                                                 | \"Escape\"                                           |                                                    | 3:26                                               |\n",
       "| 6.                                                 | \"Into the Old West\"                                |                                                    | 1:00                                               |\n",
       "| 7.                                                 | \"Wyldstyle Explains\"                               |                                                    | 1:21                                               |\n",
       "| 8.                                                 | \"Emmett's Mind\"                                    |                                                    | 2:17                                               |\n",
       "| 9.                                                 | \"The Transformation\"                               |                                                    | 1:46                                               |\n",
       "| 10.                                                | \"Saloons and Wagons\"                               |                                                    | 3:38                                               |\n",
       "| 11.                                                | \"Batman\"                                           |                                                    | 1:23                                               |\n",
       "| 12.                                                | \"Middle Zealand\"                                   |                                                    | 0:28                                               |\n",
       "| 13.                                                | \"Cloud Cuckooland and Ben the Spaceman\"            |                                                    | 1:25                                               |\n",
       "| 14.                                                | \"Emmett's Speech\"                                  |                                                    | 2:02                                               |\n",
       "| 15.                                                | \"Submarines and Metal Beard\"                       |                                                    | 1:49                                               |\n",
       "| 16.                                                | \"Requiem for Cuckooland\"                           |                                                    | 1:24                                               |\n",
       "| 17.                                                | \"Reaching the Kragle\"                              |                                                    | 2:35                                               |\n",
       "| 18.                                                | \"Emmett's Plan\"                                    |                                                    | 1:54                                               |\n",
       "| 19.                                                | \"The Truth\"                                        |                                                    | 3:16                                               |\n",
       "| 20.                                                | \"Wyldstyle Leads\"                                  |                                                    | 2:46                                               |\n",
       "| 21.                                                | \"Let's Put It All Back\"                            |                                                    | 2:02                                               |\n",
       "| 22.                                                | \"I Am a Master Builder\"                            |                                                    | 2:48                                               |\n",
       "| 23.                                                | \"My Secret Weapon\"                                 |                                                    | 4:19                                               |\n",
       "| 24.                                                | \"We Did It!\"                                       |                                                    | 1:31                                               |\n",
       "| 25.                                                | \"Everything Is Awesome\"                            | Jo Li (Joshua Bartholomew and Lisa Harriton)       | 1:26                                               |\n",
       "| 26.                                                | \"Everything Is Awesome (unplugged)\"                | Shawn Patterson and Sammy Allen                    | 1:24                                               |\n",
       "| 27.                                                | \"Untitled Self Portrait\"                           | Will Arnett                                        | 1:08                                               |\n",
       "| 28.                                                | \"Everything Is Awesome (instrumental sing-a-long)\" |                                                    | 2:41                                               |\n",
       "| Total length:                                      | Total length:                                      | Total length:                                      | 58:10                                              |\n",
       "\n"
      ],
      "text/plain": [
       "   No.           Title                                             \n",
       "1  1.            \"Everything Is Awesome\"                           \n",
       "2  2.            \"Prologue\"                                        \n",
       "3  3.            \"Emmett's Morning\"                                \n",
       "4  4.            \"Emmett Falls in Love\"                            \n",
       "5  5.            \"Escape\"                                          \n",
       "6  6.            \"Into the Old West\"                               \n",
       "7  7.            \"Wyldstyle Explains\"                              \n",
       "8  8.            \"Emmett's Mind\"                                   \n",
       "9  9.            \"The Transformation\"                              \n",
       "10 10.           \"Saloons and Wagons\"                              \n",
       "11 11.           \"Batman\"                                          \n",
       "12 12.           \"Middle Zealand\"                                  \n",
       "13 13.           \"Cloud Cuckooland and Ben the Spaceman\"           \n",
       "14 14.           \"Emmett's Speech\"                                 \n",
       "15 15.           \"Submarines and Metal Beard\"                      \n",
       "16 16.           \"Requiem for Cuckooland\"                          \n",
       "17 17.           \"Reaching the Kragle\"                             \n",
       "18 18.           \"Emmett's Plan\"                                   \n",
       "19 19.           \"The Truth\"                                       \n",
       "20 20.           \"Wyldstyle Leads\"                                 \n",
       "21 21.           \"Let's Put It All Back\"                           \n",
       "22 22.           \"I Am a Master Builder\"                           \n",
       "23 23.           \"My Secret Weapon\"                                \n",
       "24 24.           \"We Did It!\"                                      \n",
       "25 25.           \"Everything Is Awesome\"                           \n",
       "26 26.           \"Everything Is Awesome (unplugged)\"               \n",
       "27 27.           \"Untitled Self Portrait\"                          \n",
       "28 28.           \"Everything Is Awesome (instrumental sing-a-long)\"\n",
       "29 Total length: Total length:                                     \n",
       "   Performer(s)                                 Length\n",
       "1  Tegan and Sara featuring The Lonely Island   2:43  \n",
       "2                                               2:28  \n",
       "3                                               2:00  \n",
       "4                                               1:11  \n",
       "5                                               3:26  \n",
       "6                                               1:00  \n",
       "7                                               1:21  \n",
       "8                                               2:17  \n",
       "9                                               1:46  \n",
       "10                                              3:38  \n",
       "11                                              1:23  \n",
       "12                                              0:28  \n",
       "13                                              1:25  \n",
       "14                                              2:02  \n",
       "15                                              1:49  \n",
       "16                                              1:24  \n",
       "17                                              2:35  \n",
       "18                                              1:54  \n",
       "19                                              3:16  \n",
       "20                                              2:46  \n",
       "21                                              2:02  \n",
       "22                                              2:48  \n",
       "23                                              4:19  \n",
       "24                                              1:31  \n",
       "25 Jo Li (Joshua Bartholomew and Lisa Harriton) 1:26  \n",
       "26 Shawn Patterson and Sammy Allen              1:24  \n",
       "27 Will Arnett                                  1:08  \n",
       "28                                              2:41  \n",
       "29 Total length:                                58:10 "
      ]
     },
     "metadata": {},
     "output_type": "display_data"
    }
   ],
   "source": [
    "html <- read_html(\"https://en.wikipedia.org/w/index.php?title=The_Lego_Movie&oldid=998422565\")\n",
    "\n",
    "html %>% \n",
    "  html_element(\".tracklist\") %>% \n",
    "  html_table()"
   ]
  },
  {
   "cell_type": "code",
   "execution_count": null,
   "id": "26073efc",
   "metadata": {},
   "outputs": [],
   "source": []
  }
 ],
 "metadata": {
  "kernelspec": {
   "display_name": "R",
   "language": "R",
   "name": "ir"
  },
  "language_info": {
   "codemirror_mode": "r",
   "file_extension": ".r",
   "mimetype": "text/x-r-source",
   "name": "R",
   "pygments_lexer": "r",
   "version": "3.6.1"
  }
 },
 "nbformat": 4,
 "nbformat_minor": 5
}
