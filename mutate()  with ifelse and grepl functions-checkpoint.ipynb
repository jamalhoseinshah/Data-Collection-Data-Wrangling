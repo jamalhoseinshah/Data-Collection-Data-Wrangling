{
 "cells": [
  {
   "cell_type": "code",
   "execution_count": 1,
   "id": "d4c33aa9",
   "metadata": {},
   "outputs": [
    {
     "name": "stderr",
     "output_type": "stream",
     "text": [
      "Warning message:\n",
      "\"package 'dplyr' was built under R version 3.6.3\"\n",
      "Attaching package: 'dplyr'\n",
      "\n",
      "The following objects are masked from 'package:stats':\n",
      "\n",
      "    filter, lag\n",
      "\n",
      "The following objects are masked from 'package:base':\n",
      "\n",
      "    intersect, setdiff, setequal, union\n",
      "\n"
     ]
    }
   ],
   "source": [
    "library(dplyr)"
   ]
  },
  {
   "cell_type": "code",
   "execution_count": 2,
   "id": "8ee3a12b",
   "metadata": {},
   "outputs": [
    {
     "data": {
      "text/html": [
       "<table>\n",
       "<thead><tr><th></th><th scope=col>mpg</th><th scope=col>cyl</th><th scope=col>disp</th><th scope=col>hp</th><th scope=col>drat</th><th scope=col>wt</th><th scope=col>qsec</th><th scope=col>vs</th><th scope=col>am</th><th scope=col>gear</th><th scope=col>carb</th><th scope=col>disp_l</th></tr></thead>\n",
       "<tbody>\n",
       "\t<tr><th scope=row>Mazda RX4</th><td>21.0    </td><td>6       </td><td>160     </td><td>110     </td><td>3.90    </td><td>2.620   </td><td>16.46   </td><td>0       </td><td>1       </td><td>4       </td><td>4       </td><td>2.621932</td></tr>\n",
       "\t<tr><th scope=row>Mazda RX4 Wag</th><td>21.0    </td><td>6       </td><td>160     </td><td>110     </td><td>3.90    </td><td>2.875   </td><td>17.02   </td><td>0       </td><td>1       </td><td>4       </td><td>4       </td><td>2.621932</td></tr>\n",
       "\t<tr><th scope=row>Datsun 710</th><td>22.8    </td><td>4       </td><td>108     </td><td> 93     </td><td>3.85    </td><td>2.320   </td><td>18.61   </td><td>1       </td><td>1       </td><td>4       </td><td>1       </td><td>1.769804</td></tr>\n",
       "</tbody>\n",
       "</table>\n"
      ],
      "text/latex": [
       "\\begin{tabular}{r|llllllllllll}\n",
       "  & mpg & cyl & disp & hp & drat & wt & qsec & vs & am & gear & carb & disp\\_l\\\\\n",
       "\\hline\n",
       "\tMazda RX4 & 21.0     & 6        & 160      & 110      & 3.90     & 2.620    & 16.46    & 0        & 1        & 4        & 4        & 2.621932\\\\\n",
       "\tMazda RX4 Wag & 21.0     & 6        & 160      & 110      & 3.90     & 2.875    & 17.02    & 0        & 1        & 4        & 4        & 2.621932\\\\\n",
       "\tDatsun 710 & 22.8     & 4        & 108      &  93      & 3.85     & 2.320    & 18.61    & 1        & 1        & 4        & 1        & 1.769804\\\\\n",
       "\\end{tabular}\n"
      ],
      "text/markdown": [
       "\n",
       "| <!--/--> | mpg | cyl | disp | hp | drat | wt | qsec | vs | am | gear | carb | disp_l |\n",
       "|---|---|---|---|---|---|---|---|---|---|---|---|---|\n",
       "| Mazda RX4 | 21.0     | 6        | 160      | 110      | 3.90     | 2.620    | 16.46    | 0        | 1        | 4        | 4        | 2.621932 |\n",
       "| Mazda RX4 Wag | 21.0     | 6        | 160      | 110      | 3.90     | 2.875    | 17.02    | 0        | 1        | 4        | 4        | 2.621932 |\n",
       "| Datsun 710 | 22.8     | 4        | 108      |  93      | 3.85     | 2.320    | 18.61    | 1        | 1        | 4        | 1        | 1.769804 |\n",
       "\n"
      ],
      "text/plain": [
       "              mpg  cyl disp hp  drat wt    qsec  vs am gear carb disp_l  \n",
       "Mazda RX4     21.0 6   160  110 3.90 2.620 16.46 0  1  4    4    2.621932\n",
       "Mazda RX4 Wag 21.0 6   160  110 3.90 2.875 17.02 0  1  4    4    2.621932\n",
       "Datsun 710    22.8 4   108   93 3.85 2.320 18.61 1  1  4    1    1.769804"
      ]
     },
     "metadata": {},
     "output_type": "display_data"
    }
   ],
   "source": [
    "head(mutate(mtcars, disp_l = disp / 61.0237), 3)"
   ]
  },
  {
   "cell_type": "code",
   "execution_count": 3,
   "id": "a142bfed",
   "metadata": {},
   "outputs": [
    {
     "data": {
      "text/html": [
       "'x is greater than 9'"
      ],
      "text/latex": [
       "'x is greater than 9'"
      ],
      "text/markdown": [
       "'x is greater than 9'"
      ],
      "text/plain": [
       "[1] \"x is greater than 9\""
      ]
     },
     "metadata": {},
     "output_type": "display_data"
    }
   ],
   "source": [
    "x <- 10\n",
    "ifelse(x > 9, \"x is greater than 9\", \"x is not greater than 9\")"
   ]
  },
  {
   "cell_type": "code",
   "execution_count": 4,
   "id": "af85fc04",
   "metadata": {},
   "outputs": [
    {
     "data": {
      "text/html": [
       "<table>\n",
       "<thead><tr><th scope=col>section</th><th scope=col>grade</th><th scope=col>student</th><th scope=col>Pass.Fail</th></tr></thead>\n",
       "<tbody>\n",
       "\t<tr><td>MATH111 </td><td>78      </td><td>David   </td><td>Pass    </td></tr>\n",
       "\t<tr><td>MATH111 </td><td>93      </td><td>Kristina</td><td>Pass    </td></tr>\n",
       "\t<tr><td>ENG111  </td><td>56      </td><td>Mycroft </td><td>Fail    </td></tr>\n",
       "</tbody>\n",
       "</table>\n"
      ],
      "text/latex": [
       "\\begin{tabular}{r|llll}\n",
       " section & grade & student & Pass.Fail\\\\\n",
       "\\hline\n",
       "\t MATH111  & 78       & David    & Pass    \\\\\n",
       "\t MATH111  & 93       & Kristina & Pass    \\\\\n",
       "\t ENG111   & 56       & Mycroft  & Fail    \\\\\n",
       "\\end{tabular}\n"
      ],
      "text/markdown": [
       "\n",
       "| section | grade | student | Pass.Fail |\n",
       "|---|---|---|---|\n",
       "| MATH111  | 78       | David    | Pass     |\n",
       "| MATH111  | 93       | Kristina | Pass     |\n",
       "| ENG111   | 56       | Mycroft  | Fail     |\n",
       "\n"
      ],
      "text/plain": [
       "  section grade student  Pass.Fail\n",
       "1 MATH111 78    David    Pass     \n",
       "2 MATH111 93    Kristina Pass     \n",
       "3 ENG111  56    Mycroft  Fail     "
      ]
     },
     "metadata": {},
     "output_type": "display_data"
    }
   ],
   "source": [
    "section <- c(\"MATH111\", \"MATH111\", \"ENG111\")\n",
    "grade <- c(78, 93, 56)\n",
    "student <- c(\"David\", \"Kristina\", \"Mycroft\")\n",
    "gradebook <- data.frame(section, grade, student)\n",
    "mutate(gradebook, Pass.Fail = ifelse(grade > 60, \"Pass\", \"Fail\"))"
   ]
  },
  {
   "cell_type": "code",
   "execution_count": 5,
   "id": "ff4c7a5a",
   "metadata": {},
   "outputs": [
    {
     "data": {
      "text/html": [
       "<table>\n",
       "<thead><tr><th scope=col>section</th><th scope=col>grade</th><th scope=col>student</th><th scope=col>letter</th></tr></thead>\n",
       "<tbody>\n",
       "\t<tr><td>MATH111 </td><td>78      </td><td>David   </td><td>C       </td></tr>\n",
       "\t<tr><td>MATH111 </td><td>93      </td><td>Kristina</td><td>A       </td></tr>\n",
       "\t<tr><td>ENG111  </td><td>56      </td><td>Mycroft </td><td>F       </td></tr>\n",
       "</tbody>\n",
       "</table>\n"
      ],
      "text/latex": [
       "\\begin{tabular}{r|llll}\n",
       " section & grade & student & letter\\\\\n",
       "\\hline\n",
       "\t MATH111  & 78       & David    & C       \\\\\n",
       "\t MATH111  & 93       & Kristina & A       \\\\\n",
       "\t ENG111   & 56       & Mycroft  & F       \\\\\n",
       "\\end{tabular}\n"
      ],
      "text/markdown": [
       "\n",
       "| section | grade | student | letter |\n",
       "|---|---|---|---|\n",
       "| MATH111  | 78       | David    | C        |\n",
       "| MATH111  | 93       | Kristina | A        |\n",
       "| ENG111   | 56       | Mycroft  | F        |\n",
       "\n"
      ],
      "text/plain": [
       "  section grade student  letter\n",
       "1 MATH111 78    David    C     \n",
       "2 MATH111 93    Kristina A     \n",
       "3 ENG111  56    Mycroft  F     "
      ]
     },
     "metadata": {},
     "output_type": "display_data"
    }
   ],
   "source": [
    "mutate(gradebook, letter = ifelse(grade %in% 60:69, \"D\",\n",
    "                                     ifelse(grade %in% 70:79, \"C\",\n",
    "                                            ifelse(grade %in% 80:89, \"B\",\n",
    "                                                   ifelse(grade %in% 90:99, \"A\", \"F\")))))"
   ]
  },
  {
   "cell_type": "code",
   "execution_count": 6,
   "id": "50a3babe",
   "metadata": {},
   "outputs": [
    {
     "data": {
      "text/html": [
       "<table>\n",
       "<thead><tr><th scope=col>section</th><th scope=col>grade</th><th scope=col>student</th><th scope=col>letter</th></tr></thead>\n",
       "<tbody>\n",
       "\t<tr><td>MATH111 </td><td>78      </td><td>David   </td><td>C       </td></tr>\n",
       "\t<tr><td>MATH111 </td><td>93      </td><td>Kristina</td><td>A       </td></tr>\n",
       "\t<tr><td>ENG111  </td><td>56      </td><td>Mycroft </td><td>F       </td></tr>\n",
       "</tbody>\n",
       "</table>\n"
      ],
      "text/latex": [
       "\\begin{tabular}{r|llll}\n",
       " section & grade & student & letter\\\\\n",
       "\\hline\n",
       "\t MATH111  & 78       & David    & C       \\\\\n",
       "\t MATH111  & 93       & Kristina & A       \\\\\n",
       "\t ENG111   & 56       & Mycroft  & F       \\\\\n",
       "\\end{tabular}\n"
      ],
      "text/markdown": [
       "\n",
       "| section | grade | student | letter |\n",
       "|---|---|---|---|\n",
       "| MATH111  | 78       | David    | C        |\n",
       "| MATH111  | 93       | Kristina | A        |\n",
       "| ENG111   | 56       | Mycroft  | F        |\n",
       "\n"
      ],
      "text/plain": [
       "  section grade student  letter\n",
       "1 MATH111 78    David    C     \n",
       "2 MATH111 93    Kristina A     \n",
       "3 ENG111  56    Mycroft  F     "
      ]
     },
     "metadata": {},
     "output_type": "display_data"
    }
   ],
   "source": [
    "mutate(gradebook, letter = ifelse(grade %in% 60:69, \"D\",\n",
    "                                     ifelse(grade %in% 70:79, \"C\",\n",
    "                                            ifelse(grade %in% 80:89, \"B\",\n",
    "                                                   ifelse(grade %in% 90:99, \"A\", \"F\")))))"
   ]
  },
  {
   "cell_type": "code",
   "execution_count": 7,
   "id": "80618a25",
   "metadata": {},
   "outputs": [
    {
     "data": {
      "text/html": [
       "<ol class=list-inline>\n",
       "\t<li>TRUE</li>\n",
       "\t<li>TRUE</li>\n",
       "\t<li>FALSE</li>\n",
       "</ol>\n"
      ],
      "text/latex": [
       "\\begin{enumerate*}\n",
       "\\item TRUE\n",
       "\\item TRUE\n",
       "\\item FALSE\n",
       "\\end{enumerate*}\n"
      ],
      "text/markdown": [
       "1. TRUE\n",
       "2. TRUE\n",
       "3. FALSE\n",
       "\n",
       "\n"
      ],
      "text/plain": [
       "[1]  TRUE  TRUE FALSE"
      ]
     },
     "metadata": {},
     "output_type": "display_data"
    }
   ],
   "source": [
    "grepl(\"MATH\", gradebook$section)"
   ]
  },
  {
   "cell_type": "code",
   "execution_count": 8,
   "id": "eb67b7e7",
   "metadata": {},
   "outputs": [
    {
     "data": {
      "text/html": [
       "<table>\n",
       "<thead><tr><th scope=col>section</th><th scope=col>grade</th><th scope=col>student</th><th scope=col>department</th></tr></thead>\n",
       "<tbody>\n",
       "\t<tr><td>MATH111           </td><td>78                </td><td>David             </td><td>Math Department   </td></tr>\n",
       "\t<tr><td>MATH111           </td><td>93                </td><td>Kristina          </td><td>Math Department   </td></tr>\n",
       "\t<tr><td>ENG111            </td><td>56                </td><td>Mycroft           </td><td>English Department</td></tr>\n",
       "</tbody>\n",
       "</table>\n"
      ],
      "text/latex": [
       "\\begin{tabular}{r|llll}\n",
       " section & grade & student & department\\\\\n",
       "\\hline\n",
       "\t MATH111            & 78                 & David              & Math Department   \\\\\n",
       "\t MATH111            & 93                 & Kristina           & Math Department   \\\\\n",
       "\t ENG111             & 56                 & Mycroft            & English Department\\\\\n",
       "\\end{tabular}\n"
      ],
      "text/markdown": [
       "\n",
       "| section | grade | student | department |\n",
       "|---|---|---|---|\n",
       "| MATH111            | 78                 | David              | Math Department    |\n",
       "| MATH111            | 93                 | Kristina           | Math Department    |\n",
       "| ENG111             | 56                 | Mycroft            | English Department |\n",
       "\n"
      ],
      "text/plain": [
       "  section grade student  department        \n",
       "1 MATH111 78    David    Math Department   \n",
       "2 MATH111 93    Kristina Math Department   \n",
       "3 ENG111  56    Mycroft  English Department"
      ]
     },
     "metadata": {},
     "output_type": "display_data"
    }
   ],
   "source": [
    "mutate(gradebook, department = ifelse(grepl(\"MATH\", section), \"Math Department\",\n",
    "                                      ifelse(grepl(\"ENG\", section), \"English Department\", \"Other\")))"
   ]
  },
  {
   "cell_type": "code",
   "execution_count": null,
   "id": "ea9fe5d3",
   "metadata": {},
   "outputs": [],
   "source": []
  }
 ],
 "metadata": {
  "kernelspec": {
   "display_name": "R",
   "language": "R",
   "name": "ir"
  },
  "language_info": {
   "codemirror_mode": "r",
   "file_extension": ".r",
   "mimetype": "text/x-r-source",
   "name": "R",
   "pygments_lexer": "r",
   "version": "3.6.1"
  }
 },
 "nbformat": 4,
 "nbformat_minor": 5
}
