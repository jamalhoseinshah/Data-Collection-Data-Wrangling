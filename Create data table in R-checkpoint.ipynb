{
 "cells": [
  {
   "cell_type": "code",
   "execution_count": null,
   "id": "0113f45d",
   "metadata": {},
   "outputs": [],
   "source": [
    "# This is created by jamal hussain shah topic Create data table in R"
   ]
  },
  {
   "cell_type": "code",
   "execution_count": 1,
   "id": "77abc9bb",
   "metadata": {},
   "outputs": [
    {
     "name": "stdout",
     "output_type": "stream",
     "text": [
      "\n",
      "  There is a binary version available but the source version is later:\n",
      "           binary source needs_compilation\n",
      "data.table 1.14.0 1.14.2              TRUE\n",
      "\n",
      "  Binaries will be installed\n",
      "package 'data.table' successfully unpacked and MD5 sums checked\n"
     ]
    },
    {
     "name": "stderr",
     "output_type": "stream",
     "text": [
      "Warning message:\n",
      "\"cannot remove prior installation of package 'data.table'\"Warning message in file.copy(savedcopy, lib, recursive = TRUE):\n",
      "\"problem copying C:\\Users\\jamal\\anaconda3\\envs\\alnafi-R\\Lib\\R\\library\\00LOCK\\data.table\\libs\\x64\\datatable.dll to C:\\Users\\jamal\\anaconda3\\envs\\alnafi-R\\Lib\\R\\library\\data.table\\libs\\x64\\datatable.dll: Permission denied\"Warning message:\n",
      "\"restored 'data.table'\""
     ]
    },
    {
     "name": "stdout",
     "output_type": "stream",
     "text": [
      "\n",
      "The downloaded binary packages are in\n",
      "\tC:\\Users\\jamal\\AppData\\Local\\Temp\\Rtmp8wEeuV\\downloaded_packages\n"
     ]
    }
   ],
   "source": [
    "install.packages(\"data.table\")                    # Install data.table package"
   ]
  },
  {
   "cell_type": "code",
   "execution_count": 2,
   "id": "fc8f4490",
   "metadata": {},
   "outputs": [],
   "source": [
    "library(\"data.table\")                             # Load data.table package"
   ]
  },
  {
   "cell_type": "code",
   "execution_count": 3,
   "id": "ce9e83f0",
   "metadata": {},
   "outputs": [],
   "source": [
    "x1 <- 1:5                                         # Vector 1\n",
    "x2 <- letters[1:5]                                # Vector 2\n",
    "x3 <- c(TRUE, FALSE, FALSE, TRUE, TRUE)           # Vector 3"
   ]
  },
  {
   "cell_type": "code",
   "execution_count": 4,
   "id": "8c8c6199",
   "metadata": {},
   "outputs": [],
   "source": [
    "dt_1 <- data.table(x1, x2, x3)                    # Create data.table"
   ]
  },
  {
   "cell_type": "code",
   "execution_count": 5,
   "id": "1d3de17d",
   "metadata": {},
   "outputs": [
    {
     "data": {
      "text/html": [
       "<table>\n",
       "<thead><tr><th scope=col>x1</th><th scope=col>x2</th><th scope=col>x3</th></tr></thead>\n",
       "<tbody>\n",
       "\t<tr><td>1    </td><td>a    </td><td> TRUE</td></tr>\n",
       "\t<tr><td>2    </td><td>b    </td><td>FALSE</td></tr>\n",
       "\t<tr><td>3    </td><td>c    </td><td>FALSE</td></tr>\n",
       "\t<tr><td>4    </td><td>d    </td><td> TRUE</td></tr>\n",
       "\t<tr><td>5    </td><td>e    </td><td> TRUE</td></tr>\n",
       "</tbody>\n",
       "</table>\n"
      ],
      "text/latex": [
       "\\begin{tabular}{r|lll}\n",
       " x1 & x2 & x3\\\\\n",
       "\\hline\n",
       "\t 1     & a     &  TRUE\\\\\n",
       "\t 2     & b     & FALSE\\\\\n",
       "\t 3     & c     & FALSE\\\\\n",
       "\t 4     & d     &  TRUE\\\\\n",
       "\t 5     & e     &  TRUE\\\\\n",
       "\\end{tabular}\n"
      ],
      "text/markdown": [
       "\n",
       "| x1 | x2 | x3 |\n",
       "|---|---|---|\n",
       "| 1     | a     |  TRUE |\n",
       "| 2     | b     | FALSE |\n",
       "| 3     | c     | FALSE |\n",
       "| 4     | d     |  TRUE |\n",
       "| 5     | e     |  TRUE |\n",
       "\n"
      ],
      "text/plain": [
       "  x1 x2 x3   \n",
       "1 1  a   TRUE\n",
       "2 2  b  FALSE\n",
       "3 3  c  FALSE\n",
       "4 4  d   TRUE\n",
       "5 5  e   TRUE"
      ]
     },
     "metadata": {},
     "output_type": "display_data"
    }
   ],
   "source": [
    "dt_1"
   ]
  },
  {
   "cell_type": "code",
   "execution_count": 6,
   "id": "8ec22ce4",
   "metadata": {},
   "outputs": [],
   "source": [
    "# data.table From Vectors With Specific Column Names"
   ]
  },
  {
   "cell_type": "code",
   "execution_count": 7,
   "id": "b634aacf",
   "metadata": {},
   "outputs": [],
   "source": [
    "dt_2 <- data.table(\"A\" = x1, \"B\" = x2, \"C\" = x3)  # Create data.table"
   ]
  },
  {
   "cell_type": "code",
   "execution_count": 8,
   "id": "8a056fef",
   "metadata": {},
   "outputs": [
    {
     "data": {
      "text/html": [
       "<table>\n",
       "<thead><tr><th scope=col>A</th><th scope=col>B</th><th scope=col>C</th></tr></thead>\n",
       "<tbody>\n",
       "\t<tr><td>1    </td><td>a    </td><td> TRUE</td></tr>\n",
       "\t<tr><td>2    </td><td>b    </td><td>FALSE</td></tr>\n",
       "\t<tr><td>3    </td><td>c    </td><td>FALSE</td></tr>\n",
       "\t<tr><td>4    </td><td>d    </td><td> TRUE</td></tr>\n",
       "\t<tr><td>5    </td><td>e    </td><td> TRUE</td></tr>\n",
       "</tbody>\n",
       "</table>\n"
      ],
      "text/latex": [
       "\\begin{tabular}{r|lll}\n",
       " A & B & C\\\\\n",
       "\\hline\n",
       "\t 1     & a     &  TRUE\\\\\n",
       "\t 2     & b     & FALSE\\\\\n",
       "\t 3     & c     & FALSE\\\\\n",
       "\t 4     & d     &  TRUE\\\\\n",
       "\t 5     & e     &  TRUE\\\\\n",
       "\\end{tabular}\n"
      ],
      "text/markdown": [
       "\n",
       "| A | B | C |\n",
       "|---|---|---|\n",
       "| 1     | a     |  TRUE |\n",
       "| 2     | b     | FALSE |\n",
       "| 3     | c     | FALSE |\n",
       "| 4     | d     |  TRUE |\n",
       "| 5     | e     |  TRUE |\n",
       "\n"
      ],
      "text/plain": [
       "  A B C    \n",
       "1 1 a  TRUE\n",
       "2 2 b FALSE\n",
       "3 3 c FALSE\n",
       "4 4 d  TRUE\n",
       "5 5 e  TRUE"
      ]
     },
     "metadata": {},
     "output_type": "display_data"
    }
   ],
   "source": [
    "dt_2"
   ]
  },
  {
   "cell_type": "code",
   "execution_count": 9,
   "id": "a05b43f1",
   "metadata": {},
   "outputs": [],
   "source": [
    "# data.table With Random Values"
   ]
  },
  {
   "cell_type": "code",
   "execution_count": 10,
   "id": "39773a77",
   "metadata": {},
   "outputs": [],
   "source": [
    "dt_3 <- data.table(\"A\" = rnorm(5), \n",
    "                   \"B\" = rpois(5, 5), \n",
    "                   \"C\" = rbinom(5, 2, .6))        # Create data.table"
   ]
  },
  {
   "cell_type": "code",
   "execution_count": 11,
   "id": "a94559b4",
   "metadata": {},
   "outputs": [
    {
     "data": {
      "text/html": [
       "<table>\n",
       "<thead><tr><th scope=col>A</th><th scope=col>B</th><th scope=col>C</th></tr></thead>\n",
       "<tbody>\n",
       "\t<tr><td>-1.1057593</td><td>5         </td><td>2         </td></tr>\n",
       "\t<tr><td> 0.7146246</td><td>8         </td><td>2         </td></tr>\n",
       "\t<tr><td> 0.6849073</td><td>8         </td><td>2         </td></tr>\n",
       "\t<tr><td>-1.1385405</td><td>5         </td><td>1         </td></tr>\n",
       "\t<tr><td> 0.2012289</td><td>3         </td><td>1         </td></tr>\n",
       "</tbody>\n",
       "</table>\n"
      ],
      "text/latex": [
       "\\begin{tabular}{r|lll}\n",
       " A & B & C\\\\\n",
       "\\hline\n",
       "\t -1.1057593 & 5          & 2         \\\\\n",
       "\t  0.7146246 & 8          & 2         \\\\\n",
       "\t  0.6849073 & 8          & 2         \\\\\n",
       "\t -1.1385405 & 5          & 1         \\\\\n",
       "\t  0.2012289 & 3          & 1         \\\\\n",
       "\\end{tabular}\n"
      ],
      "text/markdown": [
       "\n",
       "| A | B | C |\n",
       "|---|---|---|\n",
       "| -1.1057593 | 5          | 2          |\n",
       "|  0.7146246 | 8          | 2          |\n",
       "|  0.6849073 | 8          | 2          |\n",
       "| -1.1385405 | 5          | 1          |\n",
       "|  0.2012289 | 3          | 1          |\n",
       "\n"
      ],
      "text/plain": [
       "  A          B C\n",
       "1 -1.1057593 5 2\n",
       "2  0.7146246 8 2\n",
       "3  0.6849073 8 2\n",
       "4 -1.1385405 5 1\n",
       "5  0.2012289 3 1"
      ]
     },
     "metadata": {},
     "output_type": "display_data"
    }
   ],
   "source": [
    "dt_3"
   ]
  },
  {
   "cell_type": "code",
   "execution_count": null,
   "id": "0237c682",
   "metadata": {},
   "outputs": [],
   "source": []
  }
 ],
 "metadata": {
  "kernelspec": {
   "display_name": "R",
   "language": "R",
   "name": "ir"
  },
  "language_info": {
   "codemirror_mode": "r",
   "file_extension": ".r",
   "mimetype": "text/x-r-source",
   "name": "R",
   "pygments_lexer": "r",
   "version": "3.6.1"
  }
 },
 "nbformat": 4,
 "nbformat_minor": 5
}
