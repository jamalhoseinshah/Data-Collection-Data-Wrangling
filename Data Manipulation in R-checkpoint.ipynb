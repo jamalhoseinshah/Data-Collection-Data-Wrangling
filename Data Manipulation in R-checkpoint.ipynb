{
 "cells": [
  {
   "cell_type": "code",
   "execution_count": null,
   "id": "bf7c86c9",
   "metadata": {},
   "outputs": [],
   "source": [
    "# This is created by jamal hussain shah topic 'Data Manipulation in R'"
   ]
  },
  {
   "cell_type": "code",
   "execution_count": 1,
   "id": "ee0fa2ef",
   "metadata": {},
   "outputs": [],
   "source": [
    "data(iris)  # Load iris data set"
   ]
  },
  {
   "cell_type": "code",
   "execution_count": 2,
   "id": "eea38498",
   "metadata": {},
   "outputs": [
    {
     "data": {
      "text/html": [
       "<table>\n",
       "<thead><tr><th scope=col>Sepal.Length</th><th scope=col>Sepal.Width</th><th scope=col>Petal.Length</th><th scope=col>Petal.Width</th><th scope=col>Species</th></tr></thead>\n",
       "<tbody>\n",
       "\t<tr><td>5.1   </td><td>3.5   </td><td>1.4   </td><td>0.2   </td><td>setosa</td></tr>\n",
       "\t<tr><td>4.9   </td><td>3.0   </td><td>1.4   </td><td>0.2   </td><td>setosa</td></tr>\n",
       "\t<tr><td>4.7   </td><td>3.2   </td><td>1.3   </td><td>0.2   </td><td>setosa</td></tr>\n",
       "\t<tr><td>4.6   </td><td>3.1   </td><td>1.5   </td><td>0.2   </td><td>setosa</td></tr>\n",
       "\t<tr><td>5.0   </td><td>3.6   </td><td>1.4   </td><td>0.2   </td><td>setosa</td></tr>\n",
       "\t<tr><td>5.4   </td><td>3.9   </td><td>1.7   </td><td>0.4   </td><td>setosa</td></tr>\n",
       "</tbody>\n",
       "</table>\n"
      ],
      "text/latex": [
       "\\begin{tabular}{r|lllll}\n",
       " Sepal.Length & Sepal.Width & Petal.Length & Petal.Width & Species\\\\\n",
       "\\hline\n",
       "\t 5.1    & 3.5    & 1.4    & 0.2    & setosa\\\\\n",
       "\t 4.9    & 3.0    & 1.4    & 0.2    & setosa\\\\\n",
       "\t 4.7    & 3.2    & 1.3    & 0.2    & setosa\\\\\n",
       "\t 4.6    & 3.1    & 1.5    & 0.2    & setosa\\\\\n",
       "\t 5.0    & 3.6    & 1.4    & 0.2    & setosa\\\\\n",
       "\t 5.4    & 3.9    & 1.7    & 0.4    & setosa\\\\\n",
       "\\end{tabular}\n"
      ],
      "text/markdown": [
       "\n",
       "| Sepal.Length | Sepal.Width | Petal.Length | Petal.Width | Species |\n",
       "|---|---|---|---|---|\n",
       "| 5.1    | 3.5    | 1.4    | 0.2    | setosa |\n",
       "| 4.9    | 3.0    | 1.4    | 0.2    | setosa |\n",
       "| 4.7    | 3.2    | 1.3    | 0.2    | setosa |\n",
       "| 4.6    | 3.1    | 1.5    | 0.2    | setosa |\n",
       "| 5.0    | 3.6    | 1.4    | 0.2    | setosa |\n",
       "| 5.4    | 3.9    | 1.7    | 0.4    | setosa |\n",
       "\n"
      ],
      "text/plain": [
       "  Sepal.Length Sepal.Width Petal.Length Petal.Width Species\n",
       "1 5.1          3.5         1.4          0.2         setosa \n",
       "2 4.9          3.0         1.4          0.2         setosa \n",
       "3 4.7          3.2         1.3          0.2         setosa \n",
       "4 4.6          3.1         1.5          0.2         setosa \n",
       "5 5.0          3.6         1.4          0.2         setosa \n",
       "6 5.4          3.9         1.7          0.4         setosa "
      ]
     },
     "metadata": {},
     "output_type": "display_data"
    }
   ],
   "source": [
    "head(iris)    # Print first six rows of data frame"
   ]
  },
  {
   "cell_type": "code",
   "execution_count": null,
   "id": "fda81b39",
   "metadata": {},
   "outputs": [],
   "source": [
    "#  Select Column of Data Frame"
   ]
  },
  {
   "cell_type": "code",
   "execution_count": 3,
   "id": "3893d67c",
   "metadata": {},
   "outputs": [],
   "source": [
    "my_col <- iris$Sepal.Length                           # Convert column to vector"
   ]
  },
  {
   "cell_type": "code",
   "execution_count": 4,
   "id": "67958387",
   "metadata": {},
   "outputs": [
    {
     "data": {
      "text/html": [
       "<ol class=list-inline>\n",
       "\t<li>5.1</li>\n",
       "\t<li>4.9</li>\n",
       "\t<li>4.7</li>\n",
       "\t<li>4.6</li>\n",
       "\t<li>5</li>\n",
       "\t<li>5.4</li>\n",
       "</ol>\n"
      ],
      "text/latex": [
       "\\begin{enumerate*}\n",
       "\\item 5.1\n",
       "\\item 4.9\n",
       "\\item 4.7\n",
       "\\item 4.6\n",
       "\\item 5\n",
       "\\item 5.4\n",
       "\\end{enumerate*}\n"
      ],
      "text/markdown": [
       "1. 5.1\n",
       "2. 4.9\n",
       "3. 4.7\n",
       "4. 4.6\n",
       "5. 5\n",
       "6. 5.4\n",
       "\n",
       "\n"
      ],
      "text/plain": [
       "[1] 5.1 4.9 4.7 4.6 5.0 5.4"
      ]
     },
     "metadata": {},
     "output_type": "display_data"
    }
   ],
   "source": [
    "head(my_col)                                          # First six elements of vector\n",
    "# [1] 5.1 4.9 4.7 4.6 5.0 5.4"
   ]
  },
  {
   "cell_type": "code",
   "execution_count": 5,
   "id": "88b8a726",
   "metadata": {},
   "outputs": [
    {
     "data": {
      "text/html": [
       "5.84333333333333"
      ],
      "text/latex": [
       "5.84333333333333"
      ],
      "text/markdown": [
       "5.84333333333333"
      ],
      "text/plain": [
       "[1] 5.843333"
      ]
     },
     "metadata": {},
     "output_type": "display_data"
    }
   ],
   "source": [
    "mean(my_col)                                          # Calculate mean of vector\n",
    "# [1] 5.843333"
   ]
  },
  {
   "cell_type": "code",
   "execution_count": 6,
   "id": "be7cbbb1",
   "metadata": {},
   "outputs": [],
   "source": [
    "# Remove Column from Data Frame"
   ]
  },
  {
   "cell_type": "code",
   "execution_count": 7,
   "id": "c6320e00",
   "metadata": {},
   "outputs": [],
   "source": [
    "irisA <- iris                                         # Duplicate data frame"
   ]
  },
  {
   "cell_type": "code",
   "execution_count": 8,
   "id": "9bf6b2f1",
   "metadata": {},
   "outputs": [
    {
     "data": {
      "text/html": [
       "<table>\n",
       "<thead><tr><th scope=col>Sepal.Width</th><th scope=col>Petal.Length</th><th scope=col>Petal.Width</th><th scope=col>Species</th></tr></thead>\n",
       "<tbody>\n",
       "\t<tr><td>3.5   </td><td>1.4   </td><td>0.2   </td><td>setosa</td></tr>\n",
       "\t<tr><td>3.0   </td><td>1.4   </td><td>0.2   </td><td>setosa</td></tr>\n",
       "\t<tr><td>3.2   </td><td>1.3   </td><td>0.2   </td><td>setosa</td></tr>\n",
       "\t<tr><td>3.1   </td><td>1.5   </td><td>0.2   </td><td>setosa</td></tr>\n",
       "\t<tr><td>3.6   </td><td>1.4   </td><td>0.2   </td><td>setosa</td></tr>\n",
       "\t<tr><td>3.9   </td><td>1.7   </td><td>0.4   </td><td>setosa</td></tr>\n",
       "</tbody>\n",
       "</table>\n"
      ],
      "text/latex": [
       "\\begin{tabular}{r|llll}\n",
       " Sepal.Width & Petal.Length & Petal.Width & Species\\\\\n",
       "\\hline\n",
       "\t 3.5    & 1.4    & 0.2    & setosa\\\\\n",
       "\t 3.0    & 1.4    & 0.2    & setosa\\\\\n",
       "\t 3.2    & 1.3    & 0.2    & setosa\\\\\n",
       "\t 3.1    & 1.5    & 0.2    & setosa\\\\\n",
       "\t 3.6    & 1.4    & 0.2    & setosa\\\\\n",
       "\t 3.9    & 1.7    & 0.4    & setosa\\\\\n",
       "\\end{tabular}\n"
      ],
      "text/markdown": [
       "\n",
       "| Sepal.Width | Petal.Length | Petal.Width | Species |\n",
       "|---|---|---|---|\n",
       "| 3.5    | 1.4    | 0.2    | setosa |\n",
       "| 3.0    | 1.4    | 0.2    | setosa |\n",
       "| 3.2    | 1.3    | 0.2    | setosa |\n",
       "| 3.1    | 1.5    | 0.2    | setosa |\n",
       "| 3.6    | 1.4    | 0.2    | setosa |\n",
       "| 3.9    | 1.7    | 0.4    | setosa |\n",
       "\n"
      ],
      "text/plain": [
       "  Sepal.Width Petal.Length Petal.Width Species\n",
       "1 3.5         1.4          0.2         setosa \n",
       "2 3.0         1.4          0.2         setosa \n",
       "3 3.2         1.3          0.2         setosa \n",
       "4 3.1         1.5          0.2         setosa \n",
       "5 3.6         1.4          0.2         setosa \n",
       "6 3.9         1.7          0.4         setosa "
      ]
     },
     "metadata": {},
     "output_type": "display_data"
    }
   ],
   "source": [
    "irisA <- irisA[ , colnames(irisA) != \"Sepal.Length\"]  # Drop one column\n",
    "head(irisA)                                           # Print first six rows of data frame"
   ]
  },
  {
   "cell_type": "code",
   "execution_count": 9,
   "id": "d42fc4d2",
   "metadata": {},
   "outputs": [],
   "source": [
    "# Add New Column to Data Frame"
   ]
  },
  {
   "cell_type": "code",
   "execution_count": 10,
   "id": "99913b54",
   "metadata": {},
   "outputs": [
    {
     "data": {
      "text/html": [
       "<table>\n",
       "<thead><tr><th scope=col>Sepal.Length</th><th scope=col>Sepal.Width</th><th scope=col>Petal.Length</th><th scope=col>Petal.Width</th><th scope=col>Species</th><th scope=col>new_col</th></tr></thead>\n",
       "<tbody>\n",
       "\t<tr><td>5.1   </td><td>3.5   </td><td>1.4   </td><td>0.2   </td><td>setosa</td><td> 1    </td></tr>\n",
       "\t<tr><td>4.9   </td><td>3.0   </td><td>1.4   </td><td>0.2   </td><td>setosa</td><td> 4    </td></tr>\n",
       "\t<tr><td>4.7   </td><td>3.2   </td><td>1.3   </td><td>0.2   </td><td>setosa</td><td> 9    </td></tr>\n",
       "\t<tr><td>4.6   </td><td>3.1   </td><td>1.5   </td><td>0.2   </td><td>setosa</td><td>16    </td></tr>\n",
       "\t<tr><td>5.0   </td><td>3.6   </td><td>1.4   </td><td>0.2   </td><td>setosa</td><td>25    </td></tr>\n",
       "\t<tr><td>5.4   </td><td>3.9   </td><td>1.7   </td><td>0.4   </td><td>setosa</td><td>36    </td></tr>\n",
       "</tbody>\n",
       "</table>\n"
      ],
      "text/latex": [
       "\\begin{tabular}{r|llllll}\n",
       " Sepal.Length & Sepal.Width & Petal.Length & Petal.Width & Species & new\\_col\\\\\n",
       "\\hline\n",
       "\t 5.1    & 3.5    & 1.4    & 0.2    & setosa &  1    \\\\\n",
       "\t 4.9    & 3.0    & 1.4    & 0.2    & setosa &  4    \\\\\n",
       "\t 4.7    & 3.2    & 1.3    & 0.2    & setosa &  9    \\\\\n",
       "\t 4.6    & 3.1    & 1.5    & 0.2    & setosa & 16    \\\\\n",
       "\t 5.0    & 3.6    & 1.4    & 0.2    & setosa & 25    \\\\\n",
       "\t 5.4    & 3.9    & 1.7    & 0.4    & setosa & 36    \\\\\n",
       "\\end{tabular}\n"
      ],
      "text/markdown": [
       "\n",
       "| Sepal.Length | Sepal.Width | Petal.Length | Petal.Width | Species | new_col |\n",
       "|---|---|---|---|---|---|\n",
       "| 5.1    | 3.5    | 1.4    | 0.2    | setosa |  1     |\n",
       "| 4.9    | 3.0    | 1.4    | 0.2    | setosa |  4     |\n",
       "| 4.7    | 3.2    | 1.3    | 0.2    | setosa |  9     |\n",
       "| 4.6    | 3.1    | 1.5    | 0.2    | setosa | 16     |\n",
       "| 5.0    | 3.6    | 1.4    | 0.2    | setosa | 25     |\n",
       "| 5.4    | 3.9    | 1.7    | 0.4    | setosa | 36     |\n",
       "\n"
      ],
      "text/plain": [
       "  Sepal.Length Sepal.Width Petal.Length Petal.Width Species new_col\n",
       "1 5.1          3.5         1.4          0.2         setosa   1     \n",
       "2 4.9          3.0         1.4          0.2         setosa   4     \n",
       "3 4.7          3.2         1.3          0.2         setosa   9     \n",
       "4 4.6          3.1         1.5          0.2         setosa  16     \n",
       "5 5.0          3.6         1.4          0.2         setosa  25     \n",
       "6 5.4          3.9         1.7          0.4         setosa  36     "
      ]
     },
     "metadata": {},
     "output_type": "display_data"
    }
   ],
   "source": [
    "irisB <- iris                                         # Duplicate data frame\n",
    "irisB$new_col <- (1:nrow(irisB))^2                    # Add new column\n",
    "head(irisB)                                           # Print first six rows of data frame"
   ]
  },
  {
   "cell_type": "code",
   "execution_count": 11,
   "id": "cb80eba6",
   "metadata": {},
   "outputs": [],
   "source": [
    "# Rename Columns of Data Frame"
   ]
  },
  {
   "cell_type": "code",
   "execution_count": 12,
   "id": "92b06f87",
   "metadata": {},
   "outputs": [
    {
     "data": {
      "text/html": [
       "<table>\n",
       "<thead><tr><th scope=col>x1</th><th scope=col>x2</th><th scope=col>x3</th><th scope=col>x4</th><th scope=col>x5</th></tr></thead>\n",
       "<tbody>\n",
       "\t<tr><td>5.1   </td><td>3.5   </td><td>1.4   </td><td>0.2   </td><td>setosa</td></tr>\n",
       "\t<tr><td>4.9   </td><td>3.0   </td><td>1.4   </td><td>0.2   </td><td>setosa</td></tr>\n",
       "\t<tr><td>4.7   </td><td>3.2   </td><td>1.3   </td><td>0.2   </td><td>setosa</td></tr>\n",
       "\t<tr><td>4.6   </td><td>3.1   </td><td>1.5   </td><td>0.2   </td><td>setosa</td></tr>\n",
       "\t<tr><td>5.0   </td><td>3.6   </td><td>1.4   </td><td>0.2   </td><td>setosa</td></tr>\n",
       "\t<tr><td>5.4   </td><td>3.9   </td><td>1.7   </td><td>0.4   </td><td>setosa</td></tr>\n",
       "</tbody>\n",
       "</table>\n"
      ],
      "text/latex": [
       "\\begin{tabular}{r|lllll}\n",
       " x1 & x2 & x3 & x4 & x5\\\\\n",
       "\\hline\n",
       "\t 5.1    & 3.5    & 1.4    & 0.2    & setosa\\\\\n",
       "\t 4.9    & 3.0    & 1.4    & 0.2    & setosa\\\\\n",
       "\t 4.7    & 3.2    & 1.3    & 0.2    & setosa\\\\\n",
       "\t 4.6    & 3.1    & 1.5    & 0.2    & setosa\\\\\n",
       "\t 5.0    & 3.6    & 1.4    & 0.2    & setosa\\\\\n",
       "\t 5.4    & 3.9    & 1.7    & 0.4    & setosa\\\\\n",
       "\\end{tabular}\n"
      ],
      "text/markdown": [
       "\n",
       "| x1 | x2 | x3 | x4 | x5 |\n",
       "|---|---|---|---|---|\n",
       "| 5.1    | 3.5    | 1.4    | 0.2    | setosa |\n",
       "| 4.9    | 3.0    | 1.4    | 0.2    | setosa |\n",
       "| 4.7    | 3.2    | 1.3    | 0.2    | setosa |\n",
       "| 4.6    | 3.1    | 1.5    | 0.2    | setosa |\n",
       "| 5.0    | 3.6    | 1.4    | 0.2    | setosa |\n",
       "| 5.4    | 3.9    | 1.7    | 0.4    | setosa |\n",
       "\n"
      ],
      "text/plain": [
       "  x1  x2  x3  x4  x5    \n",
       "1 5.1 3.5 1.4 0.2 setosa\n",
       "2 4.9 3.0 1.4 0.2 setosa\n",
       "3 4.7 3.2 1.3 0.2 setosa\n",
       "4 4.6 3.1 1.5 0.2 setosa\n",
       "5 5.0 3.6 1.4 0.2 setosa\n",
       "6 5.4 3.9 1.7 0.4 setosa"
      ]
     },
     "metadata": {},
     "output_type": "display_data"
    }
   ],
   "source": [
    "irisC <- iris                                         # Duplicate data frame\n",
    "colnames(irisC) <- paste0(\"x\", 1:ncol(irisC))         # Change column names\n",
    "head(irisC)                                           # Print first six rows of data frame"
   ]
  },
  {
   "cell_type": "code",
   "execution_count": 13,
   "id": "9d93956e",
   "metadata": {},
   "outputs": [],
   "source": [
    "# Reorder Rows of Data Frame"
   ]
  },
  {
   "cell_type": "code",
   "execution_count": 14,
   "id": "008d89c7",
   "metadata": {},
   "outputs": [
    {
     "data": {
      "text/html": [
       "<table>\n",
       "<thead><tr><th></th><th scope=col>Sepal.Length</th><th scope=col>Sepal.Width</th><th scope=col>Petal.Length</th><th scope=col>Petal.Width</th><th scope=col>Species</th></tr></thead>\n",
       "<tbody>\n",
       "\t<tr><th scope=row>14</th><td>4.3   </td><td>3.0   </td><td>1.1   </td><td>0.1   </td><td>setosa</td></tr>\n",
       "\t<tr><th scope=row>9</th><td>4.4   </td><td>2.9   </td><td>1.4   </td><td>0.2   </td><td>setosa</td></tr>\n",
       "\t<tr><th scope=row>39</th><td>4.4   </td><td>3.0   </td><td>1.3   </td><td>0.2   </td><td>setosa</td></tr>\n",
       "\t<tr><th scope=row>43</th><td>4.4   </td><td>3.2   </td><td>1.3   </td><td>0.2   </td><td>setosa</td></tr>\n",
       "\t<tr><th scope=row>42</th><td>4.5   </td><td>2.3   </td><td>1.3   </td><td>0.3   </td><td>setosa</td></tr>\n",
       "\t<tr><th scope=row>4</th><td>4.6   </td><td>3.1   </td><td>1.5   </td><td>0.2   </td><td>setosa</td></tr>\n",
       "</tbody>\n",
       "</table>\n"
      ],
      "text/latex": [
       "\\begin{tabular}{r|lllll}\n",
       "  & Sepal.Length & Sepal.Width & Petal.Length & Petal.Width & Species\\\\\n",
       "\\hline\n",
       "\t14 & 4.3    & 3.0    & 1.1    & 0.1    & setosa\\\\\n",
       "\t9 & 4.4    & 2.9    & 1.4    & 0.2    & setosa\\\\\n",
       "\t39 & 4.4    & 3.0    & 1.3    & 0.2    & setosa\\\\\n",
       "\t43 & 4.4    & 3.2    & 1.3    & 0.2    & setosa\\\\\n",
       "\t42 & 4.5    & 2.3    & 1.3    & 0.3    & setosa\\\\\n",
       "\t4 & 4.6    & 3.1    & 1.5    & 0.2    & setosa\\\\\n",
       "\\end{tabular}\n"
      ],
      "text/markdown": [
       "\n",
       "| <!--/--> | Sepal.Length | Sepal.Width | Petal.Length | Petal.Width | Species |\n",
       "|---|---|---|---|---|---|\n",
       "| 14 | 4.3    | 3.0    | 1.1    | 0.1    | setosa |\n",
       "| 9 | 4.4    | 2.9    | 1.4    | 0.2    | setosa |\n",
       "| 39 | 4.4    | 3.0    | 1.3    | 0.2    | setosa |\n",
       "| 43 | 4.4    | 3.2    | 1.3    | 0.2    | setosa |\n",
       "| 42 | 4.5    | 2.3    | 1.3    | 0.3    | setosa |\n",
       "| 4 | 4.6    | 3.1    | 1.5    | 0.2    | setosa |\n",
       "\n"
      ],
      "text/plain": [
       "   Sepal.Length Sepal.Width Petal.Length Petal.Width Species\n",
       "14 4.3          3.0         1.1          0.1         setosa \n",
       "9  4.4          2.9         1.4          0.2         setosa \n",
       "39 4.4          3.0         1.3          0.2         setosa \n",
       "43 4.4          3.2         1.3          0.2         setosa \n",
       "42 4.5          2.3         1.3          0.3         setosa \n",
       "4  4.6          3.1         1.5          0.2         setosa "
      ]
     },
     "metadata": {},
     "output_type": "display_data"
    }
   ],
   "source": [
    "irisD <- iris                                         # Duplicate data frame\n",
    "irisD <- irisD[order(irisD$Sepal.Length), ]           # Sort rows by values\n",
    "head(irisD)                                           # Print first six rows of data frame"
   ]
  },
  {
   "cell_type": "code",
   "execution_count": 15,
   "id": "148b31dd",
   "metadata": {},
   "outputs": [],
   "source": [
    "# Subset Data Frame Rows"
   ]
  },
  {
   "cell_type": "code",
   "execution_count": 16,
   "id": "d473f231",
   "metadata": {},
   "outputs": [
    {
     "data": {
      "text/html": [
       "<table>\n",
       "<thead><tr><th></th><th scope=col>Sepal.Length</th><th scope=col>Sepal.Width</th><th scope=col>Petal.Length</th><th scope=col>Petal.Width</th><th scope=col>Species</th></tr></thead>\n",
       "<tbody>\n",
       "\t<tr><th scope=row>1</th><td>5.1   </td><td>3.5   </td><td>1.4   </td><td>0.2   </td><td>setosa</td></tr>\n",
       "\t<tr><th scope=row>3</th><td>4.7   </td><td>3.2   </td><td>1.3   </td><td>0.2   </td><td>setosa</td></tr>\n",
       "\t<tr><th scope=row>5</th><td>5.0   </td><td>3.6   </td><td>1.4   </td><td>0.2   </td><td>setosa</td></tr>\n",
       "</tbody>\n",
       "</table>\n"
      ],
      "text/latex": [
       "\\begin{tabular}{r|lllll}\n",
       "  & Sepal.Length & Sepal.Width & Petal.Length & Petal.Width & Species\\\\\n",
       "\\hline\n",
       "\t1 & 5.1    & 3.5    & 1.4    & 0.2    & setosa\\\\\n",
       "\t3 & 4.7    & 3.2    & 1.3    & 0.2    & setosa\\\\\n",
       "\t5 & 5.0    & 3.6    & 1.4    & 0.2    & setosa\\\\\n",
       "\\end{tabular}\n"
      ],
      "text/markdown": [
       "\n",
       "| <!--/--> | Sepal.Length | Sepal.Width | Petal.Length | Petal.Width | Species |\n",
       "|---|---|---|---|---|---|\n",
       "| 1 | 5.1    | 3.5    | 1.4    | 0.2    | setosa |\n",
       "| 3 | 4.7    | 3.2    | 1.3    | 0.2    | setosa |\n",
       "| 5 | 5.0    | 3.6    | 1.4    | 0.2    | setosa |\n",
       "\n"
      ],
      "text/plain": [
       "  Sepal.Length Sepal.Width Petal.Length Petal.Width Species\n",
       "1 5.1          3.5         1.4          0.2         setosa \n",
       "3 4.7          3.2         1.3          0.2         setosa \n",
       "5 5.0          3.6         1.4          0.2         setosa "
      ]
     },
     "metadata": {},
     "output_type": "display_data"
    }
   ],
   "source": [
    "irisE <- iris                                         # Duplicate data frame\n",
    "irisE <- irisE[c(1, 3, 5), ]                          # Create data frame subset\n",
    "irisE                                                 # Print data frame subset"
   ]
  },
  {
   "cell_type": "code",
   "execution_count": 17,
   "id": "036496c8",
   "metadata": {},
   "outputs": [],
   "source": [
    "# Replace Values in Data Frame"
   ]
  },
  {
   "cell_type": "code",
   "execution_count": 18,
   "id": "27d37e47",
   "metadata": {},
   "outputs": [
    {
     "data": {
      "text/html": [
       "<table>\n",
       "<thead><tr><th scope=col>Sepal.Length</th><th scope=col>Sepal.Width</th><th scope=col>Petal.Length</th><th scope=col>Petal.Width</th><th scope=col>Species</th></tr></thead>\n",
       "<tbody>\n",
       "\t<tr><td>999.0 </td><td>3.5   </td><td>1.4   </td><td>0.2   </td><td>setosa</td></tr>\n",
       "\t<tr><td>  4.9 </td><td>3.0   </td><td>1.4   </td><td>0.2   </td><td>setosa</td></tr>\n",
       "\t<tr><td>999.0 </td><td>3.2   </td><td>1.3   </td><td>0.2   </td><td>setosa</td></tr>\n",
       "\t<tr><td>  4.6 </td><td>3.1   </td><td>1.5   </td><td>0.2   </td><td>setosa</td></tr>\n",
       "\t<tr><td>999.0 </td><td>3.6   </td><td>1.4   </td><td>0.2   </td><td>setosa</td></tr>\n",
       "\t<tr><td>  5.4 </td><td>3.9   </td><td>1.7   </td><td>0.4   </td><td>setosa</td></tr>\n",
       "</tbody>\n",
       "</table>\n"
      ],
      "text/latex": [
       "\\begin{tabular}{r|lllll}\n",
       " Sepal.Length & Sepal.Width & Petal.Length & Petal.Width & Species\\\\\n",
       "\\hline\n",
       "\t 999.0  & 3.5    & 1.4    & 0.2    & setosa\\\\\n",
       "\t   4.9  & 3.0    & 1.4    & 0.2    & setosa\\\\\n",
       "\t 999.0  & 3.2    & 1.3    & 0.2    & setosa\\\\\n",
       "\t   4.6  & 3.1    & 1.5    & 0.2    & setosa\\\\\n",
       "\t 999.0  & 3.6    & 1.4    & 0.2    & setosa\\\\\n",
       "\t   5.4  & 3.9    & 1.7    & 0.4    & setosa\\\\\n",
       "\\end{tabular}\n"
      ],
      "text/markdown": [
       "\n",
       "| Sepal.Length | Sepal.Width | Petal.Length | Petal.Width | Species |\n",
       "|---|---|---|---|---|\n",
       "| 999.0  | 3.5    | 1.4    | 0.2    | setosa |\n",
       "|   4.9  | 3.0    | 1.4    | 0.2    | setosa |\n",
       "| 999.0  | 3.2    | 1.3    | 0.2    | setosa |\n",
       "|   4.6  | 3.1    | 1.5    | 0.2    | setosa |\n",
       "| 999.0  | 3.6    | 1.4    | 0.2    | setosa |\n",
       "|   5.4  | 3.9    | 1.7    | 0.4    | setosa |\n",
       "\n"
      ],
      "text/plain": [
       "  Sepal.Length Sepal.Width Petal.Length Petal.Width Species\n",
       "1 999.0        3.5         1.4          0.2         setosa \n",
       "2   4.9        3.0         1.4          0.2         setosa \n",
       "3 999.0        3.2         1.3          0.2         setosa \n",
       "4   4.6        3.1         1.5          0.2         setosa \n",
       "5 999.0        3.6         1.4          0.2         setosa \n",
       "6   5.4        3.9         1.7          0.4         setosa "
      ]
     },
     "metadata": {},
     "output_type": "display_data"
    }
   ],
   "source": [
    "irisF <- iris                                         # Duplicate data frame\n",
    "irisF[c(1, 3, 5), 1] <- 999                           # Replace values in data frame\n",
    "head(irisF)                                           # Print first six rows of data frame"
   ]
  },
  {
   "cell_type": "code",
   "execution_count": 19,
   "id": "2ca20e9f",
   "metadata": {},
   "outputs": [],
   "source": [
    "# Remove Duplicate Rows in Data Frame"
   ]
  },
  {
   "cell_type": "code",
   "execution_count": 20,
   "id": "3c8daa7c",
   "metadata": {},
   "outputs": [
    {
     "data": {
      "text/html": [
       "<table>\n",
       "<thead><tr><th></th><th scope=col>Sepal.Length</th><th scope=col>Sepal.Width</th><th scope=col>Petal.Length</th><th scope=col>Petal.Width</th><th scope=col>Species</th></tr></thead>\n",
       "<tbody>\n",
       "\t<tr><th scope=row>1</th><td>5.1   </td><td>3.5   </td><td>1.4   </td><td>0.2   </td><td>setosa</td></tr>\n",
       "\t<tr><th scope=row>2</th><td>4.9   </td><td>3.0   </td><td>1.4   </td><td>0.2   </td><td>setosa</td></tr>\n",
       "\t<tr><th scope=row>3</th><td>4.7   </td><td>3.2   </td><td>1.3   </td><td>0.2   </td><td>setosa</td></tr>\n",
       "\t<tr><th scope=row>21</th><td>4.9   </td><td>3.0   </td><td>1.4   </td><td>0.2   </td><td>setosa</td></tr>\n",
       "\t<tr><th scope=row>31</th><td>4.7   </td><td>3.2   </td><td>1.3   </td><td>0.2   </td><td>setosa</td></tr>\n",
       "\t<tr><th scope=row>4</th><td>4.6   </td><td>3.1   </td><td>1.5   </td><td>0.2   </td><td>setosa</td></tr>\n",
       "\t<tr><th scope=row>5</th><td>5.0   </td><td>3.6   </td><td>1.4   </td><td>0.2   </td><td>setosa</td></tr>\n",
       "</tbody>\n",
       "</table>\n"
      ],
      "text/latex": [
       "\\begin{tabular}{r|lllll}\n",
       "  & Sepal.Length & Sepal.Width & Petal.Length & Petal.Width & Species\\\\\n",
       "\\hline\n",
       "\t1 & 5.1    & 3.5    & 1.4    & 0.2    & setosa\\\\\n",
       "\t2 & 4.9    & 3.0    & 1.4    & 0.2    & setosa\\\\\n",
       "\t3 & 4.7    & 3.2    & 1.3    & 0.2    & setosa\\\\\n",
       "\t21 & 4.9    & 3.0    & 1.4    & 0.2    & setosa\\\\\n",
       "\t31 & 4.7    & 3.2    & 1.3    & 0.2    & setosa\\\\\n",
       "\t4 & 4.6    & 3.1    & 1.5    & 0.2    & setosa\\\\\n",
       "\t5 & 5.0    & 3.6    & 1.4    & 0.2    & setosa\\\\\n",
       "\\end{tabular}\n"
      ],
      "text/markdown": [
       "\n",
       "| <!--/--> | Sepal.Length | Sepal.Width | Petal.Length | Petal.Width | Species |\n",
       "|---|---|---|---|---|---|\n",
       "| 1 | 5.1    | 3.5    | 1.4    | 0.2    | setosa |\n",
       "| 2 | 4.9    | 3.0    | 1.4    | 0.2    | setosa |\n",
       "| 3 | 4.7    | 3.2    | 1.3    | 0.2    | setosa |\n",
       "| 21 | 4.9    | 3.0    | 1.4    | 0.2    | setosa |\n",
       "| 31 | 4.7    | 3.2    | 1.3    | 0.2    | setosa |\n",
       "| 4 | 4.6    | 3.1    | 1.5    | 0.2    | setosa |\n",
       "| 5 | 5.0    | 3.6    | 1.4    | 0.2    | setosa |\n",
       "\n"
      ],
      "text/plain": [
       "   Sepal.Length Sepal.Width Petal.Length Petal.Width Species\n",
       "1  5.1          3.5         1.4          0.2         setosa \n",
       "2  4.9          3.0         1.4          0.2         setosa \n",
       "3  4.7          3.2         1.3          0.2         setosa \n",
       "21 4.9          3.0         1.4          0.2         setosa \n",
       "31 4.7          3.2         1.3          0.2         setosa \n",
       "4  4.6          3.1         1.5          0.2         setosa \n",
       "5  5.0          3.6         1.4          0.2         setosa "
      ]
     },
     "metadata": {},
     "output_type": "display_data"
    }
   ],
   "source": [
    "irisG <- rbind(iris[1:3, ], iris[2:5, ])              # Create data frame with duplicates\n",
    "irisG                                                 # Print data frame with duplicates"
   ]
  },
  {
   "cell_type": "code",
   "execution_count": 21,
   "id": "546248fc",
   "metadata": {},
   "outputs": [
    {
     "data": {
      "text/html": [
       "<table>\n",
       "<thead><tr><th scope=col>Sepal.Length</th><th scope=col>Sepal.Width</th><th scope=col>Petal.Length</th><th scope=col>Petal.Width</th><th scope=col>Species</th></tr></thead>\n",
       "<tbody>\n",
       "\t<tr><td>5.1   </td><td>3.5   </td><td>1.4   </td><td>0.2   </td><td>setosa</td></tr>\n",
       "\t<tr><td>4.9   </td><td>3.0   </td><td>1.4   </td><td>0.2   </td><td>setosa</td></tr>\n",
       "\t<tr><td>4.7   </td><td>3.2   </td><td>1.3   </td><td>0.2   </td><td>setosa</td></tr>\n",
       "\t<tr><td>4.6   </td><td>3.1   </td><td>1.5   </td><td>0.2   </td><td>setosa</td></tr>\n",
       "\t<tr><td>5.0   </td><td>3.6   </td><td>1.4   </td><td>0.2   </td><td>setosa</td></tr>\n",
       "</tbody>\n",
       "</table>\n"
      ],
      "text/latex": [
       "\\begin{tabular}{r|lllll}\n",
       " Sepal.Length & Sepal.Width & Petal.Length & Petal.Width & Species\\\\\n",
       "\\hline\n",
       "\t 5.1    & 3.5    & 1.4    & 0.2    & setosa\\\\\n",
       "\t 4.9    & 3.0    & 1.4    & 0.2    & setosa\\\\\n",
       "\t 4.7    & 3.2    & 1.3    & 0.2    & setosa\\\\\n",
       "\t 4.6    & 3.1    & 1.5    & 0.2    & setosa\\\\\n",
       "\t 5.0    & 3.6    & 1.4    & 0.2    & setosa\\\\\n",
       "\\end{tabular}\n"
      ],
      "text/markdown": [
       "\n",
       "| Sepal.Length | Sepal.Width | Petal.Length | Petal.Width | Species |\n",
       "|---|---|---|---|---|\n",
       "| 5.1    | 3.5    | 1.4    | 0.2    | setosa |\n",
       "| 4.9    | 3.0    | 1.4    | 0.2    | setosa |\n",
       "| 4.7    | 3.2    | 1.3    | 0.2    | setosa |\n",
       "| 4.6    | 3.1    | 1.5    | 0.2    | setosa |\n",
       "| 5.0    | 3.6    | 1.4    | 0.2    | setosa |\n",
       "\n"
      ],
      "text/plain": [
       "  Sepal.Length Sepal.Width Petal.Length Petal.Width Species\n",
       "1 5.1          3.5         1.4          0.2         setosa \n",
       "2 4.9          3.0         1.4          0.2         setosa \n",
       "3 4.7          3.2         1.3          0.2         setosa \n",
       "4 4.6          3.1         1.5          0.2         setosa \n",
       "5 5.0          3.6         1.4          0.2         setosa "
      ]
     },
     "metadata": {},
     "output_type": "display_data"
    }
   ],
   "source": [
    "irisH <- unique(irisG)                                # Drop duplicates from data frame\n",
    "irisH                                                 # Print data frame with unique rows"
   ]
  },
  {
   "cell_type": "code",
   "execution_count": 22,
   "id": "f5c9a029",
   "metadata": {},
   "outputs": [],
   "source": [
    "# Aggregate Values in Data Frame by Group"
   ]
  },
  {
   "cell_type": "code",
   "execution_count": 23,
   "id": "4f6d4b31",
   "metadata": {},
   "outputs": [
    {
     "data": {
      "text/html": [
       "<table>\n",
       "<thead><tr><th scope=col>Species</th><th scope=col>Sepal.Length</th></tr></thead>\n",
       "<tbody>\n",
       "\t<tr><td>setosa    </td><td>250.3     </td></tr>\n",
       "\t<tr><td>versicolor</td><td>296.8     </td></tr>\n",
       "\t<tr><td>virginica </td><td>329.4     </td></tr>\n",
       "</tbody>\n",
       "</table>\n"
      ],
      "text/latex": [
       "\\begin{tabular}{r|ll}\n",
       " Species & Sepal.Length\\\\\n",
       "\\hline\n",
       "\t setosa     & 250.3     \\\\\n",
       "\t versicolor & 296.8     \\\\\n",
       "\t virginica  & 329.4     \\\\\n",
       "\\end{tabular}\n"
      ],
      "text/markdown": [
       "\n",
       "| Species | Sepal.Length |\n",
       "|---|---|\n",
       "| setosa     | 250.3      |\n",
       "| versicolor | 296.8      |\n",
       "| virginica  | 329.4      |\n",
       "\n"
      ],
      "text/plain": [
       "  Species    Sepal.Length\n",
       "1 setosa     250.3       \n",
       "2 versicolor 296.8       \n",
       "3 virginica  329.4       "
      ]
     },
     "metadata": {},
     "output_type": "display_data"
    }
   ],
   "source": [
    "irisI <- aggregate(Sepal.Length ~ Species,            # Calculate sum by group\n",
    "                   iris,\n",
    "                   sum)\n",
    "irisI                                                 # Print sum by group"
   ]
  },
  {
   "cell_type": "code",
   "execution_count": null,
   "id": "8545233d",
   "metadata": {},
   "outputs": [],
   "source": []
  }
 ],
 "metadata": {
  "kernelspec": {
   "display_name": "R",
   "language": "R",
   "name": "ir"
  },
  "language_info": {
   "codemirror_mode": "r",
   "file_extension": ".r",
   "mimetype": "text/x-r-source",
   "name": "R",
   "pygments_lexer": "r",
   "version": "3.6.1"
  }
 },
 "nbformat": 4,
 "nbformat_minor": 5
}
