{
 "cells": [
  {
   "cell_type": "code",
   "execution_count": null,
   "id": "8edbe41e",
   "metadata": {},
   "outputs": [],
   "source": [
    "# This is created by jamal hussain shah topic Reading Multiple CSV Files from Folder Using for-Loop"
   ]
  },
  {
   "cell_type": "code",
   "execution_count": 31,
   "id": "8d737d9e",
   "metadata": {},
   "outputs": [],
   "source": [
    "data1 <- data.frame(x1 = 1:5,                                 # First data frame\n",
    "                    x2 = letters[1:5])\n",
    "data2 <- data.frame(y1 = 1:5,                                 # Second data frame\n",
    "                    y2 = letters[1:5])\n",
    "data3 <- data.frame(z1 = 1:5,                                 # Third data frame\n",
    "                    z2 = letters[1:5])"
   ]
  },
  {
   "cell_type": "code",
   "execution_count": 33,
   "id": "01bdb72e",
   "metadata": {},
   "outputs": [],
   "source": [
    "dir.create(\"D:/henna/jamal\")                # Create folder"
   ]
  },
  {
   "cell_type": "code",
   "execution_count": 34,
   "id": "8b729bea",
   "metadata": {},
   "outputs": [
    {
     "data": {
      "text/html": [
       "<ol class=list-inline>\n",
       "\t<li>'data1'</li>\n",
       "\t<li>'data2'</li>\n",
       "\t<li>'data3'</li>\n",
       "</ol>\n"
      ],
      "text/latex": [
       "\\begin{enumerate*}\n",
       "\\item 'data1'\n",
       "\\item 'data2'\n",
       "\\item 'data3'\n",
       "\\end{enumerate*}\n"
      ],
      "text/markdown": [
       "1. 'data1'\n",
       "2. 'data2'\n",
       "3. 'data3'\n",
       "\n",
       "\n"
      ],
      "text/plain": [
       "[1] \"data1\" \"data2\" \"data3\""
      ]
     },
     "metadata": {},
     "output_type": "display_data"
    }
   ],
   "source": [
    "data_names <- c(\"data1\", \"data2\", \"data3\")                    # Create vector of names\n",
    "data_names                                                    # Print names\n",
    "# \"data1\" \"data2\" \"data3\""
   ]
  },
  {
   "cell_type": "code",
   "execution_count": 36,
   "id": "7d35e304",
   "metadata": {},
   "outputs": [],
   "source": [
    "for(i in 1:length(data_names)) {                              # Head of for-loop\n",
    "  write.csv2(get(data_names[i]),                              # Write CSV files to folder\n",
    "             paste0(\"D:/henna/jamal\",\n",
    "                    data_names[i],\n",
    "                    \".csv\"),\n",
    "             row.names = FALSE)\n",
    "}"
   ]
  },
  {
   "cell_type": "code",
   "execution_count": 37,
   "id": "cccef4c2",
   "metadata": {},
   "outputs": [],
   "source": [
    "# Reading Multiple CSV Files from Folder Using for-Loop"
   ]
  },
  {
   "cell_type": "code",
   "execution_count": 41,
   "id": "e56aada6",
   "metadata": {},
   "outputs": [
    {
     "data": {
      "text/html": [],
      "text/latex": [],
      "text/markdown": [],
      "text/plain": [
       "character(0)"
      ]
     },
     "metadata": {},
     "output_type": "display_data"
    }
   ],
   "source": [
    "data_files <- list.files(\"D:/henna/jamal\")  # Identify file names\n",
    "data_files                                                    # Print file names\n",
    "# \"data1.csv\" \"data2.csv\" \"data3.csv\""
   ]
  },
  {
   "cell_type": "code",
   "execution_count": 45,
   "id": "0510b7b5",
   "metadata": {},
   "outputs": [
    {
     "data": {
      "text/html": [
       "<table>\n",
       "<thead><tr><th scope=col>x1</th><th scope=col>x2</th></tr></thead>\n",
       "<tbody>\n",
       "\t<tr><td>1</td><td>a</td></tr>\n",
       "\t<tr><td>2</td><td>b</td></tr>\n",
       "\t<tr><td>3</td><td>c</td></tr>\n",
       "\t<tr><td>4</td><td>d</td></tr>\n",
       "\t<tr><td>5</td><td>e</td></tr>\n",
       "</tbody>\n",
       "</table>\n"
      ],
      "text/latex": [
       "\\begin{tabular}{r|ll}\n",
       " x1 & x2\\\\\n",
       "\\hline\n",
       "\t 1 & a\\\\\n",
       "\t 2 & b\\\\\n",
       "\t 3 & c\\\\\n",
       "\t 4 & d\\\\\n",
       "\t 5 & e\\\\\n",
       "\\end{tabular}\n"
      ],
      "text/markdown": [
       "\n",
       "| x1 | x2 |\n",
       "|---|---|\n",
       "| 1 | a |\n",
       "| 2 | b |\n",
       "| 3 | c |\n",
       "| 4 | d |\n",
       "| 5 | e |\n",
       "\n"
      ],
      "text/plain": [
       "  x1 x2\n",
       "1 1  a \n",
       "2 2  b \n",
       "3 3  c \n",
       "4 4  d \n",
       "5 5  e "
      ]
     },
     "metadata": {},
     "output_type": "display_data"
    }
   ],
   "source": [
    "data1"
   ]
  },
  {
   "cell_type": "code",
   "execution_count": 46,
   "id": "b5a536d2",
   "metadata": {},
   "outputs": [
    {
     "data": {
      "text/html": [
       "<table>\n",
       "<thead><tr><th scope=col>y1</th><th scope=col>y2</th></tr></thead>\n",
       "<tbody>\n",
       "\t<tr><td>1</td><td>a</td></tr>\n",
       "\t<tr><td>2</td><td>b</td></tr>\n",
       "\t<tr><td>3</td><td>c</td></tr>\n",
       "\t<tr><td>4</td><td>d</td></tr>\n",
       "\t<tr><td>5</td><td>e</td></tr>\n",
       "</tbody>\n",
       "</table>\n"
      ],
      "text/latex": [
       "\\begin{tabular}{r|ll}\n",
       " y1 & y2\\\\\n",
       "\\hline\n",
       "\t 1 & a\\\\\n",
       "\t 2 & b\\\\\n",
       "\t 3 & c\\\\\n",
       "\t 4 & d\\\\\n",
       "\t 5 & e\\\\\n",
       "\\end{tabular}\n"
      ],
      "text/markdown": [
       "\n",
       "| y1 | y2 |\n",
       "|---|---|\n",
       "| 1 | a |\n",
       "| 2 | b |\n",
       "| 3 | c |\n",
       "| 4 | d |\n",
       "| 5 | e |\n",
       "\n"
      ],
      "text/plain": [
       "  y1 y2\n",
       "1 1  a \n",
       "2 2  b \n",
       "3 3  c \n",
       "4 4  d \n",
       "5 5  e "
      ]
     },
     "metadata": {},
     "output_type": "display_data"
    }
   ],
   "source": [
    "data2"
   ]
  },
  {
   "cell_type": "code",
   "execution_count": 47,
   "id": "d4b1a181",
   "metadata": {},
   "outputs": [
    {
     "data": {
      "text/html": [
       "<table>\n",
       "<thead><tr><th scope=col>z1</th><th scope=col>z2</th></tr></thead>\n",
       "<tbody>\n",
       "\t<tr><td>1</td><td>a</td></tr>\n",
       "\t<tr><td>2</td><td>b</td></tr>\n",
       "\t<tr><td>3</td><td>c</td></tr>\n",
       "\t<tr><td>4</td><td>d</td></tr>\n",
       "\t<tr><td>5</td><td>e</td></tr>\n",
       "</tbody>\n",
       "</table>\n"
      ],
      "text/latex": [
       "\\begin{tabular}{r|ll}\n",
       " z1 & z2\\\\\n",
       "\\hline\n",
       "\t 1 & a\\\\\n",
       "\t 2 & b\\\\\n",
       "\t 3 & c\\\\\n",
       "\t 4 & d\\\\\n",
       "\t 5 & e\\\\\n",
       "\\end{tabular}\n"
      ],
      "text/markdown": [
       "\n",
       "| z1 | z2 |\n",
       "|---|---|\n",
       "| 1 | a |\n",
       "| 2 | b |\n",
       "| 3 | c |\n",
       "| 4 | d |\n",
       "| 5 | e |\n",
       "\n"
      ],
      "text/plain": [
       "  z1 z2\n",
       "1 1  a \n",
       "2 2  b \n",
       "3 3  c \n",
       "4 4  d \n",
       "5 5  e "
      ]
     },
     "metadata": {},
     "output_type": "display_data"
    }
   ],
   "source": [
    "data3"
   ]
  },
  {
   "cell_type": "code",
   "execution_count": null,
   "id": "7e93812e",
   "metadata": {},
   "outputs": [],
   "source": []
  }
 ],
 "metadata": {
  "kernelspec": {
   "display_name": "R",
   "language": "R",
   "name": "ir"
  },
  "language_info": {
   "codemirror_mode": "r",
   "file_extension": ".r",
   "mimetype": "text/x-r-source",
   "name": "R",
   "pygments_lexer": "r",
   "version": "3.6.1"
  }
 },
 "nbformat": 4,
 "nbformat_minor": 5
}
