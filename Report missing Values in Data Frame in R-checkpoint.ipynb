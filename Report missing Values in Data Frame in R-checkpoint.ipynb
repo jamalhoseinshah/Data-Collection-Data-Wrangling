{
 "cells": [
  {
   "cell_type": "code",
   "execution_count": null,
   "id": "e76967a5",
   "metadata": {},
   "outputs": [],
   "source": [
    "# This is created by jamal hussain shah topic Report Missing Values in Data Frame in R"
   ]
  },
  {
   "cell_type": "code",
   "execution_count": 1,
   "id": "6cffd7e8",
   "metadata": {},
   "outputs": [],
   "source": [
    "set.seed(873264)                     # Create example data\n",
    "data <- round(data.frame(x1 = rnorm(100),\n",
    "                         x2 = runif(100),\n",
    "                         x3 = rpois(100, 1)), 2)\n",
    "data$x1[rbinom(100, 1, 0.2) == 1] <- NA\n",
    "data$x2[rbinom(100, 1, 0.4) == 1] <- NA\n",
    "data$x3[rbinom(100, 1, 0.6) == 1] <- NA"
   ]
  },
  {
   "cell_type": "code",
   "execution_count": 2,
   "id": "704155ba",
   "metadata": {},
   "outputs": [
    {
     "data": {
      "text/html": [
       "<table>\n",
       "<thead><tr><th scope=col>x1</th><th scope=col>x2</th><th scope=col>x3</th></tr></thead>\n",
       "<tbody>\n",
       "\t<tr><td>-0.35</td><td>  NA </td><td>NA   </td></tr>\n",
       "\t<tr><td>   NA</td><td>0.98 </td><td>NA   </td></tr>\n",
       "\t<tr><td> 1.69</td><td>0.87 </td><td> 2   </td></tr>\n",
       "\t<tr><td>-0.99</td><td>0.00 </td><td>NA   </td></tr>\n",
       "\t<tr><td>   NA</td><td>  NA </td><td>NA   </td></tr>\n",
       "\t<tr><td>   NA</td><td>0.03 </td><td>NA   </td></tr>\n",
       "</tbody>\n",
       "</table>\n"
      ],
      "text/latex": [
       "\\begin{tabular}{r|lll}\n",
       " x1 & x2 & x3\\\\\n",
       "\\hline\n",
       "\t -0.35 &   NA  & NA   \\\\\n",
       "\t    NA & 0.98  & NA   \\\\\n",
       "\t  1.69 & 0.87  &  2   \\\\\n",
       "\t -0.99 & 0.00  & NA   \\\\\n",
       "\t    NA &   NA  & NA   \\\\\n",
       "\t    NA & 0.03  & NA   \\\\\n",
       "\\end{tabular}\n"
      ],
      "text/markdown": [
       "\n",
       "| x1 | x2 | x3 |\n",
       "|---|---|---|\n",
       "| -0.35 |   NA  | NA    |\n",
       "|    NA | 0.98  | NA    |\n",
       "|  1.69 | 0.87  |  2    |\n",
       "| -0.99 | 0.00  | NA    |\n",
       "|    NA |   NA  | NA    |\n",
       "|    NA | 0.03  | NA    |\n",
       "\n"
      ],
      "text/plain": [
       "  x1    x2   x3\n",
       "1 -0.35   NA NA\n",
       "2    NA 0.98 NA\n",
       "3  1.69 0.87  2\n",
       "4 -0.99 0.00 NA\n",
       "5    NA   NA NA\n",
       "6    NA 0.03 NA"
      ]
     },
     "metadata": {},
     "output_type": "display_data"
    }
   ],
   "source": [
    "head(data)                           # First rows of example data"
   ]
  },
  {
   "cell_type": "code",
   "execution_count": 3,
   "id": "d58e44a9",
   "metadata": {},
   "outputs": [],
   "source": [
    "# Count Missing Values in Columns"
   ]
  },
  {
   "cell_type": "code",
   "execution_count": 4,
   "id": "b9513c07",
   "metadata": {},
   "outputs": [
    {
     "data": {
      "text/html": [
       "<dl class=dl-horizontal>\n",
       "\t<dt>x1</dt>\n",
       "\t\t<dd>20</dd>\n",
       "\t<dt>x2</dt>\n",
       "\t\t<dd>44</dd>\n",
       "\t<dt>x3</dt>\n",
       "\t\t<dd>58</dd>\n",
       "</dl>\n"
      ],
      "text/latex": [
       "\\begin{description*}\n",
       "\\item[x1] 20\n",
       "\\item[x2] 44\n",
       "\\item[x3] 58\n",
       "\\end{description*}\n"
      ],
      "text/markdown": [
       "x1\n",
       ":   20x2\n",
       ":   44x3\n",
       ":   58\n",
       "\n"
      ],
      "text/plain": [
       "x1 x2 x3 \n",
       "20 44 58 "
      ]
     },
     "metadata": {},
     "output_type": "display_data"
    }
   ],
   "source": [
    "colSums(is.na(data))                 # Count missing values by column"
   ]
  },
  {
   "cell_type": "code",
   "execution_count": 5,
   "id": "c44ebb44",
   "metadata": {},
   "outputs": [
    {
     "data": {
      "text/html": [
       "<dl class=dl-horizontal>\n",
       "\t<dt>x1</dt>\n",
       "\t\t<dd>0.2</dd>\n",
       "\t<dt>x2</dt>\n",
       "\t\t<dd>0.44</dd>\n",
       "\t<dt>x3</dt>\n",
       "\t\t<dd>0.58</dd>\n",
       "</dl>\n"
      ],
      "text/latex": [
       "\\begin{description*}\n",
       "\\item[x1] 0.2\n",
       "\\item[x2] 0.44\n",
       "\\item[x3] 0.58\n",
       "\\end{description*}\n"
      ],
      "text/markdown": [
       "x1\n",
       ":   0.2x2\n",
       ":   0.44x3\n",
       ":   0.58\n",
       "\n"
      ],
      "text/plain": [
       "  x1   x2   x3 \n",
       "0.20 0.44 0.58 "
      ]
     },
     "metadata": {},
     "output_type": "display_data"
    }
   ],
   "source": [
    "colSums(is.na(data)) / nrow(data)    # Percentage of missing values by column"
   ]
  },
  {
   "cell_type": "code",
   "execution_count": null,
   "id": "9902d3cb",
   "metadata": {},
   "outputs": [],
   "source": []
  },
  {
   "cell_type": "code",
   "execution_count": null,
   "id": "ff80e5ce",
   "metadata": {},
   "outputs": [],
   "source": []
  },
  {
   "cell_type": "code",
   "execution_count": null,
   "id": "d83a8aa6",
   "metadata": {},
   "outputs": [],
   "source": []
  }
 ],
 "metadata": {
  "kernelspec": {
   "display_name": "R",
   "language": "R",
   "name": "ir"
  },
  "language_info": {
   "codemirror_mode": "r",
   "file_extension": ".r",
   "mimetype": "text/x-r-source",
   "name": "R",
   "pygments_lexer": "r",
   "version": "3.6.1"
  }
 },
 "nbformat": 4,
 "nbformat_minor": 5
}
