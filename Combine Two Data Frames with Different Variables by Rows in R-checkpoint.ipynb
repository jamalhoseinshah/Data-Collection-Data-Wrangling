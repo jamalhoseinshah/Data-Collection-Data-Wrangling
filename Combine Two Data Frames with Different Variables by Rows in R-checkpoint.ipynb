{
 "cells": [
  {
   "cell_type": "code",
   "execution_count": 1,
   "id": "675a9a57",
   "metadata": {},
   "outputs": [],
   "source": [
    "#  This is created by jamal hussain shah topic Combine Two Data Frames with Different Variables by Rows in R"
   ]
  },
  {
   "cell_type": "code",
   "execution_count": 2,
   "id": "34e2a30f",
   "metadata": {},
   "outputs": [],
   "source": [
    "data1 <- data.frame(x1 = 1:5,               # First data frame\n",
    "                    x2 = letters[1:5])"
   ]
  },
  {
   "cell_type": "code",
   "execution_count": 3,
   "id": "8147bb6f",
   "metadata": {},
   "outputs": [
    {
     "data": {
      "text/html": [
       "<table>\n",
       "<thead><tr><th scope=col>x1</th><th scope=col>x2</th></tr></thead>\n",
       "<tbody>\n",
       "\t<tr><td>1</td><td>a</td></tr>\n",
       "\t<tr><td>2</td><td>b</td></tr>\n",
       "\t<tr><td>3</td><td>c</td></tr>\n",
       "\t<tr><td>4</td><td>d</td></tr>\n",
       "\t<tr><td>5</td><td>e</td></tr>\n",
       "</tbody>\n",
       "</table>\n"
      ],
      "text/latex": [
       "\\begin{tabular}{r|ll}\n",
       " x1 & x2\\\\\n",
       "\\hline\n",
       "\t 1 & a\\\\\n",
       "\t 2 & b\\\\\n",
       "\t 3 & c\\\\\n",
       "\t 4 & d\\\\\n",
       "\t 5 & e\\\\\n",
       "\\end{tabular}\n"
      ],
      "text/markdown": [
       "\n",
       "| x1 | x2 |\n",
       "|---|---|\n",
       "| 1 | a |\n",
       "| 2 | b |\n",
       "| 3 | c |\n",
       "| 4 | d |\n",
       "| 5 | e |\n",
       "\n"
      ],
      "text/plain": [
       "  x1 x2\n",
       "1 1  a \n",
       "2 2  b \n",
       "3 3  c \n",
       "4 4  d \n",
       "5 5  e "
      ]
     },
     "metadata": {},
     "output_type": "display_data"
    }
   ],
   "source": [
    "data1"
   ]
  },
  {
   "cell_type": "code",
   "execution_count": 4,
   "id": "6958a029",
   "metadata": {},
   "outputs": [],
   "source": [
    "data2 <- data.frame(x2 = LETTERS[11:15],    # Second data frame\n",
    "                    x3 = 777)"
   ]
  },
  {
   "cell_type": "code",
   "execution_count": 5,
   "id": "e4664532",
   "metadata": {},
   "outputs": [
    {
     "data": {
      "text/html": [
       "<table>\n",
       "<thead><tr><th scope=col>x2</th><th scope=col>x3</th></tr></thead>\n",
       "<tbody>\n",
       "\t<tr><td>K  </td><td>777</td></tr>\n",
       "\t<tr><td>L  </td><td>777</td></tr>\n",
       "\t<tr><td>M  </td><td>777</td></tr>\n",
       "\t<tr><td>N  </td><td>777</td></tr>\n",
       "\t<tr><td>O  </td><td>777</td></tr>\n",
       "</tbody>\n",
       "</table>\n"
      ],
      "text/latex": [
       "\\begin{tabular}{r|ll}\n",
       " x2 & x3\\\\\n",
       "\\hline\n",
       "\t K   & 777\\\\\n",
       "\t L   & 777\\\\\n",
       "\t M   & 777\\\\\n",
       "\t N   & 777\\\\\n",
       "\t O   & 777\\\\\n",
       "\\end{tabular}\n"
      ],
      "text/markdown": [
       "\n",
       "| x2 | x3 |\n",
       "|---|---|\n",
       "| K   | 777 |\n",
       "| L   | 777 |\n",
       "| M   | 777 |\n",
       "| N   | 777 |\n",
       "| O   | 777 |\n",
       "\n"
      ],
      "text/plain": [
       "  x2 x3 \n",
       "1 K  777\n",
       "2 L  777\n",
       "3 M  777\n",
       "4 N  777\n",
       "5 O  777"
      ]
     },
     "metadata": {},
     "output_type": "display_data"
    }
   ],
   "source": [
    "data2"
   ]
  },
  {
   "cell_type": "code",
   "execution_count": 6,
   "id": "ead29c86",
   "metadata": {},
   "outputs": [],
   "source": [
    "# Merging Data Frames with Unequal Column Names Using bind_rows() of dplyr Package"
   ]
  },
  {
   "cell_type": "code",
   "execution_count": 7,
   "id": "a739cc0c",
   "metadata": {},
   "outputs": [
    {
     "name": "stderr",
     "output_type": "stream",
     "text": [
      "also installing the dependencies 'glue', 'cli', 'rlang', 'vctrs'\n",
      "\n"
     ]
    },
    {
     "name": "stdout",
     "output_type": "stream",
     "text": [
      "\n",
      "  There are binary versions available but the source versions are later:\n",
      "      binary source needs_compilation\n",
      "glue   1.4.2  1.6.2              TRUE\n",
      "cli    2.5.0  3.3.0              TRUE\n",
      "rlang 0.4.11  1.0.2              TRUE\n",
      "vctrs  0.3.8  0.4.1              TRUE\n",
      "dplyr  1.0.6  1.0.9              TRUE\n",
      "\n",
      "  Binaries will be installed\n",
      "package 'glue' successfully unpacked and MD5 sums checked\n"
     ]
    },
    {
     "name": "stderr",
     "output_type": "stream",
     "text": [
      "Warning message:\n",
      "\"cannot remove prior installation of package 'glue'\"Warning message in file.copy(savedcopy, lib, recursive = TRUE):\n",
      "\"problem copying C:\\Users\\jamal\\anaconda3\\envs\\alnafi-R\\Lib\\R\\library\\00LOCK\\glue\\libs\\x64\\glue.dll to C:\\Users\\jamal\\anaconda3\\envs\\alnafi-R\\Lib\\R\\library\\glue\\libs\\x64\\glue.dll: Permission denied\"Warning message:\n",
      "\"restored 'glue'\""
     ]
    },
    {
     "name": "stdout",
     "output_type": "stream",
     "text": [
      "package 'cli' successfully unpacked and MD5 sums checked\n",
      "package 'rlang' successfully unpacked and MD5 sums checked\n"
     ]
    },
    {
     "name": "stderr",
     "output_type": "stream",
     "text": [
      "Warning message:\n",
      "\"cannot remove prior installation of package 'rlang'\"Warning message in file.copy(savedcopy, lib, recursive = TRUE):\n",
      "\"problem copying C:\\Users\\jamal\\anaconda3\\envs\\alnafi-R\\Lib\\R\\library\\00LOCK\\rlang\\libs\\x64\\rlang.dll to C:\\Users\\jamal\\anaconda3\\envs\\alnafi-R\\Lib\\R\\library\\rlang\\libs\\x64\\rlang.dll: Permission denied\"Warning message:\n",
      "\"restored 'rlang'\""
     ]
    },
    {
     "name": "stdout",
     "output_type": "stream",
     "text": [
      "package 'vctrs' successfully unpacked and MD5 sums checked\n"
     ]
    },
    {
     "name": "stderr",
     "output_type": "stream",
     "text": [
      "Warning message:\n",
      "\"cannot remove prior installation of package 'vctrs'\"Warning message in file.copy(savedcopy, lib, recursive = TRUE):\n",
      "\"problem copying C:\\Users\\jamal\\anaconda3\\envs\\alnafi-R\\Lib\\R\\library\\00LOCK\\vctrs\\libs\\x64\\vctrs.dll to C:\\Users\\jamal\\anaconda3\\envs\\alnafi-R\\Lib\\R\\library\\vctrs\\libs\\x64\\vctrs.dll: Permission denied\"Warning message:\n",
      "\"restored 'vctrs'\""
     ]
    },
    {
     "name": "stdout",
     "output_type": "stream",
     "text": [
      "package 'dplyr' successfully unpacked and MD5 sums checked\n"
     ]
    },
    {
     "name": "stderr",
     "output_type": "stream",
     "text": [
      "Warning message:\n",
      "\"cannot remove prior installation of package 'dplyr'\"Warning message in file.copy(savedcopy, lib, recursive = TRUE):\n",
      "\"problem copying C:\\Users\\jamal\\anaconda3\\envs\\alnafi-R\\Lib\\R\\library\\00LOCK\\dplyr\\libs\\x64\\dplyr.dll to C:\\Users\\jamal\\anaconda3\\envs\\alnafi-R\\Lib\\R\\library\\dplyr\\libs\\x64\\dplyr.dll: Permission denied\"Warning message:\n",
      "\"restored 'dplyr'\""
     ]
    },
    {
     "name": "stdout",
     "output_type": "stream",
     "text": [
      "\n",
      "The downloaded binary packages are in\n",
      "\tC:\\Users\\jamal\\AppData\\Local\\Temp\\RtmpCsPd7g\\downloaded_packages\n"
     ]
    }
   ],
   "source": [
    "install.packages(\"dplyr\")                   # Install & load dplyr"
   ]
  },
  {
   "cell_type": "code",
   "execution_count": 8,
   "id": "9469a8be",
   "metadata": {},
   "outputs": [
    {
     "name": "stderr",
     "output_type": "stream",
     "text": [
      "Warning message:\n",
      "\"package 'dplyr' was built under R version 3.6.3\"\n",
      "Attaching package: 'dplyr'\n",
      "\n",
      "The following objects are masked from 'package:stats':\n",
      "\n",
      "    filter, lag\n",
      "\n",
      "The following objects are masked from 'package:base':\n",
      "\n",
      "    intersect, setdiff, setequal, union\n",
      "\n"
     ]
    }
   ],
   "source": [
    "library(\"dplyr\")"
   ]
  },
  {
   "cell_type": "code",
   "execution_count": 9,
   "id": "dbe6030c",
   "metadata": {},
   "outputs": [
    {
     "data": {
      "text/html": [
       "<table>\n",
       "<thead><tr><th scope=col>x1</th><th scope=col>x2</th><th scope=col>x3</th></tr></thead>\n",
       "<tbody>\n",
       "\t<tr><td> 1 </td><td>a  </td><td> NA</td></tr>\n",
       "\t<tr><td> 2 </td><td>b  </td><td> NA</td></tr>\n",
       "\t<tr><td> 3 </td><td>c  </td><td> NA</td></tr>\n",
       "\t<tr><td> 4 </td><td>d  </td><td> NA</td></tr>\n",
       "\t<tr><td> 5 </td><td>e  </td><td> NA</td></tr>\n",
       "\t<tr><td>NA </td><td>K  </td><td>777</td></tr>\n",
       "\t<tr><td>NA </td><td>L  </td><td>777</td></tr>\n",
       "\t<tr><td>NA </td><td>M  </td><td>777</td></tr>\n",
       "\t<tr><td>NA </td><td>N  </td><td>777</td></tr>\n",
       "\t<tr><td>NA </td><td>O  </td><td>777</td></tr>\n",
       "</tbody>\n",
       "</table>\n"
      ],
      "text/latex": [
       "\\begin{tabular}{r|lll}\n",
       " x1 & x2 & x3\\\\\n",
       "\\hline\n",
       "\t  1  & a   &  NA\\\\\n",
       "\t  2  & b   &  NA\\\\\n",
       "\t  3  & c   &  NA\\\\\n",
       "\t  4  & d   &  NA\\\\\n",
       "\t  5  & e   &  NA\\\\\n",
       "\t NA  & K   & 777\\\\\n",
       "\t NA  & L   & 777\\\\\n",
       "\t NA  & M   & 777\\\\\n",
       "\t NA  & N   & 777\\\\\n",
       "\t NA  & O   & 777\\\\\n",
       "\\end{tabular}\n"
      ],
      "text/markdown": [
       "\n",
       "| x1 | x2 | x3 |\n",
       "|---|---|---|\n",
       "|  1  | a   |  NA |\n",
       "|  2  | b   |  NA |\n",
       "|  3  | c   |  NA |\n",
       "|  4  | d   |  NA |\n",
       "|  5  | e   |  NA |\n",
       "| NA  | K   | 777 |\n",
       "| NA  | L   | 777 |\n",
       "| NA  | M   | 777 |\n",
       "| NA  | N   | 777 |\n",
       "| NA  | O   | 777 |\n",
       "\n"
      ],
      "text/plain": [
       "   x1 x2 x3 \n",
       "1   1 a   NA\n",
       "2   2 b   NA\n",
       "3   3 c   NA\n",
       "4   4 d   NA\n",
       "5   5 e   NA\n",
       "6  NA K  777\n",
       "7  NA L  777\n",
       "8  NA M  777\n",
       "9  NA N  777\n",
       "10 NA O  777"
      ]
     },
     "metadata": {},
     "output_type": "display_data"
    }
   ],
   "source": [
    "bind_rows(data1, data2)                     # Applying bind_rows function"
   ]
  },
  {
   "cell_type": "code",
   "execution_count": null,
   "id": "893060cf",
   "metadata": {},
   "outputs": [],
   "source": []
  }
 ],
 "metadata": {
  "kernelspec": {
   "display_name": "R",
   "language": "R",
   "name": "ir"
  },
  "language_info": {
   "codemirror_mode": "r",
   "file_extension": ".r",
   "mimetype": "text/x-r-source",
   "name": "R",
   "pygments_lexer": "r",
   "version": "3.6.1"
  }
 },
 "nbformat": 4,
 "nbformat_minor": 5
}
