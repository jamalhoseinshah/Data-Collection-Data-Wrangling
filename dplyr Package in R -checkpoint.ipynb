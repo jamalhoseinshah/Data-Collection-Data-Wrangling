{
 "cells": [
  {
   "cell_type": "code",
   "execution_count": null,
   "id": "fc9e5ae9",
   "metadata": {},
   "outputs": [],
   "source": []
  },
  {
   "cell_type": "code",
   "execution_count": 2,
   "id": "603237c9",
   "metadata": {},
   "outputs": [],
   "source": [
    "data <- data.frame(x1 = 1:6,                # Create example data\n",
    "                   x2 = c(1, 2, 2, 3, 1, 2),\n",
    "                   x3 = c(\"F\", \"B\", \"C\", \"E\", \"A\", \"D\"))"
   ]
  },
  {
   "cell_type": "code",
   "execution_count": 3,
   "id": "5f9a24ea",
   "metadata": {},
   "outputs": [
    {
     "data": {
      "text/html": [
       "<table>\n",
       "<thead><tr><th scope=col>x1</th><th scope=col>x2</th><th scope=col>x3</th></tr></thead>\n",
       "<tbody>\n",
       "\t<tr><td>1</td><td>1</td><td>F</td></tr>\n",
       "\t<tr><td>2</td><td>2</td><td>B</td></tr>\n",
       "\t<tr><td>3</td><td>2</td><td>C</td></tr>\n",
       "\t<tr><td>4</td><td>3</td><td>E</td></tr>\n",
       "\t<tr><td>5</td><td>1</td><td>A</td></tr>\n",
       "\t<tr><td>6</td><td>2</td><td>D</td></tr>\n",
       "</tbody>\n",
       "</table>\n"
      ],
      "text/latex": [
       "\\begin{tabular}{r|lll}\n",
       " x1 & x2 & x3\\\\\n",
       "\\hline\n",
       "\t 1 & 1 & F\\\\\n",
       "\t 2 & 2 & B\\\\\n",
       "\t 3 & 2 & C\\\\\n",
       "\t 4 & 3 & E\\\\\n",
       "\t 5 & 1 & A\\\\\n",
       "\t 6 & 2 & D\\\\\n",
       "\\end{tabular}\n"
      ],
      "text/markdown": [
       "\n",
       "| x1 | x2 | x3 |\n",
       "|---|---|---|\n",
       "| 1 | 1 | F |\n",
       "| 2 | 2 | B |\n",
       "| 3 | 2 | C |\n",
       "| 4 | 3 | E |\n",
       "| 5 | 1 | A |\n",
       "| 6 | 2 | D |\n",
       "\n"
      ],
      "text/plain": [
       "  x1 x2 x3\n",
       "1 1  1  F \n",
       "2 2  2  B \n",
       "3 3  2  C \n",
       "4 4  3  E \n",
       "5 5  1  A \n",
       "6 6  2  D "
      ]
     },
     "metadata": {},
     "output_type": "display_data"
    }
   ],
   "source": [
    "data"
   ]
  },
  {
   "cell_type": "code",
   "execution_count": 4,
   "id": "83395463",
   "metadata": {},
   "outputs": [
    {
     "name": "stderr",
     "output_type": "stream",
     "text": [
      "also installing the dependencies 'glue', 'cli', 'rlang', 'vctrs'\n",
      "\n"
     ]
    },
    {
     "name": "stdout",
     "output_type": "stream",
     "text": [
      "\n",
      "  There are binary versions available but the source versions are later:\n",
      "      binary source needs_compilation\n",
      "glue   1.4.2  1.6.2              TRUE\n",
      "cli    2.5.0  3.3.0              TRUE\n",
      "rlang 0.4.11  1.0.2              TRUE\n",
      "vctrs  0.3.8  0.4.1              TRUE\n",
      "dplyr  1.0.6  1.0.9              TRUE\n",
      "\n",
      "  Binaries will be installed\n",
      "package 'glue' successfully unpacked and MD5 sums checked\n"
     ]
    },
    {
     "name": "stderr",
     "output_type": "stream",
     "text": [
      "Warning message:\n",
      "\"cannot remove prior installation of package 'glue'\"Warning message in file.copy(savedcopy, lib, recursive = TRUE):\n",
      "\"problem copying C:\\Users\\jamal\\anaconda3\\envs\\alnafi-R\\Lib\\R\\library\\00LOCK\\glue\\libs\\x64\\glue.dll to C:\\Users\\jamal\\anaconda3\\envs\\alnafi-R\\Lib\\R\\library\\glue\\libs\\x64\\glue.dll: Permission denied\"Warning message:\n",
      "\"restored 'glue'\""
     ]
    },
    {
     "name": "stdout",
     "output_type": "stream",
     "text": [
      "package 'cli' successfully unpacked and MD5 sums checked\n",
      "package 'rlang' successfully unpacked and MD5 sums checked\n"
     ]
    },
    {
     "name": "stderr",
     "output_type": "stream",
     "text": [
      "Warning message:\n",
      "\"cannot remove prior installation of package 'rlang'\"Warning message in file.copy(savedcopy, lib, recursive = TRUE):\n",
      "\"problem copying C:\\Users\\jamal\\anaconda3\\envs\\alnafi-R\\Lib\\R\\library\\00LOCK\\rlang\\libs\\x64\\rlang.dll to C:\\Users\\jamal\\anaconda3\\envs\\alnafi-R\\Lib\\R\\library\\rlang\\libs\\x64\\rlang.dll: Permission denied\"Warning message:\n",
      "\"restored 'rlang'\""
     ]
    },
    {
     "name": "stdout",
     "output_type": "stream",
     "text": [
      "package 'vctrs' successfully unpacked and MD5 sums checked\n"
     ]
    },
    {
     "name": "stderr",
     "output_type": "stream",
     "text": [
      "Warning message:\n",
      "\"cannot remove prior installation of package 'vctrs'\"Warning message in file.copy(savedcopy, lib, recursive = TRUE):\n",
      "\"problem copying C:\\Users\\jamal\\anaconda3\\envs\\alnafi-R\\Lib\\R\\library\\00LOCK\\vctrs\\libs\\x64\\vctrs.dll to C:\\Users\\jamal\\anaconda3\\envs\\alnafi-R\\Lib\\R\\library\\vctrs\\libs\\x64\\vctrs.dll: Permission denied\"Warning message:\n",
      "\"restored 'vctrs'\""
     ]
    },
    {
     "name": "stdout",
     "output_type": "stream",
     "text": [
      "package 'dplyr' successfully unpacked and MD5 sums checked\n"
     ]
    },
    {
     "name": "stderr",
     "output_type": "stream",
     "text": [
      "Warning message:\n",
      "\"cannot remove prior installation of package 'dplyr'\"Warning message in file.copy(savedcopy, lib, recursive = TRUE):\n",
      "\"problem copying C:\\Users\\jamal\\anaconda3\\envs\\alnafi-R\\Lib\\R\\library\\00LOCK\\dplyr\\libs\\x64\\dplyr.dll to C:\\Users\\jamal\\anaconda3\\envs\\alnafi-R\\Lib\\R\\library\\dplyr\\libs\\x64\\dplyr.dll: Permission denied\"Warning message:\n",
      "\"restored 'dplyr'\""
     ]
    },
    {
     "name": "stdout",
     "output_type": "stream",
     "text": [
      "\n",
      "The downloaded binary packages are in\n",
      "\tC:\\Users\\jamal\\AppData\\Local\\Temp\\RtmpmQ4J9B\\downloaded_packages\n"
     ]
    }
   ],
   "source": [
    "install.packages(\"dplyr\")                   # Install dplyr package"
   ]
  },
  {
   "cell_type": "code",
   "execution_count": 5,
   "id": "676e848c",
   "metadata": {},
   "outputs": [
    {
     "name": "stderr",
     "output_type": "stream",
     "text": [
      "Warning message:\n",
      "\"package 'dplyr' was built under R version 3.6.3\"\n",
      "Attaching package: 'dplyr'\n",
      "\n",
      "The following objects are masked from 'package:stats':\n",
      "\n",
      "    filter, lag\n",
      "\n",
      "The following objects are masked from 'package:base':\n",
      "\n",
      "    intersect, setdiff, setequal, union\n",
      "\n"
     ]
    }
   ],
   "source": [
    "library(\"dplyr\")                            # Load dplyr package"
   ]
  },
  {
   "cell_type": "code",
   "execution_count": 6,
   "id": "73cce8eb",
   "metadata": {},
   "outputs": [
    {
     "data": {
      "text/html": [
       "<table>\n",
       "<thead><tr><th scope=col>x1</th><th scope=col>x2</th><th scope=col>x3</th></tr></thead>\n",
       "<tbody>\n",
       "\t<tr><td>5</td><td>1</td><td>A</td></tr>\n",
       "\t<tr><td>2</td><td>2</td><td>B</td></tr>\n",
       "\t<tr><td>3</td><td>2</td><td>C</td></tr>\n",
       "\t<tr><td>6</td><td>2</td><td>D</td></tr>\n",
       "\t<tr><td>4</td><td>3</td><td>E</td></tr>\n",
       "\t<tr><td>1</td><td>1</td><td>F</td></tr>\n",
       "</tbody>\n",
       "</table>\n"
      ],
      "text/latex": [
       "\\begin{tabular}{r|lll}\n",
       " x1 & x2 & x3\\\\\n",
       "\\hline\n",
       "\t 5 & 1 & A\\\\\n",
       "\t 2 & 2 & B\\\\\n",
       "\t 3 & 2 & C\\\\\n",
       "\t 6 & 2 & D\\\\\n",
       "\t 4 & 3 & E\\\\\n",
       "\t 1 & 1 & F\\\\\n",
       "\\end{tabular}\n"
      ],
      "text/markdown": [
       "\n",
       "| x1 | x2 | x3 |\n",
       "|---|---|---|\n",
       "| 5 | 1 | A |\n",
       "| 2 | 2 | B |\n",
       "| 3 | 2 | C |\n",
       "| 6 | 2 | D |\n",
       "| 4 | 3 | E |\n",
       "| 1 | 1 | F |\n",
       "\n"
      ],
      "text/plain": [
       "  x1 x2 x3\n",
       "1 5  1  A \n",
       "2 2  2  B \n",
       "3 3  2  C \n",
       "4 6  2  D \n",
       "5 4  3  E \n",
       "6 1  1  F "
      ]
     },
     "metadata": {},
     "output_type": "display_data"
    }
   ],
   "source": [
    "arrange(data, x3)                           # Apply arrange function"
   ]
  },
  {
   "cell_type": "code",
   "execution_count": 7,
   "id": "d8b8a1af",
   "metadata": {},
   "outputs": [
    {
     "data": {
      "text/html": [
       "<table>\n",
       "<thead><tr><th scope=col>x1</th><th scope=col>x2</th><th scope=col>x3</th></tr></thead>\n",
       "<tbody>\n",
       "\t<tr><td>2</td><td>2</td><td>B</td></tr>\n",
       "\t<tr><td>3</td><td>2</td><td>C</td></tr>\n",
       "\t<tr><td>6</td><td>2</td><td>D</td></tr>\n",
       "</tbody>\n",
       "</table>\n"
      ],
      "text/latex": [
       "\\begin{tabular}{r|lll}\n",
       " x1 & x2 & x3\\\\\n",
       "\\hline\n",
       "\t 2 & 2 & B\\\\\n",
       "\t 3 & 2 & C\\\\\n",
       "\t 6 & 2 & D\\\\\n",
       "\\end{tabular}\n"
      ],
      "text/markdown": [
       "\n",
       "| x1 | x2 | x3 |\n",
       "|---|---|---|\n",
       "| 2 | 2 | B |\n",
       "| 3 | 2 | C |\n",
       "| 6 | 2 | D |\n",
       "\n"
      ],
      "text/plain": [
       "  x1 x2 x3\n",
       "1 2  2  B \n",
       "2 3  2  C \n",
       "3 6  2  D "
      ]
     },
     "metadata": {},
     "output_type": "display_data"
    }
   ],
   "source": [
    "filter(data, x2 == 2)                       # Apply filter function"
   ]
  },
  {
   "cell_type": "code",
   "execution_count": 8,
   "id": "09b4db56",
   "metadata": {},
   "outputs": [
    {
     "data": {
      "text/html": [
       "<table>\n",
       "<thead><tr><th scope=col>x1</th><th scope=col>x2</th><th scope=col>x3</th><th scope=col>x4</th></tr></thead>\n",
       "<tbody>\n",
       "\t<tr><td>1</td><td>1</td><td>F</td><td>2</td></tr>\n",
       "\t<tr><td>2</td><td>2</td><td>B</td><td>4</td></tr>\n",
       "\t<tr><td>3</td><td>2</td><td>C</td><td>5</td></tr>\n",
       "\t<tr><td>4</td><td>3</td><td>E</td><td>7</td></tr>\n",
       "\t<tr><td>5</td><td>1</td><td>A</td><td>6</td></tr>\n",
       "\t<tr><td>6</td><td>2</td><td>D</td><td>8</td></tr>\n",
       "</tbody>\n",
       "</table>\n"
      ],
      "text/latex": [
       "\\begin{tabular}{r|llll}\n",
       " x1 & x2 & x3 & x4\\\\\n",
       "\\hline\n",
       "\t 1 & 1 & F & 2\\\\\n",
       "\t 2 & 2 & B & 4\\\\\n",
       "\t 3 & 2 & C & 5\\\\\n",
       "\t 4 & 3 & E & 7\\\\\n",
       "\t 5 & 1 & A & 6\\\\\n",
       "\t 6 & 2 & D & 8\\\\\n",
       "\\end{tabular}\n"
      ],
      "text/markdown": [
       "\n",
       "| x1 | x2 | x3 | x4 |\n",
       "|---|---|---|---|\n",
       "| 1 | 1 | F | 2 |\n",
       "| 2 | 2 | B | 4 |\n",
       "| 3 | 2 | C | 5 |\n",
       "| 4 | 3 | E | 7 |\n",
       "| 5 | 1 | A | 6 |\n",
       "| 6 | 2 | D | 8 |\n",
       "\n"
      ],
      "text/plain": [
       "  x1 x2 x3 x4\n",
       "1 1  1  F  2 \n",
       "2 2  2  B  4 \n",
       "3 3  2  C  5 \n",
       "4 4  3  E  7 \n",
       "5 5  1  A  6 \n",
       "6 6  2  D  8 "
      ]
     },
     "metadata": {},
     "output_type": "display_data"
    }
   ],
   "source": [
    "mutate(data, x4 = x1 + x2)                  # Apply mutate function"
   ]
  },
  {
   "cell_type": "code",
   "execution_count": 9,
   "id": "ef19b9a8",
   "metadata": {},
   "outputs": [
    {
     "data": {
      "text/html": [
       "<ol class=list-inline>\n",
       "\t<li>1</li>\n",
       "\t<li>2</li>\n",
       "\t<li>2</li>\n",
       "\t<li>3</li>\n",
       "\t<li>1</li>\n",
       "\t<li>2</li>\n",
       "</ol>\n"
      ],
      "text/latex": [
       "\\begin{enumerate*}\n",
       "\\item 1\n",
       "\\item 2\n",
       "\\item 2\n",
       "\\item 3\n",
       "\\item 1\n",
       "\\item 2\n",
       "\\end{enumerate*}\n"
      ],
      "text/markdown": [
       "1. 1\n",
       "2. 2\n",
       "3. 2\n",
       "4. 3\n",
       "5. 1\n",
       "6. 2\n",
       "\n",
       "\n"
      ],
      "text/plain": [
       "[1] 1 2 2 3 1 2"
      ]
     },
     "metadata": {},
     "output_type": "display_data"
    }
   ],
   "source": [
    "pull(data, x2)                              # Apply pull function"
   ]
  },
  {
   "cell_type": "code",
   "execution_count": 10,
   "id": "ee43af91",
   "metadata": {},
   "outputs": [
    {
     "data": {
      "text/html": [
       "<table>\n",
       "<thead><tr><th scope=col>x1</th><th scope=col>x2</th><th scope=col>new_name</th></tr></thead>\n",
       "<tbody>\n",
       "\t<tr><td>1</td><td>1</td><td>F</td></tr>\n",
       "\t<tr><td>2</td><td>2</td><td>B</td></tr>\n",
       "\t<tr><td>3</td><td>2</td><td>C</td></tr>\n",
       "\t<tr><td>4</td><td>3</td><td>E</td></tr>\n",
       "\t<tr><td>5</td><td>1</td><td>A</td></tr>\n",
       "\t<tr><td>6</td><td>2</td><td>D</td></tr>\n",
       "</tbody>\n",
       "</table>\n"
      ],
      "text/latex": [
       "\\begin{tabular}{r|lll}\n",
       " x1 & x2 & new\\_name\\\\\n",
       "\\hline\n",
       "\t 1 & 1 & F\\\\\n",
       "\t 2 & 2 & B\\\\\n",
       "\t 3 & 2 & C\\\\\n",
       "\t 4 & 3 & E\\\\\n",
       "\t 5 & 1 & A\\\\\n",
       "\t 6 & 2 & D\\\\\n",
       "\\end{tabular}\n"
      ],
      "text/markdown": [
       "\n",
       "| x1 | x2 | new_name |\n",
       "|---|---|---|\n",
       "| 1 | 1 | F |\n",
       "| 2 | 2 | B |\n",
       "| 3 | 2 | C |\n",
       "| 4 | 3 | E |\n",
       "| 5 | 1 | A |\n",
       "| 6 | 2 | D |\n",
       "\n"
      ],
      "text/plain": [
       "  x1 x2 new_name\n",
       "1 1  1  F       \n",
       "2 2  2  B       \n",
       "3 3  2  C       \n",
       "4 4  3  E       \n",
       "5 5  1  A       \n",
       "6 6  2  D       "
      ]
     },
     "metadata": {},
     "output_type": "display_data"
    }
   ],
   "source": [
    "rename(data, new_name = x3)                 # Apply rename function"
   ]
  },
  {
   "cell_type": "code",
   "execution_count": 11,
   "id": "23448c38",
   "metadata": {},
   "outputs": [],
   "source": [
    "set.seed(765)                               # Set seed for reproducibility"
   ]
  },
  {
   "cell_type": "code",
   "execution_count": 12,
   "id": "e22724cc",
   "metadata": {},
   "outputs": [
    {
     "data": {
      "text/html": [
       "<table>\n",
       "<thead><tr><th scope=col>x1</th><th scope=col>x2</th><th scope=col>x3</th></tr></thead>\n",
       "<tbody>\n",
       "\t<tr><td>4</td><td>3</td><td>E</td></tr>\n",
       "\t<tr><td>6</td><td>2</td><td>D</td></tr>\n",
       "\t<tr><td>3</td><td>2</td><td>C</td></tr>\n",
       "</tbody>\n",
       "</table>\n"
      ],
      "text/latex": [
       "\\begin{tabular}{r|lll}\n",
       " x1 & x2 & x3\\\\\n",
       "\\hline\n",
       "\t 4 & 3 & E\\\\\n",
       "\t 6 & 2 & D\\\\\n",
       "\t 3 & 2 & C\\\\\n",
       "\\end{tabular}\n"
      ],
      "text/markdown": [
       "\n",
       "| x1 | x2 | x3 |\n",
       "|---|---|---|\n",
       "| 4 | 3 | E |\n",
       "| 6 | 2 | D |\n",
       "| 3 | 2 | C |\n",
       "\n"
      ],
      "text/plain": [
       "  x1 x2 x3\n",
       "1 4  3  E \n",
       "2 6  2  D \n",
       "3 3  2  C "
      ]
     },
     "metadata": {},
     "output_type": "display_data"
    }
   ],
   "source": [
    "sample_n(data, 3)                           # Apply sample_n function"
   ]
  },
  {
   "cell_type": "code",
   "execution_count": 13,
   "id": "2d1ea276",
   "metadata": {},
   "outputs": [
    {
     "data": {
      "text/html": [
       "<table>\n",
       "<thead><tr><th scope=col>x2</th><th scope=col>x3</th></tr></thead>\n",
       "<tbody>\n",
       "\t<tr><td>1</td><td>F</td></tr>\n",
       "\t<tr><td>2</td><td>B</td></tr>\n",
       "\t<tr><td>2</td><td>C</td></tr>\n",
       "\t<tr><td>3</td><td>E</td></tr>\n",
       "\t<tr><td>1</td><td>A</td></tr>\n",
       "\t<tr><td>2</td><td>D</td></tr>\n",
       "</tbody>\n",
       "</table>\n"
      ],
      "text/latex": [
       "\\begin{tabular}{r|ll}\n",
       " x2 & x3\\\\\n",
       "\\hline\n",
       "\t 1 & F\\\\\n",
       "\t 2 & B\\\\\n",
       "\t 2 & C\\\\\n",
       "\t 3 & E\\\\\n",
       "\t 1 & A\\\\\n",
       "\t 2 & D\\\\\n",
       "\\end{tabular}\n"
      ],
      "text/markdown": [
       "\n",
       "| x2 | x3 |\n",
       "|---|---|\n",
       "| 1 | F |\n",
       "| 2 | B |\n",
       "| 2 | C |\n",
       "| 3 | E |\n",
       "| 1 | A |\n",
       "| 2 | D |\n",
       "\n"
      ],
      "text/plain": [
       "  x2 x3\n",
       "1 1  F \n",
       "2 2  B \n",
       "3 2  C \n",
       "4 3  E \n",
       "5 1  A \n",
       "6 2  D "
      ]
     },
     "metadata": {},
     "output_type": "display_data"
    }
   ],
   "source": [
    "select(data, c(x2, x3))                     # Apply select function"
   ]
  },
  {
   "cell_type": "code",
   "execution_count": null,
   "id": "74207cc3",
   "metadata": {},
   "outputs": [],
   "source": []
  }
 ],
 "metadata": {
  "kernelspec": {
   "display_name": "R",
   "language": "R",
   "name": "ir"
  },
  "language_info": {
   "codemirror_mode": "r",
   "file_extension": ".r",
   "mimetype": "text/x-r-source",
   "name": "R",
   "pygments_lexer": "r",
   "version": "3.6.1"
  }
 },
 "nbformat": 4,
 "nbformat_minor": 5
}
