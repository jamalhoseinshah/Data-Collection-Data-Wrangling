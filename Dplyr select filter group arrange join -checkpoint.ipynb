{
 "cells": [
  {
   "cell_type": "code",
   "execution_count": 1,
   "id": "cc6f2bca",
   "metadata": {},
   "outputs": [],
   "source": [
    "# This is created by jamal hussain shah topic select & rename R Functions of dplyr Package"
   ]
  },
  {
   "cell_type": "code",
   "execution_count": 2,
   "id": "d7c8f43f",
   "metadata": {},
   "outputs": [],
   "source": [
    "data <- data.frame(x1 = 1:3,                    # Create example data\n",
    "                   x2 = LETTERS[1:3],\n",
    "                   x3 = 5)"
   ]
  },
  {
   "cell_type": "code",
   "execution_count": 3,
   "id": "6d7de7f0",
   "metadata": {},
   "outputs": [
    {
     "data": {
      "text/html": [
       "<table>\n",
       "<thead><tr><th scope=col>x1</th><th scope=col>x2</th><th scope=col>x3</th></tr></thead>\n",
       "<tbody>\n",
       "\t<tr><td>1</td><td>A</td><td>5</td></tr>\n",
       "\t<tr><td>2</td><td>B</td><td>5</td></tr>\n",
       "\t<tr><td>3</td><td>C</td><td>5</td></tr>\n",
       "</tbody>\n",
       "</table>\n"
      ],
      "text/latex": [
       "\\begin{tabular}{r|lll}\n",
       " x1 & x2 & x3\\\\\n",
       "\\hline\n",
       "\t 1 & A & 5\\\\\n",
       "\t 2 & B & 5\\\\\n",
       "\t 3 & C & 5\\\\\n",
       "\\end{tabular}\n"
      ],
      "text/markdown": [
       "\n",
       "| x1 | x2 | x3 |\n",
       "|---|---|---|\n",
       "| 1 | A | 5 |\n",
       "| 2 | B | 5 |\n",
       "| 3 | C | 5 |\n",
       "\n"
      ],
      "text/plain": [
       "  x1 x2 x3\n",
       "1 1  A  5 \n",
       "2 2  B  5 \n",
       "3 3  C  5 "
      ]
     },
     "metadata": {},
     "output_type": "display_data"
    }
   ],
   "source": [
    "data                                            # Print example data"
   ]
  },
  {
   "cell_type": "code",
   "execution_count": 4,
   "id": "01c5298c",
   "metadata": {},
   "outputs": [
    {
     "name": "stderr",
     "output_type": "stream",
     "text": [
      "also installing the dependencies 'glue', 'cli', 'rlang', 'vctrs'\n",
      "\n"
     ]
    },
    {
     "name": "stdout",
     "output_type": "stream",
     "text": [
      "\n",
      "  There are binary versions available but the source versions are later:\n",
      "      binary source needs_compilation\n",
      "glue   1.4.2  1.6.2              TRUE\n",
      "cli    2.5.0  3.3.0              TRUE\n",
      "rlang 0.4.11  1.0.2              TRUE\n",
      "vctrs  0.3.8  0.4.1              TRUE\n",
      "dplyr  1.0.6  1.0.9              TRUE\n",
      "\n",
      "  Binaries will be installed\n",
      "package 'glue' successfully unpacked and MD5 sums checked\n"
     ]
    },
    {
     "name": "stderr",
     "output_type": "stream",
     "text": [
      "Warning message:\n",
      "\"cannot remove prior installation of package 'glue'\"Warning message in file.copy(savedcopy, lib, recursive = TRUE):\n",
      "\"problem copying C:\\Users\\jamal\\anaconda3\\envs\\alnafi-R\\Lib\\R\\library\\00LOCK\\glue\\libs\\x64\\glue.dll to C:\\Users\\jamal\\anaconda3\\envs\\alnafi-R\\Lib\\R\\library\\glue\\libs\\x64\\glue.dll: Permission denied\"Warning message:\n",
      "\"restored 'glue'\""
     ]
    },
    {
     "name": "stdout",
     "output_type": "stream",
     "text": [
      "package 'cli' successfully unpacked and MD5 sums checked\n",
      "package 'rlang' successfully unpacked and MD5 sums checked\n"
     ]
    },
    {
     "name": "stderr",
     "output_type": "stream",
     "text": [
      "Warning message:\n",
      "\"cannot remove prior installation of package 'rlang'\"Warning message in file.copy(savedcopy, lib, recursive = TRUE):\n",
      "\"problem copying C:\\Users\\jamal\\anaconda3\\envs\\alnafi-R\\Lib\\R\\library\\00LOCK\\rlang\\libs\\x64\\rlang.dll to C:\\Users\\jamal\\anaconda3\\envs\\alnafi-R\\Lib\\R\\library\\rlang\\libs\\x64\\rlang.dll: Permission denied\"Warning message:\n",
      "\"restored 'rlang'\""
     ]
    },
    {
     "name": "stdout",
     "output_type": "stream",
     "text": [
      "package 'vctrs' successfully unpacked and MD5 sums checked\n"
     ]
    },
    {
     "name": "stderr",
     "output_type": "stream",
     "text": [
      "Warning message:\n",
      "\"cannot remove prior installation of package 'vctrs'\"Warning message in file.copy(savedcopy, lib, recursive = TRUE):\n",
      "\"problem copying C:\\Users\\jamal\\anaconda3\\envs\\alnafi-R\\Lib\\R\\library\\00LOCK\\vctrs\\libs\\x64\\vctrs.dll to C:\\Users\\jamal\\anaconda3\\envs\\alnafi-R\\Lib\\R\\library\\vctrs\\libs\\x64\\vctrs.dll: Permission denied\"Warning message:\n",
      "\"restored 'vctrs'\""
     ]
    },
    {
     "name": "stdout",
     "output_type": "stream",
     "text": [
      "package 'dplyr' successfully unpacked and MD5 sums checked\n"
     ]
    },
    {
     "name": "stderr",
     "output_type": "stream",
     "text": [
      "Warning message:\n",
      "\"cannot remove prior installation of package 'dplyr'\"Warning message in file.copy(savedcopy, lib, recursive = TRUE):\n",
      "\"problem copying C:\\Users\\jamal\\anaconda3\\envs\\alnafi-R\\Lib\\R\\library\\00LOCK\\dplyr\\libs\\x64\\dplyr.dll to C:\\Users\\jamal\\anaconda3\\envs\\alnafi-R\\Lib\\R\\library\\dplyr\\libs\\x64\\dplyr.dll: Permission denied\"Warning message:\n",
      "\"restored 'dplyr'\""
     ]
    },
    {
     "name": "stdout",
     "output_type": "stream",
     "text": [
      "\n",
      "The downloaded binary packages are in\n",
      "\tC:\\Users\\jamal\\AppData\\Local\\Temp\\Rtmp2hRRr6\\downloaded_packages\n"
     ]
    }
   ],
   "source": [
    "install.packages(\"dplyr\")                       # Install dplyr"
   ]
  },
  {
   "cell_type": "code",
   "execution_count": 5,
   "id": "323e1fdc",
   "metadata": {},
   "outputs": [
    {
     "name": "stderr",
     "output_type": "stream",
     "text": [
      "Warning message:\n",
      "\"package 'dplyr' was built under R version 3.6.3\"\n",
      "Attaching package: 'dplyr'\n",
      "\n",
      "The following objects are masked from 'package:stats':\n",
      "\n",
      "    filter, lag\n",
      "\n",
      "The following objects are masked from 'package:base':\n",
      "\n",
      "    intersect, setdiff, setequal, union\n",
      "\n"
     ]
    }
   ],
   "source": [
    "library(\"dplyr\")                                # Load dplyr"
   ]
  },
  {
   "cell_type": "code",
   "execution_count": 6,
   "id": "f71983bb",
   "metadata": {},
   "outputs": [
    {
     "data": {
      "text/html": [
       "<table>\n",
       "<thead><tr><th scope=col>x1</th><th scope=col>x3</th></tr></thead>\n",
       "<tbody>\n",
       "\t<tr><td>1</td><td>5</td></tr>\n",
       "\t<tr><td>2</td><td>5</td></tr>\n",
       "\t<tr><td>3</td><td>5</td></tr>\n",
       "</tbody>\n",
       "</table>\n"
      ],
      "text/latex": [
       "\\begin{tabular}{r|ll}\n",
       " x1 & x3\\\\\n",
       "\\hline\n",
       "\t 1 & 5\\\\\n",
       "\t 2 & 5\\\\\n",
       "\t 3 & 5\\\\\n",
       "\\end{tabular}\n"
      ],
      "text/markdown": [
       "\n",
       "| x1 | x3 |\n",
       "|---|---|\n",
       "| 1 | 5 |\n",
       "| 2 | 5 |\n",
       "| 3 | 5 |\n",
       "\n"
      ],
      "text/plain": [
       "  x1 x3\n",
       "1 1  5 \n",
       "2 2  5 \n",
       "3 3  5 "
      ]
     },
     "metadata": {},
     "output_type": "display_data"
    }
   ],
   "source": [
    "select(data, c(x1, x3))                         # Apply select function"
   ]
  },
  {
   "cell_type": "code",
   "execution_count": 7,
   "id": "34c5ed12",
   "metadata": {},
   "outputs": [],
   "source": [
    "#Change Variable Name with rename Function"
   ]
  },
  {
   "cell_type": "code",
   "execution_count": 8,
   "id": "af06a8d3",
   "metadata": {},
   "outputs": [
    {
     "data": {
      "text/html": [
       "<table>\n",
       "<thead><tr><th scope=col>x1_new</th><th scope=col>x2</th><th scope=col>x3</th></tr></thead>\n",
       "<tbody>\n",
       "\t<tr><td>1</td><td>A</td><td>5</td></tr>\n",
       "\t<tr><td>2</td><td>B</td><td>5</td></tr>\n",
       "\t<tr><td>3</td><td>C</td><td>5</td></tr>\n",
       "</tbody>\n",
       "</table>\n"
      ],
      "text/latex": [
       "\\begin{tabular}{r|lll}\n",
       " x1\\_new & x2 & x3\\\\\n",
       "\\hline\n",
       "\t 1 & A & 5\\\\\n",
       "\t 2 & B & 5\\\\\n",
       "\t 3 & C & 5\\\\\n",
       "\\end{tabular}\n"
      ],
      "text/markdown": [
       "\n",
       "| x1_new | x2 | x3 |\n",
       "|---|---|---|\n",
       "| 1 | A | 5 |\n",
       "| 2 | B | 5 |\n",
       "| 3 | C | 5 |\n",
       "\n"
      ],
      "text/plain": [
       "  x1_new x2 x3\n",
       "1 1      A  5 \n",
       "2 2      B  5 \n",
       "3 3      C  5 "
      ]
     },
     "metadata": {},
     "output_type": "display_data"
    }
   ],
   "source": [
    "dplyr::rename(data, x1_new = x1)                # Apply rename function"
   ]
  },
  {
   "cell_type": "code",
   "execution_count": 9,
   "id": "6f6e2a04",
   "metadata": {},
   "outputs": [],
   "source": [
    "#  filter R Function of dplyr Package "
   ]
  },
  {
   "cell_type": "code",
   "execution_count": 10,
   "id": "cb26341f",
   "metadata": {},
   "outputs": [],
   "source": [
    "data <- data.frame(x1 = 1:5,                     # Create example data\n",
    "                   x2 = letters[1:5],\n",
    "                   group = c(\"gr1\", \"gr2\", \"gr1\", \"gr3\", \"gr2\"))"
   ]
  },
  {
   "cell_type": "code",
   "execution_count": 11,
   "id": "c74e1951",
   "metadata": {},
   "outputs": [
    {
     "data": {
      "text/html": [
       "<table>\n",
       "<thead><tr><th scope=col>x1</th><th scope=col>x2</th><th scope=col>group</th></tr></thead>\n",
       "<tbody>\n",
       "\t<tr><td>1  </td><td>a  </td><td>gr1</td></tr>\n",
       "\t<tr><td>2  </td><td>b  </td><td>gr2</td></tr>\n",
       "\t<tr><td>3  </td><td>c  </td><td>gr1</td></tr>\n",
       "\t<tr><td>4  </td><td>d  </td><td>gr3</td></tr>\n",
       "\t<tr><td>5  </td><td>e  </td><td>gr2</td></tr>\n",
       "</tbody>\n",
       "</table>\n"
      ],
      "text/latex": [
       "\\begin{tabular}{r|lll}\n",
       " x1 & x2 & group\\\\\n",
       "\\hline\n",
       "\t 1   & a   & gr1\\\\\n",
       "\t 2   & b   & gr2\\\\\n",
       "\t 3   & c   & gr1\\\\\n",
       "\t 4   & d   & gr3\\\\\n",
       "\t 5   & e   & gr2\\\\\n",
       "\\end{tabular}\n"
      ],
      "text/markdown": [
       "\n",
       "| x1 | x2 | group |\n",
       "|---|---|---|\n",
       "| 1   | a   | gr1 |\n",
       "| 2   | b   | gr2 |\n",
       "| 3   | c   | gr1 |\n",
       "| 4   | d   | gr3 |\n",
       "| 5   | e   | gr2 |\n",
       "\n"
      ],
      "text/plain": [
       "  x1 x2 group\n",
       "1 1  a  gr1  \n",
       "2 2  b  gr2  \n",
       "3 3  c  gr1  \n",
       "4 4  d  gr3  \n",
       "5 5  e  gr2  "
      ]
     },
     "metadata": {},
     "output_type": "display_data"
    }
   ],
   "source": [
    "data                                             # Print data to RStudio console"
   ]
  },
  {
   "cell_type": "code",
   "execution_count": 12,
   "id": "a8dd711f",
   "metadata": {},
   "outputs": [],
   "source": [
    "# Extract Rows by Logical Condition with filter Function"
   ]
  },
  {
   "cell_type": "code",
   "execution_count": 13,
   "id": "5b4baecd",
   "metadata": {},
   "outputs": [
    {
     "data": {
      "text/html": [
       "<table>\n",
       "<thead><tr><th scope=col>x1</th><th scope=col>x2</th><th scope=col>group</th></tr></thead>\n",
       "<tbody>\n",
       "\t<tr><td>2  </td><td>b  </td><td>gr2</td></tr>\n",
       "\t<tr><td>5  </td><td>e  </td><td>gr2</td></tr>\n",
       "</tbody>\n",
       "</table>\n"
      ],
      "text/latex": [
       "\\begin{tabular}{r|lll}\n",
       " x1 & x2 & group\\\\\n",
       "\\hline\n",
       "\t 2   & b   & gr2\\\\\n",
       "\t 5   & e   & gr2\\\\\n",
       "\\end{tabular}\n"
      ],
      "text/markdown": [
       "\n",
       "| x1 | x2 | group |\n",
       "|---|---|---|\n",
       "| 2   | b   | gr2 |\n",
       "| 5   | e   | gr2 |\n",
       "\n"
      ],
      "text/plain": [
       "  x1 x2 group\n",
       "1 2  b  gr2  \n",
       "2 5  e  gr2  "
      ]
     },
     "metadata": {},
     "output_type": "display_data"
    }
   ],
   "source": [
    "filter(data, group == \"gr2\")                     # Subset data with filter function"
   ]
  },
  {
   "cell_type": "code",
   "execution_count": 14,
   "id": "17cbeddd",
   "metadata": {},
   "outputs": [],
   "source": [
    "# R dplyr group_by & summarize Functions don’t Work Properly"
   ]
  },
  {
   "cell_type": "code",
   "execution_count": 15,
   "id": "0567c915",
   "metadata": {},
   "outputs": [],
   "source": [
    "data <- data.frame(value = 1:12,    # Create example data\n",
    "                   group = factor(rep(letters[1:3], each = 4)))"
   ]
  },
  {
   "cell_type": "code",
   "execution_count": 16,
   "id": "2dc7854b",
   "metadata": {},
   "outputs": [
    {
     "data": {
      "text/html": [
       "<table>\n",
       "<thead><tr><th scope=col>value</th><th scope=col>group</th></tr></thead>\n",
       "<tbody>\n",
       "\t<tr><td> 1</td><td>a </td></tr>\n",
       "\t<tr><td> 2</td><td>a </td></tr>\n",
       "\t<tr><td> 3</td><td>a </td></tr>\n",
       "\t<tr><td> 4</td><td>a </td></tr>\n",
       "\t<tr><td> 5</td><td>b </td></tr>\n",
       "\t<tr><td> 6</td><td>b </td></tr>\n",
       "\t<tr><td> 7</td><td>b </td></tr>\n",
       "\t<tr><td> 8</td><td>b </td></tr>\n",
       "\t<tr><td> 9</td><td>c </td></tr>\n",
       "\t<tr><td>10</td><td>c </td></tr>\n",
       "\t<tr><td>11</td><td>c </td></tr>\n",
       "\t<tr><td>12</td><td>c </td></tr>\n",
       "</tbody>\n",
       "</table>\n"
      ],
      "text/latex": [
       "\\begin{tabular}{r|ll}\n",
       " value & group\\\\\n",
       "\\hline\n",
       "\t  1 & a \\\\\n",
       "\t  2 & a \\\\\n",
       "\t  3 & a \\\\\n",
       "\t  4 & a \\\\\n",
       "\t  5 & b \\\\\n",
       "\t  6 & b \\\\\n",
       "\t  7 & b \\\\\n",
       "\t  8 & b \\\\\n",
       "\t  9 & c \\\\\n",
       "\t 10 & c \\\\\n",
       "\t 11 & c \\\\\n",
       "\t 12 & c \\\\\n",
       "\\end{tabular}\n"
      ],
      "text/markdown": [
       "\n",
       "| value | group |\n",
       "|---|---|\n",
       "|  1 | a  |\n",
       "|  2 | a  |\n",
       "|  3 | a  |\n",
       "|  4 | a  |\n",
       "|  5 | b  |\n",
       "|  6 | b  |\n",
       "|  7 | b  |\n",
       "|  8 | b  |\n",
       "|  9 | c  |\n",
       "| 10 | c  |\n",
       "| 11 | c  |\n",
       "| 12 | c  |\n",
       "\n"
      ],
      "text/plain": [
       "   value group\n",
       "1   1    a    \n",
       "2   2    a    \n",
       "3   3    a    \n",
       "4   4    a    \n",
       "5   5    b    \n",
       "6   6    b    \n",
       "7   7    b    \n",
       "8   8    b    \n",
       "9   9    c    \n",
       "10 10    c    \n",
       "11 11    c    \n",
       "12 12    c    "
      ]
     },
     "metadata": {},
     "output_type": "display_data"
    }
   ],
   "source": [
    "data                                # Print example data"
   ]
  },
  {
   "cell_type": "code",
   "execution_count": 17,
   "id": "839a0211",
   "metadata": {},
   "outputs": [
    {
     "name": "stdout",
     "output_type": "stream",
     "text": [
      "\n",
      "  There is a binary version available but the source version is later:\n",
      "     binary source needs_compilation\n",
      "plyr  1.8.6  1.8.7              TRUE\n",
      "\n",
      "  Binaries will be installed\n",
      "package 'plyr' successfully unpacked and MD5 sums checked\n",
      "\n",
      "The downloaded binary packages are in\n",
      "\tC:\\Users\\jamal\\AppData\\Local\\Temp\\Rtmp2hRRr6\\downloaded_packages\n"
     ]
    }
   ],
   "source": [
    "install.packages(\"plyr\")            # Install & load plyr package"
   ]
  },
  {
   "cell_type": "code",
   "execution_count": 18,
   "id": "6e063d3d",
   "metadata": {},
   "outputs": [
    {
     "name": "stderr",
     "output_type": "stream",
     "text": [
      "Warning message:\n",
      "\"package 'plyr' was built under R version 3.6.3\"------------------------------------------------------------------------------\n",
      "You have loaded plyr after dplyr - this is likely to cause problems.\n",
      "If you need functions from both plyr and dplyr, please load plyr first, then dplyr:\n",
      "library(plyr); library(dplyr)\n",
      "------------------------------------------------------------------------------\n",
      "\n",
      "Attaching package: 'plyr'\n",
      "\n",
      "The following objects are masked from 'package:dplyr':\n",
      "\n",
      "    arrange, count, desc, failwith, id, mutate, rename, summarise,\n",
      "    summarize\n",
      "\n"
     ]
    }
   ],
   "source": [
    "library(\"plyr\")"
   ]
  },
  {
   "cell_type": "code",
   "execution_count": 19,
   "id": "8b30b1aa",
   "metadata": {},
   "outputs": [
    {
     "data": {
      "text/html": [
       "<table>\n",
       "<thead><tr><th scope=col>mean</th></tr></thead>\n",
       "<tbody>\n",
       "\t<tr><td>6.5</td></tr>\n",
       "</tbody>\n",
       "</table>\n"
      ],
      "text/latex": [
       "\\begin{tabular}{r|l}\n",
       " mean\\\\\n",
       "\\hline\n",
       "\t 6.5\\\\\n",
       "\\end{tabular}\n"
      ],
      "text/markdown": [
       "\n",
       "| mean |\n",
       "|---|\n",
       "| 6.5 |\n",
       "\n"
      ],
      "text/plain": [
       "  mean\n",
       "1 6.5 "
      ]
     },
     "metadata": {},
     "output_type": "display_data"
    }
   ],
   "source": [
    "data %>%                            # plyr version\n",
    "  group_by(group) %>% \n",
    "  summarize(mean = mean(value))"
   ]
  },
  {
   "cell_type": "code",
   "execution_count": 20,
   "id": "a4866b58",
   "metadata": {},
   "outputs": [],
   "source": [
    "# Apply group_by & summarize Functions with Explicit dplyr Specification"
   ]
  },
  {
   "cell_type": "code",
   "execution_count": 21,
   "id": "65d1cca6",
   "metadata": {},
   "outputs": [
    {
     "data": {
      "text/html": [
       "<table>\n",
       "<thead><tr><th scope=col>group</th><th scope=col>mean</th></tr></thead>\n",
       "<tbody>\n",
       "\t<tr><td>a   </td><td> 2.5</td></tr>\n",
       "\t<tr><td>b   </td><td> 6.5</td></tr>\n",
       "\t<tr><td>c   </td><td>10.5</td></tr>\n",
       "</tbody>\n",
       "</table>\n"
      ],
      "text/latex": [
       "\\begin{tabular}{r|ll}\n",
       " group & mean\\\\\n",
       "\\hline\n",
       "\t a    &  2.5\\\\\n",
       "\t b    &  6.5\\\\\n",
       "\t c    & 10.5\\\\\n",
       "\\end{tabular}\n"
      ],
      "text/markdown": [
       "\n",
       "| group | mean |\n",
       "|---|---|\n",
       "| a    |  2.5 |\n",
       "| b    |  6.5 |\n",
       "| c    | 10.5 |\n",
       "\n"
      ],
      "text/plain": [
       "  group mean\n",
       "1 a      2.5\n",
       "2 b      6.5\n",
       "3 c     10.5"
      ]
     },
     "metadata": {},
     "output_type": "display_data"
    }
   ],
   "source": [
    "data %>%                            # dplyr version\n",
    "  group_by(group) %>% \n",
    "  dplyr::summarize(mean = mean(value))"
   ]
  },
  {
   "cell_type": "code",
   "execution_count": 22,
   "id": "d0dde065",
   "metadata": {},
   "outputs": [],
   "source": [
    "# arrange Function of dplyr R Package"
   ]
  },
  {
   "cell_type": "code",
   "execution_count": 23,
   "id": "49995ade",
   "metadata": {},
   "outputs": [],
   "source": [
    "data <- data.frame(x1 = 1:5,                # Create example data\n",
    "                   x2 = c(1, 2, 2, 1, 2),\n",
    "                   x3 = c(\"B\", \"C\", \"E\", \"A\", \"D\"))"
   ]
  },
  {
   "cell_type": "code",
   "execution_count": 24,
   "id": "0e0bbb37",
   "metadata": {},
   "outputs": [
    {
     "data": {
      "text/html": [
       "<table>\n",
       "<thead><tr><th scope=col>x1</th><th scope=col>x2</th><th scope=col>x3</th></tr></thead>\n",
       "<tbody>\n",
       "\t<tr><td>1</td><td>1</td><td>B</td></tr>\n",
       "\t<tr><td>2</td><td>2</td><td>C</td></tr>\n",
       "\t<tr><td>3</td><td>2</td><td>E</td></tr>\n",
       "\t<tr><td>4</td><td>1</td><td>A</td></tr>\n",
       "\t<tr><td>5</td><td>2</td><td>D</td></tr>\n",
       "</tbody>\n",
       "</table>\n"
      ],
      "text/latex": [
       "\\begin{tabular}{r|lll}\n",
       " x1 & x2 & x3\\\\\n",
       "\\hline\n",
       "\t 1 & 1 & B\\\\\n",
       "\t 2 & 2 & C\\\\\n",
       "\t 3 & 2 & E\\\\\n",
       "\t 4 & 1 & A\\\\\n",
       "\t 5 & 2 & D\\\\\n",
       "\\end{tabular}\n"
      ],
      "text/markdown": [
       "\n",
       "| x1 | x2 | x3 |\n",
       "|---|---|---|\n",
       "| 1 | 1 | B |\n",
       "| 2 | 2 | C |\n",
       "| 3 | 2 | E |\n",
       "| 4 | 1 | A |\n",
       "| 5 | 2 | D |\n",
       "\n"
      ],
      "text/plain": [
       "  x1 x2 x3\n",
       "1 1  1  B \n",
       "2 2  2  C \n",
       "3 3  2  E \n",
       "4 4  1  A \n",
       "5 5  2  D "
      ]
     },
     "metadata": {},
     "output_type": "display_data"
    }
   ],
   "source": [
    "data                                        # Print data to RStudio console"
   ]
  },
  {
   "cell_type": "code",
   "execution_count": 25,
   "id": "82e63606",
   "metadata": {},
   "outputs": [],
   "source": [
    "# Arrange Data By One Variable"
   ]
  },
  {
   "cell_type": "code",
   "execution_count": 26,
   "id": "50a0931d",
   "metadata": {},
   "outputs": [
    {
     "data": {
      "text/html": [
       "<table>\n",
       "<thead><tr><th scope=col>x1</th><th scope=col>x2</th><th scope=col>x3</th></tr></thead>\n",
       "<tbody>\n",
       "\t<tr><td>1</td><td>1</td><td>B</td></tr>\n",
       "\t<tr><td>4</td><td>1</td><td>A</td></tr>\n",
       "\t<tr><td>2</td><td>2</td><td>C</td></tr>\n",
       "\t<tr><td>3</td><td>2</td><td>E</td></tr>\n",
       "\t<tr><td>5</td><td>2</td><td>D</td></tr>\n",
       "</tbody>\n",
       "</table>\n"
      ],
      "text/latex": [
       "\\begin{tabular}{r|lll}\n",
       " x1 & x2 & x3\\\\\n",
       "\\hline\n",
       "\t 1 & 1 & B\\\\\n",
       "\t 4 & 1 & A\\\\\n",
       "\t 2 & 2 & C\\\\\n",
       "\t 3 & 2 & E\\\\\n",
       "\t 5 & 2 & D\\\\\n",
       "\\end{tabular}\n"
      ],
      "text/markdown": [
       "\n",
       "| x1 | x2 | x3 |\n",
       "|---|---|---|\n",
       "| 1 | 1 | B |\n",
       "| 4 | 1 | A |\n",
       "| 2 | 2 | C |\n",
       "| 3 | 2 | E |\n",
       "| 5 | 2 | D |\n",
       "\n"
      ],
      "text/plain": [
       "  x1 x2 x3\n",
       "1 1  1  B \n",
       "2 4  1  A \n",
       "3 2  2  C \n",
       "4 3  2  E \n",
       "5 5  2  D "
      ]
     },
     "metadata": {},
     "output_type": "display_data"
    }
   ],
   "source": [
    "arrange(data, x2)                           # Arrange data by one column"
   ]
  },
  {
   "cell_type": "code",
   "execution_count": 27,
   "id": "71c01816",
   "metadata": {},
   "outputs": [],
   "source": [
    "# Arrange Data By Multiple Variables"
   ]
  },
  {
   "cell_type": "code",
   "execution_count": 28,
   "id": "8011bf37",
   "metadata": {},
   "outputs": [
    {
     "data": {
      "text/html": [
       "<table>\n",
       "<thead><tr><th scope=col>x1</th><th scope=col>x2</th><th scope=col>x3</th></tr></thead>\n",
       "<tbody>\n",
       "\t<tr><td>4</td><td>1</td><td>A</td></tr>\n",
       "\t<tr><td>1</td><td>1</td><td>B</td></tr>\n",
       "\t<tr><td>2</td><td>2</td><td>C</td></tr>\n",
       "\t<tr><td>5</td><td>2</td><td>D</td></tr>\n",
       "\t<tr><td>3</td><td>2</td><td>E</td></tr>\n",
       "</tbody>\n",
       "</table>\n"
      ],
      "text/latex": [
       "\\begin{tabular}{r|lll}\n",
       " x1 & x2 & x3\\\\\n",
       "\\hline\n",
       "\t 4 & 1 & A\\\\\n",
       "\t 1 & 1 & B\\\\\n",
       "\t 2 & 2 & C\\\\\n",
       "\t 5 & 2 & D\\\\\n",
       "\t 3 & 2 & E\\\\\n",
       "\\end{tabular}\n"
      ],
      "text/markdown": [
       "\n",
       "| x1 | x2 | x3 |\n",
       "|---|---|---|\n",
       "| 4 | 1 | A |\n",
       "| 1 | 1 | B |\n",
       "| 2 | 2 | C |\n",
       "| 5 | 2 | D |\n",
       "| 3 | 2 | E |\n",
       "\n"
      ],
      "text/plain": [
       "  x1 x2 x3\n",
       "1 4  1  A \n",
       "2 1  1  B \n",
       "3 2  2  C \n",
       "4 5  2  D \n",
       "5 3  2  E "
      ]
     },
     "metadata": {},
     "output_type": "display_data"
    }
   ],
   "source": [
    "arrange(data, x2, x3)                       # Arrange data by multiple columns"
   ]
  },
  {
   "cell_type": "code",
   "execution_count": 29,
   "id": "3a38da56",
   "metadata": {},
   "outputs": [],
   "source": [
    "# Join Data Frames with the R dplyr Package"
   ]
  },
  {
   "cell_type": "code",
   "execution_count": 30,
   "id": "d5e1b767",
   "metadata": {},
   "outputs": [],
   "source": [
    "data1 <- data.frame(ID = 1:2,                      # Create first example data frame\n",
    "                    X1 = c(\"a1\", \"a2\"),\n",
    "                    stringsAsFactors = FALSE)"
   ]
  },
  {
   "cell_type": "code",
   "execution_count": 31,
   "id": "69d89900",
   "metadata": {},
   "outputs": [],
   "source": [
    "data2 <- data.frame(ID = 2:3,                      # Create second example data frame\n",
    "                    X2 = c(\"b1\", \"b2\"),\n",
    "                    stringsAsFactors = FALSE)"
   ]
  },
  {
   "cell_type": "code",
   "execution_count": 32,
   "id": "a726282e",
   "metadata": {},
   "outputs": [
    {
     "data": {
      "text/html": [
       "<table>\n",
       "<thead><tr><th scope=col>ID</th><th scope=col>X1</th><th scope=col>X2</th></tr></thead>\n",
       "<tbody>\n",
       "\t<tr><td>2 </td><td>a2</td><td>b1</td></tr>\n",
       "</tbody>\n",
       "</table>\n"
      ],
      "text/latex": [
       "\\begin{tabular}{r|lll}\n",
       " ID & X1 & X2\\\\\n",
       "\\hline\n",
       "\t 2  & a2 & b1\\\\\n",
       "\\end{tabular}\n"
      ],
      "text/markdown": [
       "\n",
       "| ID | X1 | X2 |\n",
       "|---|---|---|\n",
       "| 2  | a2 | b1 |\n",
       "\n"
      ],
      "text/plain": [
       "  ID X1 X2\n",
       "1 2  a2 b1"
      ]
     },
     "metadata": {},
     "output_type": "display_data"
    }
   ],
   "source": [
    "inner_join(data1, data2, by = \"ID\")                # Apply inner_join dplyr function"
   ]
  },
  {
   "cell_type": "code",
   "execution_count": 33,
   "id": "cd3fd53d",
   "metadata": {},
   "outputs": [
    {
     "data": {
      "text/html": [
       "<table>\n",
       "<thead><tr><th scope=col>ID</th><th scope=col>X1</th><th scope=col>X2</th></tr></thead>\n",
       "<tbody>\n",
       "\t<tr><td>1 </td><td>a1</td><td>NA</td></tr>\n",
       "\t<tr><td>2 </td><td>a2</td><td>b1</td></tr>\n",
       "</tbody>\n",
       "</table>\n"
      ],
      "text/latex": [
       "\\begin{tabular}{r|lll}\n",
       " ID & X1 & X2\\\\\n",
       "\\hline\n",
       "\t 1  & a1 & NA\\\\\n",
       "\t 2  & a2 & b1\\\\\n",
       "\\end{tabular}\n"
      ],
      "text/markdown": [
       "\n",
       "| ID | X1 | X2 |\n",
       "|---|---|---|\n",
       "| 1  | a1 | NA |\n",
       "| 2  | a2 | b1 |\n",
       "\n"
      ],
      "text/plain": [
       "  ID X1 X2\n",
       "1 1  a1 NA\n",
       "2 2  a2 b1"
      ]
     },
     "metadata": {},
     "output_type": "display_data"
    }
   ],
   "source": [
    "left_join(data1, data2, by = \"ID\")                 # Apply left_join dplyr function"
   ]
  },
  {
   "cell_type": "code",
   "execution_count": 34,
   "id": "27d42fcf",
   "metadata": {},
   "outputs": [
    {
     "data": {
      "text/html": [
       "<table>\n",
       "<thead><tr><th scope=col>ID</th><th scope=col>X1</th><th scope=col>X2</th></tr></thead>\n",
       "<tbody>\n",
       "\t<tr><td>2 </td><td>a2</td><td>b1</td></tr>\n",
       "\t<tr><td>3 </td><td>NA</td><td>b2</td></tr>\n",
       "</tbody>\n",
       "</table>\n"
      ],
      "text/latex": [
       "\\begin{tabular}{r|lll}\n",
       " ID & X1 & X2\\\\\n",
       "\\hline\n",
       "\t 2  & a2 & b1\\\\\n",
       "\t 3  & NA & b2\\\\\n",
       "\\end{tabular}\n"
      ],
      "text/markdown": [
       "\n",
       "| ID | X1 | X2 |\n",
       "|---|---|---|\n",
       "| 2  | a2 | b1 |\n",
       "| 3  | NA | b2 |\n",
       "\n"
      ],
      "text/plain": [
       "  ID X1 X2\n",
       "1 2  a2 b1\n",
       "2 3  NA b2"
      ]
     },
     "metadata": {},
     "output_type": "display_data"
    }
   ],
   "source": [
    "right_join(data1, data2, by = \"ID\")                # Apply right_join dplyr function"
   ]
  },
  {
   "cell_type": "code",
   "execution_count": 35,
   "id": "ed97c564",
   "metadata": {},
   "outputs": [
    {
     "data": {
      "text/html": [
       "<table>\n",
       "<thead><tr><th scope=col>ID</th><th scope=col>X1</th><th scope=col>X2</th></tr></thead>\n",
       "<tbody>\n",
       "\t<tr><td>1 </td><td>a1</td><td>NA</td></tr>\n",
       "\t<tr><td>2 </td><td>a2</td><td>b1</td></tr>\n",
       "\t<tr><td>3 </td><td>NA</td><td>b2</td></tr>\n",
       "</tbody>\n",
       "</table>\n"
      ],
      "text/latex": [
       "\\begin{tabular}{r|lll}\n",
       " ID & X1 & X2\\\\\n",
       "\\hline\n",
       "\t 1  & a1 & NA\\\\\n",
       "\t 2  & a2 & b1\\\\\n",
       "\t 3  & NA & b2\\\\\n",
       "\\end{tabular}\n"
      ],
      "text/markdown": [
       "\n",
       "| ID | X1 | X2 |\n",
       "|---|---|---|\n",
       "| 1  | a1 | NA |\n",
       "| 2  | a2 | b1 |\n",
       "| 3  | NA | b2 |\n",
       "\n"
      ],
      "text/plain": [
       "  ID X1 X2\n",
       "1 1  a1 NA\n",
       "2 2  a2 b1\n",
       "3 3  NA b2"
      ]
     },
     "metadata": {},
     "output_type": "display_data"
    }
   ],
   "source": [
    "full_join(data1, data2, by = \"ID\")                 # Apply full_join dplyr function"
   ]
  },
  {
   "cell_type": "code",
   "execution_count": 36,
   "id": "87c5c69b",
   "metadata": {},
   "outputs": [
    {
     "data": {
      "text/html": [
       "<table>\n",
       "<thead><tr><th scope=col>ID</th><th scope=col>X1</th></tr></thead>\n",
       "<tbody>\n",
       "\t<tr><td>2 </td><td>a2</td></tr>\n",
       "</tbody>\n",
       "</table>\n"
      ],
      "text/latex": [
       "\\begin{tabular}{r|ll}\n",
       " ID & X1\\\\\n",
       "\\hline\n",
       "\t 2  & a2\\\\\n",
       "\\end{tabular}\n"
      ],
      "text/markdown": [
       "\n",
       "| ID | X1 |\n",
       "|---|---|\n",
       "| 2  | a2 |\n",
       "\n"
      ],
      "text/plain": [
       "  ID X1\n",
       "1 2  a2"
      ]
     },
     "metadata": {},
     "output_type": "display_data"
    }
   ],
   "source": [
    "semi_join(data1, data2, by = \"ID\")                 # Apply semi_join dplyr function"
   ]
  },
  {
   "cell_type": "code",
   "execution_count": 37,
   "id": "d44f2ea7",
   "metadata": {},
   "outputs": [
    {
     "data": {
      "text/html": [
       "<table>\n",
       "<thead><tr><th scope=col>ID</th><th scope=col>X1</th></tr></thead>\n",
       "<tbody>\n",
       "\t<tr><td>1 </td><td>a1</td></tr>\n",
       "</tbody>\n",
       "</table>\n"
      ],
      "text/latex": [
       "\\begin{tabular}{r|ll}\n",
       " ID & X1\\\\\n",
       "\\hline\n",
       "\t 1  & a1\\\\\n",
       "\\end{tabular}\n"
      ],
      "text/markdown": [
       "\n",
       "| ID | X1 |\n",
       "|---|---|\n",
       "| 1  | a1 |\n",
       "\n"
      ],
      "text/plain": [
       "  ID X1\n",
       "1 1  a1"
      ]
     },
     "metadata": {},
     "output_type": "display_data"
    }
   ],
   "source": [
    "anti_join(data1, data2, by = \"ID\")                 # Apply anti_join dplyr function"
   ]
  },
  {
   "cell_type": "code",
   "execution_count": 38,
   "id": "6df97355",
   "metadata": {},
   "outputs": [],
   "source": [
    "# Join Multiple Data Frames"
   ]
  },
  {
   "cell_type": "code",
   "execution_count": 39,
   "id": "fce68a91",
   "metadata": {},
   "outputs": [],
   "source": [
    "data3 <- data.frame(ID = c(2, 4),                   # Create third example data frame\n",
    "                    X2 = c(\"c1\", \"c2\"),\n",
    "                    X3 = c(\"d1\", \"d2\"),\n",
    "                    stringsAsFactors = FALSE)"
   ]
  },
  {
   "cell_type": "code",
   "execution_count": 40,
   "id": "55c309e4",
   "metadata": {},
   "outputs": [
    {
     "data": {
      "text/html": [
       "<table>\n",
       "<thead><tr><th scope=col>ID</th><th scope=col>X2</th><th scope=col>X3</th></tr></thead>\n",
       "<tbody>\n",
       "\t<tr><td>2 </td><td>c1</td><td>d1</td></tr>\n",
       "\t<tr><td>4 </td><td>c2</td><td>d2</td></tr>\n",
       "</tbody>\n",
       "</table>\n"
      ],
      "text/latex": [
       "\\begin{tabular}{r|lll}\n",
       " ID & X2 & X3\\\\\n",
       "\\hline\n",
       "\t 2  & c1 & d1\\\\\n",
       "\t 4  & c2 & d2\\\\\n",
       "\\end{tabular}\n"
      ],
      "text/markdown": [
       "\n",
       "| ID | X2 | X3 |\n",
       "|---|---|---|\n",
       "| 2  | c1 | d1 |\n",
       "| 4  | c2 | d2 |\n",
       "\n"
      ],
      "text/plain": [
       "  ID X2 X3\n",
       "1 2  c1 d1\n",
       "2 4  c2 d2"
      ]
     },
     "metadata": {},
     "output_type": "display_data"
    }
   ],
   "source": [
    "data3                                               # Print data to RStudio console"
   ]
  },
  {
   "cell_type": "code",
   "execution_count": 41,
   "id": "61cdd1da",
   "metadata": {},
   "outputs": [
    {
     "data": {
      "text/html": [
       "<table>\n",
       "<thead><tr><th scope=col>ID</th><th scope=col>X1</th><th scope=col>X2.x</th><th scope=col>X2.y</th><th scope=col>X3</th></tr></thead>\n",
       "<tbody>\n",
       "\t<tr><td>1 </td><td>a1</td><td>NA</td><td>NA</td><td>NA</td></tr>\n",
       "\t<tr><td>2 </td><td>a2</td><td>b1</td><td>c1</td><td>d1</td></tr>\n",
       "\t<tr><td>3 </td><td>NA</td><td>b2</td><td>NA</td><td>NA</td></tr>\n",
       "\t<tr><td>4 </td><td>NA</td><td>NA</td><td>c2</td><td>d2</td></tr>\n",
       "</tbody>\n",
       "</table>\n"
      ],
      "text/latex": [
       "\\begin{tabular}{r|lllll}\n",
       " ID & X1 & X2.x & X2.y & X3\\\\\n",
       "\\hline\n",
       "\t 1  & a1 & NA & NA & NA\\\\\n",
       "\t 2  & a2 & b1 & c1 & d1\\\\\n",
       "\t 3  & NA & b2 & NA & NA\\\\\n",
       "\t 4  & NA & NA & c2 & d2\\\\\n",
       "\\end{tabular}\n"
      ],
      "text/markdown": [
       "\n",
       "| ID | X1 | X2.x | X2.y | X3 |\n",
       "|---|---|---|---|---|\n",
       "| 1  | a1 | NA | NA | NA |\n",
       "| 2  | a2 | b1 | c1 | d1 |\n",
       "| 3  | NA | b2 | NA | NA |\n",
       "| 4  | NA | NA | c2 | d2 |\n",
       "\n"
      ],
      "text/plain": [
       "  ID X1 X2.x X2.y X3\n",
       "1 1  a1 NA   NA   NA\n",
       "2 2  a2 b1   c1   d1\n",
       "3 3  NA b2   NA   NA\n",
       "4 4  NA NA   c2   d2"
      ]
     },
     "metadata": {},
     "output_type": "display_data"
    }
   ],
   "source": [
    "full_join(data1, data2, by = \"ID\") %>%              # Full outer join of multiple data frames\n",
    "  full_join(., data3, by = \"ID\") "
   ]
  },
  {
   "cell_type": "code",
   "execution_count": 42,
   "id": "e2d3aeeb",
   "metadata": {},
   "outputs": [],
   "source": [
    "#  Join by Multiple Columns"
   ]
  },
  {
   "cell_type": "code",
   "execution_count": 43,
   "id": "6b022ef9",
   "metadata": {},
   "outputs": [
    {
     "data": {
      "text/html": [
       "<table>\n",
       "<thead><tr><th scope=col>ID</th><th scope=col>X2</th><th scope=col>X3</th></tr></thead>\n",
       "<tbody>\n",
       "\t<tr><td>2 </td><td>b1</td><td>NA</td></tr>\n",
       "\t<tr><td>3 </td><td>b2</td><td>NA</td></tr>\n",
       "\t<tr><td>2 </td><td>c1</td><td>d1</td></tr>\n",
       "\t<tr><td>4 </td><td>c2</td><td>d2</td></tr>\n",
       "</tbody>\n",
       "</table>\n"
      ],
      "text/latex": [
       "\\begin{tabular}{r|lll}\n",
       " ID & X2 & X3\\\\\n",
       "\\hline\n",
       "\t 2  & b1 & NA\\\\\n",
       "\t 3  & b2 & NA\\\\\n",
       "\t 2  & c1 & d1\\\\\n",
       "\t 4  & c2 & d2\\\\\n",
       "\\end{tabular}\n"
      ],
      "text/markdown": [
       "\n",
       "| ID | X2 | X3 |\n",
       "|---|---|---|\n",
       "| 2  | b1 | NA |\n",
       "| 3  | b2 | NA |\n",
       "| 2  | c1 | d1 |\n",
       "| 4  | c2 | d2 |\n",
       "\n"
      ],
      "text/plain": [
       "  ID X2 X3\n",
       "1 2  b1 NA\n",
       "2 3  b2 NA\n",
       "3 2  c1 d1\n",
       "4 4  c2 d2"
      ]
     },
     "metadata": {},
     "output_type": "display_data"
    }
   ],
   "source": [
    "full_join(data2, data3, by = c(\"ID\", \"X2\"))         # Join by multiple columns"
   ]
  },
  {
   "cell_type": "code",
   "execution_count": 44,
   "id": "78c22a30",
   "metadata": {},
   "outputs": [],
   "source": [
    "#  Join Data & Delete ID"
   ]
  },
  {
   "cell_type": "code",
   "execution_count": 45,
   "id": "011387a5",
   "metadata": {},
   "outputs": [
    {
     "data": {
      "text/html": [
       "<table>\n",
       "<thead><tr><th scope=col>X1</th><th scope=col>X2</th></tr></thead>\n",
       "<tbody>\n",
       "\t<tr><td>a2</td><td>b1</td></tr>\n",
       "</tbody>\n",
       "</table>\n"
      ],
      "text/latex": [
       "\\begin{tabular}{r|ll}\n",
       " X1 & X2\\\\\n",
       "\\hline\n",
       "\t a2 & b1\\\\\n",
       "\\end{tabular}\n"
      ],
      "text/markdown": [
       "\n",
       "| X1 | X2 |\n",
       "|---|---|\n",
       "| a2 | b1 |\n",
       "\n"
      ],
      "text/plain": [
       "  X1 X2\n",
       "1 a2 b1"
      ]
     },
     "metadata": {},
     "output_type": "display_data"
    }
   ],
   "source": [
    "inner_join(data1, data2, by = \"ID\") %>%              # Automatically delete ID\n",
    "  select(- ID)"
   ]
  },
  {
   "cell_type": "code",
   "execution_count": null,
   "id": "0526c9ca",
   "metadata": {},
   "outputs": [],
   "source": []
  }
 ],
 "metadata": {
  "kernelspec": {
   "display_name": "R",
   "language": "R",
   "name": "ir"
  },
  "language_info": {
   "codemirror_mode": "r",
   "file_extension": ".r",
   "mimetype": "text/x-r-source",
   "name": "R",
   "pygments_lexer": "r",
   "version": "3.6.1"
  }
 },
 "nbformat": 4,
 "nbformat_minor": 5
}
