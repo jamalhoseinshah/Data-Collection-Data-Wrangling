{
 "cells": [
  {
   "cell_type": "code",
   "execution_count": null,
   "id": "e79bddbb",
   "metadata": {},
   "outputs": [],
   "source": [
    "# This is created by Jamal hussain shah topic Tidy Data in R"
   ]
  },
  {
   "cell_type": "code",
   "execution_count": 3,
   "id": "805211d1",
   "metadata": {},
   "outputs": [],
   "source": [
    "library(readr)\n"
   ]
  },
  {
   "cell_type": "code",
   "execution_count": 4,
   "id": "01e99cfb",
   "metadata": {},
   "outputs": [
    {
     "name": "stderr",
     "output_type": "stream",
     "text": [
      "Parsed with column specification:\n",
      "cols(\n",
      "  country = col_character(),\n",
      "  `1952` = col_double(),\n",
      "  `1957` = col_double(),\n",
      "  `1962` = col_double(),\n",
      "  `1967` = col_double(),\n",
      "  `1972` = col_double(),\n",
      "  `1977` = col_double(),\n",
      "  `1982` = col_double(),\n",
      "  `1987` = col_double(),\n",
      "  `1992` = col_double()\n",
      ")\n"
     ]
    }
   ],
   "source": [
    "dem_score <- read_csv(\"https://moderndive.com/data/dem_score.csv\")\n"
   ]
  },
  {
   "cell_type": "code",
   "execution_count": 5,
   "id": "953a5ef2",
   "metadata": {},
   "outputs": [
    {
     "data": {
      "text/html": [
       "<table>\n",
       "<thead><tr><th scope=col>country</th><th scope=col>1952</th><th scope=col>1957</th><th scope=col>1962</th><th scope=col>1967</th><th scope=col>1972</th><th scope=col>1977</th><th scope=col>1982</th><th scope=col>1987</th><th scope=col>1992</th></tr></thead>\n",
       "<tbody>\n",
       "\t<tr><td>Albania       </td><td> -9           </td><td> -9           </td><td> -9           </td><td> -9           </td><td> -9           </td><td> -9           </td><td> -9           </td><td> -9           </td><td>  5           </td></tr>\n",
       "\t<tr><td>Argentina     </td><td> -9           </td><td> -1           </td><td> -1           </td><td> -9           </td><td> -9           </td><td> -9           </td><td> -8           </td><td>  8           </td><td>  7           </td></tr>\n",
       "\t<tr><td>Armenia       </td><td> -9           </td><td> -7           </td><td> -7           </td><td> -7           </td><td> -7           </td><td> -7           </td><td> -7           </td><td> -7           </td><td>  7           </td></tr>\n",
       "\t<tr><td>Australia     </td><td> 10           </td><td> 10           </td><td> 10           </td><td> 10           </td><td> 10           </td><td> 10           </td><td> 10           </td><td> 10           </td><td> 10           </td></tr>\n",
       "\t<tr><td>Austria       </td><td> 10           </td><td> 10           </td><td> 10           </td><td> 10           </td><td> 10           </td><td> 10           </td><td> 10           </td><td> 10           </td><td> 10           </td></tr>\n",
       "\t<tr><td>Azerbaijan    </td><td> -9           </td><td> -7           </td><td> -7           </td><td> -7           </td><td> -7           </td><td> -7           </td><td> -7           </td><td> -7           </td><td>  1           </td></tr>\n",
       "\t<tr><td>Belarus       </td><td> -9           </td><td> -7           </td><td> -7           </td><td> -7           </td><td> -7           </td><td> -7           </td><td> -7           </td><td> -7           </td><td>  7           </td></tr>\n",
       "\t<tr><td>Belgium       </td><td> 10           </td><td> 10           </td><td> 10           </td><td> 10           </td><td> 10           </td><td> 10           </td><td> 10           </td><td> 10           </td><td> 10           </td></tr>\n",
       "\t<tr><td>Bhutan        </td><td>-10           </td><td>-10           </td><td>-10           </td><td>-10           </td><td>-10           </td><td>-10           </td><td>-10           </td><td>-10           </td><td>-10           </td></tr>\n",
       "\t<tr><td>Bolivia       </td><td> -4           </td><td> -3           </td><td> -3           </td><td> -4           </td><td> -7           </td><td> -7           </td><td>  8           </td><td>  9           </td><td>  9           </td></tr>\n",
       "\t<tr><td>Brazil        </td><td>  5           </td><td>  5           </td><td>  5           </td><td> -9           </td><td> -9           </td><td> -4           </td><td> -3           </td><td>  7           </td><td>  8           </td></tr>\n",
       "\t<tr><td>Bulgaria      </td><td> -7           </td><td> -7           </td><td> -7           </td><td> -7           </td><td> -7           </td><td> -7           </td><td> -7           </td><td> -7           </td><td>  8           </td></tr>\n",
       "\t<tr><td>Canada        </td><td> 10           </td><td> 10           </td><td> 10           </td><td> 10           </td><td> 10           </td><td> 10           </td><td> 10           </td><td> 10           </td><td> 10           </td></tr>\n",
       "\t<tr><td>Chile         </td><td>  2           </td><td>  5           </td><td>  5           </td><td>  6           </td><td>  6           </td><td> -7           </td><td> -7           </td><td> -6           </td><td>  8           </td></tr>\n",
       "\t<tr><td>China         </td><td> -8           </td><td> -8           </td><td> -8           </td><td> -9           </td><td> -8           </td><td> -7           </td><td> -7           </td><td> -7           </td><td> -7           </td></tr>\n",
       "\t<tr><td>Colombia      </td><td> -5           </td><td>  7           </td><td>  7           </td><td>  7           </td><td>  7           </td><td>  8           </td><td>  8           </td><td>  8           </td><td>  9           </td></tr>\n",
       "\t<tr><td>Costa Rica    </td><td> 10           </td><td> 10           </td><td> 10           </td><td> 10           </td><td> 10           </td><td> 10           </td><td> 10           </td><td> 10           </td><td> 10           </td></tr>\n",
       "\t<tr><td>Croatia       </td><td> -7           </td><td> -7           </td><td> -7           </td><td> -7           </td><td> -7           </td><td> -7           </td><td> -5           </td><td> -5           </td><td> -3           </td></tr>\n",
       "\t<tr><td>Cuba          </td><td>  0           </td><td> -9           </td><td> -7           </td><td> -7           </td><td> -7           </td><td> -7           </td><td> -7           </td><td> -7           </td><td> -7           </td></tr>\n",
       "\t<tr><td>Czech Rep.    </td><td> -7           </td><td> -7           </td><td> -7           </td><td> -7           </td><td> -7           </td><td> -7           </td><td> -7           </td><td> -7           </td><td>  8           </td></tr>\n",
       "\t<tr><td>Denmark       </td><td> 10           </td><td> 10           </td><td> 10           </td><td> 10           </td><td> 10           </td><td> 10           </td><td> 10           </td><td> 10           </td><td> 10           </td></tr>\n",
       "\t<tr><td>Dominican Rep.</td><td> -9           </td><td> -9           </td><td>  8           </td><td> -3           </td><td> -3           </td><td> -3           </td><td>  6           </td><td>  6           </td><td>  6           </td></tr>\n",
       "\t<tr><td>Ecuador       </td><td>  2           </td><td>  2           </td><td> -1           </td><td> -1           </td><td> -5           </td><td> -5           </td><td>  9           </td><td>  8           </td><td>  9           </td></tr>\n",
       "\t<tr><td>Egypt         </td><td> -7           </td><td> -7           </td><td> -7           </td><td> -7           </td><td> -7           </td><td> -6           </td><td> -6           </td><td> -6           </td><td> -6           </td></tr>\n",
       "\t<tr><td>El Salvador   </td><td> -6           </td><td> -5           </td><td> -3           </td><td>  0           </td><td> -1           </td><td> -6           </td><td>  2           </td><td>  6           </td><td>  7           </td></tr>\n",
       "\t<tr><td>Estonia       </td><td> -9           </td><td> -7           </td><td> -7           </td><td> -7           </td><td> -7           </td><td> -7           </td><td> -7           </td><td> -7           </td><td>  6           </td></tr>\n",
       "\t<tr><td>Ethiopia      </td><td> -9           </td><td> -9           </td><td> -9           </td><td> -9           </td><td> -9           </td><td> -7           </td><td> -7           </td><td> -8           </td><td>  0           </td></tr>\n",
       "\t<tr><td>Finland       </td><td> 10           </td><td> 10           </td><td> 10           </td><td> 10           </td><td> 10           </td><td> 10           </td><td> 10           </td><td> 10           </td><td> 10           </td></tr>\n",
       "\t<tr><td>France        </td><td> 10           </td><td> 10           </td><td>  5           </td><td>  5           </td><td>  8           </td><td>  8           </td><td>  8           </td><td>  9           </td><td>  9           </td></tr>\n",
       "\t<tr><td>Georgia       </td><td> -9           </td><td> -7           </td><td> -7           </td><td> -7           </td><td> -7           </td><td> -7           </td><td> -7           </td><td> -7           </td><td>  4           </td></tr>\n",
       "\t<tr><td>...</td><td>...</td><td>...</td><td>...</td><td>...</td><td>...</td><td>...</td><td>...</td><td>...</td><td>...</td></tr>\n",
       "\t<tr><td>Pakistan       </td><td>  5            </td><td>  8            </td><td>  1            </td><td>  1            </td><td>  4            </td><td> -7            </td><td> -7            </td><td> -4            </td><td>  8            </td></tr>\n",
       "\t<tr><td>Panama         </td><td> -1            </td><td>  4            </td><td>  4            </td><td>  4            </td><td> -7            </td><td> -7            </td><td> -5            </td><td> -8            </td><td>  8            </td></tr>\n",
       "\t<tr><td>Paraguay       </td><td> -5            </td><td> -9            </td><td> -9            </td><td> -8            </td><td> -8            </td><td> -8            </td><td> -8            </td><td> -8            </td><td>  7            </td></tr>\n",
       "\t<tr><td>Peru           </td><td> -2            </td><td>  5            </td><td> -6            </td><td>  5            </td><td> -7            </td><td> -7            </td><td>  7            </td><td>  7            </td><td> -3            </td></tr>\n",
       "\t<tr><td>Philippines    </td><td>  5            </td><td>  5            </td><td>  5            </td><td>  5            </td><td> -9            </td><td> -9            </td><td> -7            </td><td>  8            </td><td>  8            </td></tr>\n",
       "\t<tr><td>Poland         </td><td> -7            </td><td> -7            </td><td> -7            </td><td> -7            </td><td> -7            </td><td> -7            </td><td> -8            </td><td> -6            </td><td>  8            </td></tr>\n",
       "\t<tr><td>Portugal       </td><td> -9            </td><td> -9            </td><td> -9            </td><td> -9            </td><td> -9            </td><td>  9            </td><td> 10            </td><td> 10            </td><td> 10            </td></tr>\n",
       "\t<tr><td>Romania        </td><td> -7            </td><td> -7            </td><td> -7            </td><td> -7            </td><td> -7            </td><td> -8            </td><td> -8            </td><td> -8            </td><td>  5            </td></tr>\n",
       "\t<tr><td>Russia         </td><td> -9            </td><td> -7            </td><td> -7            </td><td> -7            </td><td> -7            </td><td> -7            </td><td> -7            </td><td> -7            </td><td>  5            </td></tr>\n",
       "\t<tr><td>Saudi Arabia   </td><td>-10            </td><td>-10            </td><td>-10            </td><td>-10            </td><td>-10            </td><td>-10            </td><td>-10            </td><td>-10            </td><td>-10            </td></tr>\n",
       "\t<tr><td>Serbia         </td><td> -7            </td><td> -7            </td><td> -7            </td><td> -7            </td><td> -7            </td><td> -7            </td><td> -5            </td><td> -5            </td><td> -5            </td></tr>\n",
       "\t<tr><td>Slovak Republic</td><td> -7            </td><td> -7            </td><td> -7            </td><td> -7            </td><td> -7            </td><td> -7            </td><td> -7            </td><td> -7            </td><td>  8            </td></tr>\n",
       "\t<tr><td>Slovenia       </td><td> -7            </td><td> -7            </td><td> -7            </td><td> -7            </td><td> -7            </td><td> -7            </td><td> -5            </td><td> -5            </td><td> 10            </td></tr>\n",
       "\t<tr><td>South Africa   </td><td>  4            </td><td>  4            </td><td>  4            </td><td>  4            </td><td>  4            </td><td>  4            </td><td>  4            </td><td>  4            </td><td>  6            </td></tr>\n",
       "\t<tr><td>Spain          </td><td> -7            </td><td> -7            </td><td> -7            </td><td> -7            </td><td> -7            </td><td>  5            </td><td> 10            </td><td> 10            </td><td> 10            </td></tr>\n",
       "\t<tr><td>Sri Lanka      </td><td>  7            </td><td>  7            </td><td>  7            </td><td>  7            </td><td>  8            </td><td>  8            </td><td>  5            </td><td>  5            </td><td>  5            </td></tr>\n",
       "\t<tr><td>Sweden         </td><td> 10            </td><td> 10            </td><td> 10            </td><td> 10            </td><td> 10            </td><td> 10            </td><td> 10            </td><td> 10            </td><td> 10            </td></tr>\n",
       "\t<tr><td>Switzerland    </td><td> 10            </td><td> 10            </td><td> 10            </td><td> 10            </td><td> 10            </td><td> 10            </td><td> 10            </td><td> 10            </td><td> 10            </td></tr>\n",
       "\t<tr><td>Syria          </td><td> -7            </td><td>  7            </td><td> -2            </td><td> -7            </td><td> -9            </td><td> -9            </td><td> -9            </td><td> -9            </td><td> -9            </td></tr>\n",
       "\t<tr><td>Taiwan         </td><td> -8            </td><td> -8            </td><td> -8            </td><td> -8            </td><td> -8            </td><td> -7            </td><td> -7            </td><td> -1            </td><td>  7            </td></tr>\n",
       "\t<tr><td>Tajikistan     </td><td> -9            </td><td> -7            </td><td> -7            </td><td> -7            </td><td> -7            </td><td> -7            </td><td> -7            </td><td> -7            </td><td> -6            </td></tr>\n",
       "\t<tr><td>Thailand       </td><td> -6            </td><td> -3            </td><td> -7            </td><td> -7            </td><td> -7            </td><td> -2            </td><td>  2            </td><td>  2            </td><td>  9            </td></tr>\n",
       "\t<tr><td>Turkey         </td><td>  7            </td><td>  4            </td><td>  9            </td><td>  8            </td><td> -2            </td><td>  9            </td><td> -5            </td><td>  7            </td><td>  9            </td></tr>\n",
       "\t<tr><td>Turkmenistan   </td><td> -9            </td><td> -7            </td><td> -7            </td><td> -7            </td><td> -7            </td><td> -7            </td><td> -7            </td><td> -7            </td><td> -9            </td></tr>\n",
       "\t<tr><td>Ukraine        </td><td> -9            </td><td> -7            </td><td> -7            </td><td> -7            </td><td> -7            </td><td> -7            </td><td> -7            </td><td> -7            </td><td>  6            </td></tr>\n",
       "\t<tr><td>United Kingdom </td><td> 10            </td><td> 10            </td><td> 10            </td><td> 10            </td><td> 10            </td><td> 10            </td><td> 10            </td><td> 10            </td><td> 10            </td></tr>\n",
       "\t<tr><td>United States  </td><td> 10            </td><td> 10            </td><td> 10            </td><td> 10            </td><td> 10            </td><td> 10            </td><td> 10            </td><td> 10            </td><td> 10            </td></tr>\n",
       "\t<tr><td>Uruguay        </td><td>  8            </td><td>  8            </td><td>  8            </td><td>  8            </td><td> -3            </td><td> -8            </td><td> -7            </td><td>  9            </td><td> 10            </td></tr>\n",
       "\t<tr><td>Uzbekistan     </td><td> -9            </td><td> -7            </td><td> -7            </td><td> -7            </td><td> -7            </td><td> -7            </td><td> -7            </td><td> -7            </td><td> -9            </td></tr>\n",
       "\t<tr><td>Venezuela      </td><td> -3            </td><td> -3            </td><td>  6            </td><td>  6            </td><td>  9            </td><td>  9            </td><td>  9            </td><td>  9            </td><td>  8            </td></tr>\n",
       "</tbody>\n",
       "</table>\n"
      ],
      "text/latex": [
       "\\begin{tabular}{r|llllllllll}\n",
       " country & 1952 & 1957 & 1962 & 1967 & 1972 & 1977 & 1982 & 1987 & 1992\\\\\n",
       "\\hline\n",
       "\t Albania        &  -9            &  -9            &  -9            &  -9            &  -9            &  -9            &  -9            &  -9            &   5           \\\\\n",
       "\t Argentina      &  -9            &  -1            &  -1            &  -9            &  -9            &  -9            &  -8            &   8            &   7           \\\\\n",
       "\t Armenia        &  -9            &  -7            &  -7            &  -7            &  -7            &  -7            &  -7            &  -7            &   7           \\\\\n",
       "\t Australia      &  10            &  10            &  10            &  10            &  10            &  10            &  10            &  10            &  10           \\\\\n",
       "\t Austria        &  10            &  10            &  10            &  10            &  10            &  10            &  10            &  10            &  10           \\\\\n",
       "\t Azerbaijan     &  -9            &  -7            &  -7            &  -7            &  -7            &  -7            &  -7            &  -7            &   1           \\\\\n",
       "\t Belarus        &  -9            &  -7            &  -7            &  -7            &  -7            &  -7            &  -7            &  -7            &   7           \\\\\n",
       "\t Belgium        &  10            &  10            &  10            &  10            &  10            &  10            &  10            &  10            &  10           \\\\\n",
       "\t Bhutan         & -10            & -10            & -10            & -10            & -10            & -10            & -10            & -10            & -10           \\\\\n",
       "\t Bolivia        &  -4            &  -3            &  -3            &  -4            &  -7            &  -7            &   8            &   9            &   9           \\\\\n",
       "\t Brazil         &   5            &   5            &   5            &  -9            &  -9            &  -4            &  -3            &   7            &   8           \\\\\n",
       "\t Bulgaria       &  -7            &  -7            &  -7            &  -7            &  -7            &  -7            &  -7            &  -7            &   8           \\\\\n",
       "\t Canada         &  10            &  10            &  10            &  10            &  10            &  10            &  10            &  10            &  10           \\\\\n",
       "\t Chile          &   2            &   5            &   5            &   6            &   6            &  -7            &  -7            &  -6            &   8           \\\\\n",
       "\t China          &  -8            &  -8            &  -8            &  -9            &  -8            &  -7            &  -7            &  -7            &  -7           \\\\\n",
       "\t Colombia       &  -5            &   7            &   7            &   7            &   7            &   8            &   8            &   8            &   9           \\\\\n",
       "\t Costa Rica     &  10            &  10            &  10            &  10            &  10            &  10            &  10            &  10            &  10           \\\\\n",
       "\t Croatia        &  -7            &  -7            &  -7            &  -7            &  -7            &  -7            &  -5            &  -5            &  -3           \\\\\n",
       "\t Cuba           &   0            &  -9            &  -7            &  -7            &  -7            &  -7            &  -7            &  -7            &  -7           \\\\\n",
       "\t Czech Rep.     &  -7            &  -7            &  -7            &  -7            &  -7            &  -7            &  -7            &  -7            &   8           \\\\\n",
       "\t Denmark        &  10            &  10            &  10            &  10            &  10            &  10            &  10            &  10            &  10           \\\\\n",
       "\t Dominican Rep. &  -9            &  -9            &   8            &  -3            &  -3            &  -3            &   6            &   6            &   6           \\\\\n",
       "\t Ecuador        &   2            &   2            &  -1            &  -1            &  -5            &  -5            &   9            &   8            &   9           \\\\\n",
       "\t Egypt          &  -7            &  -7            &  -7            &  -7            &  -7            &  -6            &  -6            &  -6            &  -6           \\\\\n",
       "\t El Salvador    &  -6            &  -5            &  -3            &   0            &  -1            &  -6            &   2            &   6            &   7           \\\\\n",
       "\t Estonia        &  -9            &  -7            &  -7            &  -7            &  -7            &  -7            &  -7            &  -7            &   6           \\\\\n",
       "\t Ethiopia       &  -9            &  -9            &  -9            &  -9            &  -9            &  -7            &  -7            &  -8            &   0           \\\\\n",
       "\t Finland        &  10            &  10            &  10            &  10            &  10            &  10            &  10            &  10            &  10           \\\\\n",
       "\t France         &  10            &  10            &   5            &   5            &   8            &   8            &   8            &   9            &   9           \\\\\n",
       "\t Georgia        &  -9            &  -7            &  -7            &  -7            &  -7            &  -7            &  -7            &  -7            &   4           \\\\\n",
       "\t ... & ... & ... & ... & ... & ... & ... & ... & ... & ...\\\\\n",
       "\t Pakistan        &   5             &   8             &   1             &   1             &   4             &  -7             &  -7             &  -4             &   8            \\\\\n",
       "\t Panama          &  -1             &   4             &   4             &   4             &  -7             &  -7             &  -5             &  -8             &   8            \\\\\n",
       "\t Paraguay        &  -5             &  -9             &  -9             &  -8             &  -8             &  -8             &  -8             &  -8             &   7            \\\\\n",
       "\t Peru            &  -2             &   5             &  -6             &   5             &  -7             &  -7             &   7             &   7             &  -3            \\\\\n",
       "\t Philippines     &   5             &   5             &   5             &   5             &  -9             &  -9             &  -7             &   8             &   8            \\\\\n",
       "\t Poland          &  -7             &  -7             &  -7             &  -7             &  -7             &  -7             &  -8             &  -6             &   8            \\\\\n",
       "\t Portugal        &  -9             &  -9             &  -9             &  -9             &  -9             &   9             &  10             &  10             &  10            \\\\\n",
       "\t Romania         &  -7             &  -7             &  -7             &  -7             &  -7             &  -8             &  -8             &  -8             &   5            \\\\\n",
       "\t Russia          &  -9             &  -7             &  -7             &  -7             &  -7             &  -7             &  -7             &  -7             &   5            \\\\\n",
       "\t Saudi Arabia    & -10             & -10             & -10             & -10             & -10             & -10             & -10             & -10             & -10            \\\\\n",
       "\t Serbia          &  -7             &  -7             &  -7             &  -7             &  -7             &  -7             &  -5             &  -5             &  -5            \\\\\n",
       "\t Slovak Republic &  -7             &  -7             &  -7             &  -7             &  -7             &  -7             &  -7             &  -7             &   8            \\\\\n",
       "\t Slovenia        &  -7             &  -7             &  -7             &  -7             &  -7             &  -7             &  -5             &  -5             &  10            \\\\\n",
       "\t South Africa    &   4             &   4             &   4             &   4             &   4             &   4             &   4             &   4             &   6            \\\\\n",
       "\t Spain           &  -7             &  -7             &  -7             &  -7             &  -7             &   5             &  10             &  10             &  10            \\\\\n",
       "\t Sri Lanka       &   7             &   7             &   7             &   7             &   8             &   8             &   5             &   5             &   5            \\\\\n",
       "\t Sweden          &  10             &  10             &  10             &  10             &  10             &  10             &  10             &  10             &  10            \\\\\n",
       "\t Switzerland     &  10             &  10             &  10             &  10             &  10             &  10             &  10             &  10             &  10            \\\\\n",
       "\t Syria           &  -7             &   7             &  -2             &  -7             &  -9             &  -9             &  -9             &  -9             &  -9            \\\\\n",
       "\t Taiwan          &  -8             &  -8             &  -8             &  -8             &  -8             &  -7             &  -7             &  -1             &   7            \\\\\n",
       "\t Tajikistan      &  -9             &  -7             &  -7             &  -7             &  -7             &  -7             &  -7             &  -7             &  -6            \\\\\n",
       "\t Thailand        &  -6             &  -3             &  -7             &  -7             &  -7             &  -2             &   2             &   2             &   9            \\\\\n",
       "\t Turkey          &   7             &   4             &   9             &   8             &  -2             &   9             &  -5             &   7             &   9            \\\\\n",
       "\t Turkmenistan    &  -9             &  -7             &  -7             &  -7             &  -7             &  -7             &  -7             &  -7             &  -9            \\\\\n",
       "\t Ukraine         &  -9             &  -7             &  -7             &  -7             &  -7             &  -7             &  -7             &  -7             &   6            \\\\\n",
       "\t United Kingdom  &  10             &  10             &  10             &  10             &  10             &  10             &  10             &  10             &  10            \\\\\n",
       "\t United States   &  10             &  10             &  10             &  10             &  10             &  10             &  10             &  10             &  10            \\\\\n",
       "\t Uruguay         &   8             &   8             &   8             &   8             &  -3             &  -8             &  -7             &   9             &  10            \\\\\n",
       "\t Uzbekistan      &  -9             &  -7             &  -7             &  -7             &  -7             &  -7             &  -7             &  -7             &  -9            \\\\\n",
       "\t Venezuela       &  -3             &  -3             &   6             &   6             &   9             &   9             &   9             &   9             &   8            \\\\\n",
       "\\end{tabular}\n"
      ],
      "text/markdown": [
       "\n",
       "| country | 1952 | 1957 | 1962 | 1967 | 1972 | 1977 | 1982 | 1987 | 1992 |\n",
       "|---|---|---|---|---|---|---|---|---|---|\n",
       "| Albania        |  -9            |  -9            |  -9            |  -9            |  -9            |  -9            |  -9            |  -9            |   5            |\n",
       "| Argentina      |  -9            |  -1            |  -1            |  -9            |  -9            |  -9            |  -8            |   8            |   7            |\n",
       "| Armenia        |  -9            |  -7            |  -7            |  -7            |  -7            |  -7            |  -7            |  -7            |   7            |\n",
       "| Australia      |  10            |  10            |  10            |  10            |  10            |  10            |  10            |  10            |  10            |\n",
       "| Austria        |  10            |  10            |  10            |  10            |  10            |  10            |  10            |  10            |  10            |\n",
       "| Azerbaijan     |  -9            |  -7            |  -7            |  -7            |  -7            |  -7            |  -7            |  -7            |   1            |\n",
       "| Belarus        |  -9            |  -7            |  -7            |  -7            |  -7            |  -7            |  -7            |  -7            |   7            |\n",
       "| Belgium        |  10            |  10            |  10            |  10            |  10            |  10            |  10            |  10            |  10            |\n",
       "| Bhutan         | -10            | -10            | -10            | -10            | -10            | -10            | -10            | -10            | -10            |\n",
       "| Bolivia        |  -4            |  -3            |  -3            |  -4            |  -7            |  -7            |   8            |   9            |   9            |\n",
       "| Brazil         |   5            |   5            |   5            |  -9            |  -9            |  -4            |  -3            |   7            |   8            |\n",
       "| Bulgaria       |  -7            |  -7            |  -7            |  -7            |  -7            |  -7            |  -7            |  -7            |   8            |\n",
       "| Canada         |  10            |  10            |  10            |  10            |  10            |  10            |  10            |  10            |  10            |\n",
       "| Chile          |   2            |   5            |   5            |   6            |   6            |  -7            |  -7            |  -6            |   8            |\n",
       "| China          |  -8            |  -8            |  -8            |  -9            |  -8            |  -7            |  -7            |  -7            |  -7            |\n",
       "| Colombia       |  -5            |   7            |   7            |   7            |   7            |   8            |   8            |   8            |   9            |\n",
       "| Costa Rica     |  10            |  10            |  10            |  10            |  10            |  10            |  10            |  10            |  10            |\n",
       "| Croatia        |  -7            |  -7            |  -7            |  -7            |  -7            |  -7            |  -5            |  -5            |  -3            |\n",
       "| Cuba           |   0            |  -9            |  -7            |  -7            |  -7            |  -7            |  -7            |  -7            |  -7            |\n",
       "| Czech Rep.     |  -7            |  -7            |  -7            |  -7            |  -7            |  -7            |  -7            |  -7            |   8            |\n",
       "| Denmark        |  10            |  10            |  10            |  10            |  10            |  10            |  10            |  10            |  10            |\n",
       "| Dominican Rep. |  -9            |  -9            |   8            |  -3            |  -3            |  -3            |   6            |   6            |   6            |\n",
       "| Ecuador        |   2            |   2            |  -1            |  -1            |  -5            |  -5            |   9            |   8            |   9            |\n",
       "| Egypt          |  -7            |  -7            |  -7            |  -7            |  -7            |  -6            |  -6            |  -6            |  -6            |\n",
       "| El Salvador    |  -6            |  -5            |  -3            |   0            |  -1            |  -6            |   2            |   6            |   7            |\n",
       "| Estonia        |  -9            |  -7            |  -7            |  -7            |  -7            |  -7            |  -7            |  -7            |   6            |\n",
       "| Ethiopia       |  -9            |  -9            |  -9            |  -9            |  -9            |  -7            |  -7            |  -8            |   0            |\n",
       "| Finland        |  10            |  10            |  10            |  10            |  10            |  10            |  10            |  10            |  10            |\n",
       "| France         |  10            |  10            |   5            |   5            |   8            |   8            |   8            |   9            |   9            |\n",
       "| Georgia        |  -9            |  -7            |  -7            |  -7            |  -7            |  -7            |  -7            |  -7            |   4            |\n",
       "| ... | ... | ... | ... | ... | ... | ... | ... | ... | ... |\n",
       "| Pakistan        |   5             |   8             |   1             |   1             |   4             |  -7             |  -7             |  -4             |   8             |\n",
       "| Panama          |  -1             |   4             |   4             |   4             |  -7             |  -7             |  -5             |  -8             |   8             |\n",
       "| Paraguay        |  -5             |  -9             |  -9             |  -8             |  -8             |  -8             |  -8             |  -8             |   7             |\n",
       "| Peru            |  -2             |   5             |  -6             |   5             |  -7             |  -7             |   7             |   7             |  -3             |\n",
       "| Philippines     |   5             |   5             |   5             |   5             |  -9             |  -9             |  -7             |   8             |   8             |\n",
       "| Poland          |  -7             |  -7             |  -7             |  -7             |  -7             |  -7             |  -8             |  -6             |   8             |\n",
       "| Portugal        |  -9             |  -9             |  -9             |  -9             |  -9             |   9             |  10             |  10             |  10             |\n",
       "| Romania         |  -7             |  -7             |  -7             |  -7             |  -7             |  -8             |  -8             |  -8             |   5             |\n",
       "| Russia          |  -9             |  -7             |  -7             |  -7             |  -7             |  -7             |  -7             |  -7             |   5             |\n",
       "| Saudi Arabia    | -10             | -10             | -10             | -10             | -10             | -10             | -10             | -10             | -10             |\n",
       "| Serbia          |  -7             |  -7             |  -7             |  -7             |  -7             |  -7             |  -5             |  -5             |  -5             |\n",
       "| Slovak Republic |  -7             |  -7             |  -7             |  -7             |  -7             |  -7             |  -7             |  -7             |   8             |\n",
       "| Slovenia        |  -7             |  -7             |  -7             |  -7             |  -7             |  -7             |  -5             |  -5             |  10             |\n",
       "| South Africa    |   4             |   4             |   4             |   4             |   4             |   4             |   4             |   4             |   6             |\n",
       "| Spain           |  -7             |  -7             |  -7             |  -7             |  -7             |   5             |  10             |  10             |  10             |\n",
       "| Sri Lanka       |   7             |   7             |   7             |   7             |   8             |   8             |   5             |   5             |   5             |\n",
       "| Sweden          |  10             |  10             |  10             |  10             |  10             |  10             |  10             |  10             |  10             |\n",
       "| Switzerland     |  10             |  10             |  10             |  10             |  10             |  10             |  10             |  10             |  10             |\n",
       "| Syria           |  -7             |   7             |  -2             |  -7             |  -9             |  -9             |  -9             |  -9             |  -9             |\n",
       "| Taiwan          |  -8             |  -8             |  -8             |  -8             |  -8             |  -7             |  -7             |  -1             |   7             |\n",
       "| Tajikistan      |  -9             |  -7             |  -7             |  -7             |  -7             |  -7             |  -7             |  -7             |  -6             |\n",
       "| Thailand        |  -6             |  -3             |  -7             |  -7             |  -7             |  -2             |   2             |   2             |   9             |\n",
       "| Turkey          |   7             |   4             |   9             |   8             |  -2             |   9             |  -5             |   7             |   9             |\n",
       "| Turkmenistan    |  -9             |  -7             |  -7             |  -7             |  -7             |  -7             |  -7             |  -7             |  -9             |\n",
       "| Ukraine         |  -9             |  -7             |  -7             |  -7             |  -7             |  -7             |  -7             |  -7             |   6             |\n",
       "| United Kingdom  |  10             |  10             |  10             |  10             |  10             |  10             |  10             |  10             |  10             |\n",
       "| United States   |  10             |  10             |  10             |  10             |  10             |  10             |  10             |  10             |  10             |\n",
       "| Uruguay         |   8             |   8             |   8             |   8             |  -3             |  -8             |  -7             |   9             |  10             |\n",
       "| Uzbekistan      |  -9             |  -7             |  -7             |  -7             |  -7             |  -7             |  -7             |  -7             |  -9             |\n",
       "| Venezuela       |  -3             |  -3             |   6             |   6             |   9             |   9             |   9             |   9             |   8             |\n",
       "\n"
      ],
      "text/plain": [
       "    country         1952 1957 1962 1967 1972 1977 1982 1987 1992\n",
       "1   Albania          -9   -9   -9   -9   -9   -9   -9   -9    5 \n",
       "2   Argentina        -9   -1   -1   -9   -9   -9   -8    8    7 \n",
       "3   Armenia          -9   -7   -7   -7   -7   -7   -7   -7    7 \n",
       "4   Australia        10   10   10   10   10   10   10   10   10 \n",
       "5   Austria          10   10   10   10   10   10   10   10   10 \n",
       "6   Azerbaijan       -9   -7   -7   -7   -7   -7   -7   -7    1 \n",
       "7   Belarus          -9   -7   -7   -7   -7   -7   -7   -7    7 \n",
       "8   Belgium          10   10   10   10   10   10   10   10   10 \n",
       "9   Bhutan          -10  -10  -10  -10  -10  -10  -10  -10  -10 \n",
       "10  Bolivia          -4   -3   -3   -4   -7   -7    8    9    9 \n",
       "11  Brazil            5    5    5   -9   -9   -4   -3    7    8 \n",
       "12  Bulgaria         -7   -7   -7   -7   -7   -7   -7   -7    8 \n",
       "13  Canada           10   10   10   10   10   10   10   10   10 \n",
       "14  Chile             2    5    5    6    6   -7   -7   -6    8 \n",
       "15  China            -8   -8   -8   -9   -8   -7   -7   -7   -7 \n",
       "16  Colombia         -5    7    7    7    7    8    8    8    9 \n",
       "17  Costa Rica       10   10   10   10   10   10   10   10   10 \n",
       "18  Croatia          -7   -7   -7   -7   -7   -7   -5   -5   -3 \n",
       "19  Cuba              0   -9   -7   -7   -7   -7   -7   -7   -7 \n",
       "20  Czech Rep.       -7   -7   -7   -7   -7   -7   -7   -7    8 \n",
       "21  Denmark          10   10   10   10   10   10   10   10   10 \n",
       "22  Dominican Rep.   -9   -9    8   -3   -3   -3    6    6    6 \n",
       "23  Ecuador           2    2   -1   -1   -5   -5    9    8    9 \n",
       "24  Egypt            -7   -7   -7   -7   -7   -6   -6   -6   -6 \n",
       "25  El Salvador      -6   -5   -3    0   -1   -6    2    6    7 \n",
       "26  Estonia          -9   -7   -7   -7   -7   -7   -7   -7    6 \n",
       "27  Ethiopia         -9   -9   -9   -9   -9   -7   -7   -8    0 \n",
       "28  Finland          10   10   10   10   10   10   10   10   10 \n",
       "29  France           10   10    5    5    8    8    8    9    9 \n",
       "30  Georgia          -9   -7   -7   -7   -7   -7   -7   -7    4 \n",
       "... ...             ...  ...  ...  ...  ...  ...  ...  ...  ... \n",
       "67  Pakistan          5    8    1    1    4   -7   -7   -4    8 \n",
       "68  Panama           -1    4    4    4   -7   -7   -5   -8    8 \n",
       "69  Paraguay         -5   -9   -9   -8   -8   -8   -8   -8    7 \n",
       "70  Peru             -2    5   -6    5   -7   -7    7    7   -3 \n",
       "71  Philippines       5    5    5    5   -9   -9   -7    8    8 \n",
       "72  Poland           -7   -7   -7   -7   -7   -7   -8   -6    8 \n",
       "73  Portugal         -9   -9   -9   -9   -9    9   10   10   10 \n",
       "74  Romania          -7   -7   -7   -7   -7   -8   -8   -8    5 \n",
       "75  Russia           -9   -7   -7   -7   -7   -7   -7   -7    5 \n",
       "76  Saudi Arabia    -10  -10  -10  -10  -10  -10  -10  -10  -10 \n",
       "77  Serbia           -7   -7   -7   -7   -7   -7   -5   -5   -5 \n",
       "78  Slovak Republic  -7   -7   -7   -7   -7   -7   -7   -7    8 \n",
       "79  Slovenia         -7   -7   -7   -7   -7   -7   -5   -5   10 \n",
       "80  South Africa      4    4    4    4    4    4    4    4    6 \n",
       "81  Spain            -7   -7   -7   -7   -7    5   10   10   10 \n",
       "82  Sri Lanka         7    7    7    7    8    8    5    5    5 \n",
       "83  Sweden           10   10   10   10   10   10   10   10   10 \n",
       "84  Switzerland      10   10   10   10   10   10   10   10   10 \n",
       "85  Syria            -7    7   -2   -7   -9   -9   -9   -9   -9 \n",
       "86  Taiwan           -8   -8   -8   -8   -8   -7   -7   -1    7 \n",
       "87  Tajikistan       -9   -7   -7   -7   -7   -7   -7   -7   -6 \n",
       "88  Thailand         -6   -3   -7   -7   -7   -2    2    2    9 \n",
       "89  Turkey            7    4    9    8   -2    9   -5    7    9 \n",
       "90  Turkmenistan     -9   -7   -7   -7   -7   -7   -7   -7   -9 \n",
       "91  Ukraine          -9   -7   -7   -7   -7   -7   -7   -7    6 \n",
       "92  United Kingdom   10   10   10   10   10   10   10   10   10 \n",
       "93  United States    10   10   10   10   10   10   10   10   10 \n",
       "94  Uruguay           8    8    8    8   -3   -8   -7    9   10 \n",
       "95  Uzbekistan       -9   -7   -7   -7   -7   -7   -7   -7   -9 \n",
       "96  Venezuela        -3   -3    6    6    9    9    9    9    8 "
      ]
     },
     "metadata": {},
     "output_type": "display_data"
    }
   ],
   "source": [
    "dem_score"
   ]
  },
  {
   "cell_type": "code",
   "execution_count": 16,
   "id": "855c5093",
   "metadata": {},
   "outputs": [
    {
     "name": "stderr",
     "output_type": "stream",
     "text": [
      "Registered S3 methods overwritten by 'ggplot2':\n",
      "  method         from \n",
      "  [.quosures     rlang\n",
      "  c.quosures     rlang\n",
      "  print.quosures rlang\n"
     ]
    }
   ],
   "source": [
    "#install.packages(\"tidyr\")\n",
    "#install.packages(\"ggplot2\")\n",
    "#install.packages(\"readr\")\n",
    "library(tidyr)     # contains tools to tidy data\n",
    "library(ggplot2) # for plotting\n",
    "library(readr)     # a package for parsing data"
   ]
  },
  {
   "cell_type": "code",
   "execution_count": 17,
   "id": "b7d0d5d0",
   "metadata": {},
   "outputs": [],
   "source": [
    "UBSprices <- read.csv(\"https://raw.githubusercontent.com/ds4stats/r-tutorials/master/tidying-data/data/UBSprices.csv\", as.is = TRUE)"
   ]
  },
  {
   "cell_type": "code",
   "execution_count": 18,
   "id": "0174ed04",
   "metadata": {},
   "outputs": [
    {
     "data": {
      "text/html": [
       "<table>\n",
       "<thead><tr><th scope=col>city</th><th scope=col>rice2003</th><th scope=col>rice2009</th></tr></thead>\n",
       "<tbody>\n",
       "\t<tr><td>Amsterdam</td><td> 9       </td><td>11       </td></tr>\n",
       "\t<tr><td>Athens   </td><td>19       </td><td>27       </td></tr>\n",
       "\t<tr><td>Auckland </td><td> 9       </td><td>13       </td></tr>\n",
       "\t<tr><td>Bangkok  </td><td>25       </td><td>27       </td></tr>\n",
       "\t<tr><td>Barcelona</td><td>10       </td><td> 8       </td></tr>\n",
       "\t<tr><td>Berlin   </td><td>16       </td><td>17       </td></tr>\n",
       "</tbody>\n",
       "</table>\n"
      ],
      "text/latex": [
       "\\begin{tabular}{r|lll}\n",
       " city & rice2003 & rice2009\\\\\n",
       "\\hline\n",
       "\t Amsterdam &  9        & 11       \\\\\n",
       "\t Athens    & 19        & 27       \\\\\n",
       "\t Auckland  &  9        & 13       \\\\\n",
       "\t Bangkok   & 25        & 27       \\\\\n",
       "\t Barcelona & 10        &  8       \\\\\n",
       "\t Berlin    & 16        & 17       \\\\\n",
       "\\end{tabular}\n"
      ],
      "text/markdown": [
       "\n",
       "| city | rice2003 | rice2009 |\n",
       "|---|---|---|\n",
       "| Amsterdam |  9        | 11        |\n",
       "| Athens    | 19        | 27        |\n",
       "| Auckland  |  9        | 13        |\n",
       "| Bangkok   | 25        | 27        |\n",
       "| Barcelona | 10        |  8        |\n",
       "| Berlin    | 16        | 17        |\n",
       "\n"
      ],
      "text/plain": [
       "  city      rice2003 rice2009\n",
       "1 Amsterdam  9       11      \n",
       "2 Athens    19       27      \n",
       "3 Auckland   9       13      \n",
       "4 Bangkok   25       27      \n",
       "5 Barcelona 10        8      \n",
       "6 Berlin    16       17      "
      ]
     },
     "metadata": {},
     "output_type": "display_data"
    }
   ],
   "source": [
    "head(UBSprices)"
   ]
  },
  {
   "cell_type": "code",
   "execution_count": 19,
   "id": "492398d2",
   "metadata": {},
   "outputs": [],
   "source": [
    "polls <- read.csv(\"https://raw.githubusercontent.com/ds4stats/r-tutorials/master/tidying-data/data/rcp-polls.csv\", na.strings = \"--\", as.is = TRUE)"
   ]
  },
  {
   "cell_type": "code",
   "execution_count": 20,
   "id": "2ebbd335",
   "metadata": {},
   "outputs": [],
   "source": [
    "airlines <- read.csv(\"https://raw.githubusercontent.com/ds4stats/r-tutorials/master/tidying-data/data/airline-safety.csv\", as.is = TRUE)"
   ]
  },
  {
   "cell_type": "code",
   "execution_count": 21,
   "id": "d9f03ede",
   "metadata": {},
   "outputs": [
    {
     "data": {
      "text/html": [
       "<table>\n",
       "<thead><tr><th scope=col>city</th><th scope=col>year</th><th scope=col>price</th></tr></thead>\n",
       "<tbody>\n",
       "\t<tr><td>Amsterdam</td><td>rice2003 </td><td> 9       </td></tr>\n",
       "\t<tr><td>Athens   </td><td>rice2003 </td><td>19       </td></tr>\n",
       "\t<tr><td>Auckland </td><td>rice2003 </td><td> 9       </td></tr>\n",
       "\t<tr><td>Bangkok  </td><td>rice2003 </td><td>25       </td></tr>\n",
       "\t<tr><td>Barcelona</td><td>rice2003 </td><td>10       </td></tr>\n",
       "\t<tr><td>Berlin   </td><td>rice2003 </td><td>16       </td></tr>\n",
       "</tbody>\n",
       "</table>\n"
      ],
      "text/latex": [
       "\\begin{tabular}{r|lll}\n",
       " city & year & price\\\\\n",
       "\\hline\n",
       "\t Amsterdam & rice2003  &  9       \\\\\n",
       "\t Athens    & rice2003  & 19       \\\\\n",
       "\t Auckland  & rice2003  &  9       \\\\\n",
       "\t Bangkok   & rice2003  & 25       \\\\\n",
       "\t Barcelona & rice2003  & 10       \\\\\n",
       "\t Berlin    & rice2003  & 16       \\\\\n",
       "\\end{tabular}\n"
      ],
      "text/markdown": [
       "\n",
       "| city | year | price |\n",
       "|---|---|---|\n",
       "| Amsterdam | rice2003  |  9        |\n",
       "| Athens    | rice2003  | 19        |\n",
       "| Auckland  | rice2003  |  9        |\n",
       "| Bangkok   | rice2003  | 25        |\n",
       "| Barcelona | rice2003  | 10        |\n",
       "| Berlin    | rice2003  | 16        |\n",
       "\n"
      ],
      "text/plain": [
       "  city      year     price\n",
       "1 Amsterdam rice2003  9   \n",
       "2 Athens    rice2003 19   \n",
       "3 Auckland  rice2003  9   \n",
       "4 Bangkok   rice2003 25   \n",
       "5 Barcelona rice2003 10   \n",
       "6 Berlin    rice2003 16   "
      ]
     },
     "metadata": {},
     "output_type": "display_data"
    }
   ],
   "source": [
    "tidy_ubs <- gather(data = UBSprices, key = year, value = price, rice2003, rice2009)\n",
    "head(tidy_ubs)"
   ]
  },
  {
   "cell_type": "code",
   "execution_count": 22,
   "id": "fee33981",
   "metadata": {},
   "outputs": [
    {
     "data": {
      "text/html": [
       "<table>\n",
       "<thead><tr><th scope=col>city</th><th scope=col>year</th><th scope=col>price</th></tr></thead>\n",
       "<tbody>\n",
       "\t<tr><td>Amsterdam</td><td>2003     </td><td> 9       </td></tr>\n",
       "\t<tr><td>Athens   </td><td>2003     </td><td>19       </td></tr>\n",
       "\t<tr><td>Auckland </td><td>2003     </td><td> 9       </td></tr>\n",
       "\t<tr><td>Bangkok  </td><td>2003     </td><td>25       </td></tr>\n",
       "\t<tr><td>Barcelona</td><td>2003     </td><td>10       </td></tr>\n",
       "\t<tr><td>Berlin   </td><td>2003     </td><td>16       </td></tr>\n",
       "</tbody>\n",
       "</table>\n"
      ],
      "text/latex": [
       "\\begin{tabular}{r|lll}\n",
       " city & year & price\\\\\n",
       "\\hline\n",
       "\t Amsterdam & 2003      &  9       \\\\\n",
       "\t Athens    & 2003      & 19       \\\\\n",
       "\t Auckland  & 2003      &  9       \\\\\n",
       "\t Bangkok   & 2003      & 25       \\\\\n",
       "\t Barcelona & 2003      & 10       \\\\\n",
       "\t Berlin    & 2003      & 16       \\\\\n",
       "\\end{tabular}\n"
      ],
      "text/markdown": [
       "\n",
       "| city | year | price |\n",
       "|---|---|---|\n",
       "| Amsterdam | 2003      |  9        |\n",
       "| Athens    | 2003      | 19        |\n",
       "| Auckland  | 2003      |  9        |\n",
       "| Bangkok   | 2003      | 25        |\n",
       "| Barcelona | 2003      | 10        |\n",
       "| Berlin    | 2003      | 16        |\n",
       "\n"
      ],
      "text/plain": [
       "  city      year price\n",
       "1 Amsterdam 2003  9   \n",
       "2 Athens    2003 19   \n",
       "3 Auckland  2003  9   \n",
       "4 Bangkok   2003 25   \n",
       "5 Barcelona 2003 10   \n",
       "6 Berlin    2003 16   "
      ]
     },
     "metadata": {},
     "output_type": "display_data"
    }
   ],
   "source": [
    "tidy_ubs$year <- parse_number(tidy_ubs$year)\n",
    "head(tidy_ubs)"
   ]
  },
  {
   "cell_type": "code",
   "execution_count": 23,
   "id": "a0b3f203",
   "metadata": {},
   "outputs": [
    {
     "data": {
      "image/png": "[encoded data removed]",
      "text/plain": [
       "plot without title"
      ]
     },
     "metadata": {},
     "output_type": "display_data"
    }
   ],
   "source": [
    "qplot(data=tidy_ubs, x= factor(year), y=price, geom=\"boxplot\")"
   ]
  },
  {
   "cell_type": "code",
   "execution_count": 24,
   "id": "1b5df4bc",
   "metadata": {},
   "outputs": [
    {
     "data": {
      "text/html": [
       "<table>\n",
       "<thead><tr><th scope=col>Poll</th><th scope=col>Date</th><th scope=col>Sample</th><th scope=col>MoE</th><th scope=col>Clinton..D.</th><th scope=col>Trump..R.</th><th scope=col>Johnson..L.</th><th scope=col>Stein..G.</th></tr></thead>\n",
       "<tbody>\n",
       "\t<tr><td>Monmouth              </td><td>7/14 - 7/16           </td><td>688 LV                </td><td>3.7                   </td><td>45                    </td><td>43                    </td><td> 5                    </td><td>1                     </td></tr>\n",
       "\t<tr><td>CNN/ORC               </td><td>7/13 - 7/16           </td><td>872 RV                </td><td>3.5                   </td><td>42                    </td><td>37                    </td><td>13                    </td><td>5                     </td></tr>\n",
       "\t<tr><td>ABC News/Wash Post    </td><td>7/11 - 7/14           </td><td>816 RV                </td><td>4.0                   </td><td>42                    </td><td>38                    </td><td> 8                    </td><td>5                     </td></tr>\n",
       "\t<tr><td>NBC News/Wall St. Jrnl</td><td>7/9 - 7/13            </td><td>1000 RV               </td><td>3.1                   </td><td>41                    </td><td>35                    </td><td>11                    </td><td>6                     </td></tr>\n",
       "\t<tr><td>Economist/YouGov      </td><td>7/9 - 7/11            </td><td>932 RV                </td><td>4.5                   </td><td>40                    </td><td>37                    </td><td> 5                    </td><td>2                     </td></tr>\n",
       "\t<tr><td>Associated Press-GfK  </td><td>7/7 - 7/11            </td><td>837 RV                </td><td> NA                   </td><td>40                    </td><td>36                    </td><td> 6                    </td><td>2                     </td></tr>\n",
       "\t<tr><td>McClatchy/Marist      </td><td>7/5 - 7/9             </td><td>1053 RV               </td><td>3.0                   </td><td>40                    </td><td>35                    </td><td>10                    </td><td>5                     </td></tr>\n",
       "</tbody>\n",
       "</table>\n"
      ],
      "text/latex": [
       "\\begin{tabular}{r|llllllll}\n",
       " Poll & Date & Sample & MoE & Clinton..D. & Trump..R. & Johnson..L. & Stein..G.\\\\\n",
       "\\hline\n",
       "\t Monmouth               & 7/14 - 7/16            & 688 LV                 & 3.7                    & 45                     & 43                     &  5                     & 1                     \\\\\n",
       "\t CNN/ORC                & 7/13 - 7/16            & 872 RV                 & 3.5                    & 42                     & 37                     & 13                     & 5                     \\\\\n",
       "\t ABC News/Wash Post     & 7/11 - 7/14            & 816 RV                 & 4.0                    & 42                     & 38                     &  8                     & 5                     \\\\\n",
       "\t NBC News/Wall St. Jrnl & 7/9 - 7/13             & 1000 RV                & 3.1                    & 41                     & 35                     & 11                     & 6                     \\\\\n",
       "\t Economist/YouGov       & 7/9 - 7/11             & 932 RV                 & 4.5                    & 40                     & 37                     &  5                     & 2                     \\\\\n",
       "\t Associated Press-GfK   & 7/7 - 7/11             & 837 RV                 &  NA                    & 40                     & 36                     &  6                     & 2                     \\\\\n",
       "\t McClatchy/Marist       & 7/5 - 7/9              & 1053 RV                & 3.0                    & 40                     & 35                     & 10                     & 5                     \\\\\n",
       "\\end{tabular}\n"
      ],
      "text/markdown": [
       "\n",
       "| Poll | Date | Sample | MoE | Clinton..D. | Trump..R. | Johnson..L. | Stein..G. |\n",
       "|---|---|---|---|---|---|---|---|\n",
       "| Monmouth               | 7/14 - 7/16            | 688 LV                 | 3.7                    | 45                     | 43                     |  5                     | 1                      |\n",
       "| CNN/ORC                | 7/13 - 7/16            | 872 RV                 | 3.5                    | 42                     | 37                     | 13                     | 5                      |\n",
       "| ABC News/Wash Post     | 7/11 - 7/14            | 816 RV                 | 4.0                    | 42                     | 38                     |  8                     | 5                      |\n",
       "| NBC News/Wall St. Jrnl | 7/9 - 7/13             | 1000 RV                | 3.1                    | 41                     | 35                     | 11                     | 6                      |\n",
       "| Economist/YouGov       | 7/9 - 7/11             | 932 RV                 | 4.5                    | 40                     | 37                     |  5                     | 2                      |\n",
       "| Associated Press-GfK   | 7/7 - 7/11             | 837 RV                 |  NA                    | 40                     | 36                     |  6                     | 2                      |\n",
       "| McClatchy/Marist       | 7/5 - 7/9              | 1053 RV                | 3.0                    | 40                     | 35                     | 10                     | 5                      |\n",
       "\n"
      ],
      "text/plain": [
       "  Poll                   Date        Sample  MoE Clinton..D. Trump..R.\n",
       "1 Monmouth               7/14 - 7/16 688 LV  3.7 45          43       \n",
       "2 CNN/ORC                7/13 - 7/16 872 RV  3.5 42          37       \n",
       "3 ABC News/Wash Post     7/11 - 7/14 816 RV  4.0 42          38       \n",
       "4 NBC News/Wall St. Jrnl 7/9 - 7/13  1000 RV 3.1 41          35       \n",
       "5 Economist/YouGov       7/9 - 7/11  932 RV  4.5 40          37       \n",
       "6 Associated Press-GfK   7/7 - 7/11  837 RV   NA 40          36       \n",
       "7 McClatchy/Marist       7/5 - 7/9   1053 RV 3.0 40          35       \n",
       "  Johnson..L. Stein..G.\n",
       "1  5          1        \n",
       "2 13          5        \n",
       "3  8          5        \n",
       "4 11          6        \n",
       "5  5          2        \n",
       "6  6          2        \n",
       "7 10          5        "
      ]
     },
     "metadata": {},
     "output_type": "display_data"
    }
   ],
   "source": [
    "polls"
   ]
  },
  {
   "cell_type": "code",
   "execution_count": 25,
   "id": "746a283f",
   "metadata": {},
   "outputs": [
    {
     "data": {
      "text/html": [
       "<table>\n",
       "<thead><tr><th scope=col>Poll</th><th scope=col>Begin</th><th scope=col>End</th><th scope=col>Sample</th><th scope=col>MoE</th><th scope=col>Clinton..D.</th><th scope=col>Trump..R.</th><th scope=col>Johnson..L.</th><th scope=col>Stein..G.</th></tr></thead>\n",
       "<tbody>\n",
       "\t<tr><td>Monmouth              </td><td>7/14                  </td><td>7/16                  </td><td>688 LV                </td><td>3.7                   </td><td>45                    </td><td>43                    </td><td> 5                    </td><td>1                     </td></tr>\n",
       "\t<tr><td>CNN/ORC               </td><td>7/13                  </td><td>7/16                  </td><td>872 RV                </td><td>3.5                   </td><td>42                    </td><td>37                    </td><td>13                    </td><td>5                     </td></tr>\n",
       "\t<tr><td>ABC News/Wash Post    </td><td>7/11                  </td><td>7/14                  </td><td>816 RV                </td><td>4.0                   </td><td>42                    </td><td>38                    </td><td> 8                    </td><td>5                     </td></tr>\n",
       "\t<tr><td>NBC News/Wall St. Jrnl</td><td>7/9                   </td><td>7/13                  </td><td>1000 RV               </td><td>3.1                   </td><td>41                    </td><td>35                    </td><td>11                    </td><td>6                     </td></tr>\n",
       "\t<tr><td>Economist/YouGov      </td><td>7/9                   </td><td>7/11                  </td><td>932 RV                </td><td>4.5                   </td><td>40                    </td><td>37                    </td><td> 5                    </td><td>2                     </td></tr>\n",
       "\t<tr><td>Associated Press-GfK  </td><td>7/7                   </td><td>7/11                  </td><td>837 RV                </td><td> NA                   </td><td>40                    </td><td>36                    </td><td> 6                    </td><td>2                     </td></tr>\n",
       "\t<tr><td>McClatchy/Marist      </td><td>7/5                   </td><td>7/9                   </td><td>1053 RV               </td><td>3.0                   </td><td>40                    </td><td>35                    </td><td>10                    </td><td>5                     </td></tr>\n",
       "</tbody>\n",
       "</table>\n"
      ],
      "text/latex": [
       "\\begin{tabular}{r|lllllllll}\n",
       " Poll & Begin & End & Sample & MoE & Clinton..D. & Trump..R. & Johnson..L. & Stein..G.\\\\\n",
       "\\hline\n",
       "\t Monmouth               & 7/14                   & 7/16                   & 688 LV                 & 3.7                    & 45                     & 43                     &  5                     & 1                     \\\\\n",
       "\t CNN/ORC                & 7/13                   & 7/16                   & 872 RV                 & 3.5                    & 42                     & 37                     & 13                     & 5                     \\\\\n",
       "\t ABC News/Wash Post     & 7/11                   & 7/14                   & 816 RV                 & 4.0                    & 42                     & 38                     &  8                     & 5                     \\\\\n",
       "\t NBC News/Wall St. Jrnl & 7/9                    & 7/13                   & 1000 RV                & 3.1                    & 41                     & 35                     & 11                     & 6                     \\\\\n",
       "\t Economist/YouGov       & 7/9                    & 7/11                   & 932 RV                 & 4.5                    & 40                     & 37                     &  5                     & 2                     \\\\\n",
       "\t Associated Press-GfK   & 7/7                    & 7/11                   & 837 RV                 &  NA                    & 40                     & 36                     &  6                     & 2                     \\\\\n",
       "\t McClatchy/Marist       & 7/5                    & 7/9                    & 1053 RV                & 3.0                    & 40                     & 35                     & 10                     & 5                     \\\\\n",
       "\\end{tabular}\n"
      ],
      "text/markdown": [
       "\n",
       "| Poll | Begin | End | Sample | MoE | Clinton..D. | Trump..R. | Johnson..L. | Stein..G. |\n",
       "|---|---|---|---|---|---|---|---|---|\n",
       "| Monmouth               | 7/14                   | 7/16                   | 688 LV                 | 3.7                    | 45                     | 43                     |  5                     | 1                      |\n",
       "| CNN/ORC                | 7/13                   | 7/16                   | 872 RV                 | 3.5                    | 42                     | 37                     | 13                     | 5                      |\n",
       "| ABC News/Wash Post     | 7/11                   | 7/14                   | 816 RV                 | 4.0                    | 42                     | 38                     |  8                     | 5                      |\n",
       "| NBC News/Wall St. Jrnl | 7/9                    | 7/13                   | 1000 RV                | 3.1                    | 41                     | 35                     | 11                     | 6                      |\n",
       "| Economist/YouGov       | 7/9                    | 7/11                   | 932 RV                 | 4.5                    | 40                     | 37                     |  5                     | 2                      |\n",
       "| Associated Press-GfK   | 7/7                    | 7/11                   | 837 RV                 |  NA                    | 40                     | 36                     |  6                     | 2                      |\n",
       "| McClatchy/Marist       | 7/5                    | 7/9                    | 1053 RV                | 3.0                    | 40                     | 35                     | 10                     | 5                      |\n",
       "\n"
      ],
      "text/plain": [
       "  Poll                   Begin End  Sample  MoE Clinton..D. Trump..R.\n",
       "1 Monmouth               7/14  7/16 688 LV  3.7 45          43       \n",
       "2 CNN/ORC                7/13  7/16 872 RV  3.5 42          37       \n",
       "3 ABC News/Wash Post     7/11  7/14 816 RV  4.0 42          38       \n",
       "4 NBC News/Wall St. Jrnl 7/9   7/13 1000 RV 3.1 41          35       \n",
       "5 Economist/YouGov       7/9   7/11 932 RV  4.5 40          37       \n",
       "6 Associated Press-GfK   7/7   7/11 837 RV   NA 40          36       \n",
       "7 McClatchy/Marist       7/5   7/9  1053 RV 3.0 40          35       \n",
       "  Johnson..L. Stein..G.\n",
       "1  5          1        \n",
       "2 13          5        \n",
       "3  8          5        \n",
       "4 11          6        \n",
       "5  5          2        \n",
       "6  6          2        \n",
       "7 10          5        "
      ]
     },
     "metadata": {},
     "output_type": "display_data"
    }
   ],
   "source": [
    "tidy_polls <- separate(data = polls, col = Date, into = c(\"Begin\", \"End\"), sep = \" - \")\n",
    "tidy_polls"
   ]
  },
  {
   "cell_type": "code",
   "execution_count": 26,
   "id": "c84323df",
   "metadata": {},
   "outputs": [
    {
     "data": {
      "text/html": [
       "<table>\n",
       "<thead><tr><th scope=col>Poll</th><th scope=col>Begin</th><th scope=col>End</th><th scope=col>size</th><th scope=col>population</th><th scope=col>MoE</th><th scope=col>Clinton..D.</th><th scope=col>Trump..R.</th><th scope=col>Johnson..L.</th><th scope=col>Stein..G.</th></tr></thead>\n",
       "<tbody>\n",
       "\t<tr><td>Monmouth              </td><td>7/14                  </td><td>7/16                  </td><td>688                   </td><td>LV                    </td><td>3.7                   </td><td>45                    </td><td>43                    </td><td> 5                    </td><td>1                     </td></tr>\n",
       "\t<tr><td>CNN/ORC               </td><td>7/13                  </td><td>7/16                  </td><td>872                   </td><td>RV                    </td><td>3.5                   </td><td>42                    </td><td>37                    </td><td>13                    </td><td>5                     </td></tr>\n",
       "\t<tr><td>ABC News/Wash Post    </td><td>7/11                  </td><td>7/14                  </td><td>816                   </td><td>RV                    </td><td>4.0                   </td><td>42                    </td><td>38                    </td><td> 8                    </td><td>5                     </td></tr>\n",
       "\t<tr><td>NBC News/Wall St. Jrnl</td><td>7/9                   </td><td>7/13                  </td><td>1000                  </td><td>RV                    </td><td>3.1                   </td><td>41                    </td><td>35                    </td><td>11                    </td><td>6                     </td></tr>\n",
       "\t<tr><td>Economist/YouGov      </td><td>7/9                   </td><td>7/11                  </td><td>932                   </td><td>RV                    </td><td>4.5                   </td><td>40                    </td><td>37                    </td><td> 5                    </td><td>2                     </td></tr>\n",
       "\t<tr><td>Associated Press-GfK  </td><td>7/7                   </td><td>7/11                  </td><td>837                   </td><td>RV                    </td><td> NA                   </td><td>40                    </td><td>36                    </td><td> 6                    </td><td>2                     </td></tr>\n",
       "\t<tr><td>McClatchy/Marist      </td><td>7/5                   </td><td>7/9                   </td><td>1053                  </td><td>RV                    </td><td>3.0                   </td><td>40                    </td><td>35                    </td><td>10                    </td><td>5                     </td></tr>\n",
       "</tbody>\n",
       "</table>\n"
      ],
      "text/latex": [
       "\\begin{tabular}{r|llllllllll}\n",
       " Poll & Begin & End & size & population & MoE & Clinton..D. & Trump..R. & Johnson..L. & Stein..G.\\\\\n",
       "\\hline\n",
       "\t Monmouth               & 7/14                   & 7/16                   & 688                    & LV                     & 3.7                    & 45                     & 43                     &  5                     & 1                     \\\\\n",
       "\t CNN/ORC                & 7/13                   & 7/16                   & 872                    & RV                     & 3.5                    & 42                     & 37                     & 13                     & 5                     \\\\\n",
       "\t ABC News/Wash Post     & 7/11                   & 7/14                   & 816                    & RV                     & 4.0                    & 42                     & 38                     &  8                     & 5                     \\\\\n",
       "\t NBC News/Wall St. Jrnl & 7/9                    & 7/13                   & 1000                   & RV                     & 3.1                    & 41                     & 35                     & 11                     & 6                     \\\\\n",
       "\t Economist/YouGov       & 7/9                    & 7/11                   & 932                    & RV                     & 4.5                    & 40                     & 37                     &  5                     & 2                     \\\\\n",
       "\t Associated Press-GfK   & 7/7                    & 7/11                   & 837                    & RV                     &  NA                    & 40                     & 36                     &  6                     & 2                     \\\\\n",
       "\t McClatchy/Marist       & 7/5                    & 7/9                    & 1053                   & RV                     & 3.0                    & 40                     & 35                     & 10                     & 5                     \\\\\n",
       "\\end{tabular}\n"
      ],
      "text/markdown": [
       "\n",
       "| Poll | Begin | End | size | population | MoE | Clinton..D. | Trump..R. | Johnson..L. | Stein..G. |\n",
       "|---|---|---|---|---|---|---|---|---|---|\n",
       "| Monmouth               | 7/14                   | 7/16                   | 688                    | LV                     | 3.7                    | 45                     | 43                     |  5                     | 1                      |\n",
       "| CNN/ORC                | 7/13                   | 7/16                   | 872                    | RV                     | 3.5                    | 42                     | 37                     | 13                     | 5                      |\n",
       "| ABC News/Wash Post     | 7/11                   | 7/14                   | 816                    | RV                     | 4.0                    | 42                     | 38                     |  8                     | 5                      |\n",
       "| NBC News/Wall St. Jrnl | 7/9                    | 7/13                   | 1000                   | RV                     | 3.1                    | 41                     | 35                     | 11                     | 6                      |\n",
       "| Economist/YouGov       | 7/9                    | 7/11                   | 932                    | RV                     | 4.5                    | 40                     | 37                     |  5                     | 2                      |\n",
       "| Associated Press-GfK   | 7/7                    | 7/11                   | 837                    | RV                     |  NA                    | 40                     | 36                     |  6                     | 2                      |\n",
       "| McClatchy/Marist       | 7/5                    | 7/9                    | 1053                   | RV                     | 3.0                    | 40                     | 35                     | 10                     | 5                      |\n",
       "\n"
      ],
      "text/plain": [
       "  Poll                   Begin End  size population MoE Clinton..D. Trump..R.\n",
       "1 Monmouth               7/14  7/16 688  LV         3.7 45          43       \n",
       "2 CNN/ORC                7/13  7/16 872  RV         3.5 42          37       \n",
       "3 ABC News/Wash Post     7/11  7/14 816  RV         4.0 42          38       \n",
       "4 NBC News/Wall St. Jrnl 7/9   7/13 1000 RV         3.1 41          35       \n",
       "5 Economist/YouGov       7/9   7/11 932  RV         4.5 40          37       \n",
       "6 Associated Press-GfK   7/7   7/11 837  RV          NA 40          36       \n",
       "7 McClatchy/Marist       7/5   7/9  1053 RV         3.0 40          35       \n",
       "  Johnson..L. Stein..G.\n",
       "1  5          1        \n",
       "2 13          5        \n",
       "3  8          5        \n",
       "4 11          6        \n",
       "5  5          2        \n",
       "6  6          2        \n",
       "7 10          5        "
      ]
     },
     "metadata": {},
     "output_type": "display_data"
    }
   ],
   "source": [
    "tidy_polls <- separate(data = tidy_polls, col = Sample, into = c(\"size\", \"population\"), sep = \" \")\n",
    "tidy_polls"
   ]
  },
  {
   "cell_type": "code",
   "execution_count": 27,
   "id": "13a454d1",
   "metadata": {},
   "outputs": [
    {
     "data": {
      "text/html": [
       "<table>\n",
       "<thead><tr><th scope=col>Poll</th><th scope=col>Begin</th><th scope=col>End</th><th scope=col>size</th><th scope=col>population</th><th scope=col>MoE</th><th scope=col>candidate</th><th scope=col>percentage</th></tr></thead>\n",
       "<tbody>\n",
       "\t<tr><td>Monmouth              </td><td>7/14                  </td><td>7/16                  </td><td>688                   </td><td>LV                    </td><td>3.7                   </td><td>Clinton..D.           </td><td>45                    </td></tr>\n",
       "\t<tr><td>CNN/ORC               </td><td>7/13                  </td><td>7/16                  </td><td>872                   </td><td>RV                    </td><td>3.5                   </td><td>Clinton..D.           </td><td>42                    </td></tr>\n",
       "\t<tr><td>ABC News/Wash Post    </td><td>7/11                  </td><td>7/14                  </td><td>816                   </td><td>RV                    </td><td>4.0                   </td><td>Clinton..D.           </td><td>42                    </td></tr>\n",
       "\t<tr><td>NBC News/Wall St. Jrnl</td><td>7/9                   </td><td>7/13                  </td><td>1000                  </td><td>RV                    </td><td>3.1                   </td><td>Clinton..D.           </td><td>41                    </td></tr>\n",
       "\t<tr><td>Economist/YouGov      </td><td>7/9                   </td><td>7/11                  </td><td>932                   </td><td>RV                    </td><td>4.5                   </td><td>Clinton..D.           </td><td>40                    </td></tr>\n",
       "\t<tr><td>Associated Press-GfK  </td><td>7/7                   </td><td>7/11                  </td><td>837                   </td><td>RV                    </td><td> NA                   </td><td>Clinton..D.           </td><td>40                    </td></tr>\n",
       "</tbody>\n",
       "</table>\n"
      ],
      "text/latex": [
       "\\begin{tabular}{r|llllllll}\n",
       " Poll & Begin & End & size & population & MoE & candidate & percentage\\\\\n",
       "\\hline\n",
       "\t Monmouth               & 7/14                   & 7/16                   & 688                    & LV                     & 3.7                    & Clinton..D.            & 45                    \\\\\n",
       "\t CNN/ORC                & 7/13                   & 7/16                   & 872                    & RV                     & 3.5                    & Clinton..D.            & 42                    \\\\\n",
       "\t ABC News/Wash Post     & 7/11                   & 7/14                   & 816                    & RV                     & 4.0                    & Clinton..D.            & 42                    \\\\\n",
       "\t NBC News/Wall St. Jrnl & 7/9                    & 7/13                   & 1000                   & RV                     & 3.1                    & Clinton..D.            & 41                    \\\\\n",
       "\t Economist/YouGov       & 7/9                    & 7/11                   & 932                    & RV                     & 4.5                    & Clinton..D.            & 40                    \\\\\n",
       "\t Associated Press-GfK   & 7/7                    & 7/11                   & 837                    & RV                     &  NA                    & Clinton..D.            & 40                    \\\\\n",
       "\\end{tabular}\n"
      ],
      "text/markdown": [
       "\n",
       "| Poll | Begin | End | size | population | MoE | candidate | percentage |\n",
       "|---|---|---|---|---|---|---|---|\n",
       "| Monmouth               | 7/14                   | 7/16                   | 688                    | LV                     | 3.7                    | Clinton..D.            | 45                     |\n",
       "| CNN/ORC                | 7/13                   | 7/16                   | 872                    | RV                     | 3.5                    | Clinton..D.            | 42                     |\n",
       "| ABC News/Wash Post     | 7/11                   | 7/14                   | 816                    | RV                     | 4.0                    | Clinton..D.            | 42                     |\n",
       "| NBC News/Wall St. Jrnl | 7/9                    | 7/13                   | 1000                   | RV                     | 3.1                    | Clinton..D.            | 41                     |\n",
       "| Economist/YouGov       | 7/9                    | 7/11                   | 932                    | RV                     | 4.5                    | Clinton..D.            | 40                     |\n",
       "| Associated Press-GfK   | 7/7                    | 7/11                   | 837                    | RV                     |  NA                    | Clinton..D.            | 40                     |\n",
       "\n"
      ],
      "text/plain": [
       "  Poll                   Begin End  size population MoE candidate   percentage\n",
       "1 Monmouth               7/14  7/16 688  LV         3.7 Clinton..D. 45        \n",
       "2 CNN/ORC                7/13  7/16 872  RV         3.5 Clinton..D. 42        \n",
       "3 ABC News/Wash Post     7/11  7/14 816  RV         4.0 Clinton..D. 42        \n",
       "4 NBC News/Wall St. Jrnl 7/9   7/13 1000 RV         3.1 Clinton..D. 41        \n",
       "5 Economist/YouGov       7/9   7/11 932  RV         4.5 Clinton..D. 40        \n",
       "6 Associated Press-GfK   7/7   7/11 837  RV          NA Clinton..D. 40        "
      ]
     },
     "metadata": {},
     "output_type": "display_data"
    }
   ],
   "source": [
    "tidy_polls <- gather(data = tidy_polls, key = candidate, value = percentage, 7:10)\n",
    "head(tidy_polls)"
   ]
  },
  {
   "cell_type": "code",
   "execution_count": 28,
   "id": "0f3ac3f5",
   "metadata": {},
   "outputs": [
    {
     "name": "stderr",
     "output_type": "stream",
     "text": [
      "Warning message:\n",
      "\"Expected 2 pieces. Additional pieces discarded in 28 rows [1, 2, 3, 4, 5, 6, 7, 8, 9, 10, 11, 12, 13, 14, 15, 16, 17, 18, 19, 20, ...].\""
     ]
    }
   ],
   "source": [
    "tidy_polls <- separate(tidy_polls, candidate, into= c(\"candidate\", \"party\"))"
   ]
  },
  {
   "cell_type": "code",
   "execution_count": 29,
   "id": "57c34842",
   "metadata": {},
   "outputs": [
    {
     "data": {
      "text/html": [
       "<table>\n",
       "<thead><tr><th scope=col>Poll</th><th scope=col>Begin</th><th scope=col>End</th><th scope=col>size</th><th scope=col>population</th><th scope=col>MoE</th><th scope=col>candidate</th><th scope=col>party</th><th scope=col>percentage</th></tr></thead>\n",
       "<tbody>\n",
       "\t<tr><td>Monmouth              </td><td>7/14                  </td><td>7/16                  </td><td>688                   </td><td>LV                    </td><td>3.7                   </td><td>Clinton               </td><td>D                     </td><td>45                    </td></tr>\n",
       "\t<tr><td>CNN/ORC               </td><td>7/13                  </td><td>7/16                  </td><td>872                   </td><td>RV                    </td><td>3.5                   </td><td>Clinton               </td><td>D                     </td><td>42                    </td></tr>\n",
       "\t<tr><td>ABC News/Wash Post    </td><td>7/11                  </td><td>7/14                  </td><td>816                   </td><td>RV                    </td><td>4.0                   </td><td>Clinton               </td><td>D                     </td><td>42                    </td></tr>\n",
       "\t<tr><td>NBC News/Wall St. Jrnl</td><td>7/9                   </td><td>7/13                  </td><td>1000                  </td><td>RV                    </td><td>3.1                   </td><td>Clinton               </td><td>D                     </td><td>41                    </td></tr>\n",
       "\t<tr><td>Economist/YouGov      </td><td>7/9                   </td><td>7/11                  </td><td>932                   </td><td>RV                    </td><td>4.5                   </td><td>Clinton               </td><td>D                     </td><td>40                    </td></tr>\n",
       "\t<tr><td>Associated Press-GfK  </td><td>7/7                   </td><td>7/11                  </td><td>837                   </td><td>RV                    </td><td> NA                   </td><td>Clinton               </td><td>D                     </td><td>40                    </td></tr>\n",
       "</tbody>\n",
       "</table>\n"
      ],
      "text/latex": [
       "\\begin{tabular}{r|lllllllll}\n",
       " Poll & Begin & End & size & population & MoE & candidate & party & percentage\\\\\n",
       "\\hline\n",
       "\t Monmouth               & 7/14                   & 7/16                   & 688                    & LV                     & 3.7                    & Clinton                & D                      & 45                    \\\\\n",
       "\t CNN/ORC                & 7/13                   & 7/16                   & 872                    & RV                     & 3.5                    & Clinton                & D                      & 42                    \\\\\n",
       "\t ABC News/Wash Post     & 7/11                   & 7/14                   & 816                    & RV                     & 4.0                    & Clinton                & D                      & 42                    \\\\\n",
       "\t NBC News/Wall St. Jrnl & 7/9                    & 7/13                   & 1000                   & RV                     & 3.1                    & Clinton                & D                      & 41                    \\\\\n",
       "\t Economist/YouGov       & 7/9                    & 7/11                   & 932                    & RV                     & 4.5                    & Clinton                & D                      & 40                    \\\\\n",
       "\t Associated Press-GfK   & 7/7                    & 7/11                   & 837                    & RV                     &  NA                    & Clinton                & D                      & 40                    \\\\\n",
       "\\end{tabular}\n"
      ],
      "text/markdown": [
       "\n",
       "| Poll | Begin | End | size | population | MoE | candidate | party | percentage |\n",
       "|---|---|---|---|---|---|---|---|---|\n",
       "| Monmouth               | 7/14                   | 7/16                   | 688                    | LV                     | 3.7                    | Clinton                | D                      | 45                     |\n",
       "| CNN/ORC                | 7/13                   | 7/16                   | 872                    | RV                     | 3.5                    | Clinton                | D                      | 42                     |\n",
       "| ABC News/Wash Post     | 7/11                   | 7/14                   | 816                    | RV                     | 4.0                    | Clinton                | D                      | 42                     |\n",
       "| NBC News/Wall St. Jrnl | 7/9                    | 7/13                   | 1000                   | RV                     | 3.1                    | Clinton                | D                      | 41                     |\n",
       "| Economist/YouGov       | 7/9                    | 7/11                   | 932                    | RV                     | 4.5                    | Clinton                | D                      | 40                     |\n",
       "| Associated Press-GfK   | 7/7                    | 7/11                   | 837                    | RV                     |  NA                    | Clinton                | D                      | 40                     |\n",
       "\n"
      ],
      "text/plain": [
       "  Poll                   Begin End  size population MoE candidate party\n",
       "1 Monmouth               7/14  7/16 688  LV         3.7 Clinton   D    \n",
       "2 CNN/ORC                7/13  7/16 872  RV         3.5 Clinton   D    \n",
       "3 ABC News/Wash Post     7/11  7/14 816  RV         4.0 Clinton   D    \n",
       "4 NBC News/Wall St. Jrnl 7/9   7/13 1000 RV         3.1 Clinton   D    \n",
       "5 Economist/YouGov       7/9   7/11 932  RV         4.5 Clinton   D    \n",
       "6 Associated Press-GfK   7/7   7/11 837  RV          NA Clinton   D    \n",
       "  percentage\n",
       "1 45        \n",
       "2 42        \n",
       "3 42        \n",
       "4 41        \n",
       "5 40        \n",
       "6 40        "
      ]
     },
     "metadata": {},
     "output_type": "display_data"
    }
   ],
   "source": [
    "head(tidy_polls)"
   ]
  },
  {
   "cell_type": "code",
   "execution_count": 30,
   "id": "6d6588ee",
   "metadata": {},
   "outputs": [
    {
     "data": {
      "text/html": [
       "<table>\n",
       "<thead><tr><th scope=col>airline</th><th scope=col>avail_seat_km_per_week</th><th scope=col>incidents.1985_1999</th><th scope=col>fatal_accidents.1985_1999</th><th scope=col>fatalities.1985_1999</th><th scope=col>incidents.2000_2014</th><th scope=col>fatal_accidents.2000_2014</th><th scope=col>fatalities.2000_2014</th></tr></thead>\n",
       "<tbody>\n",
       "\t<tr><td>Aer Lingus           </td><td> 320906734           </td><td> 2                   </td><td> 0                   </td><td>  0                  </td><td>0                    </td><td>0                    </td><td>  0                  </td></tr>\n",
       "\t<tr><td>Aeroflot*            </td><td>1197672318           </td><td>76                   </td><td>14                   </td><td>128                  </td><td>6                    </td><td>1                    </td><td> 88                  </td></tr>\n",
       "\t<tr><td>Aerolineas Argentinas</td><td> 385803648           </td><td> 6                   </td><td> 0                   </td><td>  0                  </td><td>1                    </td><td>0                    </td><td>  0                  </td></tr>\n",
       "\t<tr><td>Aeromexico*          </td><td> 596871813           </td><td> 3                   </td><td> 1                   </td><td> 64                  </td><td>5                    </td><td>0                    </td><td>  0                  </td></tr>\n",
       "\t<tr><td>Air Canada           </td><td>1865253802           </td><td> 2                   </td><td> 0                   </td><td>  0                  </td><td>2                    </td><td>0                    </td><td>  0                  </td></tr>\n",
       "\t<tr><td>Air France           </td><td>3004002661           </td><td>14                   </td><td> 4                   </td><td> 79                  </td><td>6                    </td><td>2                    </td><td>337                  </td></tr>\n",
       "</tbody>\n",
       "</table>\n"
      ],
      "text/latex": [
       "\\begin{tabular}{r|llllllll}\n",
       " airline & avail\\_seat\\_km\\_per\\_week & incidents.1985\\_1999 & fatal\\_accidents.1985\\_1999 & fatalities.1985\\_1999 & incidents.2000\\_2014 & fatal\\_accidents.2000\\_2014 & fatalities.2000\\_2014\\\\\n",
       "\\hline\n",
       "\t Aer Lingus            &  320906734            &  2                    &  0                    &   0                   & 0                     & 0                     &   0                  \\\\\n",
       "\t Aeroflot*             & 1197672318            & 76                    & 14                    & 128                   & 6                     & 1                     &  88                  \\\\\n",
       "\t Aerolineas Argentinas &  385803648            &  6                    &  0                    &   0                   & 1                     & 0                     &   0                  \\\\\n",
       "\t Aeromexico*           &  596871813            &  3                    &  1                    &  64                   & 5                     & 0                     &   0                  \\\\\n",
       "\t Air Canada            & 1865253802            &  2                    &  0                    &   0                   & 2                     & 0                     &   0                  \\\\\n",
       "\t Air France            & 3004002661            & 14                    &  4                    &  79                   & 6                     & 2                     & 337                  \\\\\n",
       "\\end{tabular}\n"
      ],
      "text/markdown": [
       "\n",
       "| airline | avail_seat_km_per_week | incidents.1985_1999 | fatal_accidents.1985_1999 | fatalities.1985_1999 | incidents.2000_2014 | fatal_accidents.2000_2014 | fatalities.2000_2014 |\n",
       "|---|---|---|---|---|---|---|---|\n",
       "| Aer Lingus            |  320906734            |  2                    |  0                    |   0                   | 0                     | 0                     |   0                   |\n",
       "| Aeroflot*             | 1197672318            | 76                    | 14                    | 128                   | 6                     | 1                     |  88                   |\n",
       "| Aerolineas Argentinas |  385803648            |  6                    |  0                    |   0                   | 1                     | 0                     |   0                   |\n",
       "| Aeromexico*           |  596871813            |  3                    |  1                    |  64                   | 5                     | 0                     |   0                   |\n",
       "| Air Canada            | 1865253802            |  2                    |  0                    |   0                   | 2                     | 0                     |   0                   |\n",
       "| Air France            | 3004002661            | 14                    |  4                    |  79                   | 6                     | 2                     | 337                   |\n",
       "\n"
      ],
      "text/plain": [
       "  airline               avail_seat_km_per_week incidents.1985_1999\n",
       "1 Aer Lingus             320906734              2                 \n",
       "2 Aeroflot*             1197672318             76                 \n",
       "3 Aerolineas Argentinas  385803648              6                 \n",
       "4 Aeromexico*            596871813              3                 \n",
       "5 Air Canada            1865253802              2                 \n",
       "6 Air France            3004002661             14                 \n",
       "  fatal_accidents.1985_1999 fatalities.1985_1999 incidents.2000_2014\n",
       "1  0                          0                  0                  \n",
       "2 14                        128                  6                  \n",
       "3  0                          0                  1                  \n",
       "4  1                         64                  5                  \n",
       "5  0                          0                  2                  \n",
       "6  4                         79                  6                  \n",
       "  fatal_accidents.2000_2014 fatalities.2000_2014\n",
       "1 0                           0                 \n",
       "2 1                          88                 \n",
       "3 0                           0                 \n",
       "4 0                           0                 \n",
       "5 0                           0                 \n",
       "6 2                         337                 "
      ]
     },
     "metadata": {},
     "output_type": "display_data"
    }
   ],
   "source": [
    "head(airlines)"
   ]
  },
  {
   "cell_type": "code",
   "execution_count": 31,
   "id": "8ffb4824",
   "metadata": {},
   "outputs": [
    {
     "data": {
      "text/html": [
       "<table>\n",
       "<thead><tr><th scope=col>airline</th><th scope=col>avail_seat_km_per_week</th><th scope=col>accidents</th><th scope=col>count</th></tr></thead>\n",
       "<tbody>\n",
       "\t<tr><td>Aer Lingus           </td><td> 320906734           </td><td>incidents.1985_1999  </td><td> 2                   </td></tr>\n",
       "\t<tr><td>Aeroflot*            </td><td>1197672318           </td><td>incidents.1985_1999  </td><td>76                   </td></tr>\n",
       "\t<tr><td>Aerolineas Argentinas</td><td> 385803648           </td><td>incidents.1985_1999  </td><td> 6                   </td></tr>\n",
       "\t<tr><td>Aeromexico*          </td><td> 596871813           </td><td>incidents.1985_1999  </td><td> 3                   </td></tr>\n",
       "\t<tr><td>Air Canada           </td><td>1865253802           </td><td>incidents.1985_1999  </td><td> 2                   </td></tr>\n",
       "\t<tr><td>Air France           </td><td>3004002661           </td><td>incidents.1985_1999  </td><td>14                   </td></tr>\n",
       "</tbody>\n",
       "</table>\n"
      ],
      "text/latex": [
       "\\begin{tabular}{r|llll}\n",
       " airline & avail\\_seat\\_km\\_per\\_week & accidents & count\\\\\n",
       "\\hline\n",
       "\t Aer Lingus            &  320906734            & incidents.1985\\_1999 &  2                   \\\\\n",
       "\t Aeroflot*             & 1197672318            & incidents.1985\\_1999 & 76                   \\\\\n",
       "\t Aerolineas Argentinas &  385803648            & incidents.1985\\_1999 &  6                   \\\\\n",
       "\t Aeromexico*           &  596871813            & incidents.1985\\_1999 &  3                   \\\\\n",
       "\t Air Canada            & 1865253802            & incidents.1985\\_1999 &  2                   \\\\\n",
       "\t Air France            & 3004002661            & incidents.1985\\_1999 & 14                   \\\\\n",
       "\\end{tabular}\n"
      ],
      "text/markdown": [
       "\n",
       "| airline | avail_seat_km_per_week | accidents | count |\n",
       "|---|---|---|---|\n",
       "| Aer Lingus            |  320906734            | incidents.1985_1999   |  2                    |\n",
       "| Aeroflot*             | 1197672318            | incidents.1985_1999   | 76                    |\n",
       "| Aerolineas Argentinas |  385803648            | incidents.1985_1999   |  6                    |\n",
       "| Aeromexico*           |  596871813            | incidents.1985_1999   |  3                    |\n",
       "| Air Canada            | 1865253802            | incidents.1985_1999   |  2                    |\n",
       "| Air France            | 3004002661            | incidents.1985_1999   | 14                    |\n",
       "\n"
      ],
      "text/plain": [
       "  airline               avail_seat_km_per_week accidents           count\n",
       "1 Aer Lingus             320906734             incidents.1985_1999  2   \n",
       "2 Aeroflot*             1197672318             incidents.1985_1999 76   \n",
       "3 Aerolineas Argentinas  385803648             incidents.1985_1999  6   \n",
       "4 Aeromexico*            596871813             incidents.1985_1999  3   \n",
       "5 Air Canada            1865253802             incidents.1985_1999  2   \n",
       "6 Air France            3004002661             incidents.1985_1999 14   "
      ]
     },
     "metadata": {},
     "output_type": "display_data"
    }
   ],
   "source": [
    "tidy_airlines <- gather(airlines, key = accidents, value = count, 3:8)\n",
    "head(tidy_airlines)"
   ]
  },
  {
   "cell_type": "code",
   "execution_count": 32,
   "id": "654da89a",
   "metadata": {},
   "outputs": [
    {
     "data": {
      "text/html": [
       "<table>\n",
       "<thead><tr><th scope=col>airline</th><th scope=col>avail_seat_km_per_week</th><th scope=col>var</th><th scope=col>years</th><th scope=col>count</th></tr></thead>\n",
       "<tbody>\n",
       "\t<tr><td>Aer Lingus           </td><td> 320906734           </td><td>incidents            </td><td>1985_1999            </td><td> 2                   </td></tr>\n",
       "\t<tr><td>Aeroflot*            </td><td>1197672318           </td><td>incidents            </td><td>1985_1999            </td><td>76                   </td></tr>\n",
       "\t<tr><td>Aerolineas Argentinas</td><td> 385803648           </td><td>incidents            </td><td>1985_1999            </td><td> 6                   </td></tr>\n",
       "\t<tr><td>Aeromexico*          </td><td> 596871813           </td><td>incidents            </td><td>1985_1999            </td><td> 3                   </td></tr>\n",
       "\t<tr><td>Air Canada           </td><td>1865253802           </td><td>incidents            </td><td>1985_1999            </td><td> 2                   </td></tr>\n",
       "\t<tr><td>Air France           </td><td>3004002661           </td><td>incidents            </td><td>1985_1999            </td><td>14                   </td></tr>\n",
       "</tbody>\n",
       "</table>\n"
      ],
      "text/latex": [
       "\\begin{tabular}{r|lllll}\n",
       " airline & avail\\_seat\\_km\\_per\\_week & var & years & count\\\\\n",
       "\\hline\n",
       "\t Aer Lingus            &  320906734            & incidents             & 1985\\_1999           &  2                   \\\\\n",
       "\t Aeroflot*             & 1197672318            & incidents             & 1985\\_1999           & 76                   \\\\\n",
       "\t Aerolineas Argentinas &  385803648            & incidents             & 1985\\_1999           &  6                   \\\\\n",
       "\t Aeromexico*           &  596871813            & incidents             & 1985\\_1999           &  3                   \\\\\n",
       "\t Air Canada            & 1865253802            & incidents             & 1985\\_1999           &  2                   \\\\\n",
       "\t Air France            & 3004002661            & incidents             & 1985\\_1999           & 14                   \\\\\n",
       "\\end{tabular}\n"
      ],
      "text/markdown": [
       "\n",
       "| airline | avail_seat_km_per_week | var | years | count |\n",
       "|---|---|---|---|---|\n",
       "| Aer Lingus            |  320906734            | incidents             | 1985_1999             |  2                    |\n",
       "| Aeroflot*             | 1197672318            | incidents             | 1985_1999             | 76                    |\n",
       "| Aerolineas Argentinas |  385803648            | incidents             | 1985_1999             |  6                    |\n",
       "| Aeromexico*           |  596871813            | incidents             | 1985_1999             |  3                    |\n",
       "| Air Canada            | 1865253802            | incidents             | 1985_1999             |  2                    |\n",
       "| Air France            | 3004002661            | incidents             | 1985_1999             | 14                    |\n",
       "\n"
      ],
      "text/plain": [
       "  airline               avail_seat_km_per_week var       years     count\n",
       "1 Aer Lingus             320906734             incidents 1985_1999  2   \n",
       "2 Aeroflot*             1197672318             incidents 1985_1999 76   \n",
       "3 Aerolineas Argentinas  385803648             incidents 1985_1999  6   \n",
       "4 Aeromexico*            596871813             incidents 1985_1999  3   \n",
       "5 Air Canada            1865253802             incidents 1985_1999  2   \n",
       "6 Air France            3004002661             incidents 1985_1999 14   "
      ]
     },
     "metadata": {},
     "output_type": "display_data"
    }
   ],
   "source": [
    "tidy_airlines <- separate(tidy_airlines, accidents, into = c(\"var\", \"years\"), sep = \"[.]\")\n",
    "head(tidy_airlines)"
   ]
  },
  {
   "cell_type": "code",
   "execution_count": 33,
   "id": "4635d20a",
   "metadata": {},
   "outputs": [
    {
     "data": {
      "text/html": [
       "<table>\n",
       "<thead><tr><th scope=col>airline</th><th scope=col>avail_seat_km_per_week</th><th scope=col>years</th><th scope=col>fatal_accidents</th><th scope=col>fatalities</th><th scope=col>incidents</th></tr></thead>\n",
       "<tbody>\n",
       "\t<tr><td>Aer Lingus           </td><td> 320906734           </td><td>1985_1999            </td><td> 0                   </td><td>  0                  </td><td> 2                   </td></tr>\n",
       "\t<tr><td>Aer Lingus           </td><td> 320906734           </td><td>2000_2014            </td><td> 0                   </td><td>  0                  </td><td> 0                   </td></tr>\n",
       "\t<tr><td>Aeroflot*            </td><td>1197672318           </td><td>1985_1999            </td><td>14                   </td><td>128                  </td><td>76                   </td></tr>\n",
       "\t<tr><td>Aeroflot*            </td><td>1197672318           </td><td>2000_2014            </td><td> 1                   </td><td> 88                  </td><td> 6                   </td></tr>\n",
       "\t<tr><td>Aerolineas Argentinas</td><td> 385803648           </td><td>1985_1999            </td><td> 0                   </td><td>  0                  </td><td> 6                   </td></tr>\n",
       "\t<tr><td>Aerolineas Argentinas</td><td> 385803648           </td><td>2000_2014            </td><td> 0                   </td><td>  0                  </td><td> 1                   </td></tr>\n",
       "</tbody>\n",
       "</table>\n"
      ],
      "text/latex": [
       "\\begin{tabular}{r|llllll}\n",
       " airline & avail\\_seat\\_km\\_per\\_week & years & fatal\\_accidents & fatalities & incidents\\\\\n",
       "\\hline\n",
       "\t Aer Lingus            &  320906734            & 1985\\_1999           &  0                    &   0                   &  2                   \\\\\n",
       "\t Aer Lingus            &  320906734            & 2000\\_2014           &  0                    &   0                   &  0                   \\\\\n",
       "\t Aeroflot*             & 1197672318            & 1985\\_1999           & 14                    & 128                   & 76                   \\\\\n",
       "\t Aeroflot*             & 1197672318            & 2000\\_2014           &  1                    &  88                   &  6                   \\\\\n",
       "\t Aerolineas Argentinas &  385803648            & 1985\\_1999           &  0                    &   0                   &  6                   \\\\\n",
       "\t Aerolineas Argentinas &  385803648            & 2000\\_2014           &  0                    &   0                   &  1                   \\\\\n",
       "\\end{tabular}\n"
      ],
      "text/markdown": [
       "\n",
       "| airline | avail_seat_km_per_week | years | fatal_accidents | fatalities | incidents |\n",
       "|---|---|---|---|---|---|\n",
       "| Aer Lingus            |  320906734            | 1985_1999             |  0                    |   0                   |  2                    |\n",
       "| Aer Lingus            |  320906734            | 2000_2014             |  0                    |   0                   |  0                    |\n",
       "| Aeroflot*             | 1197672318            | 1985_1999             | 14                    | 128                   | 76                    |\n",
       "| Aeroflot*             | 1197672318            | 2000_2014             |  1                    |  88                   |  6                    |\n",
       "| Aerolineas Argentinas |  385803648            | 1985_1999             |  0                    |   0                   |  6                    |\n",
       "| Aerolineas Argentinas |  385803648            | 2000_2014             |  0                    |   0                   |  1                    |\n",
       "\n"
      ],
      "text/plain": [
       "  airline               avail_seat_km_per_week years     fatal_accidents\n",
       "1 Aer Lingus             320906734             1985_1999  0             \n",
       "2 Aer Lingus             320906734             2000_2014  0             \n",
       "3 Aeroflot*             1197672318             1985_1999 14             \n",
       "4 Aeroflot*             1197672318             2000_2014  1             \n",
       "5 Aerolineas Argentinas  385803648             1985_1999  0             \n",
       "6 Aerolineas Argentinas  385803648             2000_2014  0             \n",
       "  fatalities incidents\n",
       "1   0         2       \n",
       "2   0         0       \n",
       "3 128        76       \n",
       "4  88         6       \n",
       "5   0         6       \n",
       "6   0         1       "
      ]
     },
     "metadata": {},
     "output_type": "display_data"
    }
   ],
   "source": [
    "tidy_airlines <- spread(data = tidy_airlines, key = var, value = count)\n",
    "head(tidy_airlines)"
   ]
  },
  {
   "cell_type": "code",
   "execution_count": 34,
   "id": "de72d3d6",
   "metadata": {},
   "outputs": [
    {
     "data": {
      "text/html": [
       "<table>\n",
       "<thead><tr><th scope=col>accident_id</th><th scope=col>driver1_dob</th><th scope=col>driver2_dob</th><th scope=col>driver1_status</th><th scope=col>driver2_status</th><th scope=col>driver1_passengers</th><th scope=col>driver2_passengers</th></tr></thead>\n",
       "<tbody>\n",
       "\t<tr><td>A1         </td><td>1977-07-19 </td><td>1978-04-15 </td><td>Survived(0)</td><td>Survived(2)</td><td>1          </td><td>0          </td></tr>\n",
       "\t<tr><td>A2         </td><td>1978-01-07 </td><td>1977-11-14 </td><td>Survived(1)</td><td>Survived(1)</td><td>2          </td><td>2          </td></tr>\n",
       "\t<tr><td>A3         </td><td>1977-09-01 </td><td>1976-04-24 </td><td>Died(3)    </td><td>Survived(2)</td><td>0          </td><td>0          </td></tr>\n",
       "\t<tr><td>A4         </td><td>1978-01-18 </td><td>1976-01-02 </td><td>Survived(1)</td><td>Survived(0)</td><td>0          </td><td>0          </td></tr>\n",
       "\t<tr><td>A5         </td><td>1976-09-28 </td><td>1977-08-01 </td><td>Survived(1)</td><td>Survived(0)</td><td>1          </td><td>1          </td></tr>\n",
       "\t<tr><td>A6         </td><td>1975-11-11 </td><td>1976-11-15 </td><td>Died(3)    </td><td>Survived(2)</td><td>1          </td><td>1          </td></tr>\n",
       "</tbody>\n",
       "</table>\n"
      ],
      "text/latex": [
       "\\begin{tabular}{r|lllllll}\n",
       " accident\\_id & driver1\\_dob & driver2\\_dob & driver1\\_status & driver2\\_status & driver1\\_passengers & driver2\\_passengers\\\\\n",
       "\\hline\n",
       "\t A1          & 1977-07-19  & 1978-04-15  & Survived(0) & Survived(2) & 1           & 0          \\\\\n",
       "\t A2          & 1978-01-07  & 1977-11-14  & Survived(1) & Survived(1) & 2           & 2          \\\\\n",
       "\t A3          & 1977-09-01  & 1976-04-24  & Died(3)     & Survived(2) & 0           & 0          \\\\\n",
       "\t A4          & 1978-01-18  & 1976-01-02  & Survived(1) & Survived(0) & 0           & 0          \\\\\n",
       "\t A5          & 1976-09-28  & 1977-08-01  & Survived(1) & Survived(0) & 1           & 1          \\\\\n",
       "\t A6          & 1975-11-11  & 1976-11-15  & Died(3)     & Survived(2) & 1           & 1          \\\\\n",
       "\\end{tabular}\n"
      ],
      "text/markdown": [
       "\n",
       "| accident_id | driver1_dob | driver2_dob | driver1_status | driver2_status | driver1_passengers | driver2_passengers |\n",
       "|---|---|---|---|---|---|---|\n",
       "| A1          | 1977-07-19  | 1978-04-15  | Survived(0) | Survived(2) | 1           | 0           |\n",
       "| A2          | 1978-01-07  | 1977-11-14  | Survived(1) | Survived(1) | 2           | 2           |\n",
       "| A3          | 1977-09-01  | 1976-04-24  | Died(3)     | Survived(2) | 0           | 0           |\n",
       "| A4          | 1978-01-18  | 1976-01-02  | Survived(1) | Survived(0) | 0           | 0           |\n",
       "| A5          | 1976-09-28  | 1977-08-01  | Survived(1) | Survived(0) | 1           | 1           |\n",
       "| A6          | 1975-11-11  | 1976-11-15  | Died(3)     | Survived(2) | 1           | 1           |\n",
       "\n"
      ],
      "text/plain": [
       "  accident_id driver1_dob driver2_dob driver1_status driver2_status\n",
       "1 A1          1977-07-19  1978-04-15  Survived(0)    Survived(2)   \n",
       "2 A2          1978-01-07  1977-11-14  Survived(1)    Survived(1)   \n",
       "3 A3          1977-09-01  1976-04-24  Died(3)        Survived(2)   \n",
       "4 A4          1978-01-18  1976-01-02  Survived(1)    Survived(0)   \n",
       "5 A5          1976-09-28  1977-08-01  Survived(1)    Survived(0)   \n",
       "6 A6          1975-11-11  1976-11-15  Died(3)        Survived(2)   \n",
       "  driver1_passengers driver2_passengers\n",
       "1 1                  0                 \n",
       "2 2                  2                 \n",
       "3 0                  0                 \n",
       "4 0                  0                 \n",
       "5 1                  1                 \n",
       "6 1                  1                 "
      ]
     },
     "metadata": {},
     "output_type": "display_data"
    }
   ],
   "source": [
    "set.seed(12345)\n",
    "driverfatalities <- data.frame(accident_id = paste0(\"A\",1:50), driver1_dob = as.Date(runif(50, 1,1111), origin = as.Date(\"1975-05-10\")), driver2_dob = as.Date(runif(50, 1,1111), origin = as.Date(\"1975-05-10\")), driver1_status = sample(size = 50, c(\"Died(3)\", \"Survived(0)\", \"Survived(1)\", \"Survived(2)\"), prob = c(.1,.4,.25,.25), replace = TRUE), driver2_status = sample(size = 50, c(\"Died(3)\", \"Survived(0)\", \"Survived(1)\", \"Survived(2)\"), prob = c(.1,.4,.25,.25), replace = TRUE), driver1_passengers = rpois(50,0.6), driver2_passengers = rpois(50,0.6))\n",
    "head(driverfatalities)"
   ]
  },
  {
   "cell_type": "code",
   "execution_count": null,
   "id": "8f20a9be",
   "metadata": {},
   "outputs": [],
   "source": []
  }
 ],
 "metadata": {
  "kernelspec": {
   "display_name": "R",
   "language": "R",
   "name": "ir"
  },
  "language_info": {
   "codemirror_mode": "r",
   "file_extension": ".r",
   "mimetype": "text/x-r-source",
   "name": "R",
   "pygments_lexer": "r",
   "version": "3.6.1"
  }
 },
 "nbformat": 4,
 "nbformat_minor": 5
}
