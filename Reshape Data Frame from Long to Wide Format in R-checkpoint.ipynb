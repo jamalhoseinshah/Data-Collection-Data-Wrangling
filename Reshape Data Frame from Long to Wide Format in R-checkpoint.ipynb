{
 "cells": [
  {
   "cell_type": "code",
   "execution_count": 1,
   "id": "23075a83",
   "metadata": {},
   "outputs": [],
   "source": [
    "# This is created by jamal hussain shah topic Reshape Data Frame from Long to Wide Format in R"
   ]
  },
  {
   "cell_type": "code",
   "execution_count": 2,
   "id": "06c75cfe",
   "metadata": {},
   "outputs": [],
   "source": [
    "data <- data.frame(group_1 = rep(c(\"A\", \"B\", \"C\"), each = 3),  # Create example data\n",
    "                   group_2 = LETTERS[4:6],\n",
    "                   values = 1:9)"
   ]
  },
  {
   "cell_type": "code",
   "execution_count": 3,
   "id": "1f003e87",
   "metadata": {},
   "outputs": [
    {
     "data": {
      "text/html": [
       "<table>\n",
       "<thead><tr><th scope=col>group_1</th><th scope=col>group_2</th><th scope=col>values</th></tr></thead>\n",
       "<tbody>\n",
       "\t<tr><td>A</td><td>D</td><td>1</td></tr>\n",
       "\t<tr><td>A</td><td>E</td><td>2</td></tr>\n",
       "\t<tr><td>A</td><td>F</td><td>3</td></tr>\n",
       "\t<tr><td>B</td><td>D</td><td>4</td></tr>\n",
       "\t<tr><td>B</td><td>E</td><td>5</td></tr>\n",
       "\t<tr><td>B</td><td>F</td><td>6</td></tr>\n",
       "\t<tr><td>C</td><td>D</td><td>7</td></tr>\n",
       "\t<tr><td>C</td><td>E</td><td>8</td></tr>\n",
       "\t<tr><td>C</td><td>F</td><td>9</td></tr>\n",
       "</tbody>\n",
       "</table>\n"
      ],
      "text/latex": [
       "\\begin{tabular}{r|lll}\n",
       " group\\_1 & group\\_2 & values\\\\\n",
       "\\hline\n",
       "\t A & D & 1\\\\\n",
       "\t A & E & 2\\\\\n",
       "\t A & F & 3\\\\\n",
       "\t B & D & 4\\\\\n",
       "\t B & E & 5\\\\\n",
       "\t B & F & 6\\\\\n",
       "\t C & D & 7\\\\\n",
       "\t C & E & 8\\\\\n",
       "\t C & F & 9\\\\\n",
       "\\end{tabular}\n"
      ],
      "text/markdown": [
       "\n",
       "| group_1 | group_2 | values |\n",
       "|---|---|---|\n",
       "| A | D | 1 |\n",
       "| A | E | 2 |\n",
       "| A | F | 3 |\n",
       "| B | D | 4 |\n",
       "| B | E | 5 |\n",
       "| B | F | 6 |\n",
       "| C | D | 7 |\n",
       "| C | E | 8 |\n",
       "| C | F | 9 |\n",
       "\n"
      ],
      "text/plain": [
       "  group_1 group_2 values\n",
       "1 A       D       1     \n",
       "2 A       E       2     \n",
       "3 A       F       3     \n",
       "4 B       D       4     \n",
       "5 B       E       5     \n",
       "6 B       F       6     \n",
       "7 C       D       7     \n",
       "8 C       E       8     \n",
       "9 C       F       9     "
      ]
     },
     "metadata": {},
     "output_type": "display_data"
    }
   ],
   "source": [
    "data                                                           # Print example data"
   ]
  },
  {
   "cell_type": "code",
   "execution_count": 5,
   "id": "fa3543e6",
   "metadata": {},
   "outputs": [],
   "source": [
    "data_reshape1 <- reshape(data,                                 # Applying reshape function\n",
    "                         idvar = \"group_1\",\n",
    "                         timevar = \"group_2\",\n",
    "                         direction = \"wide\")\n"
   ]
  },
  {
   "cell_type": "code",
   "execution_count": 6,
   "id": "6dace288",
   "metadata": {},
   "outputs": [
    {
     "data": {
      "text/html": [
       "<table>\n",
       "<thead><tr><th></th><th scope=col>group_1</th><th scope=col>values.D</th><th scope=col>values.E</th><th scope=col>values.F</th></tr></thead>\n",
       "<tbody>\n",
       "\t<tr><th scope=row>1</th><td>A</td><td>1</td><td>2</td><td>3</td></tr>\n",
       "\t<tr><th scope=row>4</th><td>B</td><td>4</td><td>5</td><td>6</td></tr>\n",
       "\t<tr><th scope=row>7</th><td>C</td><td>7</td><td>8</td><td>9</td></tr>\n",
       "</tbody>\n",
       "</table>\n"
      ],
      "text/latex": [
       "\\begin{tabular}{r|llll}\n",
       "  & group\\_1 & values.D & values.E & values.F\\\\\n",
       "\\hline\n",
       "\t1 & A & 1 & 2 & 3\\\\\n",
       "\t4 & B & 4 & 5 & 6\\\\\n",
       "\t7 & C & 7 & 8 & 9\\\\\n",
       "\\end{tabular}\n"
      ],
      "text/markdown": [
       "\n",
       "| <!--/--> | group_1 | values.D | values.E | values.F |\n",
       "|---|---|---|---|---|\n",
       "| 1 | A | 1 | 2 | 3 |\n",
       "| 4 | B | 4 | 5 | 6 |\n",
       "| 7 | C | 7 | 8 | 9 |\n",
       "\n"
      ],
      "text/plain": [
       "  group_1 values.D values.E values.F\n",
       "1 A       1        2        3       \n",
       "4 B       4        5        6       \n",
       "7 C       7        8        9       "
      ]
     },
     "metadata": {},
     "output_type": "display_data"
    }
   ],
   "source": [
    "data_reshape1                                                  # Print wide data frame"
   ]
  },
  {
   "cell_type": "code",
   "execution_count": 7,
   "id": "c15c6478",
   "metadata": {},
   "outputs": [
    {
     "name": "stdout",
     "output_type": "stream",
     "text": [
      "\n",
      "  There is a binary version available but the source version is later:\n",
      "      binary source needs_compilation\n",
      "tidyr  1.1.3  1.2.0              TRUE\n",
      "\n",
      "  Binaries will be installed\n",
      "package 'tidyr' successfully unpacked and MD5 sums checked\n"
     ]
    },
    {
     "name": "stderr",
     "output_type": "stream",
     "text": [
      "Warning message:\n",
      "\"cannot remove prior installation of package 'tidyr'\"Warning message in file.copy(savedcopy, lib, recursive = TRUE):\n",
      "\"problem copying C:\\Users\\jamal\\anaconda3\\envs\\alnafi-R\\Lib\\R\\library\\00LOCK\\tidyr\\libs\\x64\\tidyr.dll to C:\\Users\\jamal\\anaconda3\\envs\\alnafi-R\\Lib\\R\\library\\tidyr\\libs\\x64\\tidyr.dll: Permission denied\"Warning message:\n",
      "\"restored 'tidyr'\""
     ]
    },
    {
     "name": "stdout",
     "output_type": "stream",
     "text": [
      "\n",
      "The downloaded binary packages are in\n",
      "\tC:\\Users\\jamal\\AppData\\Local\\Temp\\RtmpMxHJJk\\downloaded_packages\n"
     ]
    }
   ],
   "source": [
    "install.packages(\"tidyr\")                                      # Install & load tidyr package"
   ]
  },
  {
   "cell_type": "code",
   "execution_count": 8,
   "id": "560152dc",
   "metadata": {},
   "outputs": [
    {
     "name": "stderr",
     "output_type": "stream",
     "text": [
      "Warning message:\n",
      "\"package 'tidyr' was built under R version 3.6.3\""
     ]
    }
   ],
   "source": [
    "library(\"tidyr\")"
   ]
  },
  {
   "cell_type": "code",
   "execution_count": 9,
   "id": "51d6e927",
   "metadata": {},
   "outputs": [],
   "source": [
    "data_reshape2 <- spread(data,                                  # Applying spread function\n",
    "                        key = group_2,\n",
    "                        value = values)"
   ]
  },
  {
   "cell_type": "code",
   "execution_count": 10,
   "id": "dffff08a",
   "metadata": {},
   "outputs": [
    {
     "data": {
      "text/html": [
       "<table>\n",
       "<thead><tr><th scope=col>group_1</th><th scope=col>D</th><th scope=col>E</th><th scope=col>F</th></tr></thead>\n",
       "<tbody>\n",
       "\t<tr><td>A</td><td>1</td><td>2</td><td>3</td></tr>\n",
       "\t<tr><td>B</td><td>4</td><td>5</td><td>6</td></tr>\n",
       "\t<tr><td>C</td><td>7</td><td>8</td><td>9</td></tr>\n",
       "</tbody>\n",
       "</table>\n"
      ],
      "text/latex": [
       "\\begin{tabular}{r|llll}\n",
       " group\\_1 & D & E & F\\\\\n",
       "\\hline\n",
       "\t A & 1 & 2 & 3\\\\\n",
       "\t B & 4 & 5 & 6\\\\\n",
       "\t C & 7 & 8 & 9\\\\\n",
       "\\end{tabular}\n"
      ],
      "text/markdown": [
       "\n",
       "| group_1 | D | E | F |\n",
       "|---|---|---|---|\n",
       "| A | 1 | 2 | 3 |\n",
       "| B | 4 | 5 | 6 |\n",
       "| C | 7 | 8 | 9 |\n",
       "\n"
      ],
      "text/plain": [
       "  group_1 D E F\n",
       "1 A       1 2 3\n",
       "2 B       4 5 6\n",
       "3 C       7 8 9"
      ]
     },
     "metadata": {},
     "output_type": "display_data"
    }
   ],
   "source": [
    "data_reshape2                                                  # Print wide data frame"
   ]
  },
  {
   "cell_type": "code",
   "execution_count": null,
   "id": "ae7d0ad4",
   "metadata": {},
   "outputs": [],
   "source": []
  }
 ],
 "metadata": {
  "kernelspec": {
   "display_name": "R",
   "language": "R",
   "name": "ir"
  },
  "language_info": {
   "codemirror_mode": "r",
   "file_extension": ".r",
   "mimetype": "text/x-r-source",
   "name": "R",
   "pygments_lexer": "r",
   "version": "3.6.1"
  }
 },
 "nbformat": 4,
 "nbformat_minor": 5
}
