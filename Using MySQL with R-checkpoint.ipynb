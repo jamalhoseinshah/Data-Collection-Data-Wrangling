{
 "cells": [
  {
   "cell_type": "code",
   "execution_count": 2,
   "id": "049b20a6",
   "metadata": {},
   "outputs": [],
   "source": [
    "test.csv <- data.table::fread(\"D:/henna/Report.csv\", nrows = 1000000)"
   ]
  },
  {
   "cell_type": "code",
   "execution_count": 4,
   "id": "344cc3de",
   "metadata": {},
   "outputs": [
    {
     "name": "stdout",
     "output_type": "stream",
     "text": [
      "Classes 'data.table' and 'data.frame':\t37080 obs. of  10 variables:\n",
      " $ Year                       : int  2020 2020 2020 2020 2020 2020 2020 2020 2020 2020 ...\n",
      " $ Industry_aggregation_NZSIOC: chr  \"Level 1\" \"Level 1\" \"Level 1\" \"Level 1\" ...\n",
      " $ Industry_code_NZSIOC       : chr  \"99999\" \"99999\" \"99999\" \"99999\" ...\n",
      " $ Industry_name_NZSIOC       : chr  \"All industries\" \"All industries\" \"All industries\" \"All industries\" ...\n",
      " $ Units                      : chr  \"Dollars (millions)\" \"Dollars (millions)\" \"Dollars (millions)\" \"Dollars (millions)\" ...\n",
      " $ Variable_code              : chr  \"H01\" \"H04\" \"H05\" \"H07\" ...\n",
      " $ Variable_name              : chr  \"Total income\" \"Sales, government funding, grants and subsidies\" \"Interest, dividends and donations\" \"Non-operating income\" ...\n",
      " $ Variable_category          : chr  \"Financial performance\" \"Financial performance\" \"Financial performance\" \"Financial performance\" ...\n",
      " $ Value                      : chr  \"733,258\" \"660,630\" \"54,342\" \"18,285\" ...\n",
      " $ Industry_code_ANZSIC06     : chr  \"ANZSIC06 divisions A-S (excluding classes K6330, L6711, O7552, O760, O771, O772, S9540, S9601, S9602, and S9603)\" \"ANZSIC06 divisions A-S (excluding classes K6330, L6711, O7552, O760, O771, O772, S9540, S9601, S9602, and S9603)\" \"ANZSIC06 divisions A-S (excluding classes K6330, L6711, O7552, O760, O771, O772, S9540, S9601, S9602, and S9603)\" \"ANZSIC06 divisions A-S (excluding classes K6330, L6711, O7552, O760, O771, O772, S9540, S9601, S9602, and S9603)\" ...\n",
      " - attr(*, \".internal.selfref\")=<externalptr> \n"
     ]
    }
   ],
   "source": [
    "str(test.csv)"
   ]
  },
  {
   "cell_type": "code",
   "execution_count": 5,
   "id": "409eb0b0",
   "metadata": {},
   "outputs": [
    {
     "data": {
      "text/html": [
       "<table>\n",
       "<thead><tr><th scope=col>Year</th><th scope=col>Industry_aggregation_NZSIOC</th><th scope=col>Industry_code_NZSIOC</th><th scope=col>Industry_name_NZSIOC</th><th scope=col>Units</th><th scope=col>Variable_code</th><th scope=col>Variable_name</th><th scope=col>Variable_category</th><th scope=col>Value</th><th scope=col>Industry_code_ANZSIC06</th></tr></thead>\n",
       "<tbody>\n",
       "\t<tr><td>2020                                                                                                            </td><td>Level 1                                                                                                         </td><td>99999                                                                                                           </td><td>All industries                                                                                                  </td><td>Dollars (millions)                                                                                              </td><td>H01                                                                                                             </td><td>Total income                                                                                                    </td><td>Financial performance                                                                                           </td><td>733,258                                                                                                         </td><td>ANZSIC06 divisions A-S (excluding classes K6330, L6711, O7552, O760, O771, O772, S9540, S9601, S9602, and S9603)</td></tr>\n",
       "\t<tr><td>2020                                                                                                            </td><td>Level 1                                                                                                         </td><td>99999                                                                                                           </td><td>All industries                                                                                                  </td><td>Dollars (millions)                                                                                              </td><td>H04                                                                                                             </td><td>Sales, government funding, grants and subsidies                                                                 </td><td>Financial performance                                                                                           </td><td>660,630                                                                                                         </td><td>ANZSIC06 divisions A-S (excluding classes K6330, L6711, O7552, O760, O771, O772, S9540, S9601, S9602, and S9603)</td></tr>\n",
       "\t<tr><td>2020                                                                                                            </td><td>Level 1                                                                                                         </td><td>99999                                                                                                           </td><td>All industries                                                                                                  </td><td>Dollars (millions)                                                                                              </td><td>H05                                                                                                             </td><td>Interest, dividends and donations                                                                               </td><td>Financial performance                                                                                           </td><td>54,342                                                                                                          </td><td>ANZSIC06 divisions A-S (excluding classes K6330, L6711, O7552, O760, O771, O772, S9540, S9601, S9602, and S9603)</td></tr>\n",
       "\t<tr><td>2020                                                                                                            </td><td>Level 1                                                                                                         </td><td>99999                                                                                                           </td><td>All industries                                                                                                  </td><td>Dollars (millions)                                                                                              </td><td>H07                                                                                                             </td><td>Non-operating income                                                                                            </td><td>Financial performance                                                                                           </td><td>18,285                                                                                                          </td><td>ANZSIC06 divisions A-S (excluding classes K6330, L6711, O7552, O760, O771, O772, S9540, S9601, S9602, and S9603)</td></tr>\n",
       "\t<tr><td>2020                                                                                                            </td><td>Level 1                                                                                                         </td><td>99999                                                                                                           </td><td>All industries                                                                                                  </td><td>Dollars (millions)                                                                                              </td><td>H08                                                                                                             </td><td>Total expenditure                                                                                               </td><td>Financial performance                                                                                           </td><td>654,872                                                                                                         </td><td>ANZSIC06 divisions A-S (excluding classes K6330, L6711, O7552, O760, O771, O772, S9540, S9601, S9602, and S9603)</td></tr>\n",
       "\t<tr><td>2020                                                                                                            </td><td>Level 1                                                                                                         </td><td>99999                                                                                                           </td><td>All industries                                                                                                  </td><td>Dollars (millions)                                                                                              </td><td>H09                                                                                                             </td><td>Interest and donations                                                                                          </td><td>Financial performance                                                                                           </td><td>32,730                                                                                                          </td><td>ANZSIC06 divisions A-S (excluding classes K6330, L6711, O7552, O760, O771, O772, S9540, S9601, S9602, and S9603)</td></tr>\n",
       "</tbody>\n",
       "</table>\n"
      ],
      "text/latex": [
       "\\begin{tabular}{r|llllllllll}\n",
       " Year & Industry\\_aggregation\\_NZSIOC & Industry\\_code\\_NZSIOC & Industry\\_name\\_NZSIOC & Units & Variable\\_code & Variable\\_name & Variable\\_category & Value & Industry\\_code\\_ANZSIC06\\\\\n",
       "\\hline\n",
       "\t 2020                                                                                                             & Level 1                                                                                                          & 99999                                                                                                            & All industries                                                                                                   & Dollars (millions)                                                                                               & H01                                                                                                              & Total income                                                                                                     & Financial performance                                                                                            & 733,258                                                                                                          & ANZSIC06 divisions A-S (excluding classes K6330, L6711, O7552, O760, O771, O772, S9540, S9601, S9602, and S9603)\\\\\n",
       "\t 2020                                                                                                             & Level 1                                                                                                          & 99999                                                                                                            & All industries                                                                                                   & Dollars (millions)                                                                                               & H04                                                                                                              & Sales, government funding, grants and subsidies                                                                  & Financial performance                                                                                            & 660,630                                                                                                          & ANZSIC06 divisions A-S (excluding classes K6330, L6711, O7552, O760, O771, O772, S9540, S9601, S9602, and S9603)\\\\\n",
       "\t 2020                                                                                                             & Level 1                                                                                                          & 99999                                                                                                            & All industries                                                                                                   & Dollars (millions)                                                                                               & H05                                                                                                              & Interest, dividends and donations                                                                                & Financial performance                                                                                            & 54,342                                                                                                           & ANZSIC06 divisions A-S (excluding classes K6330, L6711, O7552, O760, O771, O772, S9540, S9601, S9602, and S9603)\\\\\n",
       "\t 2020                                                                                                             & Level 1                                                                                                          & 99999                                                                                                            & All industries                                                                                                   & Dollars (millions)                                                                                               & H07                                                                                                              & Non-operating income                                                                                             & Financial performance                                                                                            & 18,285                                                                                                           & ANZSIC06 divisions A-S (excluding classes K6330, L6711, O7552, O760, O771, O772, S9540, S9601, S9602, and S9603)\\\\\n",
       "\t 2020                                                                                                             & Level 1                                                                                                          & 99999                                                                                                            & All industries                                                                                                   & Dollars (millions)                                                                                               & H08                                                                                                              & Total expenditure                                                                                                & Financial performance                                                                                            & 654,872                                                                                                          & ANZSIC06 divisions A-S (excluding classes K6330, L6711, O7552, O760, O771, O772, S9540, S9601, S9602, and S9603)\\\\\n",
       "\t 2020                                                                                                             & Level 1                                                                                                          & 99999                                                                                                            & All industries                                                                                                   & Dollars (millions)                                                                                               & H09                                                                                                              & Interest and donations                                                                                           & Financial performance                                                                                            & 32,730                                                                                                           & ANZSIC06 divisions A-S (excluding classes K6330, L6711, O7552, O760, O771, O772, S9540, S9601, S9602, and S9603)\\\\\n",
       "\\end{tabular}\n"
      ],
      "text/markdown": [
       "\n",
       "| Year | Industry_aggregation_NZSIOC | Industry_code_NZSIOC | Industry_name_NZSIOC | Units | Variable_code | Variable_name | Variable_category | Value | Industry_code_ANZSIC06 |\n",
       "|---|---|---|---|---|---|---|---|---|---|\n",
       "| 2020                                                                                                             | Level 1                                                                                                          | 99999                                                                                                            | All industries                                                                                                   | Dollars (millions)                                                                                               | H01                                                                                                              | Total income                                                                                                     | Financial performance                                                                                            | 733,258                                                                                                          | ANZSIC06 divisions A-S (excluding classes K6330, L6711, O7552, O760, O771, O772, S9540, S9601, S9602, and S9603) |\n",
       "| 2020                                                                                                             | Level 1                                                                                                          | 99999                                                                                                            | All industries                                                                                                   | Dollars (millions)                                                                                               | H04                                                                                                              | Sales, government funding, grants and subsidies                                                                  | Financial performance                                                                                            | 660,630                                                                                                          | ANZSIC06 divisions A-S (excluding classes K6330, L6711, O7552, O760, O771, O772, S9540, S9601, S9602, and S9603) |\n",
       "| 2020                                                                                                             | Level 1                                                                                                          | 99999                                                                                                            | All industries                                                                                                   | Dollars (millions)                                                                                               | H05                                                                                                              | Interest, dividends and donations                                                                                | Financial performance                                                                                            | 54,342                                                                                                           | ANZSIC06 divisions A-S (excluding classes K6330, L6711, O7552, O760, O771, O772, S9540, S9601, S9602, and S9603) |\n",
       "| 2020                                                                                                             | Level 1                                                                                                          | 99999                                                                                                            | All industries                                                                                                   | Dollars (millions)                                                                                               | H07                                                                                                              | Non-operating income                                                                                             | Financial performance                                                                                            | 18,285                                                                                                           | ANZSIC06 divisions A-S (excluding classes K6330, L6711, O7552, O760, O771, O772, S9540, S9601, S9602, and S9603) |\n",
       "| 2020                                                                                                             | Level 1                                                                                                          | 99999                                                                                                            | All industries                                                                                                   | Dollars (millions)                                                                                               | H08                                                                                                              | Total expenditure                                                                                                | Financial performance                                                                                            | 654,872                                                                                                          | ANZSIC06 divisions A-S (excluding classes K6330, L6711, O7552, O760, O771, O772, S9540, S9601, S9602, and S9603) |\n",
       "| 2020                                                                                                             | Level 1                                                                                                          | 99999                                                                                                            | All industries                                                                                                   | Dollars (millions)                                                                                               | H09                                                                                                              | Interest and donations                                                                                           | Financial performance                                                                                            | 32,730                                                                                                           | ANZSIC06 divisions A-S (excluding classes K6330, L6711, O7552, O760, O771, O772, S9540, S9601, S9602, and S9603) |\n",
       "\n"
      ],
      "text/plain": [
       "  Year Industry_aggregation_NZSIOC Industry_code_NZSIOC Industry_name_NZSIOC\n",
       "1 2020 Level 1                     99999                All industries      \n",
       "2 2020 Level 1                     99999                All industries      \n",
       "3 2020 Level 1                     99999                All industries      \n",
       "4 2020 Level 1                     99999                All industries      \n",
       "5 2020 Level 1                     99999                All industries      \n",
       "6 2020 Level 1                     99999                All industries      \n",
       "  Units              Variable_code\n",
       "1 Dollars (millions) H01          \n",
       "2 Dollars (millions) H04          \n",
       "3 Dollars (millions) H05          \n",
       "4 Dollars (millions) H07          \n",
       "5 Dollars (millions) H08          \n",
       "6 Dollars (millions) H09          \n",
       "  Variable_name                                   Variable_category     Value  \n",
       "1 Total income                                    Financial performance 733,258\n",
       "2 Sales, government funding, grants and subsidies Financial performance 660,630\n",
       "3 Interest, dividends and donations               Financial performance 54,342 \n",
       "4 Non-operating income                            Financial performance 18,285 \n",
       "5 Total expenditure                               Financial performance 654,872\n",
       "6 Interest and donations                          Financial performance 32,730 \n",
       "  Industry_code_ANZSIC06                                                                                          \n",
       "1 ANZSIC06 divisions A-S (excluding classes K6330, L6711, O7552, O760, O771, O772, S9540, S9601, S9602, and S9603)\n",
       "2 ANZSIC06 divisions A-S (excluding classes K6330, L6711, O7552, O760, O771, O772, S9540, S9601, S9602, and S9603)\n",
       "3 ANZSIC06 divisions A-S (excluding classes K6330, L6711, O7552, O760, O771, O772, S9540, S9601, S9602, and S9603)\n",
       "4 ANZSIC06 divisions A-S (excluding classes K6330, L6711, O7552, O760, O771, O772, S9540, S9601, S9602, and S9603)\n",
       "5 ANZSIC06 divisions A-S (excluding classes K6330, L6711, O7552, O760, O771, O772, S9540, S9601, S9602, and S9603)\n",
       "6 ANZSIC06 divisions A-S (excluding classes K6330, L6711, O7552, O760, O771, O772, S9540, S9601, S9602, and S9603)"
      ]
     },
     "metadata": {},
     "output_type": "display_data"
    }
   ],
   "source": [
    "head(test.csv)"
   ]
  },
  {
   "cell_type": "code",
   "execution_count": 8,
   "id": "4bbb71e9",
   "metadata": {},
   "outputs": [],
   "source": [
    "# Great, so it looks like our data is mixed between integers, numeric, and character types.\n",
    "# We can also see some missing values in some column like “hearing_disposition”. Now its time to \n",
    "#insert some of this data into MySQL.\n",
    "\n",
    "\n",
    "#Connecting to MySQL from R When connecting to any database or connection that requires passwords,\n",
    "#it is always highly recommended to store these passwords in your local environment for security reasons. \n",
    "#This is especially the case when sharing your code to others or via the internet. Using MariaDB() as the DBI, \n",
    "#you need to enter the “user” name, “password” value, “dbname” where your tables are stored, and the “local host”."
   ]
  },
  {
   "cell_type": "code",
   "execution_count": null,
   "id": "4ca4c7af",
   "metadata": {},
   "outputs": [],
   "source": [
    "# overview not run because i have no connection any database right now.\n",
    "\n",
    "# #Load RMariaDB if it is not loaded already\n",
    "\n",
    "if(!\"RMariaDB\" %in% (.packages())){require(RMariaDB)}\n",
    "\n",
    "#Connecting to MySQL DB\n",
    "stuffDB <- dbConnect(MariaDB(), user = \"root\", password = Sys.getenv(\"MYSQL_PASSWORD\"), dbname = \"my_db\", host = \"localhost\")\n",
    "\n",
    "#List tables in DB\n",
    "dbListTables(stuffDB)"
   ]
  },
  {
   "cell_type": "code",
   "execution_count": null,
   "id": "eecd05c0",
   "metadata": {},
   "outputs": [],
   "source": [
    "query<-\"CREATE TABLE parking_tickets_chicago (\n",
    "  ticket_number TEXT,\n",
    "  issue_date TEXT,\n",
    "  violation_location  TEXT,\n",
    "  license_plate_number TEXT,\n",
    "  license_plate_state TEXT,\n",
    "  license_plate_type TEXT,\n",
    "  zipcode TEXT,\n",
    "  violation_code TEXT,\n",
    "  violation_description TEXT,\n",
    "  unit INT,\n",
    "  unit_description TEXT,\n",
    "  vehicle_make TEXT,\n",
    "  fine_level1_amount INT,\n",
    "  fine_level2_amount INT,\n",
    "  current_amount_due INT,\n",
    "  total_payments INT,\n",
    "  ticket_queue TEXT,\n",
    "  ticket_queue_date TEXT,\n",
    "  notice_level TEXT,\n",
    "  hearing_disposition TEXT,\n",
    "  notice_number TEXT,\n",
    "  officer TEXT,\n",
    "  address TEXT);\"\n",
    "\n",
    "\n"
   ]
  },
  {
   "cell_type": "code",
   "execution_count": null,
   "id": "138eeaba",
   "metadata": {},
   "outputs": [],
   "source": [
    "#Send the query to MySQL for execution\n",
    "results <- dbSendQuery(stuffDB, query)\n",
    "dbClearResult(results)"
   ]
  },
  {
   "cell_type": "code",
   "execution_count": null,
   "id": "434a1c17",
   "metadata": {},
   "outputs": [],
   "source": [
    "query <- \"INSERT INTO parking_tickets_chicago(ticket_number,issue_date,violation_location,license_plate_number,license_plate_state,license_plate_type,zipcode,violation_code,violation_description,unit,unit_description,vehicle_make,fine_level1_amount,fine_level2_amount,current_amount_due,total_payments,ticket_queue,ticket_queue_date,notice_level,hearing_disposition,notice_number,officer,address)\n",
    "VALUES(51636768,'2007-01-12 10:34:00','1450 N THORNDALE','fc4a98382378c750027d71138b4cbf3237216a6452ec9c3b8c3533f0c1c20d02','IL','TRK',605152677,'0976160F','EXPIRED PLATES OR TEMPORARY REGISTRATION',24,'CPD','TOYT',50,100,0,50,'Paid','2007-01-30 00:00:00','','',0,17482,'1400 n thorndale, chicago, il');\"\n",
    "\n",
    "\n",
    "\n",
    "#Sending the query to MySQL for execution and getting the result.\n",
    "results <- dbSendQuery(stuffDB, query)\n",
    "\n",
    "\n",
    "#Checking if it was added correctly\n",
    "dbReadTable(stuffDB,\"parking_tickets_chicago\")"
   ]
  },
  {
   "cell_type": "code",
   "execution_count": null,
   "id": "c9c9c264",
   "metadata": {},
   "outputs": [],
   "source": [
    "#Create index and select a chunksize\n",
    "index <- 0\n",
    "chunkSize <- 100000\n",
    "\n",
    "#Create column name vector\n",
    "col_names <- c(\"ticket_number\", \"issue_date\", \"violation_location\", \"license_plate_number\", \"license_plate_state\", \"license_plate_type\", \"zipcode\", \"violation_code\", \"violation_description\", \"unit\", \"unit_description\", \"vehicle_make\", \"fine_level1_amount\", \"fine_level2_amount\", \"current_amount_due\", \"total_payments\", \"ticket_queue\", \"ticket_queue_date\", \"notice_level\", \"hearing_disposition\", \"notice_number\", \"officer\", \"address\")\n",
    "\n",
    "\n",
    "#Open the file connection\n",
    "con <- file(description=\"/usr/local/mysql-8.0.15-macos10.14-x86_64/data/parking_tickets.csv\",open=\"r\")   \n",
    "\n",
    "#Read the data chunkWise\n",
    "dataChunk <- read.table(con, nrows=chunkSize, header=F, fill=TRUE, sep=\",\", quote = '\"', col.names = col_names)\n",
    "\n",
    "#Write & append the tables chunkWise\n",
    "dbWriteTable(stuffDB, value = dataChunk, row.names = FALSE, name = \"parking_tickets_chicago\", append = TRUE)\n"
   ]
  },
  {
   "cell_type": "code",
   "execution_count": null,
   "id": "ee8bbb6a",
   "metadata": {},
   "outputs": [],
   "source": [
    "#Repeat for each dataChunk\n",
    "while (nrow(dataChunk) > 0) {\n",
    "  index <- index + 1\n",
    "  print(paste('Processing rows:', index * chunkSize))\n",
    "  \n",
    "  dataChunk <- read.table(con, nrows=chunkSize, skip=0, header=FALSE, fill = TRUE, sep=\",\", col.names = col_names)\n",
    "  \n",
    "  dbWriteTable(stuffDB, value = dataChunk, row.names = FALSE, name = \"parking_tickets_chicago\", append = TRUE)\n",
    "}"
   ]
  },
  {
   "cell_type": "code",
   "execution_count": null,
   "id": "d22c978b",
   "metadata": {},
   "outputs": [],
   "source": [
    "#Close the open file connection\n",
    "close(con)"
   ]
  },
  {
   "cell_type": "code",
   "execution_count": null,
   "id": "d82278b1",
   "metadata": {},
   "outputs": [],
   "source": [
    "# R query using Dplyr\n",
    "\n",
    "library(dplyr)   \n",
    "library(lubridate)  "
   ]
  },
  {
   "cell_type": "code",
   "execution_count": null,
   "id": "2c47c6bf",
   "metadata": {},
   "outputs": [],
   "source": [
    "#Reads part of the dataframe in our DB so it does not store it all in memory\n",
    "search_db <- tbl(stuffDB, \"parking_tickets_chicago\")"
   ]
  },
  {
   "cell_type": "code",
   "execution_count": null,
   "id": "7e19046b",
   "metadata": {},
   "outputs": [],
   "source": [
    "#R syntax using dplyr\n",
    "search_db <- search_db %>% \n",
    "  select(issue_date, ticket_number) %>%\n",
    "  mutate(month = month(issue_date), year = year(issue_date), number = ticket_number) %>% \n",
    "  filter(month != \"\" & year != \"\") %>% \n",
    "  group_by(month, year) %>% select(month,year,number)\n"
   ]
  },
  {
   "cell_type": "code",
   "execution_count": null,
   "id": "ade378f8",
   "metadata": {},
   "outputs": [],
   "source": [
    "print(search_db)\n"
   ]
  },
  {
   "cell_type": "code",
   "execution_count": null,
   "id": "d17de069",
   "metadata": {},
   "outputs": [],
   "source": [
    "#Show how dplyr converts the R code to SQL behind the scenes.\n",
    "show_query(search_db)"
   ]
  },
  {
   "cell_type": "code",
   "execution_count": null,
   "id": "2fcdea39",
   "metadata": {},
   "outputs": [],
   "source": [
    "#Close connection\n",
    "dbDisconnect(stuffDB)"
   ]
  }
 ],
 "metadata": {
  "kernelspec": {
   "display_name": "R",
   "language": "R",
   "name": "ir"
  },
  "language_info": {
   "codemirror_mode": "r",
   "file_extension": ".r",
   "mimetype": "text/x-r-source",
   "name": "R",
   "pygments_lexer": "r",
   "version": "3.6.1"
  }
 },
 "nbformat": 4,
 "nbformat_minor": 5
}
