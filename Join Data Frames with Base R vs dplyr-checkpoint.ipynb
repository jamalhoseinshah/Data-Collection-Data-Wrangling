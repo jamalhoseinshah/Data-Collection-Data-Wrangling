{
 "cells": [
  {
   "cell_type": "code",
   "execution_count": 1,
   "id": "97bf3f9b",
   "metadata": {},
   "outputs": [],
   "source": [
    "# "
   ]
  },
  {
   "cell_type": "code",
   "execution_count": 2,
   "id": "a1e2cd29",
   "metadata": {},
   "outputs": [],
   "source": [
    "data_A <- data.frame(ID = paste0(\"ID_\", 1:6),                      # First example data\n",
    "                     x1 = 1:6,\n",
    "                     x2 = letters[1:6])"
   ]
  },
  {
   "cell_type": "code",
   "execution_count": 3,
   "id": "60f375dd",
   "metadata": {},
   "outputs": [
    {
     "data": {
      "text/html": [
       "<table>\n",
       "<thead><tr><th scope=col>ID</th><th scope=col>x1</th><th scope=col>x2</th></tr></thead>\n",
       "<tbody>\n",
       "\t<tr><td>ID_1</td><td>1   </td><td>a   </td></tr>\n",
       "\t<tr><td>ID_2</td><td>2   </td><td>b   </td></tr>\n",
       "\t<tr><td>ID_3</td><td>3   </td><td>c   </td></tr>\n",
       "\t<tr><td>ID_4</td><td>4   </td><td>d   </td></tr>\n",
       "\t<tr><td>ID_5</td><td>5   </td><td>e   </td></tr>\n",
       "\t<tr><td>ID_6</td><td>6   </td><td>f   </td></tr>\n",
       "</tbody>\n",
       "</table>\n"
      ],
      "text/latex": [
       "\\begin{tabular}{r|lll}\n",
       " ID & x1 & x2\\\\\n",
       "\\hline\n",
       "\t ID\\_1 & 1      & a     \\\\\n",
       "\t ID\\_2 & 2      & b     \\\\\n",
       "\t ID\\_3 & 3      & c     \\\\\n",
       "\t ID\\_4 & 4      & d     \\\\\n",
       "\t ID\\_5 & 5      & e     \\\\\n",
       "\t ID\\_6 & 6      & f     \\\\\n",
       "\\end{tabular}\n"
      ],
      "text/markdown": [
       "\n",
       "| ID | x1 | x2 |\n",
       "|---|---|---|\n",
       "| ID_1 | 1    | a    |\n",
       "| ID_2 | 2    | b    |\n",
       "| ID_3 | 3    | c    |\n",
       "| ID_4 | 4    | d    |\n",
       "| ID_5 | 5    | e    |\n",
       "| ID_6 | 6    | f    |\n",
       "\n"
      ],
      "text/plain": [
       "  ID   x1 x2\n",
       "1 ID_1 1  a \n",
       "2 ID_2 2  b \n",
       "3 ID_3 3  c \n",
       "4 ID_4 4  d \n",
       "5 ID_5 5  e \n",
       "6 ID_6 6  f "
      ]
     },
     "metadata": {},
     "output_type": "display_data"
    }
   ],
   "source": [
    "data_A"
   ]
  },
  {
   "cell_type": "code",
   "execution_count": 4,
   "id": "fb45140d",
   "metadata": {},
   "outputs": [],
   "source": [
    "data_B <- data.frame(ID = paste0(\"ID_\", 4:9),                      # Second example data\n",
    "                     y1 = 104:109,\n",
    "                     y2 = LETTERS[4:9])"
   ]
  },
  {
   "cell_type": "code",
   "execution_count": 5,
   "id": "3bd9d24c",
   "metadata": {},
   "outputs": [
    {
     "data": {
      "text/html": [
       "<table>\n",
       "<thead><tr><th scope=col>ID</th><th scope=col>y1</th><th scope=col>y2</th></tr></thead>\n",
       "<tbody>\n",
       "\t<tr><td>ID_4</td><td>104 </td><td>D   </td></tr>\n",
       "\t<tr><td>ID_5</td><td>105 </td><td>E   </td></tr>\n",
       "\t<tr><td>ID_6</td><td>106 </td><td>F   </td></tr>\n",
       "\t<tr><td>ID_7</td><td>107 </td><td>G   </td></tr>\n",
       "\t<tr><td>ID_8</td><td>108 </td><td>H   </td></tr>\n",
       "\t<tr><td>ID_9</td><td>109 </td><td>I   </td></tr>\n",
       "</tbody>\n",
       "</table>\n"
      ],
      "text/latex": [
       "\\begin{tabular}{r|lll}\n",
       " ID & y1 & y2\\\\\n",
       "\\hline\n",
       "\t ID\\_4 & 104    & D     \\\\\n",
       "\t ID\\_5 & 105    & E     \\\\\n",
       "\t ID\\_6 & 106    & F     \\\\\n",
       "\t ID\\_7 & 107    & G     \\\\\n",
       "\t ID\\_8 & 108    & H     \\\\\n",
       "\t ID\\_9 & 109    & I     \\\\\n",
       "\\end{tabular}\n"
      ],
      "text/markdown": [
       "\n",
       "| ID | y1 | y2 |\n",
       "|---|---|---|\n",
       "| ID_4 | 104  | D    |\n",
       "| ID_5 | 105  | E    |\n",
       "| ID_6 | 106  | F    |\n",
       "| ID_7 | 107  | G    |\n",
       "| ID_8 | 108  | H    |\n",
       "| ID_9 | 109  | I    |\n",
       "\n"
      ],
      "text/plain": [
       "  ID   y1  y2\n",
       "1 ID_4 104 D \n",
       "2 ID_5 105 E \n",
       "3 ID_6 106 F \n",
       "4 ID_7 107 G \n",
       "5 ID_8 108 H \n",
       "6 ID_9 109 I "
      ]
     },
     "metadata": {},
     "output_type": "display_data"
    }
   ],
   "source": [
    "data_B"
   ]
  },
  {
   "cell_type": "code",
   "execution_count": 6,
   "id": "cfdc7ac9",
   "metadata": {},
   "outputs": [],
   "source": [
    "# Merging Data Using Base R"
   ]
  },
  {
   "cell_type": "code",
   "execution_count": 8,
   "id": "b1ac5541",
   "metadata": {},
   "outputs": [],
   "source": [
    "data_base_inner <- merge(data_A, data_B, by = \"ID\")                # Inner join\n",
    "data_base_left <- merge(data_A, data_B, by = \"ID\", all.x = TRUE)   # Left join\n",
    "data_base_right <- merge(data_A, data_B, by = \"ID\", all.y = TRUE)  # Right join\n",
    "data_base_full <- merge(data_A, data_B, by = \"ID\", all = TRUE)     # Full join"
   ]
  },
  {
   "cell_type": "code",
   "execution_count": 9,
   "id": "8e67bc86",
   "metadata": {},
   "outputs": [
    {
     "name": "stderr",
     "output_type": "stream",
     "text": [
      "also installing the dependencies 'glue', 'cli', 'rlang', 'vctrs'\n",
      "\n"
     ]
    },
    {
     "name": "stdout",
     "output_type": "stream",
     "text": [
      "\n",
      "  There are binary versions available but the source versions are later:\n",
      "      binary source needs_compilation\n",
      "glue   1.4.2  1.6.2              TRUE\n",
      "cli    2.5.0  3.3.0              TRUE\n",
      "rlang 0.4.11  1.0.2              TRUE\n",
      "vctrs  0.3.8  0.4.1              TRUE\n",
      "dplyr  1.0.6  1.0.9              TRUE\n",
      "\n",
      "  Binaries will be installed\n",
      "package 'glue' successfully unpacked and MD5 sums checked\n"
     ]
    },
    {
     "name": "stderr",
     "output_type": "stream",
     "text": [
      "Warning message:\n",
      "\"cannot remove prior installation of package 'glue'\"Warning message in file.copy(savedcopy, lib, recursive = TRUE):\n",
      "\"problem copying C:\\Users\\jamal\\anaconda3\\envs\\alnafi-R\\Lib\\R\\library\\00LOCK\\glue\\libs\\x64\\glue.dll to C:\\Users\\jamal\\anaconda3\\envs\\alnafi-R\\Lib\\R\\library\\glue\\libs\\x64\\glue.dll: Permission denied\"Warning message:\n",
      "\"restored 'glue'\""
     ]
    },
    {
     "name": "stdout",
     "output_type": "stream",
     "text": [
      "package 'cli' successfully unpacked and MD5 sums checked\n",
      "package 'rlang' successfully unpacked and MD5 sums checked\n"
     ]
    },
    {
     "name": "stderr",
     "output_type": "stream",
     "text": [
      "Warning message:\n",
      "\"cannot remove prior installation of package 'rlang'\"Warning message in file.copy(savedcopy, lib, recursive = TRUE):\n",
      "\"problem copying C:\\Users\\jamal\\anaconda3\\envs\\alnafi-R\\Lib\\R\\library\\00LOCK\\rlang\\libs\\x64\\rlang.dll to C:\\Users\\jamal\\anaconda3\\envs\\alnafi-R\\Lib\\R\\library\\rlang\\libs\\x64\\rlang.dll: Permission denied\"Warning message:\n",
      "\"restored 'rlang'\""
     ]
    },
    {
     "name": "stdout",
     "output_type": "stream",
     "text": [
      "package 'vctrs' successfully unpacked and MD5 sums checked\n"
     ]
    },
    {
     "name": "stderr",
     "output_type": "stream",
     "text": [
      "Warning message:\n",
      "\"cannot remove prior installation of package 'vctrs'\"Warning message in file.copy(savedcopy, lib, recursive = TRUE):\n",
      "\"problem copying C:\\Users\\jamal\\anaconda3\\envs\\alnafi-R\\Lib\\R\\library\\00LOCK\\vctrs\\libs\\x64\\vctrs.dll to C:\\Users\\jamal\\anaconda3\\envs\\alnafi-R\\Lib\\R\\library\\vctrs\\libs\\x64\\vctrs.dll: Permission denied\"Warning message:\n",
      "\"restored 'vctrs'\""
     ]
    },
    {
     "name": "stdout",
     "output_type": "stream",
     "text": [
      "package 'dplyr' successfully unpacked and MD5 sums checked\n",
      "\n",
      "The downloaded binary packages are in\n",
      "\tC:\\Users\\jamal\\AppData\\Local\\Temp\\Rtmp2Ji104\\downloaded_packages\n"
     ]
    }
   ],
   "source": [
    "install.packages(\"dplyr\")                                          # Install dplyr package"
   ]
  },
  {
   "cell_type": "code",
   "execution_count": 10,
   "id": "2fa509f2",
   "metadata": {},
   "outputs": [
    {
     "name": "stderr",
     "output_type": "stream",
     "text": [
      "Warning message:\n",
      "\"package 'dplyr' was built under R version 3.6.3\"\n",
      "Attaching package: 'dplyr'\n",
      "\n",
      "The following objects are masked from 'package:stats':\n",
      "\n",
      "    filter, lag\n",
      "\n",
      "The following objects are masked from 'package:base':\n",
      "\n",
      "    intersect, setdiff, setequal, union\n",
      "\n"
     ]
    }
   ],
   "source": [
    "library(\"dplyr\")                                                   # Load dplyr package"
   ]
  },
  {
   "cell_type": "code",
   "execution_count": 11,
   "id": "f48408a2",
   "metadata": {},
   "outputs": [],
   "source": [
    "data_dplyr_inner <- inner_join(data_A, data_B, by = \"ID\")          # Inner join\n",
    "data_dplyr_left <- left_join(data_A, data_B, by = \"ID\")            # Left join\n",
    "data_dplyr_right <- right_join(data_A, data_B, by = \"ID\")          # Right join\n",
    "data_dplyr_full <- full_join(data_A, data_B, by = \"ID\")            # Full join"
   ]
  },
  {
   "cell_type": "code",
   "execution_count": 12,
   "id": "40fe901e",
   "metadata": {},
   "outputs": [],
   "source": [
    "# Comparing Speed of Base R vs. dplyr Package"
   ]
  },
  {
   "cell_type": "code",
   "execution_count": 13,
   "id": "57efce9b",
   "metadata": {},
   "outputs": [],
   "source": [
    "set.seed(8642468)                                                  # Reproducibility\n",
    "N <- 10000000                                                      # Sample size\n",
    " \n",
    "data_A_large <- data.frame(ID = 1:N,                               # First large data set\n",
    "                           x1 = rnorm(N),\n",
    "                           x2 = runif(N))\n",
    " \n",
    "data_B_large <- data.frame(ID = 1:N,                               # Second large data set\n",
    "                           y1 = rnorm(N),\n",
    "                           y2 = runif(N))"
   ]
  },
  {
   "cell_type": "code",
   "execution_count": 14,
   "id": "f7c4d82a",
   "metadata": {},
   "outputs": [
    {
     "data": {
      "text/plain": [
       "Time difference of 26.10491 secs"
      ]
     },
     "metadata": {},
     "output_type": "display_data"
    }
   ],
   "source": [
    "time_base_start <- Sys.time()                                      # Time of Base R join\n",
    "data_base_large <- merge(data_A_large, data_B_large, by = \"ID\")\n",
    "time_base_finish <- Sys.time()\n",
    "time_base_finish - time_base_start"
   ]
  },
  {
   "cell_type": "code",
   "execution_count": 15,
   "id": "ce796469",
   "metadata": {},
   "outputs": [
    {
     "data": {
      "text/plain": [
       "Time difference of 5.706482 secs"
      ]
     },
     "metadata": {},
     "output_type": "display_data"
    }
   ],
   "source": [
    "time_dplyr_start <- Sys.time()                                     # Time of dplyr join\n",
    "data_dplyr_large <- inner_join(data_A_large, data_B_large, by = \"ID\")\n",
    "time_dplyr_finish <- Sys.time()\n",
    "time_dplyr_finish - time_dplyr_start"
   ]
  },
  {
   "cell_type": "code",
   "execution_count": 17,
   "id": "43a30785",
   "metadata": {},
   "outputs": [
    {
     "data": {
      "text/html": [
       "<table>\n",
       "<thead><tr><th scope=col>ID</th><th scope=col>y1</th><th scope=col>y2</th></tr></thead>\n",
       "<tbody>\n",
       "\t<tr><td>ID_4</td><td>104 </td><td>D   </td></tr>\n",
       "\t<tr><td>ID_5</td><td>105 </td><td>E   </td></tr>\n",
       "\t<tr><td>ID_6</td><td>106 </td><td>F   </td></tr>\n",
       "\t<tr><td>ID_7</td><td>107 </td><td>G   </td></tr>\n",
       "\t<tr><td>ID_8</td><td>108 </td><td>H   </td></tr>\n",
       "\t<tr><td>ID_9</td><td>109 </td><td>I   </td></tr>\n",
       "</tbody>\n",
       "</table>\n"
      ],
      "text/latex": [
       "\\begin{tabular}{r|lll}\n",
       " ID & y1 & y2\\\\\n",
       "\\hline\n",
       "\t ID\\_4 & 104    & D     \\\\\n",
       "\t ID\\_5 & 105    & E     \\\\\n",
       "\t ID\\_6 & 106    & F     \\\\\n",
       "\t ID\\_7 & 107    & G     \\\\\n",
       "\t ID\\_8 & 108    & H     \\\\\n",
       "\t ID\\_9 & 109    & I     \\\\\n",
       "\\end{tabular}\n"
      ],
      "text/markdown": [
       "\n",
       "| ID | y1 | y2 |\n",
       "|---|---|---|\n",
       "| ID_4 | 104  | D    |\n",
       "| ID_5 | 105  | E    |\n",
       "| ID_6 | 106  | F    |\n",
       "| ID_7 | 107  | G    |\n",
       "| ID_8 | 108  | H    |\n",
       "| ID_9 | 109  | I    |\n",
       "\n"
      ],
      "text/plain": [
       "  ID   y1  y2\n",
       "1 ID_4 104 D \n",
       "2 ID_5 105 E \n",
       "3 ID_6 106 F \n",
       "4 ID_7 107 G \n",
       "5 ID_8 108 H \n",
       "6 ID_9 109 I "
      ]
     },
     "metadata": {},
     "output_type": "display_data"
    }
   ],
   "source": [
    "data_B"
   ]
  },
  {
   "cell_type": "code",
   "execution_count": null,
   "id": "5bbf6356",
   "metadata": {},
   "outputs": [],
   "source": []
  }
 ],
 "metadata": {
  "kernelspec": {
   "display_name": "R",
   "language": "R",
   "name": "ir"
  },
  "language_info": {
   "codemirror_mode": "r",
   "file_extension": ".r",
   "mimetype": "text/x-r-source",
   "name": "R",
   "pygments_lexer": "r",
   "version": "3.6.1"
  }
 },
 "nbformat": 4,
 "nbformat_minor": 5
}
