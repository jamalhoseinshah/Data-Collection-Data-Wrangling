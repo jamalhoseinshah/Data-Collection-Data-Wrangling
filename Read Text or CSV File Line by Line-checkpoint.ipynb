{
 "cells": [
  {
   "cell_type": "code",
   "execution_count": null,
   "id": "890691bd",
   "metadata": {},
   "outputs": [],
   "source": [
    "# This is created by jamal hussain shah topic R scan Function (5 Example Codes) | Read Text or CSV File Line by Line"
   ]
  },
  {
   "cell_type": "code",
   "execution_count": 9,
   "id": "cf70d02c",
   "metadata": {},
   "outputs": [],
   "source": [
    "data <- data.frame(x1 = c(4, 4, 1, 9),                # Create example data.frame\n",
    "                   x2 = c(1, 8, 4, 0),\n",
    "                   x3 = c(5, 3, 5, 6))"
   ]
  },
  {
   "cell_type": "code",
   "execution_count": 10,
   "id": "f820b8e8",
   "metadata": {},
   "outputs": [
    {
     "data": {
      "text/html": [
       "<table>\n",
       "<thead><tr><th scope=col>x1</th><th scope=col>x2</th><th scope=col>x3</th></tr></thead>\n",
       "<tbody>\n",
       "\t<tr><td>4</td><td>1</td><td>5</td></tr>\n",
       "\t<tr><td>4</td><td>8</td><td>3</td></tr>\n",
       "\t<tr><td>1</td><td>4</td><td>5</td></tr>\n",
       "\t<tr><td>9</td><td>0</td><td>6</td></tr>\n",
       "</tbody>\n",
       "</table>\n"
      ],
      "text/latex": [
       "\\begin{tabular}{r|lll}\n",
       " x1 & x2 & x3\\\\\n",
       "\\hline\n",
       "\t 4 & 1 & 5\\\\\n",
       "\t 4 & 8 & 3\\\\\n",
       "\t 1 & 4 & 5\\\\\n",
       "\t 9 & 0 & 6\\\\\n",
       "\\end{tabular}\n"
      ],
      "text/markdown": [
       "\n",
       "| x1 | x2 | x3 |\n",
       "|---|---|---|\n",
       "| 4 | 1 | 5 |\n",
       "| 4 | 8 | 3 |\n",
       "| 1 | 4 | 5 |\n",
       "| 9 | 0 | 6 |\n",
       "\n"
      ],
      "text/plain": [
       "  x1 x2 x3\n",
       "1 4  1  5 \n",
       "2 4  8  3 \n",
       "3 1  4  5 \n",
       "4 9  0  6 "
      ]
     },
     "metadata": {},
     "output_type": "display_data"
    }
   ],
   "source": [
    "data"
   ]
  },
  {
   "cell_type": "code",
   "execution_count": 11,
   "id": "32f65012",
   "metadata": {},
   "outputs": [],
   "source": [
    "write.table(data,                                     # Write data as txt file to directory\n",
    "            file = \"data.txt\",\n",
    "            row.names = FALSE)"
   ]
  },
  {
   "cell_type": "code",
   "execution_count": 15,
   "id": "4bb9f602",
   "metadata": {},
   "outputs": [
    {
     "data": {
      "text/html": [
       "'C:/Users/jamal'"
      ],
      "text/latex": [
       "'C:/Users/jamal'"
      ],
      "text/markdown": [
       "'C:/Users/jamal'"
      ],
      "text/plain": [
       "[1] \"C:/Users/jamal\""
      ]
     },
     "metadata": {},
     "output_type": "display_data"
    },
    {
     "data": {
      "text/html": [
       "'C:/Users/jamal'"
      ],
      "text/latex": [
       "'C:/Users/jamal'"
      ],
      "text/markdown": [
       "'C:/Users/jamal'"
      ],
      "text/plain": [
       "[1] \"C:/Users/jamal\""
      ]
     },
     "metadata": {},
     "output_type": "display_data"
    }
   ],
   "source": [
    "getwd()                                               # Get currently used directory\n",
    "\"C:/Users/jamal\""
   ]
  },
  {
   "cell_type": "code",
   "execution_count": 16,
   "id": "8090718d",
   "metadata": {},
   "outputs": [],
   "source": [
    "data1 <- scan(\"data.txt\", what = \"character\")         # Apply scan function to txt file"
   ]
  },
  {
   "cell_type": "code",
   "execution_count": 17,
   "id": "7ff86d17",
   "metadata": {},
   "outputs": [
    {
     "data": {
      "text/html": [
       "<ol class=list-inline>\n",
       "\t<li>'x1'</li>\n",
       "\t<li>'x2'</li>\n",
       "\t<li>'x3'</li>\n",
       "\t<li>'4'</li>\n",
       "\t<li>'1'</li>\n",
       "\t<li>'5'</li>\n",
       "\t<li>'4'</li>\n",
       "\t<li>'8'</li>\n",
       "\t<li>'3'</li>\n",
       "\t<li>'1'</li>\n",
       "\t<li>'4'</li>\n",
       "\t<li>'5'</li>\n",
       "\t<li>'9'</li>\n",
       "\t<li>'0'</li>\n",
       "\t<li>'6'</li>\n",
       "</ol>\n"
      ],
      "text/latex": [
       "\\begin{enumerate*}\n",
       "\\item 'x1'\n",
       "\\item 'x2'\n",
       "\\item 'x3'\n",
       "\\item '4'\n",
       "\\item '1'\n",
       "\\item '5'\n",
       "\\item '4'\n",
       "\\item '8'\n",
       "\\item '3'\n",
       "\\item '1'\n",
       "\\item '4'\n",
       "\\item '5'\n",
       "\\item '9'\n",
       "\\item '0'\n",
       "\\item '6'\n",
       "\\end{enumerate*}\n"
      ],
      "text/markdown": [
       "1. 'x1'\n",
       "2. 'x2'\n",
       "3. 'x3'\n",
       "4. '4'\n",
       "5. '1'\n",
       "6. '5'\n",
       "7. '4'\n",
       "8. '8'\n",
       "9. '3'\n",
       "10. '1'\n",
       "11. '4'\n",
       "12. '5'\n",
       "13. '9'\n",
       "14. '0'\n",
       "15. '6'\n",
       "\n",
       "\n"
      ],
      "text/plain": [
       " [1] \"x1\" \"x2\" \"x3\" \"4\"  \"1\"  \"5\"  \"4\"  \"8\"  \"3\"  \"1\"  \"4\"  \"5\"  \"9\"  \"0\"  \"6\" "
      ]
     },
     "metadata": {},
     "output_type": "display_data"
    }
   ],
   "source": [
    "data1"
   ]
  },
  {
   "cell_type": "code",
   "execution_count": 18,
   "id": "26f8aeb6",
   "metadata": {},
   "outputs": [],
   "source": [
    "# Scan Text Data as List"
   ]
  },
  {
   "cell_type": "code",
   "execution_count": 19,
   "id": "3de04a84",
   "metadata": {},
   "outputs": [],
   "source": [
    "data2 <- scan(\"data.txt\", what = list(\"\", \"\", \"\"))    # Read txt file into list"
   ]
  },
  {
   "cell_type": "code",
   "execution_count": 20,
   "id": "2d33016d",
   "metadata": {},
   "outputs": [
    {
     "data": {
      "text/html": [
       "<ol>\n",
       "\t<li><ol class=list-inline>\n",
       "\t<li>'x1'</li>\n",
       "\t<li>'4'</li>\n",
       "\t<li>'4'</li>\n",
       "\t<li>'1'</li>\n",
       "\t<li>'9'</li>\n",
       "</ol>\n",
       "</li>\n",
       "\t<li><ol class=list-inline>\n",
       "\t<li>'x2'</li>\n",
       "\t<li>'1'</li>\n",
       "\t<li>'8'</li>\n",
       "\t<li>'4'</li>\n",
       "\t<li>'0'</li>\n",
       "</ol>\n",
       "</li>\n",
       "\t<li><ol class=list-inline>\n",
       "\t<li>'x3'</li>\n",
       "\t<li>'5'</li>\n",
       "\t<li>'3'</li>\n",
       "\t<li>'5'</li>\n",
       "\t<li>'6'</li>\n",
       "</ol>\n",
       "</li>\n",
       "</ol>\n"
      ],
      "text/latex": [
       "\\begin{enumerate}\n",
       "\\item \\begin{enumerate*}\n",
       "\\item 'x1'\n",
       "\\item '4'\n",
       "\\item '4'\n",
       "\\item '1'\n",
       "\\item '9'\n",
       "\\end{enumerate*}\n",
       "\n",
       "\\item \\begin{enumerate*}\n",
       "\\item 'x2'\n",
       "\\item '1'\n",
       "\\item '8'\n",
       "\\item '4'\n",
       "\\item '0'\n",
       "\\end{enumerate*}\n",
       "\n",
       "\\item \\begin{enumerate*}\n",
       "\\item 'x3'\n",
       "\\item '5'\n",
       "\\item '3'\n",
       "\\item '5'\n",
       "\\item '6'\n",
       "\\end{enumerate*}\n",
       "\n",
       "\\end{enumerate}\n"
      ],
      "text/markdown": [
       "1. 1. 'x1'\n",
       "2. '4'\n",
       "3. '4'\n",
       "4. '1'\n",
       "5. '9'\n",
       "\n",
       "\n",
       "\n",
       "2. 1. 'x2'\n",
       "2. '1'\n",
       "3. '8'\n",
       "4. '4'\n",
       "5. '0'\n",
       "\n",
       "\n",
       "\n",
       "3. 1. 'x3'\n",
       "2. '5'\n",
       "3. '3'\n",
       "4. '5'\n",
       "5. '6'\n",
       "\n",
       "\n",
       "\n",
       "\n",
       "\n"
      ],
      "text/plain": [
       "[[1]]\n",
       "[1] \"x1\" \"4\"  \"4\"  \"1\"  \"9\" \n",
       "\n",
       "[[2]]\n",
       "[1] \"x2\" \"1\"  \"8\"  \"4\"  \"0\" \n",
       "\n",
       "[[3]]\n",
       "[1] \"x3\" \"5\"  \"3\"  \"5\"  \"6\" \n"
      ]
     },
     "metadata": {},
     "output_type": "display_data"
    }
   ],
   "source": [
    "data2"
   ]
  },
  {
   "cell_type": "code",
   "execution_count": 21,
   "id": "1b33bf5b",
   "metadata": {},
   "outputs": [],
   "source": [
    "# Skip Lines with Scan Function"
   ]
  },
  {
   "cell_type": "code",
   "execution_count": 22,
   "id": "87c0f56e",
   "metadata": {},
   "outputs": [],
   "source": [
    "data3 <- scan(\"data.txt\", skip = 1)                   # Skip first line of txt file"
   ]
  },
  {
   "cell_type": "code",
   "execution_count": 23,
   "id": "8f8e6677",
   "metadata": {},
   "outputs": [
    {
     "data": {
      "text/html": [
       "<ol class=list-inline>\n",
       "\t<li>4</li>\n",
       "\t<li>1</li>\n",
       "\t<li>5</li>\n",
       "\t<li>4</li>\n",
       "\t<li>8</li>\n",
       "\t<li>3</li>\n",
       "\t<li>1</li>\n",
       "\t<li>4</li>\n",
       "\t<li>5</li>\n",
       "\t<li>9</li>\n",
       "\t<li>0</li>\n",
       "\t<li>6</li>\n",
       "</ol>\n"
      ],
      "text/latex": [
       "\\begin{enumerate*}\n",
       "\\item 4\n",
       "\\item 1\n",
       "\\item 5\n",
       "\\item 4\n",
       "\\item 8\n",
       "\\item 3\n",
       "\\item 1\n",
       "\\item 4\n",
       "\\item 5\n",
       "\\item 9\n",
       "\\item 0\n",
       "\\item 6\n",
       "\\end{enumerate*}\n"
      ],
      "text/markdown": [
       "1. 4\n",
       "2. 1\n",
       "3. 5\n",
       "4. 4\n",
       "5. 8\n",
       "6. 3\n",
       "7. 1\n",
       "8. 4\n",
       "9. 5\n",
       "10. 9\n",
       "11. 0\n",
       "12. 6\n",
       "\n",
       "\n"
      ],
      "text/plain": [
       " [1] 4 1 5 4 8 3 1 4 5 9 0 6"
      ]
     },
     "metadata": {},
     "output_type": "display_data"
    }
   ],
   "source": [
    "data3"
   ]
  },
  {
   "cell_type": "code",
   "execution_count": 24,
   "id": "6ff67bef",
   "metadata": {},
   "outputs": [],
   "source": [
    "# Scan Excel CSV File"
   ]
  },
  {
   "cell_type": "code",
   "execution_count": 25,
   "id": "e90fa2af",
   "metadata": {},
   "outputs": [],
   "source": [
    "write.table(data,                                     # Write data as csv file to directory\n",
    "            file = \"data.csv\",\n",
    "            row.names = FALSE)"
   ]
  },
  {
   "cell_type": "code",
   "execution_count": 26,
   "id": "26e6bd26",
   "metadata": {},
   "outputs": [],
   "source": [
    "data4 <- scan(\"data.csv\", what = \"character\")         # Apply scan function to csv file"
   ]
  },
  {
   "cell_type": "code",
   "execution_count": 27,
   "id": "c5a9c114",
   "metadata": {},
   "outputs": [
    {
     "data": {
      "text/html": [
       "<ol class=list-inline>\n",
       "\t<li>'x1'</li>\n",
       "\t<li>'x2'</li>\n",
       "\t<li>'x3'</li>\n",
       "\t<li>'4'</li>\n",
       "\t<li>'1'</li>\n",
       "\t<li>'5'</li>\n",
       "\t<li>'4'</li>\n",
       "\t<li>'8'</li>\n",
       "\t<li>'3'</li>\n",
       "\t<li>'1'</li>\n",
       "\t<li>'4'</li>\n",
       "\t<li>'5'</li>\n",
       "\t<li>'9'</li>\n",
       "\t<li>'0'</li>\n",
       "\t<li>'6'</li>\n",
       "</ol>\n"
      ],
      "text/latex": [
       "\\begin{enumerate*}\n",
       "\\item 'x1'\n",
       "\\item 'x2'\n",
       "\\item 'x3'\n",
       "\\item '4'\n",
       "\\item '1'\n",
       "\\item '5'\n",
       "\\item '4'\n",
       "\\item '8'\n",
       "\\item '3'\n",
       "\\item '1'\n",
       "\\item '4'\n",
       "\\item '5'\n",
       "\\item '9'\n",
       "\\item '0'\n",
       "\\item '6'\n",
       "\\end{enumerate*}\n"
      ],
      "text/markdown": [
       "1. 'x1'\n",
       "2. 'x2'\n",
       "3. 'x3'\n",
       "4. '4'\n",
       "5. '1'\n",
       "6. '5'\n",
       "7. '4'\n",
       "8. '8'\n",
       "9. '3'\n",
       "10. '1'\n",
       "11. '4'\n",
       "12. '5'\n",
       "13. '9'\n",
       "14. '0'\n",
       "15. '6'\n",
       "\n",
       "\n"
      ],
      "text/plain": [
       " [1] \"x1\" \"x2\" \"x3\" \"4\"  \"1\"  \"5\"  \"4\"  \"8\"  \"3\"  \"1\"  \"4\"  \"5\"  \"9\"  \"0\"  \"6\" "
      ]
     },
     "metadata": {},
     "output_type": "display_data"
    }
   ],
   "source": [
    "data4"
   ]
  },
  {
   "cell_type": "code",
   "execution_count": 29,
   "id": "88b35326",
   "metadata": {},
   "outputs": [
    {
     "data": {
      "text/html": [],
      "text/latex": [],
      "text/markdown": [],
      "text/plain": [
       "numeric(0)"
      ]
     },
     "metadata": {},
     "output_type": "display_data"
    }
   ],
   "source": [
    " "
   ]
  },
  {
   "cell_type": "code",
   "execution_count": null,
   "id": "d6138541",
   "metadata": {},
   "outputs": [],
   "source": []
  }
 ],
 "metadata": {
  "kernelspec": {
   "display_name": "R",
   "language": "R",
   "name": "ir"
  },
  "language_info": {
   "codemirror_mode": "r",
   "file_extension": ".r",
   "mimetype": "text/x-r-source",
   "name": "R",
   "pygments_lexer": "r",
   "version": "3.6.1"
  }
 },
 "nbformat": 4,
 "nbformat_minor": 5
}
