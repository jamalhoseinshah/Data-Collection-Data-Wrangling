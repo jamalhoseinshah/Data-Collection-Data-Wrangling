{
 "cells": [
  {
   "cell_type": "code",
   "execution_count": 1,
   "id": "b2a82e29",
   "metadata": {},
   "outputs": [],
   "source": [
    "# This is created by jamal hussain shah topic Extract Subset of Data Frame Rows Containing NA in R"
   ]
  },
  {
   "cell_type": "code",
   "execution_count": 2,
   "id": "137bd877",
   "metadata": {},
   "outputs": [],
   "source": [
    "data <- data.frame(x1 = c(3, NA, 3, 5, NA),    # Create data\n",
    "                   x2 = c(NA, 1, 2, 3, 4),\n",
    "                   x3 = c(7, NA, 4, 1, 2))"
   ]
  },
  {
   "cell_type": "code",
   "execution_count": 3,
   "id": "bbb6b6b0",
   "metadata": {},
   "outputs": [
    {
     "data": {
      "text/html": [
       "<table>\n",
       "<thead><tr><th scope=col>x1</th><th scope=col>x2</th><th scope=col>x3</th></tr></thead>\n",
       "<tbody>\n",
       "\t<tr><td> 3</td><td>NA</td><td> 7</td></tr>\n",
       "\t<tr><td>NA</td><td> 1</td><td>NA</td></tr>\n",
       "\t<tr><td> 3</td><td> 2</td><td> 4</td></tr>\n",
       "\t<tr><td> 5</td><td> 3</td><td> 1</td></tr>\n",
       "\t<tr><td>NA</td><td> 4</td><td> 2</td></tr>\n",
       "</tbody>\n",
       "</table>\n"
      ],
      "text/latex": [
       "\\begin{tabular}{r|lll}\n",
       " x1 & x2 & x3\\\\\n",
       "\\hline\n",
       "\t  3 & NA &  7\\\\\n",
       "\t NA &  1 & NA\\\\\n",
       "\t  3 &  2 &  4\\\\\n",
       "\t  5 &  3 &  1\\\\\n",
       "\t NA &  4 &  2\\\\\n",
       "\\end{tabular}\n"
      ],
      "text/markdown": [
       "\n",
       "| x1 | x2 | x3 |\n",
       "|---|---|---|\n",
       "|  3 | NA |  7 |\n",
       "| NA |  1 | NA |\n",
       "|  3 |  2 |  4 |\n",
       "|  5 |  3 |  1 |\n",
       "| NA |  4 |  2 |\n",
       "\n"
      ],
      "text/plain": [
       "  x1 x2 x3\n",
       "1  3 NA  7\n",
       "2 NA  1 NA\n",
       "3  3  2  4\n",
       "4  5  3  1\n",
       "5 NA  4  2"
      ]
     },
     "metadata": {},
     "output_type": "display_data"
    }
   ],
   "source": [
    "data                                           # Print data"
   ]
  },
  {
   "cell_type": "code",
   "execution_count": 4,
   "id": "dee8eacb",
   "metadata": {},
   "outputs": [
    {
     "data": {
      "text/html": [
       "<table>\n",
       "<thead><tr><th></th><th scope=col>x1</th><th scope=col>x2</th><th scope=col>x3</th></tr></thead>\n",
       "<tbody>\n",
       "\t<tr><th scope=row>1</th><td> 3</td><td>NA</td><td> 7</td></tr>\n",
       "\t<tr><th scope=row>2</th><td>NA</td><td> 1</td><td>NA</td></tr>\n",
       "\t<tr><th scope=row>5</th><td>NA</td><td> 4</td><td> 2</td></tr>\n",
       "</tbody>\n",
       "</table>\n"
      ],
      "text/latex": [
       "\\begin{tabular}{r|lll}\n",
       "  & x1 & x2 & x3\\\\\n",
       "\\hline\n",
       "\t1 &  3 & NA &  7\\\\\n",
       "\t2 & NA &  1 & NA\\\\\n",
       "\t5 & NA &  4 &  2\\\\\n",
       "\\end{tabular}\n"
      ],
      "text/markdown": [
       "\n",
       "| <!--/--> | x1 | x2 | x3 |\n",
       "|---|---|---|---|\n",
       "| 1 |  3 | NA |  7 |\n",
       "| 2 | NA |  1 | NA |\n",
       "| 5 | NA |  4 |  2 |\n",
       "\n"
      ],
      "text/plain": [
       "  x1 x2 x3\n",
       "1  3 NA  7\n",
       "2 NA  1 NA\n",
       "5 NA  4  2"
      ]
     },
     "metadata": {},
     "output_type": "display_data"
    }
   ],
   "source": [
    "data[rowSums(is.na(data)) > 0, ]               # Missings in any row"
   ]
  },
  {
   "cell_type": "code",
   "execution_count": 5,
   "id": "a9080454",
   "metadata": {},
   "outputs": [],
   "source": [
    "# Extract Rows with NA in Specific Column"
   ]
  },
  {
   "cell_type": "code",
   "execution_count": 6,
   "id": "78cbc8c9",
   "metadata": {},
   "outputs": [
    {
     "data": {
      "text/html": [
       "<table>\n",
       "<thead><tr><th></th><th scope=col>x1</th><th scope=col>x2</th><th scope=col>x3</th></tr></thead>\n",
       "<tbody>\n",
       "\t<tr><th scope=row>2</th><td>NA</td><td>1 </td><td>NA</td></tr>\n",
       "\t<tr><th scope=row>5</th><td>NA</td><td>4 </td><td> 2</td></tr>\n",
       "</tbody>\n",
       "</table>\n"
      ],
      "text/latex": [
       "\\begin{tabular}{r|lll}\n",
       "  & x1 & x2 & x3\\\\\n",
       "\\hline\n",
       "\t2 & NA & 1  & NA\\\\\n",
       "\t5 & NA & 4  &  2\\\\\n",
       "\\end{tabular}\n"
      ],
      "text/markdown": [
       "\n",
       "| <!--/--> | x1 | x2 | x3 |\n",
       "|---|---|---|---|\n",
       "| 2 | NA | 1  | NA |\n",
       "| 5 | NA | 4  |  2 |\n",
       "\n"
      ],
      "text/plain": [
       "  x1 x2 x3\n",
       "2 NA 1  NA\n",
       "5 NA 4   2"
      ]
     },
     "metadata": {},
     "output_type": "display_data"
    }
   ],
   "source": [
    "data[is.na(data$x1), ]                         # Missings in x1"
   ]
  },
  {
   "cell_type": "code",
   "execution_count": null,
   "id": "c8f50803",
   "metadata": {},
   "outputs": [],
   "source": []
  }
 ],
 "metadata": {
  "kernelspec": {
   "display_name": "R",
   "language": "R",
   "name": "ir"
  },
  "language_info": {
   "codemirror_mode": "r",
   "file_extension": ".r",
   "mimetype": "text/x-r-source",
   "name": "R",
   "pygments_lexer": "r",
   "version": "3.6.1"
  }
 },
 "nbformat": 4,
 "nbformat_minor": 5
}
