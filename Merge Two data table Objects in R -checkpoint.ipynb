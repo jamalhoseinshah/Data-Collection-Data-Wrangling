{
 "cells": [
  {
   "cell_type": "code",
   "execution_count": 1,
   "id": "2d554239",
   "metadata": {},
   "outputs": [],
   "source": [
    "# This is created by jamal hussain shah topic Merge Two data.table Objects in R "
   ]
  },
  {
   "cell_type": "code",
   "execution_count": 2,
   "id": "84377b32",
   "metadata": {},
   "outputs": [
    {
     "name": "stdout",
     "output_type": "stream",
     "text": [
      "\n",
      "  There is a binary version available but the source version is later:\n",
      "           binary source needs_compilation\n",
      "data.table 1.14.0 1.14.2              TRUE\n",
      "\n",
      "  Binaries will be installed\n",
      "package 'data.table' successfully unpacked and MD5 sums checked\n",
      "\n",
      "The downloaded binary packages are in\n",
      "\tC:\\Users\\jamal\\AppData\\Local\\Temp\\RtmpW42AWE\\downloaded_packages\n"
     ]
    }
   ],
   "source": [
    "install.packages(\"data.table\")          # Install data.table package"
   ]
  },
  {
   "cell_type": "code",
   "execution_count": 3,
   "id": "ff95c7f0",
   "metadata": {},
   "outputs": [
    {
     "name": "stderr",
     "output_type": "stream",
     "text": [
      "Warning message:\n",
      "\"package 'data.table' was built under R version 3.6.3\""
     ]
    }
   ],
   "source": [
    "library(\"data.table\")                   # Load data.table package"
   ]
  },
  {
   "cell_type": "code",
   "execution_count": 4,
   "id": "f4268cd2",
   "metadata": {},
   "outputs": [],
   "source": [
    "data1 <- data.table(ID1 = 1001:1006,    # Create first data.table\n",
    "                    x1 = 1:6,\n",
    "                    x2 = letters[1:6])"
   ]
  },
  {
   "cell_type": "code",
   "execution_count": 5,
   "id": "cd0734b2",
   "metadata": {},
   "outputs": [
    {
     "data": {
      "text/html": [
       "<table>\n",
       "<thead><tr><th scope=col>ID1</th><th scope=col>x1</th><th scope=col>x2</th></tr></thead>\n",
       "<tbody>\n",
       "\t<tr><td>1001</td><td>1   </td><td>a   </td></tr>\n",
       "\t<tr><td>1002</td><td>2   </td><td>b   </td></tr>\n",
       "\t<tr><td>1003</td><td>3   </td><td>c   </td></tr>\n",
       "\t<tr><td>1004</td><td>4   </td><td>d   </td></tr>\n",
       "\t<tr><td>1005</td><td>5   </td><td>e   </td></tr>\n",
       "\t<tr><td>1006</td><td>6   </td><td>f   </td></tr>\n",
       "</tbody>\n",
       "</table>\n"
      ],
      "text/latex": [
       "\\begin{tabular}{r|lll}\n",
       " ID1 & x1 & x2\\\\\n",
       "\\hline\n",
       "\t 1001 & 1    & a   \\\\\n",
       "\t 1002 & 2    & b   \\\\\n",
       "\t 1003 & 3    & c   \\\\\n",
       "\t 1004 & 4    & d   \\\\\n",
       "\t 1005 & 5    & e   \\\\\n",
       "\t 1006 & 6    & f   \\\\\n",
       "\\end{tabular}\n"
      ],
      "text/markdown": [
       "\n",
       "| ID1 | x1 | x2 |\n",
       "|---|---|---|\n",
       "| 1001 | 1    | a    |\n",
       "| 1002 | 2    | b    |\n",
       "| 1003 | 3    | c    |\n",
       "| 1004 | 4    | d    |\n",
       "| 1005 | 5    | e    |\n",
       "| 1006 | 6    | f    |\n",
       "\n"
      ],
      "text/plain": [
       "  ID1  x1 x2\n",
       "1 1001 1  a \n",
       "2 1002 2  b \n",
       "3 1003 3  c \n",
       "4 1004 4  d \n",
       "5 1005 5  e \n",
       "6 1006 6  f "
      ]
     },
     "metadata": {},
     "output_type": "display_data"
    }
   ],
   "source": [
    "data1                                   # Print first data.table"
   ]
  },
  {
   "cell_type": "code",
   "execution_count": 6,
   "id": "76fa4542",
   "metadata": {},
   "outputs": [],
   "source": [
    "data2 <- data.table(ID2 = 1001:1006,    # Create second data.table\n",
    "                    y1 = 6:1,\n",
    "                    y2 = letters[6:1])"
   ]
  },
  {
   "cell_type": "code",
   "execution_count": 7,
   "id": "e9d66bb0",
   "metadata": {},
   "outputs": [
    {
     "data": {
      "text/html": [
       "<table>\n",
       "<thead><tr><th scope=col>ID2</th><th scope=col>y1</th><th scope=col>y2</th></tr></thead>\n",
       "<tbody>\n",
       "\t<tr><td>1001</td><td>6   </td><td>f   </td></tr>\n",
       "\t<tr><td>1002</td><td>5   </td><td>e   </td></tr>\n",
       "\t<tr><td>1003</td><td>4   </td><td>d   </td></tr>\n",
       "\t<tr><td>1004</td><td>3   </td><td>c   </td></tr>\n",
       "\t<tr><td>1005</td><td>2   </td><td>b   </td></tr>\n",
       "\t<tr><td>1006</td><td>1   </td><td>a   </td></tr>\n",
       "</tbody>\n",
       "</table>\n"
      ],
      "text/latex": [
       "\\begin{tabular}{r|lll}\n",
       " ID2 & y1 & y2\\\\\n",
       "\\hline\n",
       "\t 1001 & 6    & f   \\\\\n",
       "\t 1002 & 5    & e   \\\\\n",
       "\t 1003 & 4    & d   \\\\\n",
       "\t 1004 & 3    & c   \\\\\n",
       "\t 1005 & 2    & b   \\\\\n",
       "\t 1006 & 1    & a   \\\\\n",
       "\\end{tabular}\n"
      ],
      "text/markdown": [
       "\n",
       "| ID2 | y1 | y2 |\n",
       "|---|---|---|\n",
       "| 1001 | 6    | f    |\n",
       "| 1002 | 5    | e    |\n",
       "| 1003 | 4    | d    |\n",
       "| 1004 | 3    | c    |\n",
       "| 1005 | 2    | b    |\n",
       "| 1006 | 1    | a    |\n",
       "\n"
      ],
      "text/plain": [
       "  ID2  y1 y2\n",
       "1 1001 6  f \n",
       "2 1002 5  e \n",
       "3 1003 4  d \n",
       "4 1004 3  c \n",
       "5 1005 2  b \n",
       "6 1006 1  a "
      ]
     },
     "metadata": {},
     "output_type": "display_data"
    }
   ],
   "source": [
    "data2"
   ]
  },
  {
   "cell_type": "code",
   "execution_count": 8,
   "id": "8e6c696b",
   "metadata": {},
   "outputs": [],
   "source": [
    "# Merge Two data.tables with Different IDs Using merge.data.table Function"
   ]
  },
  {
   "cell_type": "code",
   "execution_count": 9,
   "id": "d0bbe6b4",
   "metadata": {},
   "outputs": [],
   "source": [
    "data_all <- merge.data.table(data1,     # Merge data.tables\n",
    "                             data2,\n",
    "                             by.x = \"ID1\",\n",
    "                             by.y = \"ID2\")"
   ]
  },
  {
   "cell_type": "code",
   "execution_count": 10,
   "id": "a9926de9",
   "metadata": {},
   "outputs": [
    {
     "data": {
      "text/html": [
       "<table>\n",
       "<thead><tr><th scope=col>ID1</th><th scope=col>x1</th><th scope=col>x2</th><th scope=col>y1</th><th scope=col>y2</th></tr></thead>\n",
       "<tbody>\n",
       "\t<tr><td>1001</td><td>1   </td><td>a   </td><td>6   </td><td>f   </td></tr>\n",
       "\t<tr><td>1002</td><td>2   </td><td>b   </td><td>5   </td><td>e   </td></tr>\n",
       "\t<tr><td>1003</td><td>3   </td><td>c   </td><td>4   </td><td>d   </td></tr>\n",
       "\t<tr><td>1004</td><td>4   </td><td>d   </td><td>3   </td><td>c   </td></tr>\n",
       "\t<tr><td>1005</td><td>5   </td><td>e   </td><td>2   </td><td>b   </td></tr>\n",
       "\t<tr><td>1006</td><td>6   </td><td>f   </td><td>1   </td><td>a   </td></tr>\n",
       "</tbody>\n",
       "</table>\n"
      ],
      "text/latex": [
       "\\begin{tabular}{r|lllll}\n",
       " ID1 & x1 & x2 & y1 & y2\\\\\n",
       "\\hline\n",
       "\t 1001 & 1    & a    & 6    & f   \\\\\n",
       "\t 1002 & 2    & b    & 5    & e   \\\\\n",
       "\t 1003 & 3    & c    & 4    & d   \\\\\n",
       "\t 1004 & 4    & d    & 3    & c   \\\\\n",
       "\t 1005 & 5    & e    & 2    & b   \\\\\n",
       "\t 1006 & 6    & f    & 1    & a   \\\\\n",
       "\\end{tabular}\n"
      ],
      "text/markdown": [
       "\n",
       "| ID1 | x1 | x2 | y1 | y2 |\n",
       "|---|---|---|---|---|\n",
       "| 1001 | 1    | a    | 6    | f    |\n",
       "| 1002 | 2    | b    | 5    | e    |\n",
       "| 1003 | 3    | c    | 4    | d    |\n",
       "| 1004 | 4    | d    | 3    | c    |\n",
       "| 1005 | 5    | e    | 2    | b    |\n",
       "| 1006 | 6    | f    | 1    | a    |\n",
       "\n"
      ],
      "text/plain": [
       "  ID1  x1 x2 y1 y2\n",
       "1 1001 1  a  6  f \n",
       "2 1002 2  b  5  e \n",
       "3 1003 3  c  4  d \n",
       "4 1004 4  d  3  c \n",
       "5 1005 5  e  2  b \n",
       "6 1006 6  f  1  a "
      ]
     },
     "metadata": {},
     "output_type": "display_data"
    }
   ],
   "source": [
    "data_all                                # Print merged data.table"
   ]
  },
  {
   "cell_type": "code",
   "execution_count": null,
   "id": "2593316f",
   "metadata": {},
   "outputs": [],
   "source": []
  }
 ],
 "metadata": {
  "kernelspec": {
   "display_name": "R",
   "language": "R",
   "name": "ir"
  },
  "language_info": {
   "codemirror_mode": "r",
   "file_extension": ".r",
   "mimetype": "text/x-r-source",
   "name": "R",
   "pygments_lexer": "r",
   "version": "3.6.1"
  }
 },
 "nbformat": 4,
 "nbformat_minor": 5
}
