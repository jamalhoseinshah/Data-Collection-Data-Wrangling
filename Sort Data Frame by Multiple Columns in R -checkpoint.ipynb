{
 "cells": [
  {
   "cell_type": "code",
   "execution_count": 1,
   "id": "0d27c741",
   "metadata": {},
   "outputs": [],
   "source": [
    "# This is created by jamal hussain shah topic Sort Data Frame by Multiple Columns in R"
   ]
  },
  {
   "cell_type": "code",
   "execution_count": 2,
   "id": "788b022f",
   "metadata": {},
   "outputs": [],
   "source": [
    "data <- data.frame(x1 = 1:5,                         # Create example data\n",
    "                   x2 = c(\"A\", \"D\", \"A\", \"B\", \"d\"),\n",
    "                   x3 = c(10, 5, 1, 20, 5))"
   ]
  },
  {
   "cell_type": "code",
   "execution_count": 3,
   "id": "8c3437bc",
   "metadata": {},
   "outputs": [
    {
     "data": {
      "text/html": [
       "<table>\n",
       "<thead><tr><th scope=col>x1</th><th scope=col>x2</th><th scope=col>x3</th></tr></thead>\n",
       "<tbody>\n",
       "\t<tr><td>1 </td><td>A </td><td>10</td></tr>\n",
       "\t<tr><td>2 </td><td>D </td><td> 5</td></tr>\n",
       "\t<tr><td>3 </td><td>A </td><td> 1</td></tr>\n",
       "\t<tr><td>4 </td><td>B </td><td>20</td></tr>\n",
       "\t<tr><td>5 </td><td>d </td><td> 5</td></tr>\n",
       "</tbody>\n",
       "</table>\n"
      ],
      "text/latex": [
       "\\begin{tabular}{r|lll}\n",
       " x1 & x2 & x3\\\\\n",
       "\\hline\n",
       "\t 1  & A  & 10\\\\\n",
       "\t 2  & D  &  5\\\\\n",
       "\t 3  & A  &  1\\\\\n",
       "\t 4  & B  & 20\\\\\n",
       "\t 5  & d  &  5\\\\\n",
       "\\end{tabular}\n"
      ],
      "text/markdown": [
       "\n",
       "| x1 | x2 | x3 |\n",
       "|---|---|---|\n",
       "| 1  | A  | 10 |\n",
       "| 2  | D  |  5 |\n",
       "| 3  | A  |  1 |\n",
       "| 4  | B  | 20 |\n",
       "| 5  | d  |  5 |\n",
       "\n"
      ],
      "text/plain": [
       "  x1 x2 x3\n",
       "1 1  A  10\n",
       "2 2  D   5\n",
       "3 3  A   1\n",
       "4 4  B  20\n",
       "5 5  d   5"
      ]
     },
     "metadata": {},
     "output_type": "display_data"
    }
   ],
   "source": [
    "data                                                 # Print example data"
   ]
  },
  {
   "cell_type": "code",
   "execution_count": 4,
   "id": "23166e17",
   "metadata": {},
   "outputs": [],
   "source": [
    "#Sort Data Frame by Multiple Columns with Base R (order Function)"
   ]
  },
  {
   "cell_type": "code",
   "execution_count": 5,
   "id": "dcfc6cf3",
   "metadata": {},
   "outputs": [
    {
     "data": {
      "text/html": [
       "<table>\n",
       "<thead><tr><th></th><th scope=col>x1</th><th scope=col>x2</th><th scope=col>x3</th></tr></thead>\n",
       "<tbody>\n",
       "\t<tr><th scope=row>3</th><td>3 </td><td>A </td><td> 1</td></tr>\n",
       "\t<tr><th scope=row>1</th><td>1 </td><td>A </td><td>10</td></tr>\n",
       "\t<tr><th scope=row>4</th><td>4 </td><td>B </td><td>20</td></tr>\n",
       "\t<tr><th scope=row>5</th><td>5 </td><td>d </td><td> 5</td></tr>\n",
       "\t<tr><th scope=row>2</th><td>2 </td><td>D </td><td> 5</td></tr>\n",
       "</tbody>\n",
       "</table>\n"
      ],
      "text/latex": [
       "\\begin{tabular}{r|lll}\n",
       "  & x1 & x2 & x3\\\\\n",
       "\\hline\n",
       "\t3 & 3  & A  &  1\\\\\n",
       "\t1 & 1  & A  & 10\\\\\n",
       "\t4 & 4  & B  & 20\\\\\n",
       "\t5 & 5  & d  &  5\\\\\n",
       "\t2 & 2  & D  &  5\\\\\n",
       "\\end{tabular}\n"
      ],
      "text/markdown": [
       "\n",
       "| <!--/--> | x1 | x2 | x3 |\n",
       "|---|---|---|---|\n",
       "| 3 | 3  | A  |  1 |\n",
       "| 1 | 1  | A  | 10 |\n",
       "| 4 | 4  | B  | 20 |\n",
       "| 5 | 5  | d  |  5 |\n",
       "| 2 | 2  | D  |  5 |\n",
       "\n"
      ],
      "text/plain": [
       "  x1 x2 x3\n",
       "3 3  A   1\n",
       "1 1  A  10\n",
       "4 4  B  20\n",
       "5 5  d   5\n",
       "2 2  D   5"
      ]
     },
     "metadata": {},
     "output_type": "display_data"
    }
   ],
   "source": [
    "data[with(data, order(x2, x3)), ]                    # Order data with Base R"
   ]
  },
  {
   "cell_type": "code",
   "execution_count": 6,
   "id": "2edeefaa",
   "metadata": {},
   "outputs": [],
   "source": [
    "# Sort Data Frame by Multiple Columns with dplyr Package (arrange Function)"
   ]
  },
  {
   "cell_type": "code",
   "execution_count": 7,
   "id": "a0ff7168",
   "metadata": {},
   "outputs": [
    {
     "name": "stderr",
     "output_type": "stream",
     "text": [
      "also installing the dependencies 'glue', 'ellipsis', 'cli', 'rlang', 'tibble', 'tidyselect', 'vctrs', 'pillar'\n",
      "\n"
     ]
    },
    {
     "name": "stdout",
     "output_type": "stream",
     "text": [
      "\n",
      "  There are binary versions available but the source versions are later:\n",
      "           binary source needs_compilation\n",
      "glue        1.4.2  1.6.2              TRUE\n",
      "cli         2.5.0  3.3.0              TRUE\n",
      "rlang      0.4.11  1.0.2              TRUE\n",
      "tibble      3.1.1  3.1.7              TRUE\n",
      "tidyselect  1.1.1  1.1.2              TRUE\n",
      "vctrs       0.3.8  0.4.1              TRUE\n",
      "pillar      1.6.0  1.7.0             FALSE\n",
      "dplyr       1.0.6  1.0.9              TRUE\n",
      "\n",
      "  Binaries will be installed\n",
      "package 'glue' successfully unpacked and MD5 sums checked\n",
      "package 'ellipsis' successfully unpacked and MD5 sums checked\n",
      "package 'cli' successfully unpacked and MD5 sums checked\n",
      "package 'rlang' successfully unpacked and MD5 sums checked\n",
      "package 'tibble' successfully unpacked and MD5 sums checked\n",
      "package 'tidyselect' successfully unpacked and MD5 sums checked\n",
      "package 'vctrs' successfully unpacked and MD5 sums checked\n",
      "package 'dplyr' successfully unpacked and MD5 sums checked\n",
      "\n",
      "The downloaded binary packages are in\n",
      "\tC:\\Users\\jamal\\AppData\\Local\\Temp\\Rtmp8aabOF\\downloaded_packages\n"
     ]
    },
    {
     "name": "stderr",
     "output_type": "stream",
     "text": [
      "installing the source package 'pillar'\n",
      "\n"
     ]
    }
   ],
   "source": [
    "install.packages(\"dplyr\")                            # Install dplyr package"
   ]
  },
  {
   "cell_type": "code",
   "execution_count": 8,
   "id": "49d02857",
   "metadata": {},
   "outputs": [
    {
     "name": "stderr",
     "output_type": "stream",
     "text": [
      "Warning message:\n",
      "\"package 'dplyr' was built under R version 3.6.3\"\n",
      "Attaching package: 'dplyr'\n",
      "\n",
      "The following objects are masked from 'package:stats':\n",
      "\n",
      "    filter, lag\n",
      "\n",
      "The following objects are masked from 'package:base':\n",
      "\n",
      "    intersect, setdiff, setequal, union\n",
      "\n"
     ]
    }
   ],
   "source": [
    "library(\"dplyr\")                                     # Load dplyr package"
   ]
  },
  {
   "cell_type": "code",
   "execution_count": 9,
   "id": "13663988",
   "metadata": {},
   "outputs": [
    {
     "data": {
      "text/html": [
       "<table>\n",
       "<thead><tr><th scope=col>x1</th><th scope=col>x2</th><th scope=col>x3</th></tr></thead>\n",
       "<tbody>\n",
       "\t<tr><td>3 </td><td>A </td><td> 1</td></tr>\n",
       "\t<tr><td>1 </td><td>A </td><td>10</td></tr>\n",
       "\t<tr><td>4 </td><td>B </td><td>20</td></tr>\n",
       "\t<tr><td>5 </td><td>d </td><td> 5</td></tr>\n",
       "\t<tr><td>2 </td><td>D </td><td> 5</td></tr>\n",
       "</tbody>\n",
       "</table>\n"
      ],
      "text/latex": [
       "\\begin{tabular}{r|lll}\n",
       " x1 & x2 & x3\\\\\n",
       "\\hline\n",
       "\t 3  & A  &  1\\\\\n",
       "\t 1  & A  & 10\\\\\n",
       "\t 4  & B  & 20\\\\\n",
       "\t 5  & d  &  5\\\\\n",
       "\t 2  & D  &  5\\\\\n",
       "\\end{tabular}\n"
      ],
      "text/markdown": [
       "\n",
       "| x1 | x2 | x3 |\n",
       "|---|---|---|\n",
       "| 3  | A  |  1 |\n",
       "| 1  | A  | 10 |\n",
       "| 4  | B  | 20 |\n",
       "| 5  | d  |  5 |\n",
       "| 2  | D  |  5 |\n",
       "\n"
      ],
      "text/plain": [
       "  x1 x2 x3\n",
       "1 3  A   1\n",
       "2 1  A  10\n",
       "3 4  B  20\n",
       "4 5  d   5\n",
       "5 2  D   5"
      ]
     },
     "metadata": {},
     "output_type": "display_data"
    }
   ],
   "source": [
    "arrange(data, x2, x3)                                # Order data with dplyr"
   ]
  },
  {
   "cell_type": "code",
   "execution_count": 10,
   "id": "68def5d9",
   "metadata": {},
   "outputs": [],
   "source": [
    "# Sort Data Frame by Multiple Columns with data.table Package (setorder Function)"
   ]
  },
  {
   "cell_type": "code",
   "execution_count": 11,
   "id": "90a4b671",
   "metadata": {},
   "outputs": [
    {
     "name": "stdout",
     "output_type": "stream",
     "text": [
      "\n",
      "  There is a binary version available but the source version is later:\n",
      "           binary source needs_compilation\n",
      "data.table 1.14.0 1.14.2              TRUE\n",
      "\n",
      "  Binaries will be installed\n",
      "package 'data.table' successfully unpacked and MD5 sums checked\n"
     ]
    },
    {
     "name": "stderr",
     "output_type": "stream",
     "text": [
      "Warning message:\n",
      "\"cannot remove prior installation of package 'data.table'\"Warning message in file.copy(savedcopy, lib, recursive = TRUE):\n",
      "\"problem copying C:\\Users\\jamal\\anaconda3\\envs\\alnafi-R\\Lib\\R\\library\\00LOCK\\data.table\\libs\\x64\\datatable.dll to C:\\Users\\jamal\\anaconda3\\envs\\alnafi-R\\Lib\\R\\library\\data.table\\libs\\x64\\datatable.dll: Permission denied\"Warning message:\n",
      "\"restored 'data.table'\""
     ]
    },
    {
     "name": "stdout",
     "output_type": "stream",
     "text": [
      "\n",
      "The downloaded binary packages are in\n",
      "\tC:\\Users\\jamal\\AppData\\Local\\Temp\\Rtmp8aabOF\\downloaded_packages\n"
     ]
    }
   ],
   "source": [
    "install.packages(\"data.table\")                       # Install data.table package"
   ]
  },
  {
   "cell_type": "code",
   "execution_count": 12,
   "id": "270828f2",
   "metadata": {},
   "outputs": [
    {
     "name": "stderr",
     "output_type": "stream",
     "text": [
      "\n",
      "Attaching package: 'data.table'\n",
      "\n",
      "The following objects are masked from 'package:dplyr':\n",
      "\n",
      "    between, first, last\n",
      "\n"
     ]
    }
   ],
   "source": [
    "library(\"data.table\")                                # Load data.table package"
   ]
  },
  {
   "cell_type": "code",
   "execution_count": 13,
   "id": "9c85c02a",
   "metadata": {},
   "outputs": [],
   "source": [
    "data_ordered <- data                                 # Replicate example data"
   ]
  },
  {
   "cell_type": "code",
   "execution_count": 14,
   "id": "019376ea",
   "metadata": {},
   "outputs": [],
   "source": [
    "setorder(data_ordered, x2, x3)                       # Order data with data.table"
   ]
  },
  {
   "cell_type": "code",
   "execution_count": 15,
   "id": "e35ccd58",
   "metadata": {},
   "outputs": [
    {
     "data": {
      "text/html": [
       "<table>\n",
       "<thead><tr><th></th><th scope=col>x1</th><th scope=col>x2</th><th scope=col>x3</th></tr></thead>\n",
       "<tbody>\n",
       "\t<tr><th scope=row>3</th><td>3 </td><td>A </td><td> 1</td></tr>\n",
       "\t<tr><th scope=row>1</th><td>1 </td><td>A </td><td>10</td></tr>\n",
       "\t<tr><th scope=row>4</th><td>4 </td><td>B </td><td>20</td></tr>\n",
       "\t<tr><th scope=row>5</th><td>5 </td><td>d </td><td> 5</td></tr>\n",
       "\t<tr><th scope=row>2</th><td>2 </td><td>D </td><td> 5</td></tr>\n",
       "</tbody>\n",
       "</table>\n"
      ],
      "text/latex": [
       "\\begin{tabular}{r|lll}\n",
       "  & x1 & x2 & x3\\\\\n",
       "\\hline\n",
       "\t3 & 3  & A  &  1\\\\\n",
       "\t1 & 1  & A  & 10\\\\\n",
       "\t4 & 4  & B  & 20\\\\\n",
       "\t5 & 5  & d  &  5\\\\\n",
       "\t2 & 2  & D  &  5\\\\\n",
       "\\end{tabular}\n"
      ],
      "text/markdown": [
       "\n",
       "| <!--/--> | x1 | x2 | x3 |\n",
       "|---|---|---|---|\n",
       "| 3 | 3  | A  |  1 |\n",
       "| 1 | 1  | A  | 10 |\n",
       "| 4 | 4  | B  | 20 |\n",
       "| 5 | 5  | d  |  5 |\n",
       "| 2 | 2  | D  |  5 |\n",
       "\n"
      ],
      "text/plain": [
       "  x1 x2 x3\n",
       "3 3  A   1\n",
       "1 1  A  10\n",
       "4 4  B  20\n",
       "5 5  d   5\n",
       "2 2  D   5"
      ]
     },
     "metadata": {},
     "output_type": "display_data"
    }
   ],
   "source": [
    "data_ordered                                         # Print ordered data"
   ]
  },
  {
   "cell_type": "code",
   "execution_count": null,
   "id": "b6f4f394",
   "metadata": {},
   "outputs": [],
   "source": []
  }
 ],
 "metadata": {
  "kernelspec": {
   "display_name": "R",
   "language": "R",
   "name": "ir"
  },
  "language_info": {
   "codemirror_mode": "r",
   "file_extension": ".r",
   "mimetype": "text/x-r-source",
   "name": "R",
   "pygments_lexer": "r",
   "version": "3.6.1"
  }
 },
 "nbformat": 4,
 "nbformat_minor": 5
}
