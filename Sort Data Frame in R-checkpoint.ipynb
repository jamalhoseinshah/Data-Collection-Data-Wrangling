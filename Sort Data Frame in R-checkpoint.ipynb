{
 "cells": [
  {
   "cell_type": "code",
   "execution_count": 1,
   "id": "e7c2aa2f",
   "metadata": {},
   "outputs": [],
   "source": [
    "# this is created by jamal hussain shah topic Sort Data Frame in R"
   ]
  },
  {
   "cell_type": "code",
   "execution_count": 2,
   "id": "796bb455",
   "metadata": {},
   "outputs": [],
   "source": [
    "data <- data.frame(x1 = 1:5,                         # Create example data\n",
    "                   x2 = c(\"A\", \"D\", \"C\", \"A\", \"d\"))"
   ]
  },
  {
   "cell_type": "code",
   "execution_count": 3,
   "id": "46bd9501",
   "metadata": {},
   "outputs": [
    {
     "data": {
      "text/html": [
       "<table>\n",
       "<thead><tr><th scope=col>x1</th><th scope=col>x2</th></tr></thead>\n",
       "<tbody>\n",
       "\t<tr><td>1</td><td>A</td></tr>\n",
       "\t<tr><td>2</td><td>D</td></tr>\n",
       "\t<tr><td>3</td><td>C</td></tr>\n",
       "\t<tr><td>4</td><td>A</td></tr>\n",
       "\t<tr><td>5</td><td>d</td></tr>\n",
       "</tbody>\n",
       "</table>\n"
      ],
      "text/latex": [
       "\\begin{tabular}{r|ll}\n",
       " x1 & x2\\\\\n",
       "\\hline\n",
       "\t 1 & A\\\\\n",
       "\t 2 & D\\\\\n",
       "\t 3 & C\\\\\n",
       "\t 4 & A\\\\\n",
       "\t 5 & d\\\\\n",
       "\\end{tabular}\n"
      ],
      "text/markdown": [
       "\n",
       "| x1 | x2 |\n",
       "|---|---|\n",
       "| 1 | A |\n",
       "| 2 | D |\n",
       "| 3 | C |\n",
       "| 4 | A |\n",
       "| 5 | d |\n",
       "\n"
      ],
      "text/plain": [
       "  x1 x2\n",
       "1 1  A \n",
       "2 2  D \n",
       "3 3  C \n",
       "4 4  A \n",
       "5 5  d "
      ]
     },
     "metadata": {},
     "output_type": "display_data"
    }
   ],
   "source": [
    "data                                                 # Print example data"
   ]
  },
  {
   "cell_type": "code",
   "execution_count": 4,
   "id": "e980d249",
   "metadata": {},
   "outputs": [],
   "source": [
    "# Sort Data Frame with Base R (order Function)"
   ]
  },
  {
   "cell_type": "code",
   "execution_count": 5,
   "id": "4e038a30",
   "metadata": {},
   "outputs": [
    {
     "data": {
      "text/html": [
       "<table>\n",
       "<thead><tr><th></th><th scope=col>x1</th><th scope=col>x2</th></tr></thead>\n",
       "<tbody>\n",
       "\t<tr><th scope=row>1</th><td>1</td><td>A</td></tr>\n",
       "\t<tr><th scope=row>4</th><td>4</td><td>A</td></tr>\n",
       "\t<tr><th scope=row>3</th><td>3</td><td>C</td></tr>\n",
       "\t<tr><th scope=row>5</th><td>5</td><td>d</td></tr>\n",
       "\t<tr><th scope=row>2</th><td>2</td><td>D</td></tr>\n",
       "</tbody>\n",
       "</table>\n"
      ],
      "text/latex": [
       "\\begin{tabular}{r|ll}\n",
       "  & x1 & x2\\\\\n",
       "\\hline\n",
       "\t1 & 1 & A\\\\\n",
       "\t4 & 4 & A\\\\\n",
       "\t3 & 3 & C\\\\\n",
       "\t5 & 5 & d\\\\\n",
       "\t2 & 2 & D\\\\\n",
       "\\end{tabular}\n"
      ],
      "text/markdown": [
       "\n",
       "| <!--/--> | x1 | x2 |\n",
       "|---|---|---|\n",
       "| 1 | 1 | A |\n",
       "| 4 | 4 | A |\n",
       "| 3 | 3 | C |\n",
       "| 5 | 5 | d |\n",
       "| 2 | 2 | D |\n",
       "\n"
      ],
      "text/plain": [
       "  x1 x2\n",
       "1 1  A \n",
       "4 4  A \n",
       "3 3  C \n",
       "5 5  d \n",
       "2 2  D "
      ]
     },
     "metadata": {},
     "output_type": "display_data"
    }
   ],
   "source": [
    "data[order(data$x2), ]                               # Order data with Base R"
   ]
  },
  {
   "cell_type": "code",
   "execution_count": 7,
   "id": "9d134ad4",
   "metadata": {},
   "outputs": [
    {
     "name": "stderr",
     "output_type": "stream",
     "text": [
      "also installing the dependencies 'glue', 'cli', 'rlang', 'vctrs'\n",
      "\n"
     ]
    },
    {
     "name": "stdout",
     "output_type": "stream",
     "text": [
      "\n",
      "  There are binary versions available but the source versions are later:\n",
      "      binary source needs_compilation\n",
      "glue   1.4.2  1.6.2              TRUE\n",
      "cli    2.5.0  3.3.0              TRUE\n",
      "rlang 0.4.11  1.0.2              TRUE\n",
      "vctrs  0.3.8  0.4.1              TRUE\n",
      "dplyr  1.0.6  1.0.9              TRUE\n",
      "\n",
      "  Binaries will be installed\n"
     ]
    },
    {
     "name": "stderr",
     "output_type": "stream",
     "text": [
      "Warning message:\n",
      "\"package 'dplyr' is in use and will not be installed\""
     ]
    },
    {
     "name": "stdout",
     "output_type": "stream",
     "text": [
      "package 'glue' successfully unpacked and MD5 sums checked\n"
     ]
    },
    {
     "name": "stderr",
     "output_type": "stream",
     "text": [
      "Warning message:\n",
      "\"cannot remove prior installation of package 'glue'\"Warning message in file.copy(savedcopy, lib, recursive = TRUE):\n",
      "\"problem copying C:\\Users\\jamal\\anaconda3\\envs\\alnafi-R\\Lib\\R\\library\\00LOCK\\glue\\libs\\x64\\glue.dll to C:\\Users\\jamal\\anaconda3\\envs\\alnafi-R\\Lib\\R\\library\\glue\\libs\\x64\\glue.dll: Permission denied\"Warning message:\n",
      "\"restored 'glue'\""
     ]
    },
    {
     "name": "stdout",
     "output_type": "stream",
     "text": [
      "package 'cli' successfully unpacked and MD5 sums checked\n",
      "package 'rlang' successfully unpacked and MD5 sums checked\n"
     ]
    },
    {
     "name": "stderr",
     "output_type": "stream",
     "text": [
      "Warning message:\n",
      "\"cannot remove prior installation of package 'rlang'\"Warning message in file.copy(savedcopy, lib, recursive = TRUE):\n",
      "\"problem copying C:\\Users\\jamal\\anaconda3\\envs\\alnafi-R\\Lib\\R\\library\\00LOCK\\rlang\\libs\\x64\\rlang.dll to C:\\Users\\jamal\\anaconda3\\envs\\alnafi-R\\Lib\\R\\library\\rlang\\libs\\x64\\rlang.dll: Permission denied\"Warning message:\n",
      "\"restored 'rlang'\""
     ]
    },
    {
     "name": "stdout",
     "output_type": "stream",
     "text": [
      "package 'vctrs' successfully unpacked and MD5 sums checked\n"
     ]
    },
    {
     "name": "stderr",
     "output_type": "stream",
     "text": [
      "Warning message:\n",
      "\"cannot remove prior installation of package 'vctrs'\"Warning message in file.copy(savedcopy, lib, recursive = TRUE):\n",
      "\"problem copying C:\\Users\\jamal\\anaconda3\\envs\\alnafi-R\\Lib\\R\\library\\00LOCK\\vctrs\\libs\\x64\\vctrs.dll to C:\\Users\\jamal\\anaconda3\\envs\\alnafi-R\\Lib\\R\\library\\vctrs\\libs\\x64\\vctrs.dll: Permission denied\"Warning message:\n",
      "\"restored 'vctrs'\""
     ]
    },
    {
     "name": "stdout",
     "output_type": "stream",
     "text": [
      "\n",
      "The downloaded binary packages are in\n",
      "\tC:\\Users\\jamal\\AppData\\Local\\Temp\\Rtmpuaw9oG\\downloaded_packages\n"
     ]
    }
   ],
   "source": [
    "install.packages(\"dplyr\")                            # Install dplyr R package"
   ]
  },
  {
   "cell_type": "code",
   "execution_count": 8,
   "id": "33a0c023",
   "metadata": {},
   "outputs": [],
   "source": [
    "library(\"dplyr\")                                     # Load dplyr R package"
   ]
  },
  {
   "cell_type": "code",
   "execution_count": 9,
   "id": "e027f30a",
   "metadata": {},
   "outputs": [
    {
     "data": {
      "text/html": [
       "<table>\n",
       "<thead><tr><th scope=col>x1</th><th scope=col>x2</th></tr></thead>\n",
       "<tbody>\n",
       "\t<tr><td>1</td><td>A</td></tr>\n",
       "\t<tr><td>4</td><td>A</td></tr>\n",
       "\t<tr><td>3</td><td>C</td></tr>\n",
       "\t<tr><td>5</td><td>d</td></tr>\n",
       "\t<tr><td>2</td><td>D</td></tr>\n",
       "</tbody>\n",
       "</table>\n"
      ],
      "text/latex": [
       "\\begin{tabular}{r|ll}\n",
       " x1 & x2\\\\\n",
       "\\hline\n",
       "\t 1 & A\\\\\n",
       "\t 4 & A\\\\\n",
       "\t 3 & C\\\\\n",
       "\t 5 & d\\\\\n",
       "\t 2 & D\\\\\n",
       "\\end{tabular}\n"
      ],
      "text/markdown": [
       "\n",
       "| x1 | x2 |\n",
       "|---|---|\n",
       "| 1 | A |\n",
       "| 4 | A |\n",
       "| 3 | C |\n",
       "| 5 | d |\n",
       "| 2 | D |\n",
       "\n"
      ],
      "text/plain": [
       "  x1 x2\n",
       "1 1  A \n",
       "2 4  A \n",
       "3 3  C \n",
       "4 5  d \n",
       "5 2  D "
      ]
     },
     "metadata": {},
     "output_type": "display_data"
    }
   ],
   "source": [
    "arrange(data, x2)                                    # Order data with dplyr"
   ]
  },
  {
   "cell_type": "code",
   "execution_count": 10,
   "id": "84d0c3a5",
   "metadata": {},
   "outputs": [
    {
     "name": "stdout",
     "output_type": "stream",
     "text": [
      "\n",
      "  There is a binary version available but the source version is later:\n",
      "           binary source needs_compilation\n",
      "data.table 1.14.0 1.14.2              TRUE\n",
      "\n",
      "  Binaries will be installed\n",
      "package 'data.table' successfully unpacked and MD5 sums checked\n"
     ]
    },
    {
     "name": "stderr",
     "output_type": "stream",
     "text": [
      "Warning message:\n",
      "\"cannot remove prior installation of package 'data.table'\"Warning message in file.copy(savedcopy, lib, recursive = TRUE):\n",
      "\"problem copying C:\\Users\\jamal\\anaconda3\\envs\\alnafi-R\\Lib\\R\\library\\00LOCK\\data.table\\libs\\x64\\datatable.dll to C:\\Users\\jamal\\anaconda3\\envs\\alnafi-R\\Lib\\R\\library\\data.table\\libs\\x64\\datatable.dll: Permission denied\"Warning message:\n",
      "\"restored 'data.table'\""
     ]
    },
    {
     "name": "stdout",
     "output_type": "stream",
     "text": [
      "\n",
      "The downloaded binary packages are in\n",
      "\tC:\\Users\\jamal\\AppData\\Local\\Temp\\Rtmpuaw9oG\\downloaded_packages\n"
     ]
    }
   ],
   "source": [
    "install.packages(\"data.table\")                       # Install data.table R package"
   ]
  },
  {
   "cell_type": "code",
   "execution_count": 11,
   "id": "44ce468a",
   "metadata": {},
   "outputs": [
    {
     "name": "stderr",
     "output_type": "stream",
     "text": [
      "\n",
      "Attaching package: 'data.table'\n",
      "\n",
      "The following objects are masked from 'package:dplyr':\n",
      "\n",
      "    between, first, last\n",
      "\n"
     ]
    }
   ],
   "source": [
    "library(\"data.table\")                                # Load data.table R package"
   ]
  },
  {
   "cell_type": "code",
   "execution_count": 12,
   "id": "32f9ac90",
   "metadata": {},
   "outputs": [],
   "source": [
    "data_ordered <- data                                 # Replicate example data"
   ]
  },
  {
   "cell_type": "code",
   "execution_count": 13,
   "id": "0673ad73",
   "metadata": {},
   "outputs": [],
   "source": [
    "setorder(data_ordered, x2)                           # Order data with data.table"
   ]
  },
  {
   "cell_type": "code",
   "execution_count": 14,
   "id": "8bf73ffc",
   "metadata": {},
   "outputs": [
    {
     "data": {
      "text/html": [
       "<table>\n",
       "<thead><tr><th></th><th scope=col>x1</th><th scope=col>x2</th></tr></thead>\n",
       "<tbody>\n",
       "\t<tr><th scope=row>1</th><td>1</td><td>A</td></tr>\n",
       "\t<tr><th scope=row>4</th><td>4</td><td>A</td></tr>\n",
       "\t<tr><th scope=row>3</th><td>3</td><td>C</td></tr>\n",
       "\t<tr><th scope=row>5</th><td>5</td><td>d</td></tr>\n",
       "\t<tr><th scope=row>2</th><td>2</td><td>D</td></tr>\n",
       "</tbody>\n",
       "</table>\n"
      ],
      "text/latex": [
       "\\begin{tabular}{r|ll}\n",
       "  & x1 & x2\\\\\n",
       "\\hline\n",
       "\t1 & 1 & A\\\\\n",
       "\t4 & 4 & A\\\\\n",
       "\t3 & 3 & C\\\\\n",
       "\t5 & 5 & d\\\\\n",
       "\t2 & 2 & D\\\\\n",
       "\\end{tabular}\n"
      ],
      "text/markdown": [
       "\n",
       "| <!--/--> | x1 | x2 |\n",
       "|---|---|---|\n",
       "| 1 | 1 | A |\n",
       "| 4 | 4 | A |\n",
       "| 3 | 3 | C |\n",
       "| 5 | 5 | d |\n",
       "| 2 | 2 | D |\n",
       "\n"
      ],
      "text/plain": [
       "  x1 x2\n",
       "1 1  A \n",
       "4 4  A \n",
       "3 3  C \n",
       "5 5  d \n",
       "2 2  D "
      ]
     },
     "metadata": {},
     "output_type": "display_data"
    }
   ],
   "source": [
    "data_ordered                                         # Print ordered data"
   ]
  },
  {
   "cell_type": "code",
   "execution_count": 15,
   "id": "c498aa15",
   "metadata": {},
   "outputs": [],
   "source": [
    "# Sort Data Frame in Decreasing Order"
   ]
  },
  {
   "cell_type": "code",
   "execution_count": 16,
   "id": "cb6dac15",
   "metadata": {},
   "outputs": [
    {
     "data": {
      "text/html": [
       "<table>\n",
       "<thead><tr><th></th><th scope=col>x1</th><th scope=col>x2</th></tr></thead>\n",
       "<tbody>\n",
       "\t<tr><th scope=row>2</th><td>2</td><td>D</td></tr>\n",
       "\t<tr><th scope=row>5</th><td>5</td><td>d</td></tr>\n",
       "\t<tr><th scope=row>3</th><td>3</td><td>C</td></tr>\n",
       "\t<tr><th scope=row>1</th><td>1</td><td>A</td></tr>\n",
       "\t<tr><th scope=row>4</th><td>4</td><td>A</td></tr>\n",
       "</tbody>\n",
       "</table>\n"
      ],
      "text/latex": [
       "\\begin{tabular}{r|ll}\n",
       "  & x1 & x2\\\\\n",
       "\\hline\n",
       "\t2 & 2 & D\\\\\n",
       "\t5 & 5 & d\\\\\n",
       "\t3 & 3 & C\\\\\n",
       "\t1 & 1 & A\\\\\n",
       "\t4 & 4 & A\\\\\n",
       "\\end{tabular}\n"
      ],
      "text/markdown": [
       "\n",
       "| <!--/--> | x1 | x2 |\n",
       "|---|---|---|\n",
       "| 2 | 2 | D |\n",
       "| 5 | 5 | d |\n",
       "| 3 | 3 | C |\n",
       "| 1 | 1 | A |\n",
       "| 4 | 4 | A |\n",
       "\n"
      ],
      "text/plain": [
       "  x1 x2\n",
       "2 2  D \n",
       "5 5  d \n",
       "3 3  C \n",
       "1 1  A \n",
       "4 4  A "
      ]
     },
     "metadata": {},
     "output_type": "display_data"
    }
   ],
   "source": [
    "data[order(data$x2, decreasing = TRUE), ]            # Order data in decreasing order"
   ]
  },
  {
   "cell_type": "code",
   "execution_count": null,
   "id": "2dd6da6f",
   "metadata": {},
   "outputs": [],
   "source": []
  }
 ],
 "metadata": {
  "kernelspec": {
   "display_name": "R",
   "language": "R",
   "name": "ir"
  },
  "language_info": {
   "codemirror_mode": "r",
   "file_extension": ".r",
   "mimetype": "text/x-r-source",
   "name": "R",
   "pygments_lexer": "r",
   "version": "3.6.1"
  }
 },
 "nbformat": 4,
 "nbformat_minor": 5
}
