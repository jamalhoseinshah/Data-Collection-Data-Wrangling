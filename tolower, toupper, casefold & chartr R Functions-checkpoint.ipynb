{
 "cells": [
  {
   "cell_type": "code",
   "execution_count": 1,
   "id": "77cc095d",
   "metadata": {},
   "outputs": [],
   "source": [
    "# This is created by jamal hussain shah topic tolower, toupper, casefold & chartr R Functions (3 Examples)"
   ]
  },
  {
   "cell_type": "code",
   "execution_count": 2,
   "id": "f988cbfe",
   "metadata": {},
   "outputs": [],
   "source": [
    "x <- \"Example\"                            # Create example character string"
   ]
  },
  {
   "cell_type": "code",
   "execution_count": 3,
   "id": "a997c788",
   "metadata": {},
   "outputs": [
    {
     "data": {
      "text/html": [
       "'example'"
      ],
      "text/latex": [
       "'example'"
      ],
      "text/markdown": [
       "'example'"
      ],
      "text/plain": [
       "[1] \"example\""
      ]
     },
     "metadata": {},
     "output_type": "display_data"
    }
   ],
   "source": [
    "tolower(x)                                # Convert to lower case letters"
   ]
  },
  {
   "cell_type": "code",
   "execution_count": 4,
   "id": "b27bc9d1",
   "metadata": {},
   "outputs": [
    {
     "data": {
      "text/html": [
       "'EXAMPLE'"
      ],
      "text/latex": [
       "'EXAMPLE'"
      ],
      "text/markdown": [
       "'EXAMPLE'"
      ],
      "text/plain": [
       "[1] \"EXAMPLE\""
      ]
     },
     "metadata": {},
     "output_type": "display_data"
    }
   ],
   "source": [
    "toupper(x)                                # Convert to upper case letters"
   ]
  },
  {
   "cell_type": "code",
   "execution_count": 5,
   "id": "a87478aa",
   "metadata": {},
   "outputs": [],
   "source": [
    "# casefold Function"
   ]
  },
  {
   "cell_type": "code",
   "execution_count": 6,
   "id": "34d0ae63",
   "metadata": {},
   "outputs": [
    {
     "data": {
      "text/html": [
       "'example'"
      ],
      "text/latex": [
       "'example'"
      ],
      "text/markdown": [
       "'example'"
      ],
      "text/plain": [
       "[1] \"example\""
      ]
     },
     "metadata": {},
     "output_type": "display_data"
    }
   ],
   "source": [
    "casefold(x, upper = FALSE)                # Convert to lower case letters"
   ]
  },
  {
   "cell_type": "code",
   "execution_count": 7,
   "id": "00e91191",
   "metadata": {},
   "outputs": [
    {
     "data": {
      "text/html": [
       "'EXAMPLE'"
      ],
      "text/latex": [
       "'EXAMPLE'"
      ],
      "text/markdown": [
       "'EXAMPLE'"
      ],
      "text/plain": [
       "[1] \"EXAMPLE\""
      ]
     },
     "metadata": {},
     "output_type": "display_data"
    }
   ],
   "source": [
    "casefold(x, upper = TRUE)                 # Convert to upper case letters"
   ]
  },
  {
   "cell_type": "code",
   "execution_count": 8,
   "id": "a82f86be",
   "metadata": {},
   "outputs": [],
   "source": [
    "# chartr Function"
   ]
  },
  {
   "cell_type": "code",
   "execution_count": 9,
   "id": "61b7d7f5",
   "metadata": {},
   "outputs": [
    {
     "data": {
      "text/html": [
       "'eXaMple'"
      ],
      "text/latex": [
       "'eXaMple'"
      ],
      "text/markdown": [
       "'eXaMple'"
      ],
      "text/plain": [
       "[1] \"eXaMple\""
      ]
     },
     "metadata": {},
     "output_type": "display_data"
    }
   ],
   "source": [
    "chartr(old = \"Exam\", new = \"eXaM\", x)     # Translate to upper and lower case"
   ]
  },
  {
   "cell_type": "code",
   "execution_count": 10,
   "id": "c1e90bcf",
   "metadata": {},
   "outputs": [
    {
     "name": "stdout",
     "output_type": "stream",
     "text": [
      "x1: Hello World! 123 \n",
      "x2: hello world! 123 \n",
      "\n",
      "v1: Python C++ Java SQL R \n",
      "v2: python c++ java sql r \n"
     ]
    }
   ],
   "source": [
    "\n",
    "\n",
    "x1 <- \"Hello World! 123\"\n",
    "x2 <- tolower(x1)\n",
    "cat(\"x1:\", x1, \"\\n\")\n",
    "cat(\"x2:\", x2, \"\\n\")\n",
    "\n",
    "cat(\"\\n\")\n",
    "\n",
    "v1 <- c(\"Python\", \"C++\", \"Java\", \"SQL\", \"R\")\n",
    "v2 <- tolower(v1)\n",
    "cat(\"v1:\", v1, \"\\n\")\n",
    "cat(\"v2:\", v2, \"\\n\")\n",
    "\n"
   ]
  },
  {
   "cell_type": "code",
   "execution_count": null,
   "id": "d8f4c4f5",
   "metadata": {},
   "outputs": [],
   "source": [
    "\n"
   ]
  },
  {
   "cell_type": "code",
   "execution_count": null,
   "id": "cd4ce397",
   "metadata": {},
   "outputs": [],
   "source": []
  },
  {
   "cell_type": "code",
   "execution_count": null,
   "id": "40823f11",
   "metadata": {},
   "outputs": [],
   "source": []
  },
  {
   "cell_type": "code",
   "execution_count": null,
   "id": "b58a9eeb",
   "metadata": {},
   "outputs": [],
   "source": []
  }
 ],
 "metadata": {
  "kernelspec": {
   "display_name": "R",
   "language": "R",
   "name": "ir"
  },
  "language_info": {
   "codemirror_mode": "r",
   "file_extension": ".r",
   "mimetype": "text/x-r-source",
   "name": "R",
   "pygments_lexer": "r",
   "version": "3.6.1"
  }
 },
 "nbformat": 4,
 "nbformat_minor": 5
}
