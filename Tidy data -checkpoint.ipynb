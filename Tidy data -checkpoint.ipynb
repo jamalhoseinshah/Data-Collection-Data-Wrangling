{
 "cells": [
  {
   "cell_type": "code",
   "execution_count": null,
   "id": "50c04504",
   "metadata": {},
   "outputs": [],
   "source": [
    "# This is created by Jamal Hussain shah topic tidy data"
   ]
  },
  {
   "cell_type": "code",
   "execution_count": 3,
   "id": "c1022905",
   "metadata": {},
   "outputs": [],
   "source": [
    "library(tidyverse)"
   ]
  },
  {
   "cell_type": "code",
   "execution_count": 4,
   "id": "9fbf30b4",
   "metadata": {},
   "outputs": [
    {
     "data": {
      "text/html": [
       "<table>\n",
       "<thead><tr><th scope=col>country</th><th scope=col>year</th><th scope=col>cases</th><th scope=col>population</th></tr></thead>\n",
       "<tbody>\n",
       "\t<tr><td>Afghanistan</td><td>1999       </td><td>   745     </td><td>  19987071 </td></tr>\n",
       "\t<tr><td>Afghanistan</td><td>2000       </td><td>  2666     </td><td>  20595360 </td></tr>\n",
       "\t<tr><td>Brazil     </td><td>1999       </td><td> 37737     </td><td> 172006362 </td></tr>\n",
       "\t<tr><td>Brazil     </td><td>2000       </td><td> 80488     </td><td> 174504898 </td></tr>\n",
       "\t<tr><td>China      </td><td>1999       </td><td>212258     </td><td>1272915272 </td></tr>\n",
       "\t<tr><td>China      </td><td>2000       </td><td>213766     </td><td>1280428583 </td></tr>\n",
       "</tbody>\n",
       "</table>\n"
      ],
      "text/latex": [
       "\\begin{tabular}{r|llll}\n",
       " country & year & cases & population\\\\\n",
       "\\hline\n",
       "\t Afghanistan & 1999        &    745      &   19987071 \\\\\n",
       "\t Afghanistan & 2000        &   2666      &   20595360 \\\\\n",
       "\t Brazil      & 1999        &  37737      &  172006362 \\\\\n",
       "\t Brazil      & 2000        &  80488      &  174504898 \\\\\n",
       "\t China       & 1999        & 212258      & 1272915272 \\\\\n",
       "\t China       & 2000        & 213766      & 1280428583 \\\\\n",
       "\\end{tabular}\n"
      ],
      "text/markdown": [
       "\n",
       "| country | year | cases | population |\n",
       "|---|---|---|---|\n",
       "| Afghanistan | 1999        |    745      |   19987071  |\n",
       "| Afghanistan | 2000        |   2666      |   20595360  |\n",
       "| Brazil      | 1999        |  37737      |  172006362  |\n",
       "| Brazil      | 2000        |  80488      |  174504898  |\n",
       "| China       | 1999        | 212258      | 1272915272  |\n",
       "| China       | 2000        | 213766      | 1280428583  |\n",
       "\n"
      ],
      "text/plain": [
       "  country     year cases  population\n",
       "1 Afghanistan 1999    745   19987071\n",
       "2 Afghanistan 2000   2666   20595360\n",
       "3 Brazil      1999  37737  172006362\n",
       "4 Brazil      2000  80488  174504898\n",
       "5 China       1999 212258 1272915272\n",
       "6 China       2000 213766 1280428583"
      ]
     },
     "metadata": {},
     "output_type": "display_data"
    },
    {
     "data": {
      "text/html": [
       "<table>\n",
       "<thead><tr><th scope=col>country</th><th scope=col>year</th><th scope=col>type</th><th scope=col>count</th></tr></thead>\n",
       "<tbody>\n",
       "\t<tr><td>Afghanistan</td><td>1999       </td><td>cases      </td><td>       745 </td></tr>\n",
       "\t<tr><td>Afghanistan</td><td>1999       </td><td>population </td><td>  19987071 </td></tr>\n",
       "\t<tr><td>Afghanistan</td><td>2000       </td><td>cases      </td><td>      2666 </td></tr>\n",
       "\t<tr><td>Afghanistan</td><td>2000       </td><td>population </td><td>  20595360 </td></tr>\n",
       "\t<tr><td>Brazil     </td><td>1999       </td><td>cases      </td><td>     37737 </td></tr>\n",
       "\t<tr><td>Brazil     </td><td>1999       </td><td>population </td><td> 172006362 </td></tr>\n",
       "\t<tr><td>Brazil     </td><td>2000       </td><td>cases      </td><td>     80488 </td></tr>\n",
       "\t<tr><td>Brazil     </td><td>2000       </td><td>population </td><td> 174504898 </td></tr>\n",
       "\t<tr><td>China      </td><td>1999       </td><td>cases      </td><td>    212258 </td></tr>\n",
       "\t<tr><td>China      </td><td>1999       </td><td>population </td><td>1272915272 </td></tr>\n",
       "\t<tr><td>China      </td><td>2000       </td><td>cases      </td><td>    213766 </td></tr>\n",
       "\t<tr><td>China      </td><td>2000       </td><td>population </td><td>1280428583 </td></tr>\n",
       "</tbody>\n",
       "</table>\n"
      ],
      "text/latex": [
       "\\begin{tabular}{r|llll}\n",
       " country & year & type & count\\\\\n",
       "\\hline\n",
       "\t Afghanistan & 1999        & cases       &        745 \\\\\n",
       "\t Afghanistan & 1999        & population  &   19987071 \\\\\n",
       "\t Afghanistan & 2000        & cases       &       2666 \\\\\n",
       "\t Afghanistan & 2000        & population  &   20595360 \\\\\n",
       "\t Brazil      & 1999        & cases       &      37737 \\\\\n",
       "\t Brazil      & 1999        & population  &  172006362 \\\\\n",
       "\t Brazil      & 2000        & cases       &      80488 \\\\\n",
       "\t Brazil      & 2000        & population  &  174504898 \\\\\n",
       "\t China       & 1999        & cases       &     212258 \\\\\n",
       "\t China       & 1999        & population  & 1272915272 \\\\\n",
       "\t China       & 2000        & cases       &     213766 \\\\\n",
       "\t China       & 2000        & population  & 1280428583 \\\\\n",
       "\\end{tabular}\n"
      ],
      "text/markdown": [
       "\n",
       "| country | year | type | count |\n",
       "|---|---|---|---|\n",
       "| Afghanistan | 1999        | cases       |        745  |\n",
       "| Afghanistan | 1999        | population  |   19987071  |\n",
       "| Afghanistan | 2000        | cases       |       2666  |\n",
       "| Afghanistan | 2000        | population  |   20595360  |\n",
       "| Brazil      | 1999        | cases       |      37737  |\n",
       "| Brazil      | 1999        | population  |  172006362  |\n",
       "| Brazil      | 2000        | cases       |      80488  |\n",
       "| Brazil      | 2000        | population  |  174504898  |\n",
       "| China       | 1999        | cases       |     212258  |\n",
       "| China       | 1999        | population  | 1272915272  |\n",
       "| China       | 2000        | cases       |     213766  |\n",
       "| China       | 2000        | population  | 1280428583  |\n",
       "\n"
      ],
      "text/plain": [
       "   country     year type       count     \n",
       "1  Afghanistan 1999 cases             745\n",
       "2  Afghanistan 1999 population   19987071\n",
       "3  Afghanistan 2000 cases            2666\n",
       "4  Afghanistan 2000 population   20595360\n",
       "5  Brazil      1999 cases           37737\n",
       "6  Brazil      1999 population  172006362\n",
       "7  Brazil      2000 cases           80488\n",
       "8  Brazil      2000 population  174504898\n",
       "9  China       1999 cases          212258\n",
       "10 China       1999 population 1272915272\n",
       "11 China       2000 cases          213766\n",
       "12 China       2000 population 1280428583"
      ]
     },
     "metadata": {},
     "output_type": "display_data"
    },
    {
     "data": {
      "text/html": [
       "<table>\n",
       "<thead><tr><th scope=col>country</th><th scope=col>year</th><th scope=col>rate</th></tr></thead>\n",
       "<tbody>\n",
       "\t<tr><td>Afghanistan      </td><td>1999             </td><td>745/19987071     </td></tr>\n",
       "\t<tr><td>Afghanistan      </td><td>2000             </td><td>2666/20595360    </td></tr>\n",
       "\t<tr><td>Brazil           </td><td>1999             </td><td>37737/172006362  </td></tr>\n",
       "\t<tr><td>Brazil           </td><td>2000             </td><td>80488/174504898  </td></tr>\n",
       "\t<tr><td>China            </td><td>1999             </td><td>212258/1272915272</td></tr>\n",
       "\t<tr><td>China            </td><td>2000             </td><td>213766/1280428583</td></tr>\n",
       "</tbody>\n",
       "</table>\n"
      ],
      "text/latex": [
       "\\begin{tabular}{r|lll}\n",
       " country & year & rate\\\\\n",
       "\\hline\n",
       "\t Afghanistan       & 1999              & 745/19987071     \\\\\n",
       "\t Afghanistan       & 2000              & 2666/20595360    \\\\\n",
       "\t Brazil            & 1999              & 37737/172006362  \\\\\n",
       "\t Brazil            & 2000              & 80488/174504898  \\\\\n",
       "\t China             & 1999              & 212258/1272915272\\\\\n",
       "\t China             & 2000              & 213766/1280428583\\\\\n",
       "\\end{tabular}\n"
      ],
      "text/markdown": [
       "\n",
       "| country | year | rate |\n",
       "|---|---|---|\n",
       "| Afghanistan       | 1999              | 745/19987071      |\n",
       "| Afghanistan       | 2000              | 2666/20595360     |\n",
       "| Brazil            | 1999              | 37737/172006362   |\n",
       "| Brazil            | 2000              | 80488/174504898   |\n",
       "| China             | 1999              | 212258/1272915272 |\n",
       "| China             | 2000              | 213766/1280428583 |\n",
       "\n"
      ],
      "text/plain": [
       "  country     year rate             \n",
       "1 Afghanistan 1999 745/19987071     \n",
       "2 Afghanistan 2000 2666/20595360    \n",
       "3 Brazil      1999 37737/172006362  \n",
       "4 Brazil      2000 80488/174504898  \n",
       "5 China       1999 212258/1272915272\n",
       "6 China       2000 213766/1280428583"
      ]
     },
     "metadata": {},
     "output_type": "display_data"
    },
    {
     "data": {
      "text/html": [
       "<table>\n",
       "<thead><tr><th scope=col>country</th><th scope=col>1999</th><th scope=col>2000</th></tr></thead>\n",
       "<tbody>\n",
       "\t<tr><td>Afghanistan</td><td>   745     </td><td>  2666     </td></tr>\n",
       "\t<tr><td>Brazil     </td><td> 37737     </td><td> 80488     </td></tr>\n",
       "\t<tr><td>China      </td><td>212258     </td><td>213766     </td></tr>\n",
       "</tbody>\n",
       "</table>\n"
      ],
      "text/latex": [
       "\\begin{tabular}{r|lll}\n",
       " country & 1999 & 2000\\\\\n",
       "\\hline\n",
       "\t Afghanistan &    745      &   2666     \\\\\n",
       "\t Brazil      &  37737      &  80488     \\\\\n",
       "\t China       & 212258      & 213766     \\\\\n",
       "\\end{tabular}\n"
      ],
      "text/markdown": [
       "\n",
       "| country | 1999 | 2000 |\n",
       "|---|---|---|\n",
       "| Afghanistan |    745      |   2666      |\n",
       "| Brazil      |  37737      |  80488      |\n",
       "| China       | 212258      | 213766      |\n",
       "\n"
      ],
      "text/plain": [
       "  country     1999   2000  \n",
       "1 Afghanistan    745   2666\n",
       "2 Brazil       37737  80488\n",
       "3 China       212258 213766"
      ]
     },
     "metadata": {},
     "output_type": "display_data"
    },
    {
     "data": {
      "text/html": [
       "<table>\n",
       "<thead><tr><th scope=col>country</th><th scope=col>1999</th><th scope=col>2000</th></tr></thead>\n",
       "<tbody>\n",
       "\t<tr><td>Afghanistan</td><td>  19987071 </td><td>  20595360 </td></tr>\n",
       "\t<tr><td>Brazil     </td><td> 172006362 </td><td> 174504898 </td></tr>\n",
       "\t<tr><td>China      </td><td>1272915272 </td><td>1280428583 </td></tr>\n",
       "</tbody>\n",
       "</table>\n"
      ],
      "text/latex": [
       "\\begin{tabular}{r|lll}\n",
       " country & 1999 & 2000\\\\\n",
       "\\hline\n",
       "\t Afghanistan &   19987071  &   20595360 \\\\\n",
       "\t Brazil      &  172006362  &  174504898 \\\\\n",
       "\t China       & 1272915272  & 1280428583 \\\\\n",
       "\\end{tabular}\n"
      ],
      "text/markdown": [
       "\n",
       "| country | 1999 | 2000 |\n",
       "|---|---|---|\n",
       "| Afghanistan |   19987071  |   20595360  |\n",
       "| Brazil      |  172006362  |  174504898  |\n",
       "| China       | 1272915272  | 1280428583  |\n",
       "\n"
      ],
      "text/plain": [
       "  country     1999       2000      \n",
       "1 Afghanistan   19987071   20595360\n",
       "2 Brazil       172006362  174504898\n",
       "3 China       1272915272 1280428583"
      ]
     },
     "metadata": {},
     "output_type": "display_data"
    }
   ],
   "source": [
    "table1\n",
    "#> # A tibble: 6 x 4\n",
    "#>   country      year  cases population\n",
    "#>   <chr>       <int>  <int>      <int>\n",
    "#> 1 Afghanistan  1999    745   19987071\n",
    "#> 2 Afghanistan  2000   2666   20595360\n",
    "#> 3 Brazil       1999  37737  172006362\n",
    "#> 4 Brazil       2000  80488  174504898\n",
    "#> 5 China        1999 212258 1272915272\n",
    "#> 6 China        2000 213766 1280428583\n",
    "table2\n",
    "#> # A tibble: 12 x 4\n",
    "#>   country      year type           count\n",
    "#>   <chr>       <int> <chr>          <int>\n",
    "#> 1 Afghanistan  1999 cases            745\n",
    "#> 2 Afghanistan  1999 population  19987071\n",
    "#> 3 Afghanistan  2000 cases           2666\n",
    "#> 4 Afghanistan  2000 population  20595360\n",
    "#> 5 Brazil       1999 cases          37737\n",
    "#> 6 Brazil       1999 population 172006362\n",
    "#> # … with 6 more rows\n",
    "table3\n",
    "#> # A tibble: 6 x 3\n",
    "#>   country      year rate             \n",
    "#> * <chr>       <int> <chr>            \n",
    "#> 1 Afghanistan  1999 745/19987071     \n",
    "#> 2 Afghanistan  2000 2666/20595360    \n",
    "#> 3 Brazil       1999 37737/172006362  \n",
    "#> 4 Brazil       2000 80488/174504898  \n",
    "#> 5 China        1999 212258/1272915272\n",
    "#> 6 China        2000 213766/1280428583\n",
    "\n",
    "# Spread across two tibbles\n",
    "table4a  # cases\n",
    "#> # A tibble: 3 x 3\n",
    "#>   country     `1999` `2000`\n",
    "#> * <chr>        <int>  <int>\n",
    "#> 1 Afghanistan    745   2666\n",
    "#> 2 Brazil       37737  80488\n",
    "#> 3 China       212258 213766\n",
    "table4b  # population\n",
    "#> # A tibble: 3 x 3\n",
    "#>   country         `1999`     `2000`\n",
    "#> * <chr>            <int>      <int>\n",
    "#> 1 Afghanistan   19987071   20595360\n",
    "#> 2 Brazil       172006362  174504898\n",
    "#> 3 China       1272915272 1280428583"
   ]
  },
  {
   "cell_type": "code",
   "execution_count": 5,
   "id": "8cf09da4",
   "metadata": {},
   "outputs": [
    {
     "data": {
      "text/html": [
       "<table>\n",
       "<thead><tr><th scope=col>country</th><th scope=col>year</th><th scope=col>cases</th><th scope=col>population</th><th scope=col>rate</th></tr></thead>\n",
       "<tbody>\n",
       "\t<tr><td>Afghanistan</td><td>1999       </td><td>   745     </td><td>  19987071 </td><td>0.372741   </td></tr>\n",
       "\t<tr><td>Afghanistan</td><td>2000       </td><td>  2666     </td><td>  20595360 </td><td>1.294466   </td></tr>\n",
       "\t<tr><td>Brazil     </td><td>1999       </td><td> 37737     </td><td> 172006362 </td><td>2.193930   </td></tr>\n",
       "\t<tr><td>Brazil     </td><td>2000       </td><td> 80488     </td><td> 174504898 </td><td>4.612363   </td></tr>\n",
       "\t<tr><td>China      </td><td>1999       </td><td>212258     </td><td>1272915272 </td><td>1.667495   </td></tr>\n",
       "\t<tr><td>China      </td><td>2000       </td><td>213766     </td><td>1280428583 </td><td>1.669488   </td></tr>\n",
       "</tbody>\n",
       "</table>\n"
      ],
      "text/latex": [
       "\\begin{tabular}{r|lllll}\n",
       " country & year & cases & population & rate\\\\\n",
       "\\hline\n",
       "\t Afghanistan & 1999        &    745      &   19987071  & 0.372741   \\\\\n",
       "\t Afghanistan & 2000        &   2666      &   20595360  & 1.294466   \\\\\n",
       "\t Brazil      & 1999        &  37737      &  172006362  & 2.193930   \\\\\n",
       "\t Brazil      & 2000        &  80488      &  174504898  & 4.612363   \\\\\n",
       "\t China       & 1999        & 212258      & 1272915272  & 1.667495   \\\\\n",
       "\t China       & 2000        & 213766      & 1280428583  & 1.669488   \\\\\n",
       "\\end{tabular}\n"
      ],
      "text/markdown": [
       "\n",
       "| country | year | cases | population | rate |\n",
       "|---|---|---|---|---|\n",
       "| Afghanistan | 1999        |    745      |   19987071  | 0.372741    |\n",
       "| Afghanistan | 2000        |   2666      |   20595360  | 1.294466    |\n",
       "| Brazil      | 1999        |  37737      |  172006362  | 2.193930    |\n",
       "| Brazil      | 2000        |  80488      |  174504898  | 4.612363    |\n",
       "| China       | 1999        | 212258      | 1272915272  | 1.667495    |\n",
       "| China       | 2000        | 213766      | 1280428583  | 1.669488    |\n",
       "\n"
      ],
      "text/plain": [
       "  country     year cases  population rate    \n",
       "1 Afghanistan 1999    745   19987071 0.372741\n",
       "2 Afghanistan 2000   2666   20595360 1.294466\n",
       "3 Brazil      1999  37737  172006362 2.193930\n",
       "4 Brazil      2000  80488  174504898 4.612363\n",
       "5 China       1999 212258 1272915272 1.667495\n",
       "6 China       2000 213766 1280428583 1.669488"
      ]
     },
     "metadata": {},
     "output_type": "display_data"
    },
    {
     "data": {
      "text/html": [
       "<table>\n",
       "<thead><tr><th scope=col>year</th><th scope=col>n</th></tr></thead>\n",
       "<tbody>\n",
       "\t<tr><td>1999  </td><td>250740</td></tr>\n",
       "\t<tr><td>2000  </td><td>296920</td></tr>\n",
       "</tbody>\n",
       "</table>\n"
      ],
      "text/latex": [
       "\\begin{tabular}{r|ll}\n",
       " year & n\\\\\n",
       "\\hline\n",
       "\t 1999   & 250740\\\\\n",
       "\t 2000   & 296920\\\\\n",
       "\\end{tabular}\n"
      ],
      "text/markdown": [
       "\n",
       "| year | n |\n",
       "|---|---|\n",
       "| 1999   | 250740 |\n",
       "| 2000   | 296920 |\n",
       "\n"
      ],
      "text/plain": [
       "  year n     \n",
       "1 1999 250740\n",
       "2 2000 296920"
      ]
     },
     "metadata": {},
     "output_type": "display_data"
    },
    {
     "data": {
      "image/png": "[encoded data removed]",
      "text/plain": [
       "plot without title"
      ]
     },
     "metadata": {},
     "output_type": "display_data"
    }
   ],
   "source": [
    "# Compute rate per 10,000\n",
    "table1 %>% \n",
    "  mutate(rate = cases / population * 10000)\n",
    "#> # A tibble: 6 x 5\n",
    "#>   country      year  cases population  rate\n",
    "#>   <chr>       <int>  <int>      <int> <dbl>\n",
    "#> 1 Afghanistan  1999    745   19987071 0.373\n",
    "#> 2 Afghanistan  2000   2666   20595360 1.29 \n",
    "#> 3 Brazil       1999  37737  172006362 2.19 \n",
    "#> 4 Brazil       2000  80488  174504898 4.61 \n",
    "#> 5 China        1999 212258 1272915272 1.67 \n",
    "#> 6 China        2000 213766 1280428583 1.67\n",
    "\n",
    "# Compute cases per year\n",
    "table1 %>% \n",
    "  count(year, wt = cases)\n",
    "#> # A tibble: 2 x 2\n",
    "#>    year      n\n",
    "#>   <int>  <int>\n",
    "#> 1  1999 250740\n",
    "#> 2  2000 296920\n",
    "\n",
    "# Visualise changes over time\n",
    "library(ggplot2)\n",
    "ggplot(table1, aes(year, cases)) + \n",
    "  geom_line(aes(group = country), colour = \"grey50\") + \n",
    "  geom_point(aes(colour = country))"
   ]
  },
  {
   "cell_type": "code",
   "execution_count": 6,
   "id": "790ceccc",
   "metadata": {},
   "outputs": [
    {
     "data": {
      "text/html": [
       "<table>\n",
       "<thead><tr><th scope=col>country</th><th scope=col>1999</th><th scope=col>2000</th></tr></thead>\n",
       "<tbody>\n",
       "\t<tr><td>Afghanistan</td><td>   745     </td><td>  2666     </td></tr>\n",
       "\t<tr><td>Brazil     </td><td> 37737     </td><td> 80488     </td></tr>\n",
       "\t<tr><td>China      </td><td>212258     </td><td>213766     </td></tr>\n",
       "</tbody>\n",
       "</table>\n"
      ],
      "text/latex": [
       "\\begin{tabular}{r|lll}\n",
       " country & 1999 & 2000\\\\\n",
       "\\hline\n",
       "\t Afghanistan &    745      &   2666     \\\\\n",
       "\t Brazil      &  37737      &  80488     \\\\\n",
       "\t China       & 212258      & 213766     \\\\\n",
       "\\end{tabular}\n"
      ],
      "text/markdown": [
       "\n",
       "| country | 1999 | 2000 |\n",
       "|---|---|---|\n",
       "| Afghanistan |    745      |   2666      |\n",
       "| Brazil      |  37737      |  80488      |\n",
       "| China       | 212258      | 213766      |\n",
       "\n"
      ],
      "text/plain": [
       "  country     1999   2000  \n",
       "1 Afghanistan    745   2666\n",
       "2 Brazil       37737  80488\n",
       "3 China       212258 213766"
      ]
     },
     "metadata": {},
     "output_type": "display_data"
    }
   ],
   "source": [
    "table4a\n",
    "#> # A tibble: 3 x 3\n",
    "#>   country     `1999` `2000`\n",
    "#> * <chr>        <int>  <int>\n",
    "#> 1 Afghanistan    745   2666\n",
    "#> 2 Brazil       37737  80488\n",
    "#> 3 China       212258 213766"
   ]
  },
  {
   "cell_type": "code",
   "execution_count": null,
   "id": "02fdf822",
   "metadata": {},
   "outputs": [],
   "source": []
  },
  {
   "cell_type": "code",
   "execution_count": null,
   "id": "014ecb6a",
   "metadata": {},
   "outputs": [],
   "source": []
  }
 ],
 "metadata": {
  "kernelspec": {
   "display_name": "R",
   "language": "R",
   "name": "ir"
  },
  "language_info": {
   "codemirror_mode": "r",
   "file_extension": ".r",
   "mimetype": "text/x-r-source",
   "name": "R",
   "pygments_lexer": "r",
   "version": "3.6.1"
  }
 },
 "nbformat": 4,
 "nbformat_minor": 5
}
