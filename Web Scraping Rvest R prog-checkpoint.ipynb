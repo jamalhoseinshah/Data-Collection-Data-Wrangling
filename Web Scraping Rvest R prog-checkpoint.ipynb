{
 "cells": [
  {
   "cell_type": "code",
   "execution_count": null,
   "id": "4046165f",
   "metadata": {},
   "outputs": [],
   "source": [
    "# This is created by Jamal hussain shah topic web scraping by rvest R programming."
   ]
  },
  {
   "cell_type": "code",
   "execution_count": 1,
   "id": "e18fd428",
   "metadata": {},
   "outputs": [],
   "source": [
    "library(rvest)"
   ]
  },
  {
   "cell_type": "code",
   "execution_count": 31,
   "id": "116a4edb",
   "metadata": {},
   "outputs": [],
   "source": [
    "#Specifying the url for desired website to be scraped\n",
    "url <- 'http://www.imdb.com/search/title?count=100&release_date=2016,2016&title_type=feature'"
   ]
  },
  {
   "cell_type": "code",
   "execution_count": 32,
   "id": "4e1aa18c",
   "metadata": {},
   "outputs": [],
   "source": [
    "#Reading the HTML code from the website\n",
    "webpage <- read_html(url)"
   ]
  },
  {
   "cell_type": "code",
   "execution_count": 33,
   "id": "5790d3e2",
   "metadata": {},
   "outputs": [],
   "source": [
    "#Using CSS selectors to scrape the rankings section\n",
    "rank_data_html <- html_nodes(webpage,'.text-primary')"
   ]
  },
  {
   "cell_type": "code",
   "execution_count": 34,
   "id": "7b6e53fb",
   "metadata": {},
   "outputs": [],
   "source": [
    "#Converting the ranking data to text\n",
    "rank_data <- html_text(rank_data_html)"
   ]
  },
  {
   "cell_type": "code",
   "execution_count": 35,
   "id": "366803ae",
   "metadata": {},
   "outputs": [
    {
     "data": {
      "text/html": [
       "<ol class=list-inline>\n",
       "\t<li>'1.'</li>\n",
       "\t<li>'2.'</li>\n",
       "\t<li>'3.'</li>\n",
       "\t<li>'4.'</li>\n",
       "\t<li>'5.'</li>\n",
       "\t<li>'6.'</li>\n",
       "</ol>\n"
      ],
      "text/latex": [
       "\\begin{enumerate*}\n",
       "\\item '1.'\n",
       "\\item '2.'\n",
       "\\item '3.'\n",
       "\\item '4.'\n",
       "\\item '5.'\n",
       "\\item '6.'\n",
       "\\end{enumerate*}\n"
      ],
      "text/markdown": [
       "1. '1.'\n",
       "2. '2.'\n",
       "3. '3.'\n",
       "4. '4.'\n",
       "5. '5.'\n",
       "6. '6.'\n",
       "\n",
       "\n"
      ],
      "text/plain": [
       "[1] \"1.\" \"2.\" \"3.\" \"4.\" \"5.\" \"6.\""
      ]
     },
     "metadata": {},
     "output_type": "display_data"
    }
   ],
   "source": [
    "#Let's have a look at the rankings\n",
    "head(rank_data)"
   ]
  },
  {
   "cell_type": "code",
   "execution_count": 36,
   "id": "805195f6",
   "metadata": {},
   "outputs": [
    {
     "data": {
      "text/html": [
       "<ol class=list-inline>\n",
       "\t<li>1</li>\n",
       "\t<li>2</li>\n",
       "\t<li>3</li>\n",
       "\t<li>4</li>\n",
       "\t<li>5</li>\n",
       "\t<li>6</li>\n",
       "</ol>\n"
      ],
      "text/latex": [
       "\\begin{enumerate*}\n",
       "\\item 1\n",
       "\\item 2\n",
       "\\item 3\n",
       "\\item 4\n",
       "\\item 5\n",
       "\\item 6\n",
       "\\end{enumerate*}\n"
      ],
      "text/markdown": [
       "1. 1\n",
       "2. 2\n",
       "3. 3\n",
       "4. 4\n",
       "5. 5\n",
       "6. 6\n",
       "\n",
       "\n"
      ],
      "text/plain": [
       "[1] 1 2 3 4 5 6"
      ]
     },
     "metadata": {},
     "output_type": "display_data"
    }
   ],
   "source": [
    "#Data-Preprocessing: Converting rankings to numerical\n",
    "rank_data<-as.numeric(rank_data)\n",
    "\n",
    "#Let's have another look at the rankings\n",
    "head(rank_data)"
   ]
  },
  {
   "cell_type": "code",
   "execution_count": 37,
   "id": "fa60d946",
   "metadata": {},
   "outputs": [
    {
     "data": {
      "text/html": [
       "<ol class=list-inline>\n",
       "\t<li>'Doctor Strange'</li>\n",
       "\t<li>'Fantastic Beasts and Where to Find Them'</li>\n",
       "\t<li>'Deadpool'</li>\n",
       "\t<li>'Suicide Squad'</li>\n",
       "\t<li>'Hacksaw Ridge'</li>\n",
       "\t<li>'Swiss Army Man'</li>\n",
       "</ol>\n"
      ],
      "text/latex": [
       "\\begin{enumerate*}\n",
       "\\item 'Doctor Strange'\n",
       "\\item 'Fantastic Beasts and Where to Find Them'\n",
       "\\item 'Deadpool'\n",
       "\\item 'Suicide Squad'\n",
       "\\item 'Hacksaw Ridge'\n",
       "\\item 'Swiss Army Man'\n",
       "\\end{enumerate*}\n"
      ],
      "text/markdown": [
       "1. 'Doctor Strange'\n",
       "2. 'Fantastic Beasts and Where to Find Them'\n",
       "3. 'Deadpool'\n",
       "4. 'Suicide Squad'\n",
       "5. 'Hacksaw Ridge'\n",
       "6. 'Swiss Army Man'\n",
       "\n",
       "\n"
      ],
      "text/plain": [
       "[1] \"Doctor Strange\"                         \n",
       "[2] \"Fantastic Beasts and Where to Find Them\"\n",
       "[3] \"Deadpool\"                               \n",
       "[4] \"Suicide Squad\"                          \n",
       "[5] \"Hacksaw Ridge\"                          \n",
       "[6] \"Swiss Army Man\"                         "
      ]
     },
     "metadata": {},
     "output_type": "display_data"
    }
   ],
   "source": [
    "#Using CSS selectors to scrape the title section\n",
    "title_data_html <- html_nodes(webpage,'.lister-item-header a')\n",
    "\n",
    "#Converting the title data to text\n",
    "title_data <- html_text(title_data_html)\n",
    "\n",
    "#Let's have a look at the title\n",
    "head(title_data)"
   ]
  },
  {
   "cell_type": "code",
   "execution_count": 38,
   "id": "c83689c4",
   "metadata": {},
   "outputs": [
    {
     "data": {
      "text/html": [
       "<ol class=list-inline>\n",
       "\t<li>'\\nWhile on a journey of physical and spiritual healing, a brilliant neurosurgeon is drawn into the world of the mystic arts.'</li>\n",
       "\t<li>'\\nThe adventures of writer Newt Scamander in New York\\'s secret community of witches and wizards seventy years before Harry Potter reads his book in school.'</li>\n",
       "\t<li>'\\nA wisecracking mercenary gets experimented on and becomes immortal but ugly, and sets out to track down the man who ruined his looks.'</li>\n",
       "\t<li>'\\nA secret government agency recruits some of the most dangerous incarcerated super-villains to form a defensive task force. Their first mission: save the world from the apocalypse.'</li>\n",
       "\t<li>'\\nWorld War II American Army Medic Desmond T. Doss, who served during the Battle of Okinawa, refuses to kill people and becomes the first man in American history to receive the Medal of Honor without firing a shot.'</li>\n",
       "\t<li>'\\nA hopeless man stranded on a deserted island befriends a dead body, and together they go on a surreal journey to get home.'</li>\n",
       "</ol>\n"
      ],
      "text/latex": [
       "\\begin{enumerate*}\n",
       "\\item '\\textbackslash{}nWhile on a journey of physical and spiritual healing, a brilliant neurosurgeon is drawn into the world of the mystic arts.'\n",
       "\\item '\\textbackslash{}nThe adventures of writer Newt Scamander in New York\\textbackslash{}'s secret community of witches and wizards seventy years before Harry Potter reads his book in school.'\n",
       "\\item '\\textbackslash{}nA wisecracking mercenary gets experimented on and becomes immortal but ugly, and sets out to track down the man who ruined his looks.'\n",
       "\\item '\\textbackslash{}nA secret government agency recruits some of the most dangerous incarcerated super-villains to form a defensive task force. Their first mission: save the world from the apocalypse.'\n",
       "\\item '\\textbackslash{}nWorld War II American Army Medic Desmond T. Doss, who served during the Battle of Okinawa, refuses to kill people and becomes the first man in American history to receive the Medal of Honor without firing a shot.'\n",
       "\\item '\\textbackslash{}nA hopeless man stranded on a deserted island befriends a dead body, and together they go on a surreal journey to get home.'\n",
       "\\end{enumerate*}\n"
      ],
      "text/markdown": [
       "1. '\\nWhile on a journey of physical and spiritual healing, a brilliant neurosurgeon is drawn into the world of the mystic arts.'\n",
       "2. '\\nThe adventures of writer Newt Scamander in New York\\'s secret community of witches and wizards seventy years before Harry Potter reads his book in school.'\n",
       "3. '\\nA wisecracking mercenary gets experimented on and becomes immortal but ugly, and sets out to track down the man who ruined his looks.'\n",
       "4. '\\nA secret government agency recruits some of the most dangerous incarcerated super-villains to form a defensive task force. Their first mission: save the world from the apocalypse.'\n",
       "5. '\\nWorld War II American Army Medic Desmond T. Doss, who served during the Battle of Okinawa, refuses to kill people and becomes the first man in American history to receive the Medal of Honor without firing a shot.'\n",
       "6. '\\nA hopeless man stranded on a deserted island befriends a dead body, and together they go on a surreal journey to get home.'\n",
       "\n",
       "\n"
      ],
      "text/plain": [
       "[1] \"\\nWhile on a journey of physical and spiritual healing, a brilliant neurosurgeon is drawn into the world of the mystic arts.\"                                                                                          \n",
       "[2] \"\\nThe adventures of writer Newt Scamander in New York's secret community of witches and wizards seventy years before Harry Potter reads his book in school.\"                                                           \n",
       "[3] \"\\nA wisecracking mercenary gets experimented on and becomes immortal but ugly, and sets out to track down the man who ruined his looks.\"                                                                               \n",
       "[4] \"\\nA secret government agency recruits some of the most dangerous incarcerated super-villains to form a defensive task force. Their first mission: save the world from the apocalypse.\"                                 \n",
       "[5] \"\\nWorld War II American Army Medic Desmond T. Doss, who served during the Battle of Okinawa, refuses to kill people and becomes the first man in American history to receive the Medal of Honor without firing a shot.\"\n",
       "[6] \"\\nA hopeless man stranded on a deserted island befriends a dead body, and together they go on a surreal journey to get home.\"                                                                                          "
      ]
     },
     "metadata": {},
     "output_type": "display_data"
    }
   ],
   "source": [
    "#Using CSS selectors to scrape the description section\n",
    "description_data_html <- html_nodes(webpage,'.ratings-bar+ .text-muted')\n",
    "\n",
    "#Converting the description data to text\n",
    "description_data <- html_text(description_data_html)\n",
    "\n",
    "#Let's have a look at the description data\n",
    "head(description_data)"
   ]
  },
  {
   "cell_type": "code",
   "execution_count": 39,
   "id": "5261f2f8",
   "metadata": {},
   "outputs": [],
   "source": [
    "#Data-Preprocessing: removing '\\n'\n",
    "description_data<-gsub(\"\\n\",\"\",description_data)"
   ]
  },
  {
   "cell_type": "code",
   "execution_count": 40,
   "id": "95c90ea8",
   "metadata": {},
   "outputs": [
    {
     "data": {
      "text/html": [
       "<ol class=list-inline>\n",
       "\t<li>'While on a journey of physical and spiritual healing, a brilliant neurosurgeon is drawn into the world of the mystic arts.'</li>\n",
       "\t<li>'The adventures of writer Newt Scamander in New York\\'s secret community of witches and wizards seventy years before Harry Potter reads his book in school.'</li>\n",
       "\t<li>'A wisecracking mercenary gets experimented on and becomes immortal but ugly, and sets out to track down the man who ruined his looks.'</li>\n",
       "\t<li>'A secret government agency recruits some of the most dangerous incarcerated super-villains to form a defensive task force. Their first mission: save the world from the apocalypse.'</li>\n",
       "\t<li>'World War II American Army Medic Desmond T. Doss, who served during the Battle of Okinawa, refuses to kill people and becomes the first man in American history to receive the Medal of Honor without firing a shot.'</li>\n",
       "\t<li>'A hopeless man stranded on a deserted island befriends a dead body, and together they go on a surreal journey to get home.'</li>\n",
       "</ol>\n"
      ],
      "text/latex": [
       "\\begin{enumerate*}\n",
       "\\item 'While on a journey of physical and spiritual healing, a brilliant neurosurgeon is drawn into the world of the mystic arts.'\n",
       "\\item 'The adventures of writer Newt Scamander in New York\\textbackslash{}'s secret community of witches and wizards seventy years before Harry Potter reads his book in school.'\n",
       "\\item 'A wisecracking mercenary gets experimented on and becomes immortal but ugly, and sets out to track down the man who ruined his looks.'\n",
       "\\item 'A secret government agency recruits some of the most dangerous incarcerated super-villains to form a defensive task force. Their first mission: save the world from the apocalypse.'\n",
       "\\item 'World War II American Army Medic Desmond T. Doss, who served during the Battle of Okinawa, refuses to kill people and becomes the first man in American history to receive the Medal of Honor without firing a shot.'\n",
       "\\item 'A hopeless man stranded on a deserted island befriends a dead body, and together they go on a surreal journey to get home.'\n",
       "\\end{enumerate*}\n"
      ],
      "text/markdown": [
       "1. 'While on a journey of physical and spiritual healing, a brilliant neurosurgeon is drawn into the world of the mystic arts.'\n",
       "2. 'The adventures of writer Newt Scamander in New York\\'s secret community of witches and wizards seventy years before Harry Potter reads his book in school.'\n",
       "3. 'A wisecracking mercenary gets experimented on and becomes immortal but ugly, and sets out to track down the man who ruined his looks.'\n",
       "4. 'A secret government agency recruits some of the most dangerous incarcerated super-villains to form a defensive task force. Their first mission: save the world from the apocalypse.'\n",
       "5. 'World War II American Army Medic Desmond T. Doss, who served during the Battle of Okinawa, refuses to kill people and becomes the first man in American history to receive the Medal of Honor without firing a shot.'\n",
       "6. 'A hopeless man stranded on a deserted island befriends a dead body, and together they go on a surreal journey to get home.'\n",
       "\n",
       "\n"
      ],
      "text/plain": [
       "[1] \"While on a journey of physical and spiritual healing, a brilliant neurosurgeon is drawn into the world of the mystic arts.\"                                                                                          \n",
       "[2] \"The adventures of writer Newt Scamander in New York's secret community of witches and wizards seventy years before Harry Potter reads his book in school.\"                                                           \n",
       "[3] \"A wisecracking mercenary gets experimented on and becomes immortal but ugly, and sets out to track down the man who ruined his looks.\"                                                                               \n",
       "[4] \"A secret government agency recruits some of the most dangerous incarcerated super-villains to form a defensive task force. Their first mission: save the world from the apocalypse.\"                                 \n",
       "[5] \"World War II American Army Medic Desmond T. Doss, who served during the Battle of Okinawa, refuses to kill people and becomes the first man in American history to receive the Medal of Honor without firing a shot.\"\n",
       "[6] \"A hopeless man stranded on a deserted island befriends a dead body, and together they go on a surreal journey to get home.\"                                                                                          "
      ]
     },
     "metadata": {},
     "output_type": "display_data"
    }
   ],
   "source": [
    "#Let's have another look at the description data \n",
    "head(description_data)"
   ]
  },
  {
   "cell_type": "code",
   "execution_count": 41,
   "id": "a23bee5c",
   "metadata": {},
   "outputs": [],
   "source": [
    "#Using CSS selectors to scrape the Movie runtime section\n",
    "runtime_data_html <- html_nodes(webpage,'.text-muted .runtime')"
   ]
  },
  {
   "cell_type": "code",
   "execution_count": 42,
   "id": "65f2f989",
   "metadata": {},
   "outputs": [],
   "source": [
    "#Converting the runtime data to text\n",
    "runtime_data <- html_text(runtime_data_html)\n"
   ]
  },
  {
   "cell_type": "code",
   "execution_count": 43,
   "id": "6c9ad8a4",
   "metadata": {},
   "outputs": [
    {
     "data": {
      "text/html": [
       "<ol class=list-inline>\n",
       "\t<li>'115 min'</li>\n",
       "\t<li>'132 min'</li>\n",
       "\t<li>'108 min'</li>\n",
       "\t<li>'123 min'</li>\n",
       "\t<li>'139 min'</li>\n",
       "\t<li>'97 min'</li>\n",
       "</ol>\n"
      ],
      "text/latex": [
       "\\begin{enumerate*}\n",
       "\\item '115 min'\n",
       "\\item '132 min'\n",
       "\\item '108 min'\n",
       "\\item '123 min'\n",
       "\\item '139 min'\n",
       "\\item '97 min'\n",
       "\\end{enumerate*}\n"
      ],
      "text/markdown": [
       "1. '115 min'\n",
       "2. '132 min'\n",
       "3. '108 min'\n",
       "4. '123 min'\n",
       "5. '139 min'\n",
       "6. '97 min'\n",
       "\n",
       "\n"
      ],
      "text/plain": [
       "[1] \"115 min\" \"132 min\" \"108 min\" \"123 min\" \"139 min\" \"97 min\" "
      ]
     },
     "metadata": {},
     "output_type": "display_data"
    }
   ],
   "source": [
    "#Let's have a look at the runtime\n",
    "head(runtime_data)"
   ]
  },
  {
   "cell_type": "code",
   "execution_count": 44,
   "id": "83a6c4e8",
   "metadata": {},
   "outputs": [
    {
     "data": {
      "text/html": [
       "<ol class=list-inline>\n",
       "\t<li>115</li>\n",
       "\t<li>132</li>\n",
       "\t<li>108</li>\n",
       "\t<li>123</li>\n",
       "\t<li>139</li>\n",
       "\t<li>97</li>\n",
       "</ol>\n"
      ],
      "text/latex": [
       "\\begin{enumerate*}\n",
       "\\item 115\n",
       "\\item 132\n",
       "\\item 108\n",
       "\\item 123\n",
       "\\item 139\n",
       "\\item 97\n",
       "\\end{enumerate*}\n"
      ],
      "text/markdown": [
       "1. 115\n",
       "2. 132\n",
       "3. 108\n",
       "4. 123\n",
       "5. 139\n",
       "6. 97\n",
       "\n",
       "\n"
      ],
      "text/plain": [
       "[1] 115 132 108 123 139  97"
      ]
     },
     "metadata": {},
     "output_type": "display_data"
    }
   ],
   "source": [
    "#Data-Preprocessing: removing mins and converting it to numerical\n",
    "\n",
    "runtime_data<-gsub(\" min\",\"\",runtime_data)\n",
    "runtime_data<-as.numeric(runtime_data)\n",
    "\n",
    "#Let's have another look at the runtime data\n",
    "head(runtime_data)"
   ]
  },
  {
   "cell_type": "code",
   "execution_count": 45,
   "id": "33783c02",
   "metadata": {},
   "outputs": [
    {
     "data": {
      "text/html": [
       "<ol class=list-inline>\n",
       "\t<li><span style=white-space:pre-wrap>'\\nAction, Adventure, Fantasy            '</span></li>\n",
       "\t<li><span style=white-space:pre-wrap>'\\nAdventure, Family, Fantasy            '</span></li>\n",
       "\t<li><span style=white-space:pre-wrap>'\\nAction, Adventure, Comedy            '</span></li>\n",
       "\t<li><span style=white-space:pre-wrap>'\\nAction, Adventure, Fantasy            '</span></li>\n",
       "\t<li><span style=white-space:pre-wrap>'\\nBiography, Drama, History            '</span></li>\n",
       "\t<li><span style=white-space:pre-wrap>'\\nComedy, Drama, Fantasy            '</span></li>\n",
       "</ol>\n"
      ],
      "text/latex": [
       "\\begin{enumerate*}\n",
       "\\item '\\textbackslash{}nAction, Adventure, Fantasy            '\n",
       "\\item '\\textbackslash{}nAdventure, Family, Fantasy            '\n",
       "\\item '\\textbackslash{}nAction, Adventure, Comedy            '\n",
       "\\item '\\textbackslash{}nAction, Adventure, Fantasy            '\n",
       "\\item '\\textbackslash{}nBiography, Drama, History            '\n",
       "\\item '\\textbackslash{}nComedy, Drama, Fantasy            '\n",
       "\\end{enumerate*}\n"
      ],
      "text/markdown": [
       "1. <span style=white-space:pre-wrap>'\\nAction, Adventure, Fantasy            '</span>\n",
       "2. <span style=white-space:pre-wrap>'\\nAdventure, Family, Fantasy            '</span>\n",
       "3. <span style=white-space:pre-wrap>'\\nAction, Adventure, Comedy            '</span>\n",
       "4. <span style=white-space:pre-wrap>'\\nAction, Adventure, Fantasy            '</span>\n",
       "5. <span style=white-space:pre-wrap>'\\nBiography, Drama, History            '</span>\n",
       "6. <span style=white-space:pre-wrap>'\\nComedy, Drama, Fantasy            '</span>\n",
       "\n",
       "\n"
      ],
      "text/plain": [
       "[1] \"\\nAction, Adventure, Fantasy            \"\n",
       "[2] \"\\nAdventure, Family, Fantasy            \"\n",
       "[3] \"\\nAction, Adventure, Comedy            \" \n",
       "[4] \"\\nAction, Adventure, Fantasy            \"\n",
       "[5] \"\\nBiography, Drama, History            \" \n",
       "[6] \"\\nComedy, Drama, Fantasy            \"    "
      ]
     },
     "metadata": {},
     "output_type": "display_data"
    }
   ],
   "source": [
    "#Using CSS selectors to scrape the Movie genre section\n",
    "genre_data_html <- html_nodes(webpage,'.genre')\n",
    "\n",
    "#Converting the genre data to text\n",
    "genre_data <- html_text(genre_data_html)\n",
    "\n",
    "#Let's have a look at the runtime\n",
    "head(genre_data)"
   ]
  },
  {
   "cell_type": "code",
   "execution_count": 46,
   "id": "3f0ce2d3",
   "metadata": {},
   "outputs": [
    {
     "data": {
      "text/html": [
       "<ol class=list-inline>\n",
       "\t<li>Action</li>\n",
       "\t<li>Adventure</li>\n",
       "\t<li>Action</li>\n",
       "\t<li>Action</li>\n",
       "\t<li>Biography</li>\n",
       "\t<li>Comedy</li>\n",
       "</ol>\n",
       "\n",
       "<details>\n",
       "\t<summary style=display:list-item;cursor:pointer>\n",
       "\t\t<strong>Levels</strong>:\n",
       "\t</summary>\n",
       "\t<ol class=list-inline>\n",
       "\t\t<li>'Action'</li>\n",
       "\t\t<li>'Adventure'</li>\n",
       "\t\t<li>'Animation'</li>\n",
       "\t\t<li>'Biography'</li>\n",
       "\t\t<li>'Comedy'</li>\n",
       "\t\t<li>'Crime'</li>\n",
       "\t\t<li>'Drama'</li>\n",
       "\t\t<li>'Horror'</li>\n",
       "\t</ol>\n",
       "</details>"
      ],
      "text/latex": [
       "\\begin{enumerate*}\n",
       "\\item Action\n",
       "\\item Adventure\n",
       "\\item Action\n",
       "\\item Action\n",
       "\\item Biography\n",
       "\\item Comedy\n",
       "\\end{enumerate*}\n",
       "\n",
       "\\emph{Levels}: \\begin{enumerate*}\n",
       "\\item 'Action'\n",
       "\\item 'Adventure'\n",
       "\\item 'Animation'\n",
       "\\item 'Biography'\n",
       "\\item 'Comedy'\n",
       "\\item 'Crime'\n",
       "\\item 'Drama'\n",
       "\\item 'Horror'\n",
       "\\end{enumerate*}\n"
      ],
      "text/markdown": [
       "1. Action\n",
       "2. Adventure\n",
       "3. Action\n",
       "4. Action\n",
       "5. Biography\n",
       "6. Comedy\n",
       "\n",
       "\n",
       "\n",
       "**Levels**: 1. 'Action'\n",
       "2. 'Adventure'\n",
       "3. 'Animation'\n",
       "4. 'Biography'\n",
       "5. 'Comedy'\n",
       "6. 'Crime'\n",
       "7. 'Drama'\n",
       "8. 'Horror'\n",
       "\n",
       "\n"
      ],
      "text/plain": [
       "[1] Action    Adventure Action    Action    Biography Comedy   \n",
       "Levels: Action Adventure Animation Biography Comedy Crime Drama Horror"
      ]
     },
     "metadata": {},
     "output_type": "display_data"
    }
   ],
   "source": [
    "#Data-Preprocessing: removing \\n\n",
    "genre_data<-gsub(\"\\n\",\"\",genre_data)\n",
    "\n",
    "#Data-Preprocessing: removing excess spaces\n",
    "genre_data<-gsub(\" \",\"\",genre_data)\n",
    "\n",
    "#taking only the first genre of each movie\n",
    "genre_data<-gsub(\",.*\",\"\",genre_data)\n",
    "\n",
    "#Convering each genre from text to factor\n",
    "genre_data<-as.factor(genre_data)\n",
    "\n",
    "#Let's have another look at the genre data\n",
    "head(genre_data)"
   ]
  },
  {
   "cell_type": "code",
   "execution_count": 47,
   "id": "bc893738",
   "metadata": {},
   "outputs": [
    {
     "data": {
      "text/html": [
       "<ol class=list-inline>\n",
       "\t<li>'7.5'</li>\n",
       "\t<li>'7.2'</li>\n",
       "\t<li>'8.0'</li>\n",
       "\t<li>'5.9'</li>\n",
       "\t<li>'8.1'</li>\n",
       "\t<li>'6.9'</li>\n",
       "</ol>\n"
      ],
      "text/latex": [
       "\\begin{enumerate*}\n",
       "\\item '7.5'\n",
       "\\item '7.2'\n",
       "\\item '8.0'\n",
       "\\item '5.9'\n",
       "\\item '8.1'\n",
       "\\item '6.9'\n",
       "\\end{enumerate*}\n"
      ],
      "text/markdown": [
       "1. '7.5'\n",
       "2. '7.2'\n",
       "3. '8.0'\n",
       "4. '5.9'\n",
       "5. '8.1'\n",
       "6. '6.9'\n",
       "\n",
       "\n"
      ],
      "text/plain": [
       "[1] \"7.5\" \"7.2\" \"8.0\" \"5.9\" \"8.1\" \"6.9\""
      ]
     },
     "metadata": {},
     "output_type": "display_data"
    }
   ],
   "source": [
    "#Using CSS selectors to scrape the IMDB rating section\n",
    "rating_data_html <- html_nodes(webpage,'.ratings-imdb-rating strong')\n",
    "\n",
    "#Converting the ratings data to text\n",
    "rating_data <- html_text(rating_data_html)\n",
    "\n",
    "#Let's have a look at the ratings\n",
    "head(rating_data)"
   ]
  },
  {
   "cell_type": "code",
   "execution_count": 48,
   "id": "6bef0fd3",
   "metadata": {},
   "outputs": [
    {
     "data": {
      "text/html": [
       "<ol class=list-inline>\n",
       "\t<li>7.5</li>\n",
       "\t<li>7.2</li>\n",
       "\t<li>8</li>\n",
       "\t<li>5.9</li>\n",
       "\t<li>8.1</li>\n",
       "\t<li>6.9</li>\n",
       "</ol>\n"
      ],
      "text/latex": [
       "\\begin{enumerate*}\n",
       "\\item 7.5\n",
       "\\item 7.2\n",
       "\\item 8\n",
       "\\item 5.9\n",
       "\\item 8.1\n",
       "\\item 6.9\n",
       "\\end{enumerate*}\n"
      ],
      "text/markdown": [
       "1. 7.5\n",
       "2. 7.2\n",
       "3. 8\n",
       "4. 5.9\n",
       "5. 8.1\n",
       "6. 6.9\n",
       "\n",
       "\n"
      ],
      "text/plain": [
       "[1] 7.5 7.2 8.0 5.9 8.1 6.9"
      ]
     },
     "metadata": {},
     "output_type": "display_data"
    }
   ],
   "source": [
    "#Data-Preprocessing: converting ratings to numerical\n",
    "rating_data<-as.numeric(rating_data)\n",
    "\n",
    "#Let's have another look at the ratings data\n",
    "head(rating_data)"
   ]
  },
  {
   "cell_type": "code",
   "execution_count": 49,
   "id": "daba7fa0",
   "metadata": {},
   "outputs": [
    {
     "data": {
      "text/html": [
       "<ol class=list-inline>\n",
       "\t<li>'707,488'</li>\n",
       "\t<li>'461,779'</li>\n",
       "\t<li>'999,042'</li>\n",
       "\t<li>'672,999'</li>\n",
       "\t<li>'503,346'</li>\n",
       "\t<li>'117,678'</li>\n",
       "</ol>\n"
      ],
      "text/latex": [
       "\\begin{enumerate*}\n",
       "\\item '707,488'\n",
       "\\item '461,779'\n",
       "\\item '999,042'\n",
       "\\item '672,999'\n",
       "\\item '503,346'\n",
       "\\item '117,678'\n",
       "\\end{enumerate*}\n"
      ],
      "text/markdown": [
       "1. '707,488'\n",
       "2. '461,779'\n",
       "3. '999,042'\n",
       "4. '672,999'\n",
       "5. '503,346'\n",
       "6. '117,678'\n",
       "\n",
       "\n"
      ],
      "text/plain": [
       "[1] \"707,488\" \"461,779\" \"999,042\" \"672,999\" \"503,346\" \"117,678\""
      ]
     },
     "metadata": {},
     "output_type": "display_data"
    }
   ],
   "source": [
    "#Using CSS selectors to scrape the votes section\n",
    "votes_data_html <- html_nodes(webpage,'.sort-num_votes-visible span:nth-child(2)')\n",
    "\n",
    "#Converting the votes data to text\n",
    "votes_data <- html_text(votes_data_html)\n",
    "\n",
    "#Let's have a look at the votes data\n",
    "head(votes_data)"
   ]
  },
  {
   "cell_type": "code",
   "execution_count": 50,
   "id": "0f54d3d9",
   "metadata": {},
   "outputs": [
    {
     "data": {
      "text/html": [
       "<ol class=list-inline>\n",
       "\t<li>707488</li>\n",
       "\t<li>461779</li>\n",
       "\t<li>999042</li>\n",
       "\t<li>672999</li>\n",
       "\t<li>503346</li>\n",
       "\t<li>117678</li>\n",
       "</ol>\n"
      ],
      "text/latex": [
       "\\begin{enumerate*}\n",
       "\\item 707488\n",
       "\\item 461779\n",
       "\\item 999042\n",
       "\\item 672999\n",
       "\\item 503346\n",
       "\\item 117678\n",
       "\\end{enumerate*}\n"
      ],
      "text/markdown": [
       "1. 707488\n",
       "2. 461779\n",
       "3. 999042\n",
       "4. 672999\n",
       "5. 503346\n",
       "6. 117678\n",
       "\n",
       "\n"
      ],
      "text/plain": [
       "[1] 707488 461779 999042 672999 503346 117678"
      ]
     },
     "metadata": {},
     "output_type": "display_data"
    }
   ],
   "source": [
    "#Data-Preprocessing: removing commas\n",
    "votes_data<-gsub(\",\",\"\",votes_data)\n",
    "\n",
    "#Data-Preprocessing: converting votes to numerical\n",
    "votes_data<-as.numeric(votes_data)\n",
    "\n",
    "#Let's have another look at the votes data\n",
    "head(votes_data)"
   ]
  },
  {
   "cell_type": "code",
   "execution_count": 51,
   "id": "04730b60",
   "metadata": {},
   "outputs": [
    {
     "data": {
      "text/html": [
       "<ol class=list-inline>\n",
       "\t<li>'Scott Derrickson'</li>\n",
       "\t<li>'David Yates'</li>\n",
       "\t<li>'Tim Miller'</li>\n",
       "\t<li>'David Ayer'</li>\n",
       "\t<li>'Mel Gibson'</li>\n",
       "\t<li>'Dan Kwan'</li>\n",
       "</ol>\n"
      ],
      "text/latex": [
       "\\begin{enumerate*}\n",
       "\\item 'Scott Derrickson'\n",
       "\\item 'David Yates'\n",
       "\\item 'Tim Miller'\n",
       "\\item 'David Ayer'\n",
       "\\item 'Mel Gibson'\n",
       "\\item 'Dan Kwan'\n",
       "\\end{enumerate*}\n"
      ],
      "text/markdown": [
       "1. 'Scott Derrickson'\n",
       "2. 'David Yates'\n",
       "3. 'Tim Miller'\n",
       "4. 'David Ayer'\n",
       "5. 'Mel Gibson'\n",
       "6. 'Dan Kwan'\n",
       "\n",
       "\n"
      ],
      "text/plain": [
       "[1] \"Scott Derrickson\" \"David Yates\"      \"Tim Miller\"       \"David Ayer\"      \n",
       "[5] \"Mel Gibson\"       \"Dan Kwan\"        "
      ]
     },
     "metadata": {},
     "output_type": "display_data"
    }
   ],
   "source": [
    "#Using CSS selectors to scrape the directors section\n",
    "directors_data_html <- html_nodes(webpage,'.text-muted+ p a:nth-child(1)')\n",
    "\n",
    "#Converting the directors data to text\n",
    "directors_data <- html_text(directors_data_html)\n",
    "\n",
    "#Let's have a look at the directors data\n",
    "head(directors_data)"
   ]
  },
  {
   "cell_type": "code",
   "execution_count": 52,
   "id": "d1e19325",
   "metadata": {},
   "outputs": [
    {
     "data": {
      "text/html": [
       "<ol class=list-inline>\n",
       "\t<li>'Benedict Cumberbatch'</li>\n",
       "\t<li>'Eddie Redmayne'</li>\n",
       "\t<li>'Ryan Reynolds'</li>\n",
       "\t<li>'Will Smith'</li>\n",
       "\t<li>'Andrew Garfield'</li>\n",
       "\t<li>'Paul Dano'</li>\n",
       "</ol>\n"
      ],
      "text/latex": [
       "\\begin{enumerate*}\n",
       "\\item 'Benedict Cumberbatch'\n",
       "\\item 'Eddie Redmayne'\n",
       "\\item 'Ryan Reynolds'\n",
       "\\item 'Will Smith'\n",
       "\\item 'Andrew Garfield'\n",
       "\\item 'Paul Dano'\n",
       "\\end{enumerate*}\n"
      ],
      "text/markdown": [
       "1. 'Benedict Cumberbatch'\n",
       "2. 'Eddie Redmayne'\n",
       "3. 'Ryan Reynolds'\n",
       "4. 'Will Smith'\n",
       "5. 'Andrew Garfield'\n",
       "6. 'Paul Dano'\n",
       "\n",
       "\n"
      ],
      "text/plain": [
       "[1] \"Benedict Cumberbatch\" \"Eddie Redmayne\"       \"Ryan Reynolds\"       \n",
       "[4] \"Will Smith\"           \"Andrew Garfield\"      \"Paul Dano\"           "
      ]
     },
     "metadata": {},
     "output_type": "display_data"
    }
   ],
   "source": [
    "#Data-Preprocessing: converting directors data into factors\n",
    "directors_data<-as.factor(directors_data)\n",
    "\n",
    "#Using CSS selectors to scrape the actors section\n",
    "actors_data_html <- html_nodes(webpage,'.lister-item-content .ghost+ a')\n",
    "\n",
    "#Converting the gross actors data to text\n",
    "actors_data <- html_text(actors_data_html)\n",
    "\n",
    "#Let's have a look at the actors data\n",
    "head(actors_data)"
   ]
  },
  {
   "cell_type": "code",
   "execution_count": 53,
   "id": "8e27d866",
   "metadata": {},
   "outputs": [],
   "source": [
    "#Data-Preprocessing: converting actors data into factors\n",
    "actors_data<-as.factor(actors_data)"
   ]
  },
  {
   "cell_type": "code",
   "execution_count": null,
   "id": "b55c395d",
   "metadata": {},
   "outputs": [],
   "source": []
  },
  {
   "cell_type": "code",
   "execution_count": null,
   "id": "9ab4d576",
   "metadata": {},
   "outputs": [],
   "source": []
  },
  {
   "cell_type": "code",
   "execution_count": null,
   "id": "5c49c3e0",
   "metadata": {},
   "outputs": [],
   "source": []
  },
  {
   "cell_type": "code",
   "execution_count": null,
   "id": "4b644e62",
   "metadata": {},
   "outputs": [],
   "source": []
  },
  {
   "cell_type": "code",
   "execution_count": null,
   "id": "c849b979",
   "metadata": {},
   "outputs": [],
   "source": []
  },
  {
   "cell_type": "code",
   "execution_count": null,
   "id": "2e21886a",
   "metadata": {},
   "outputs": [],
   "source": []
  },
  {
   "cell_type": "code",
   "execution_count": null,
   "id": "c3ce5dd5",
   "metadata": {},
   "outputs": [],
   "source": []
  }
 ],
 "metadata": {
  "kernelspec": {
   "display_name": "R",
   "language": "R",
   "name": "ir"
  },
  "language_info": {
   "codemirror_mode": "r",
   "file_extension": ".r",
   "mimetype": "text/x-r-source",
   "name": "R",
   "pygments_lexer": "r",
   "version": "3.6.1"
  }
 },
 "nbformat": 4,
 "nbformat_minor": 5
}
